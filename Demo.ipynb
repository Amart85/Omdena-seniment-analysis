{
  "nbformat": 4,
  "nbformat_minor": 0,
  "metadata": {
    "colab": {
      "name": "Sentiment Analysis from Scratch.ipynb",
      "provenance": [],
      "collapsed_sections": [
        "6AxlQqXzhLW8",
        "eyIa50hpdmlH"
      ]
    },
    "kernelspec": {
      "name": "python3",
      "display_name": "Python 3"
    },
    "language_info": {
      "name": "python"
    },
    "accelerator": "GPU"
  },
  "cells": [
    {
      "cell_type": "markdown",
      "metadata": {
        "id": "u343_onWgl3M"
      },
      "source": [
        "# Import"
      ]
    },
    {
      "cell_type": "code",
      "metadata": {
        "colab": {
          "base_uri": "https://localhost:8080/"
        },
        "id": "R_YHny8XVwDW",
        "outputId": "9f8cd50e-ceda-410e-f7a4-b676e8f7b838"
      },
      "source": [
        "!git clone -b deep-learning-models https://github.com/MohamadElnomrossie/Omdena-seniment-analysis/"
      ],
      "execution_count": 1,
      "outputs": [
        {
          "output_type": "stream",
          "text": [
            "fatal: destination path 'Omdena-seniment-analysis' already exists and is not an empty directory.\n"
          ],
          "name": "stdout"
        }
      ]
    },
    {
      "cell_type": "code",
      "metadata": {
        "colab": {
          "base_uri": "https://localhost:8080/"
        },
        "id": "fsU7nx2cgoLi",
        "outputId": "56273a17-f6d8-4de7-95c3-3ddd9cf3eade"
      },
      "source": [
        "%cd Omdena-seniment-analysis/"
      ],
      "execution_count": 2,
      "outputs": [
        {
          "output_type": "stream",
          "text": [
            "/content/Omdena-seniment-analysis\n"
          ],
          "name": "stdout"
        }
      ]
    },
    {
      "cell_type": "code",
      "metadata": {
        "id": "UoOWtrcxmqDH"
      },
      "source": [
        "# !git clone -b Tokenization https://github.com/OmdenaAI/Arabic-Chapter/"
      ],
      "execution_count": 3,
      "outputs": []
    },
    {
      "cell_type": "markdown",
      "metadata": {
        "id": "_lrrXxAugt--"
      },
      "source": [
        "# Main"
      ]
    },
    {
      "cell_type": "code",
      "metadata": {
        "id": "FKs1usOilOl9"
      },
      "source": [
        "import os\n",
        "import json\n",
        "\n",
        "import numpy as np\n",
        "import pandas as pd\n",
        "\n",
        "os.environ['TF_CPP_MIN_LOG_LEVEL'] = '3' \n",
        "\n",
        "from sklearn.model_selection import StratifiedKFold\n",
        "import tensorflow as tf\n",
        "\n",
        "from Sentiment import SentimentAnalysis\n",
        "from utils import helper, preprocess\n",
        "# from utils.config import config\n",
        "\n",
        "# from ArabicChapter.Tokenizer.tokenizer import tokenization"
      ],
      "execution_count": 4,
      "outputs": []
    },
    {
      "cell_type": "markdown",
      "metadata": {
        "id": "6AxlQqXzhLW8"
      },
      "source": [
        "### Analysis"
      ]
    },
    {
      "cell_type": "code",
      "metadata": {
        "colab": {
          "base_uri": "https://localhost:8080/",
          "height": 786
        },
        "id": "UUphxgKUWdb3",
        "outputId": "c36dd8b6-3ad0-485c-f829-68cac911dc49"
      },
      "source": [
        "import pandas as pd\n",
        "data = pd.read_csv(\"Datasets/Final_Dataset/Dataset/train.csv\")\n",
        "print(data.columns)\n",
        "data.head(10)"
      ],
      "execution_count": 5,
      "outputs": [
        {
          "output_type": "stream",
          "text": [
            "Index(['Unnamed: 0', 'Text', 'Class_camel', 'cleaned_text', 'mentions',\n",
            "       'word_count', 'contain_emoji', 'demoji_text', 'URLS'],\n",
            "      dtype='object')\n"
          ],
          "name": "stdout"
        },
        {
          "output_type": "execute_result",
          "data": {
            "text/html": [
              "<div>\n",
              "<style scoped>\n",
              "    .dataframe tbody tr th:only-of-type {\n",
              "        vertical-align: middle;\n",
              "    }\n",
              "\n",
              "    .dataframe tbody tr th {\n",
              "        vertical-align: top;\n",
              "    }\n",
              "\n",
              "    .dataframe thead th {\n",
              "        text-align: right;\n",
              "    }\n",
              "</style>\n",
              "<table border=\"1\" class=\"dataframe\">\n",
              "  <thead>\n",
              "    <tr style=\"text-align: right;\">\n",
              "      <th></th>\n",
              "      <th>Unnamed: 0</th>\n",
              "      <th>Text</th>\n",
              "      <th>Class_camel</th>\n",
              "      <th>cleaned_text</th>\n",
              "      <th>mentions</th>\n",
              "      <th>word_count</th>\n",
              "      <th>contain_emoji</th>\n",
              "      <th>demoji_text</th>\n",
              "      <th>URLS</th>\n",
              "    </tr>\n",
              "  </thead>\n",
              "  <tbody>\n",
              "    <tr>\n",
              "      <th>0</th>\n",
              "      <td>0</td>\n",
              "      <td>حقوق المرأة 💚💚💚 https://t.co/Mzf90Ta5g1</td>\n",
              "      <td>neutral</td>\n",
              "      <td>حقوق المراه</td>\n",
              "      <td>[]</td>\n",
              "      <td>2</td>\n",
              "      <td>True</td>\n",
              "      <td>:green_heart::green_heart::green_heart:</td>\n",
              "      <td>['https://t.co/Mzf90Ta5g1']</td>\n",
              "    </tr>\n",
              "    <tr>\n",
              "      <th>1</th>\n",
              "      <td>2</td>\n",
              "      <td>RT @saud_talep: Retweeted لجنة التنمية بشبرا (...</td>\n",
              "      <td>neutral</td>\n",
              "      <td>لجنه التنميه بشبرا ما زال التسجيل مستمر في دور...</td>\n",
              "      <td>['saud', 'Shubratanmyeh']</td>\n",
              "      <td>15</td>\n",
              "      <td>True</td>\n",
              "      <td>:sparkles:</td>\n",
              "      <td>['https://t.co/c2NXzNCdLU']</td>\n",
              "    </tr>\n",
              "    <tr>\n",
              "      <th>2</th>\n",
              "      <td>5</td>\n",
              "      <td>RT @fatemaar7: انا كامرأة يوجعني كل حزن نساء ا...</td>\n",
              "      <td>negative</td>\n",
              "      <td>انا كامراه يوجعني كل حزن نساء العالم سواء تعنف...</td>\n",
              "      <td>['fatemaar7']</td>\n",
              "      <td>50</td>\n",
              "      <td>False</td>\n",
              "      <td>NaN</td>\n",
              "      <td>['https://t.co/c494qBVPx4']</td>\n",
              "    </tr>\n",
              "    <tr>\n",
              "      <th>3</th>\n",
              "      <td>7</td>\n",
              "      <td>@AliFCD @ShamsanM @AlyemenNor @space_dist @m2r...</td>\n",
              "      <td>negative</td>\n",
              "      <td>غسق وسبيس وحلوه الحلوات هم اشخاص لهم هويتهم وك...</td>\n",
              "      <td>['AliFCD', 'ShamsanM', 'AlyemenNor', 'space', ...</td>\n",
              "      <td>32</td>\n",
              "      <td>False</td>\n",
              "      <td>NaN</td>\n",
              "      <td>[]</td>\n",
              "    </tr>\n",
              "    <tr>\n",
              "      <th>4</th>\n",
              "      <td>9</td>\n",
              "      <td>RT @Dresraamohammed: السؤال بقى للناس الي شغال...</td>\n",
              "      <td>negative</td>\n",
              "      <td>السؤال بقي للناس الي شغاله في حقوق الانسان حقو...</td>\n",
              "      <td>['Dresraamohammed']</td>\n",
              "      <td>24</td>\n",
              "      <td>True</td>\n",
              "      <td>:person_facepalming_light_skin_tone::female_si...</td>\n",
              "      <td>[]</td>\n",
              "    </tr>\n",
              "    <tr>\n",
              "      <th>5</th>\n",
              "      <td>12</td>\n",
              "      <td>إذا كانت مسألة حقوق المرأة أمرا سخيفاً جداً ، ...</td>\n",
              "      <td>negative</td>\n",
              "      <td>اذا كانت مساله حقوق المراه امرا سخيفا جدا فالل...</td>\n",
              "      <td>[]</td>\n",
              "      <td>18</td>\n",
              "      <td>False</td>\n",
              "      <td>NaN</td>\n",
              "      <td>[]</td>\n",
              "    </tr>\n",
              "    <tr>\n",
              "      <th>6</th>\n",
              "      <td>13</td>\n",
              "      <td>@naifco كل هذه الحقوق او المزعوم انها حقوق عبا...</td>\n",
              "      <td>negative</td>\n",
              "      <td>كل هذه الحقوق او المزعوم انها حقوق عباره عن صف...</td>\n",
              "      <td>['naifco']</td>\n",
              "      <td>16</td>\n",
              "      <td>False</td>\n",
              "      <td>NaN</td>\n",
              "      <td>[]</td>\n",
              "    </tr>\n",
              "    <tr>\n",
              "      <th>7</th>\n",
              "      <td>14</td>\n",
              "      <td>متى تعرف ان المرأة ما عندها حقوق؟\\n يوم يطبعون...</td>\n",
              "      <td>neutral</td>\n",
              "      <td>متي تعرف ان المراه ما عندها حقوق يوم يطبعون له...</td>\n",
              "      <td>[]</td>\n",
              "      <td>13</td>\n",
              "      <td>True</td>\n",
              "      <td>:backhand_index_pointing_down_medium-light_ski...</td>\n",
              "      <td>['https://t.co/7a9H0KQTqH']</td>\n",
              "    </tr>\n",
              "    <tr>\n",
              "      <th>8</th>\n",
              "      <td>16</td>\n",
              "      <td>RT @miss_wahaj: @RmNxb المسيار زي زواج المتعه ...</td>\n",
              "      <td>negative</td>\n",
              "      <td>المسيار زي زواج المتعه عند الشيعه نعايب عليهم ...</td>\n",
              "      <td>['miss', 'RmNxb']</td>\n",
              "      <td>13</td>\n",
              "      <td>False</td>\n",
              "      <td>NaN</td>\n",
              "      <td>[]</td>\n",
              "    </tr>\n",
              "    <tr>\n",
              "      <th>9</th>\n",
              "      <td>18</td>\n",
              "      <td>RT @Gh08944301: @Eqbal_Darandari لمتى واحنا بل...</td>\n",
              "      <td>negative</td>\n",
              "      <td>لمتي واحنا بلا حقوق لانقدر نجدد جوازات سفرنا و...</td>\n",
              "      <td>['Gh08944301', 'Eqbal']</td>\n",
              "      <td>50</td>\n",
              "      <td>False</td>\n",
              "      <td>NaN</td>\n",
              "      <td>[]</td>\n",
              "    </tr>\n",
              "  </tbody>\n",
              "</table>\n",
              "</div>"
            ],
            "text/plain": [
              "   Unnamed: 0  ...                         URLS\n",
              "0           0  ...  ['https://t.co/Mzf90Ta5g1']\n",
              "1           2  ...  ['https://t.co/c2NXzNCdLU']\n",
              "2           5  ...  ['https://t.co/c494qBVPx4']\n",
              "3           7  ...                           []\n",
              "4           9  ...                           []\n",
              "5          12  ...                           []\n",
              "6          13  ...                           []\n",
              "7          14  ...  ['https://t.co/7a9H0KQTqH']\n",
              "8          16  ...                           []\n",
              "9          18  ...                           []\n",
              "\n",
              "[10 rows x 9 columns]"
            ]
          },
          "metadata": {
            "tags": []
          },
          "execution_count": 5
        }
      ]
    },
    {
      "cell_type": "code",
      "metadata": {
        "colab": {
          "base_uri": "https://localhost:8080/"
        },
        "id": "f9CTt6ZshzSr",
        "outputId": "6cf60897-aed8-448f-fe00-b03627ad5381"
      },
      "source": [
        "print(data.cleaned_text.loc[45], data.Class_camel.loc[45])\n",
        "print(data.cleaned_text.loc[0], data.Class_camel.loc[0])\n",
        "print(data.cleaned_text.loc[35], data.Class_camel.loc[35])"
      ],
      "execution_count": 6,
      "outputs": [
        {
          "output_type": "stream",
          "text": [
            "لان تبني حقوق المراه من وجهه نظر علمانيه وتحرريه يضر بمجتمعي ويضر بالنساء والرجال علي حد سواء بس هم ليش مهتمين وحاشرين خشومهم negative\n",
            "حقوق المراه neutral\n",
            "تضامن مع ترف العسيري اختي المسلمه حجابك حشمتك حيائك هي هويتك الحقيقيه التي كرمك بها دينك العظيم حافظي عليها فهي من تمنحك الكرامه والحريه الحقيقيه لاتستمعي لمن يحاول طمس هويتك الاسلاميه تحت دعاوي مزيفه مثل حقوق المراه وبكائيات من تسمين انفسهن ب الناشطات والحقوقيات positive\n"
          ],
          "name": "stdout"
        }
      ]
    },
    {
      "cell_type": "code",
      "metadata": {
        "colab": {
          "base_uri": "https://localhost:8080/"
        },
        "id": "Pk4MSFdeXH43",
        "outputId": "d8e47986-886c-432d-db36-6c35c3e80fda"
      },
      "source": [
        "data.Class_camel.value_counts()"
      ],
      "execution_count": 7,
      "outputs": [
        {
          "output_type": "execute_result",
          "data": {
            "text/plain": [
              "positive    57096\n",
              "negative    33702\n",
              "neutral     20124\n",
              "Name: Class_camel, dtype: int64"
            ]
          },
          "metadata": {
            "tags": []
          },
          "execution_count": 7
        }
      ]
    },
    {
      "cell_type": "markdown",
      "metadata": {
        "id": "b8sr1dkCXlNN"
      },
      "source": [
        "### Config"
      ]
    },
    {
      "cell_type": "code",
      "metadata": {
        "id": "EbGnEdu0Xmro"
      },
      "source": [
        "import pickle\n",
        "with open(\"Datasets/stopWords.pkl\", 'rb') as f:\n",
        "    stop_words = list(pickle.load(f))\n",
        "    stop_words = list(set(stop_words + ['و','في','من','بواسطة','أ','هو','و','في','سيكون','إلى','كان','كن','هو','ال','و','ما','ء','ه','س']))\n",
        "\n",
        "config = {\n",
        "    'vocab_size':60000,\n",
        "    'maxlen':256,\n",
        "    'embedding_vector':50,\n",
        "\n",
        "    'method':'lstm', #other - simpleRNN, bidRNN, 1DConv, lstm\n",
        "    'stop_words':stop_words,\n",
        "    'punctuations':\"\"\"'!\"-#$%&'()*+,«».؛،/:؟?@[\\]^_`{|}~\"\"\",\n",
        "\n",
        "    'epochs':50,\n",
        "    'optim':'SGD', # other - adamax, adadelta, SGD, Adam, RMSprop\n",
        "    'learning_rate':1e-1,\n",
        "\n",
        "    'save_model_path':'models/',\n",
        "    'save_weights_path':\"models/\",\n",
        "    'train_data_path':\"Datasets/Final_Dataset/Dataset/train.csv\",\n",
        "    'val_data_path':\"Datasets/Final_Dataset/Dataset/val.csv\",\n",
        "    'test_data_path':\"Datasets/Final_Dataset/Dataset/test.csv\",\n",
        "}\n"
      ],
      "execution_count": 4,
      "outputs": []
    },
    {
      "cell_type": "markdown",
      "metadata": {
        "id": "HQMlDbXohNd-"
      },
      "source": [
        "### Fine Tuning"
      ]
    },
    {
      "cell_type": "code",
      "metadata": {
        "id": "jEvmECaShO-H"
      },
      "source": [
        "train_data = pd.read_csv(config['train_data_path'])\n",
        "val_data = pd.read_csv(config['val_data_path'])\n",
        "test_data = pd.read_csv(config['test_data_path'])\n",
        "\n",
        "train_data = train_data.dropna().reset_index(drop=True)\n",
        "val_data = val_data.dropna().reset_index(drop=True)\n",
        "test_data = test_data.dropna().reset_index(drop=True)\n",
        "\n",
        "train_text, train_label = train_data['cleaned_text'].values, train_data['Class_camel'].values\n",
        "val_text, val_label = val_data['cleaned_text'].values, val_data['Class_camel'].values\n",
        "test_text, test_label = test_data['cleaned_text'].values.copy(), test_data['Class_camel'].values.copy()\n"
      ],
      "execution_count": 15,
      "outputs": []
    },
    {
      "cell_type": "code",
      "metadata": {
        "colab": {
          "base_uri": "https://localhost:8080/"
        },
        "id": "w1vrllETheP0",
        "outputId": "697c2fc8-c8f1-416b-a4cd-db49d0f1b6fb"
      },
      "source": [
        "#Default Tokenization\n",
        "sentiment = SentimentAnalysis(preprocess.tokenizer, vocab_size=config['vocab_size'], maxlen=config['maxlen'], embedding_vector=config['embedding_vector'], method=config['method'],)\n",
        "\n",
        "train_text = sentiment.tokenize(train_text, punctuations=config['punctuations'], stop_words=config['stop_words'])\n",
        "train_text, train_label, unique_words, word_dict = sentiment.vectorize(train_text, train_label)\n",
        "\n",
        "val_text = sentiment.tokenize(val_text, punctuations=config['punctuations'], stop_words=config['stop_words'])\n",
        "val_text, val_label, _, _ = sentiment.vectorize(val_text, val_label)\n",
        "\n",
        "test_text = sentiment.tokenize(test_text, punctuations=config['punctuations'], stop_words=config['stop_words'])\n",
        "test_text, test_label, _, _ = sentiment.vectorize(test_text, test_label)\n"
      ],
      "execution_count": 16,
      "outputs": [
        {
          "output_type": "stream",
          "text": [
            "100%|██████████| 29029/29029 [00:04<00:00, 6723.90it/s]\n",
            "100%|██████████| 7267/7267 [00:01<00:00, 6568.68it/s]\n",
            "100%|██████████| 15634/15634 [00:02<00:00, 6666.05it/s]\n"
          ],
          "name": "stderr"
        }
      ]
    },
    {
      "cell_type": "code",
      "metadata": {
        "colab": {
          "base_uri": "https://localhost:8080/"
        },
        "id": "rieReB8pEUR6",
        "outputId": "b8241a71-b746-40f6-c9c6-5285437e78e7"
      },
      "source": [
        "train_data.cleaned_text.iloc[0], train_data.Class_camel.iloc[0] "
      ],
      "execution_count": 19,
      "outputs": [
        {
          "output_type": "execute_result",
          "data": {
            "text/plain": [
              "(['حقوق', 'المراه'], 'neutral')"
            ]
          },
          "metadata": {
            "tags": []
          },
          "execution_count": 19
        }
      ]
    },
    {
      "cell_type": "code",
      "metadata": {
        "colab": {
          "base_uri": "https://localhost:8080/"
        },
        "id": "dEocqAv3EZ0j",
        "outputId": "617ec200-f153-48d3-e21c-acd5fabec39c"
      },
      "source": [
        "train_text[0], train_label[0]"
      ],
      "execution_count": 20,
      "outputs": [
        {
          "output_type": "execute_result",
          "data": {
            "text/plain": [
              "(array([49220, 36270,     0,     0,     0,     0,     0,     0,     0,\n",
              "            0,     0,     0,     0,     0,     0,     0,     0,     0,\n",
              "            0,     0,     0,     0,     0,     0,     0,     0,     0,\n",
              "            0,     0,     0,     0,     0,     0,     0,     0,     0,\n",
              "            0,     0,     0,     0,     0,     0,     0,     0,     0,\n",
              "            0,     0,     0,     0,     0,     0,     0,     0,     0,\n",
              "            0,     0,     0,     0,     0,     0,     0,     0,     0,\n",
              "            0,     0,     0,     0,     0,     0,     0,     0,     0,\n",
              "            0,     0,     0,     0,     0,     0,     0,     0,     0,\n",
              "            0,     0,     0,     0,     0,     0,     0,     0,     0,\n",
              "            0,     0,     0,     0,     0,     0,     0,     0,     0,\n",
              "            0,     0,     0,     0,     0,     0,     0,     0,     0,\n",
              "            0,     0,     0,     0,     0,     0,     0,     0,     0,\n",
              "            0,     0,     0,     0,     0,     0,     0,     0,     0,\n",
              "            0,     0,     0,     0,     0,     0,     0,     0,     0,\n",
              "            0,     0,     0,     0,     0,     0,     0,     0,     0,\n",
              "            0,     0,     0,     0,     0,     0,     0,     0,     0,\n",
              "            0,     0,     0,     0,     0,     0,     0,     0,     0,\n",
              "            0,     0,     0,     0,     0,     0,     0,     0,     0,\n",
              "            0,     0,     0,     0,     0,     0,     0,     0,     0,\n",
              "            0,     0,     0,     0,     0,     0,     0,     0,     0,\n",
              "            0,     0,     0,     0,     0,     0,     0,     0,     0,\n",
              "            0,     0,     0,     0,     0,     0,     0,     0,     0,\n",
              "            0,     0,     0,     0,     0,     0,     0,     0,     0,\n",
              "            0,     0,     0,     0,     0,     0,     0,     0,     0,\n",
              "            0,     0,     0,     0,     0,     0,     0,     0,     0,\n",
              "            0,     0,     0,     0,     0,     0,     0,     0,     0,\n",
              "            0,     0,     0,     0,     0,     0,     0,     0,     0,\n",
              "            0,     0,     0,     0], dtype=int32), array([0., 1., 0.]))"
            ]
          },
          "metadata": {
            "tags": []
          },
          "execution_count": 20
        }
      ]
    },
    {
      "cell_type": "code",
      "metadata": {
        "colab": {
          "base_uri": "https://localhost:8080/"
        },
        "id": "ZiyIf3NUlX0h",
        "outputId": "4537f8b5-97ff-455e-e543-69bc1142838c"
      },
      "source": [
        "model = sentiment.fit(train_text,\n",
        "                    train_label,\n",
        "                    validation_data=(val_text, val_label),\n",
        "                    epochs=config['epochs'],\n",
        "                    method=config['method'])\n",
        "sentiment.evaluate(test_text, test_label, model, batch_size=32)"
      ],
      "execution_count": 21,
      "outputs": [
        {
          "output_type": "stream",
          "text": [
            "(29029, 256) (7267, 256) (29029, 3) (7267, 3)\n",
            "Epoch 1/50\n",
            "908/908 [==============================] - 32s 25ms/step - loss: 0.8863 - accuracy: 0.5604 - precision: 0.6677 - recall: 0.3212 - auc: 0.7673 - val_loss: 0.7561 - val_accuracy: 0.6623 - val_precision: 0.7291 - val_recall: 0.5504 - val_auc: 0.8444\n",
            "\n",
            "Epoch 00001: val_loss improved from inf to 0.75613, saving model to models/lstm_model.h5\n",
            "Epoch 2/50\n",
            "908/908 [==============================] - 22s 24ms/step - loss: 0.6783 - accuracy: 0.7022 - precision: 0.7637 - recall: 0.5990 - auc: 0.8752 - val_loss: 0.6530 - val_accuracy: 0.7125 - val_precision: 0.7541 - val_recall: 0.6527 - val_auc: 0.8839\n",
            "\n",
            "Epoch 00002: val_loss improved from 0.75613 to 0.65300, saving model to models/lstm_model.h5\n",
            "Epoch 3/50\n",
            "908/908 [==============================] - 22s 24ms/step - loss: 0.5796 - accuracy: 0.7565 - precision: 0.7990 - recall: 0.6928 - auc: 0.9101 - val_loss: 0.6070 - val_accuracy: 0.7350 - val_precision: 0.7725 - val_recall: 0.6845 - val_auc: 0.9000\n",
            "\n",
            "Epoch 00003: val_loss improved from 0.65300 to 0.60703, saving model to models/lstm_model.h5\n",
            "Epoch 4/50\n",
            "908/908 [==============================] - 22s 24ms/step - loss: 0.5084 - accuracy: 0.7936 - precision: 0.8264 - recall: 0.7466 - auc: 0.9314 - val_loss: 0.5796 - val_accuracy: 0.7541 - val_precision: 0.7875 - val_recall: 0.7080 - val_auc: 0.9097\n",
            "\n",
            "Epoch 00004: val_loss improved from 0.60703 to 0.57964, saving model to models/lstm_model.h5\n",
            "Epoch 5/50\n",
            "908/908 [==============================] - 22s 25ms/step - loss: 0.4472 - accuracy: 0.8231 - precision: 0.8504 - recall: 0.7886 - auc: 0.9473 - val_loss: 0.5714 - val_accuracy: 0.7633 - val_precision: 0.7827 - val_recall: 0.7380 - val_auc: 0.9160\n",
            "\n",
            "Epoch 00005: val_loss improved from 0.57964 to 0.57140, saving model to models/lstm_model.h5\n",
            "Epoch 6/50\n",
            "908/908 [==============================] - 23s 25ms/step - loss: 0.3999 - accuracy: 0.8448 - precision: 0.8686 - recall: 0.8170 - auc: 0.9579 - val_loss: 0.5699 - val_accuracy: 0.7724 - val_precision: 0.7916 - val_recall: 0.7511 - val_auc: 0.9193\n",
            "\n",
            "Epoch 00006: val_loss improved from 0.57140 to 0.56989, saving model to models/lstm_model.h5\n",
            "Epoch 7/50\n",
            "908/908 [==============================] - 22s 25ms/step - loss: 0.3531 - accuracy: 0.8665 - precision: 0.8854 - recall: 0.8459 - auc: 0.9670 - val_loss: 0.5785 - val_accuracy: 0.7786 - val_precision: 0.7934 - val_recall: 0.7610 - val_auc: 0.9210\n",
            "\n",
            "Epoch 00007: val_loss did not improve from 0.56989\n",
            "Epoch 8/50\n",
            "908/908 [==============================] - 22s 24ms/step - loss: 0.3163 - accuracy: 0.8823 - precision: 0.8981 - recall: 0.8641 - auc: 0.9734 - val_loss: 0.5722 - val_accuracy: 0.7804 - val_precision: 0.7959 - val_recall: 0.7589 - val_auc: 0.9227\n",
            "\n",
            "Epoch 00008: val_loss did not improve from 0.56989\n",
            "Epoch 9/50\n",
            "908/908 [==============================] - 22s 24ms/step - loss: 0.2812 - accuracy: 0.8968 - precision: 0.9103 - recall: 0.8821 - auc: 0.9788 - val_loss: 0.6032 - val_accuracy: 0.7809 - val_precision: 0.7954 - val_recall: 0.7636 - val_auc: 0.9216\n",
            "\n",
            "Epoch 00009: val_loss did not improve from 0.56989\n",
            "Epoch 00009: early stopping\n",
            "489/489 [==============================] - 5s 11ms/step - loss: 0.5975 - accuracy: 0.7867 - precision: 0.8004 - recall: 0.7706 - auc: 0.9237\n",
            "\n",
            "Validation loss: 0.5974619388580322  Validation acc: 0.7866828441619873 Precision: 0.800358772277832 Recall: 0.7705641388893127 Auc Roc: 0.923678457736969\n"
          ],
          "name": "stdout"
        }
      ]
    },
    {
      "cell_type": "markdown",
      "metadata": {
        "id": "-VdcNmHJ8zY_"
      },
      "source": [
        "### Validation"
      ]
    },
    {
      "cell_type": "code",
      "metadata": {
        "colab": {
          "base_uri": "https://localhost:8080/"
        },
        "id": "swb1YkFH7Wo_",
        "outputId": "7f2594e6-fcd2-449f-b97f-026a17536fb0"
      },
      "source": [
        "print(f\"\\nText : {test_data['cleaned_text'].iloc[45]} Label : {test_data['Class_camel'].iloc[45]}\")\n",
        "sentiment.predict_([test_data['cleaned_text'].iloc[45]], model, batch_size=32, print_=True)\n",
        "\n",
        "print(f\"Text : {test_data['cleaned_text'].iloc[0]} Label : {test_data['Class_camel'].iloc[0]}\")\n",
        "sentiment.predict_([test_data['cleaned_text'].iloc[0]], model, batch_size=32, print_=True)\n",
        "\n",
        "print(f\"Text : {test_data['cleaned_text'].iloc[35]} Label : {test_data['Class_camel'].iloc[35]}\")\n",
        "sentiment.predict_([test_data['cleaned_text'].iloc[35]], model, batch_size=32, print_=True)"
      ],
      "execution_count": 32,
      "outputs": [
        {
          "output_type": "stream",
          "text": [
            "100%|██████████| 1/1 [00:00<00:00, 336.89it/s]\n",
            "100%|██████████| 1/1 [00:00<00:00, 284.90it/s]\n",
            "100%|██████████| 1/1 [00:00<00:00, 290.54it/s]"
          ],
          "name": "stderr"
        },
        {
          "output_type": "stream",
          "text": [
            "\n",
            "Text : سعوديات نطلب اسقاط الولايه سعوديات نطلب اسقاط الولايه هلو بابا سلمان طولتوا مو قال محمد بن سلمان ان الولايه راح تسقط قريب متي هالقريب تري راح عمرنا واحنا ننتظر اسقوطها بليز واعتقونا Label : negative\n",
            "--------------------\n",
            "Negative 0.9940369129180908\n",
            "--------------------\n",
            "Text : مبدائيا انا مع حقوق المراه وضد حقوق الرجل Label : neutral\n",
            "--------------------\n",
            "Neutral 0.5456753969192505\n",
            "--------------------\n",
            "Text : تضامن مع ترف العسيري فئه اسقاط الولايه القذره حثاله المجتمع الذين سمعوا عن الحريه فنادوا بخلع الحجاب والملابس ويعتبرونها حريهالشخص الحجاب عباده Label : negative\n",
            "--------------------\n",
            "Negative 0.9165098071098328\n",
            "--------------------\n"
          ],
          "name": "stdout"
        },
        {
          "output_type": "stream",
          "text": [
            "\n"
          ],
          "name": "stderr"
        }
      ]
    },
    {
      "cell_type": "markdown",
      "metadata": {
        "id": "eyIa50hpdmlH"
      },
      "source": [
        "### Inference"
      ]
    },
    {
      "cell_type": "code",
      "metadata": {
        "colab": {
          "base_uri": "https://localhost:8080/",
          "height": 733
        },
        "id": "zLlnq2aUeC-i",
        "outputId": "2458b597-9d02-451b-8875-4b82d42ca4dd"
      },
      "source": [
        "import pandas as pd\n",
        "import tensorflow as tf\n",
        "from Sentiment import SentimentAnalysis\n",
        "from utils import helper, preprocess\n",
        "\n",
        "data = pd.read_csv(\"data path\")\n",
        "data.head(10)"
      ],
      "execution_count": 32,
      "outputs": [
        {
          "output_type": "execute_result",
          "data": {
            "text/html": [
              "<div>\n",
              "<style scoped>\n",
              "    .dataframe tbody tr th:only-of-type {\n",
              "        vertical-align: middle;\n",
              "    }\n",
              "\n",
              "    .dataframe tbody tr th {\n",
              "        vertical-align: top;\n",
              "    }\n",
              "\n",
              "    .dataframe thead th {\n",
              "        text-align: right;\n",
              "    }\n",
              "</style>\n",
              "<table border=\"1\" class=\"dataframe\">\n",
              "  <thead>\n",
              "    <tr style=\"text-align: right;\">\n",
              "      <th></th>\n",
              "      <th>Unnamed: 0</th>\n",
              "      <th>Text</th>\n",
              "      <th>Class_camel</th>\n",
              "      <th>cleaned_text</th>\n",
              "      <th>mentions</th>\n",
              "      <th>word_count</th>\n",
              "      <th>contain_emoji</th>\n",
              "      <th>demoji_text</th>\n",
              "      <th>URLS</th>\n",
              "    </tr>\n",
              "  </thead>\n",
              "  <tbody>\n",
              "    <tr>\n",
              "      <th>0</th>\n",
              "      <td>0</td>\n",
              "      <td>حقوق المرأة 💚💚💚 https://t.co/Mzf90Ta5g1</td>\n",
              "      <td>neutral</td>\n",
              "      <td>حقوق المراه</td>\n",
              "      <td>[]</td>\n",
              "      <td>2</td>\n",
              "      <td>True</td>\n",
              "      <td>:green_heart::green_heart::green_heart:</td>\n",
              "      <td>['https://t.co/Mzf90Ta5g1']</td>\n",
              "    </tr>\n",
              "    <tr>\n",
              "      <th>1</th>\n",
              "      <td>2</td>\n",
              "      <td>RT @saud_talep: Retweeted لجنة التنمية بشبرا (...</td>\n",
              "      <td>neutral</td>\n",
              "      <td>لجنه التنميه بشبرا ما زال التسجيل مستمر في دور...</td>\n",
              "      <td>['saud', 'Shubratanmyeh']</td>\n",
              "      <td>15</td>\n",
              "      <td>True</td>\n",
              "      <td>:sparkles:</td>\n",
              "      <td>['https://t.co/c2NXzNCdLU']</td>\n",
              "    </tr>\n",
              "    <tr>\n",
              "      <th>2</th>\n",
              "      <td>5</td>\n",
              "      <td>RT @fatemaar7: انا كامرأة يوجعني كل حزن نساء ا...</td>\n",
              "      <td>negative</td>\n",
              "      <td>انا كامراه يوجعني كل حزن نساء العالم سواء تعنف...</td>\n",
              "      <td>['fatemaar7']</td>\n",
              "      <td>50</td>\n",
              "      <td>False</td>\n",
              "      <td>NaN</td>\n",
              "      <td>['https://t.co/c494qBVPx4']</td>\n",
              "    </tr>\n",
              "    <tr>\n",
              "      <th>3</th>\n",
              "      <td>7</td>\n",
              "      <td>@AliFCD @ShamsanM @AlyemenNor @space_dist @m2r...</td>\n",
              "      <td>negative</td>\n",
              "      <td>غسق وسبيس وحلوه الحلوات هم اشخاص لهم هويتهم وك...</td>\n",
              "      <td>['AliFCD', 'ShamsanM', 'AlyemenNor', 'space', ...</td>\n",
              "      <td>32</td>\n",
              "      <td>False</td>\n",
              "      <td>NaN</td>\n",
              "      <td>[]</td>\n",
              "    </tr>\n",
              "    <tr>\n",
              "      <th>4</th>\n",
              "      <td>9</td>\n",
              "      <td>RT @Dresraamohammed: السؤال بقى للناس الي شغال...</td>\n",
              "      <td>negative</td>\n",
              "      <td>السؤال بقي للناس الي شغاله في حقوق الانسان حقو...</td>\n",
              "      <td>['Dresraamohammed']</td>\n",
              "      <td>24</td>\n",
              "      <td>True</td>\n",
              "      <td>:person_facepalming_light_skin_tone::female_si...</td>\n",
              "      <td>[]</td>\n",
              "    </tr>\n",
              "    <tr>\n",
              "      <th>5</th>\n",
              "      <td>12</td>\n",
              "      <td>إذا كانت مسألة حقوق المرأة أمرا سخيفاً جداً ، ...</td>\n",
              "      <td>negative</td>\n",
              "      <td>اذا كانت مساله حقوق المراه امرا سخيفا جدا فالل...</td>\n",
              "      <td>[]</td>\n",
              "      <td>18</td>\n",
              "      <td>False</td>\n",
              "      <td>NaN</td>\n",
              "      <td>[]</td>\n",
              "    </tr>\n",
              "    <tr>\n",
              "      <th>6</th>\n",
              "      <td>13</td>\n",
              "      <td>@naifco كل هذه الحقوق او المزعوم انها حقوق عبا...</td>\n",
              "      <td>negative</td>\n",
              "      <td>كل هذه الحقوق او المزعوم انها حقوق عباره عن صف...</td>\n",
              "      <td>['naifco']</td>\n",
              "      <td>16</td>\n",
              "      <td>False</td>\n",
              "      <td>NaN</td>\n",
              "      <td>[]</td>\n",
              "    </tr>\n",
              "    <tr>\n",
              "      <th>7</th>\n",
              "      <td>14</td>\n",
              "      <td>متى تعرف ان المرأة ما عندها حقوق؟\\n يوم يطبعون...</td>\n",
              "      <td>neutral</td>\n",
              "      <td>متي تعرف ان المراه ما عندها حقوق يوم يطبعون له...</td>\n",
              "      <td>[]</td>\n",
              "      <td>13</td>\n",
              "      <td>True</td>\n",
              "      <td>:backhand_index_pointing_down_medium-light_ski...</td>\n",
              "      <td>['https://t.co/7a9H0KQTqH']</td>\n",
              "    </tr>\n",
              "    <tr>\n",
              "      <th>8</th>\n",
              "      <td>16</td>\n",
              "      <td>RT @miss_wahaj: @RmNxb المسيار زي زواج المتعه ...</td>\n",
              "      <td>negative</td>\n",
              "      <td>المسيار زي زواج المتعه عند الشيعه نعايب عليهم ...</td>\n",
              "      <td>['miss', 'RmNxb']</td>\n",
              "      <td>13</td>\n",
              "      <td>False</td>\n",
              "      <td>NaN</td>\n",
              "      <td>[]</td>\n",
              "    </tr>\n",
              "    <tr>\n",
              "      <th>9</th>\n",
              "      <td>18</td>\n",
              "      <td>RT @Gh08944301: @Eqbal_Darandari لمتى واحنا بل...</td>\n",
              "      <td>negative</td>\n",
              "      <td>لمتي واحنا بلا حقوق لانقدر نجدد جوازات سفرنا و...</td>\n",
              "      <td>['Gh08944301', 'Eqbal']</td>\n",
              "      <td>50</td>\n",
              "      <td>False</td>\n",
              "      <td>NaN</td>\n",
              "      <td>[]</td>\n",
              "    </tr>\n",
              "  </tbody>\n",
              "</table>\n",
              "</div>"
            ],
            "text/plain": [
              "   Unnamed: 0  ...                         URLS\n",
              "0           0  ...  ['https://t.co/Mzf90Ta5g1']\n",
              "1           2  ...  ['https://t.co/c2NXzNCdLU']\n",
              "2           5  ...  ['https://t.co/c494qBVPx4']\n",
              "3           7  ...                           []\n",
              "4           9  ...                           []\n",
              "5          12  ...                           []\n",
              "6          13  ...                           []\n",
              "7          14  ...  ['https://t.co/7a9H0KQTqH']\n",
              "8          16  ...                           []\n",
              "9          18  ...                           []\n",
              "\n",
              "[10 rows x 9 columns]"
            ]
          },
          "metadata": {
            "tags": []
          },
          "execution_count": 32
        }
      ]
    },
    {
      "cell_type": "code",
      "metadata": {
        "id": "g9_bsmIQeC-n"
      },
      "source": [
        "data = data.dropna().reset_index(drop=True)\n",
        "text = data[\"Text\"].values"
      ],
      "execution_count": 33,
      "outputs": []
    },
    {
      "cell_type": "code",
      "metadata": {
        "colab": {
          "base_uri": "https://localhost:8080/"
        },
        "id": "F3osee_4ixAd",
        "outputId": "8b8068be-d3bf-4f6d-b88d-7b1444957453"
      },
      "source": [
        "text[0:5]"
      ],
      "execution_count": 34,
      "outputs": [
        {
          "output_type": "execute_result",
          "data": {
            "text/plain": [
              "array(['حقوق المرأة 💚💚💚 https://t.co/Mzf90Ta5g1',\n",
              "       'RT @saud_talep: Retweeted لجنة التنمية بشبرا (@Shubratanmyeh):\\n \\n ما زال التسجيل مستمر في دورة حقوق المرأة بعد الطلاق ✨ #وعيك_يحميك... https://t.co/c2NXzNCdLU',\n",
              "       'RT @Dresraamohammed: السؤال بقى للناس الي شغاله في #حقوق_الانسان #حقوق_المرأة \\n يا ترى في قانون او عقوبه على الزوج الي بيمارس العنف ضد زوجته في الشارع ؟؟؟ 🤦🏻\\u200d♀️👩🏻\\u200d💼',\n",
              "       'متى تعرف ان المرأة ما عندها حقوق؟\\n يوم يطبعون لها ورقة مثل هذي 👇🏼👇🏼👇🏼 https://t.co/7a9H0KQTqH',\n",
              "       '@Almajlliss اتوقع الي حاط الاستفتاء وده يخنق المرأه ويسجنها 😹😹 الحمدالله ديرتنا ديره حقوق للمرأه 🙏😋'],\n",
              "      dtype=object)"
            ]
          },
          "metadata": {
            "tags": []
          },
          "execution_count": 34
        }
      ]
    },
    {
      "cell_type": "code",
      "metadata": {
        "colab": {
          "base_uri": "https://localhost:8080/"
        },
        "id": "sGkDoHrvfpGw",
        "outputId": "1598a229-25bd-459f-9ba9-0afd3aeff359"
      },
      "source": [
        "model = tf.keras.models.load_model(\"models/lstm_model.h5\")\n",
        "preds = sentiment.predict_(text, model, batch_size=32, print_=False)\n",
        "data[\"prediction\"] = preds"
      ],
      "execution_count": 35,
      "outputs": [
        {
          "output_type": "stream",
          "text": [
            "100%|██████████| 29029/29029 [00:04<00:00, 5984.11it/s]\n"
          ],
          "name": "stderr"
        }
      ]
    },
    {
      "cell_type": "code",
      "metadata": {
        "colab": {
          "base_uri": "https://localhost:8080/",
          "height": 392
        },
        "id": "J6QNJ1OyiUpt",
        "outputId": "4bd845ef-e1d9-4f70-8d70-09ff1cd273a3"
      },
      "source": [
        "data.head()"
      ],
      "execution_count": 36,
      "outputs": [
        {
          "output_type": "execute_result",
          "data": {
            "text/html": [
              "<div>\n",
              "<style scoped>\n",
              "    .dataframe tbody tr th:only-of-type {\n",
              "        vertical-align: middle;\n",
              "    }\n",
              "\n",
              "    .dataframe tbody tr th {\n",
              "        vertical-align: top;\n",
              "    }\n",
              "\n",
              "    .dataframe thead th {\n",
              "        text-align: right;\n",
              "    }\n",
              "</style>\n",
              "<table border=\"1\" class=\"dataframe\">\n",
              "  <thead>\n",
              "    <tr style=\"text-align: right;\">\n",
              "      <th></th>\n",
              "      <th>Unnamed: 0</th>\n",
              "      <th>Text</th>\n",
              "      <th>Class_camel</th>\n",
              "      <th>cleaned_text</th>\n",
              "      <th>mentions</th>\n",
              "      <th>word_count</th>\n",
              "      <th>contain_emoji</th>\n",
              "      <th>demoji_text</th>\n",
              "      <th>URLS</th>\n",
              "      <th>prediction</th>\n",
              "    </tr>\n",
              "  </thead>\n",
              "  <tbody>\n",
              "    <tr>\n",
              "      <th>0</th>\n",
              "      <td>0</td>\n",
              "      <td>[حقوق, المرأة, 💚💚💚, https, t, co]</td>\n",
              "      <td>neutral</td>\n",
              "      <td>حقوق المراه</td>\n",
              "      <td>[]</td>\n",
              "      <td>2</td>\n",
              "      <td>True</td>\n",
              "      <td>:green_heart::green_heart::green_heart:</td>\n",
              "      <td>['https://t.co/Mzf90Ta5g1']</td>\n",
              "      <td>Negative</td>\n",
              "    </tr>\n",
              "    <tr>\n",
              "      <th>1</th>\n",
              "      <td>2</td>\n",
              "      <td>[RT, saud, talep, Retweeted, لجنة, التنمية, بش...</td>\n",
              "      <td>neutral</td>\n",
              "      <td>لجنه التنميه بشبرا ما زال التسجيل مستمر في دور...</td>\n",
              "      <td>['saud', 'Shubratanmyeh']</td>\n",
              "      <td>15</td>\n",
              "      <td>True</td>\n",
              "      <td>:sparkles:</td>\n",
              "      <td>['https://t.co/c2NXzNCdLU']</td>\n",
              "      <td>Negative</td>\n",
              "    </tr>\n",
              "    <tr>\n",
              "      <th>2</th>\n",
              "      <td>9</td>\n",
              "      <td>[RT, Dresraamohammed, السؤال, بقى, للناس, الي,...</td>\n",
              "      <td>negative</td>\n",
              "      <td>السؤال بقي للناس الي شغاله في حقوق الانسان حقو...</td>\n",
              "      <td>['Dresraamohammed']</td>\n",
              "      <td>24</td>\n",
              "      <td>True</td>\n",
              "      <td>:person_facepalming_light_skin_tone::female_si...</td>\n",
              "      <td>[]</td>\n",
              "      <td>Negative</td>\n",
              "    </tr>\n",
              "    <tr>\n",
              "      <th>3</th>\n",
              "      <td>14</td>\n",
              "      <td>[متى, تعرف, ان, المرأة, عندها, حقوق, يوم, يطبع...</td>\n",
              "      <td>neutral</td>\n",
              "      <td>متي تعرف ان المراه ما عندها حقوق يوم يطبعون له...</td>\n",
              "      <td>[]</td>\n",
              "      <td>13</td>\n",
              "      <td>True</td>\n",
              "      <td>:backhand_index_pointing_down_medium-light_ski...</td>\n",
              "      <td>['https://t.co/7a9H0KQTqH']</td>\n",
              "      <td>Negative</td>\n",
              "    </tr>\n",
              "    <tr>\n",
              "      <th>4</th>\n",
              "      <td>21</td>\n",
              "      <td>[Almajlliss, اتوقع, الي, حاط, الاستفتاء, وده, ...</td>\n",
              "      <td>negative</td>\n",
              "      <td>اتوقع الي حاط الاستفتاء وده يخنق المراه ويسجنه...</td>\n",
              "      <td>['Almajlliss']</td>\n",
              "      <td>13</td>\n",
              "      <td>True</td>\n",
              "      <td>:cat_face_with_tears_of_joy::cat_face_with_tea...</td>\n",
              "      <td>[]</td>\n",
              "      <td>Positive</td>\n",
              "    </tr>\n",
              "  </tbody>\n",
              "</table>\n",
              "</div>"
            ],
            "text/plain": [
              "   Unnamed: 0  ... prediction\n",
              "0           0  ...   Negative\n",
              "1           2  ...   Negative\n",
              "2           9  ...   Negative\n",
              "3          14  ...   Negative\n",
              "4          21  ...   Positive\n",
              "\n",
              "[5 rows x 10 columns]"
            ]
          },
          "metadata": {
            "tags": []
          },
          "execution_count": 36
        }
      ]
    }
  ]
}