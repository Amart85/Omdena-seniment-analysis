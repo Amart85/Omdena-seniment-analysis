{
  "nbformat": 4,
  "nbformat_minor": 0,
  "metadata": {
    "colab": {
      "name": "pre_process_final_dataset.ipynb",
      "provenance": [],
      "collapsed_sections": []
    },
    "kernelspec": {
      "name": "python3",
      "display_name": "Python 3"
    },
    "language_info": {
      "name": "python"
    }
  },
  "cells": [
    {
      "cell_type": "code",
      "metadata": {
        "id": "uOyNVWm-XHLH"
      },
      "source": [
        "import pandas as pd\n",
        "import numpy as np\n",
        "import os\n",
        "import sys\n",
        "import matplotlib.pyplot as plt\n",
        "import re\n",
        "import json\n",
        "import csv \n",
        "\n",
        "%matplotlib inline\n"
      ],
      "execution_count": 1,
      "outputs": []
    },
    {
      "cell_type": "code",
      "metadata": {
        "colab": {
          "base_uri": "https://localhost:8080/"
        },
        "id": "m_6W0ALtb1N8",
        "outputId": "b6fcdd00-b1cd-41e4-e4a1-1cb0cb7c5ba2"
      },
      "source": [
        "!pip install emoji==0.6.0\n"
      ],
      "execution_count": 2,
      "outputs": [
        {
          "output_type": "stream",
          "text": [
            "Requirement already satisfied: emoji==0.6.0 in /usr/local/lib/python3.7/dist-packages (0.6.0)\n"
          ],
          "name": "stdout"
        }
      ]
    },
    {
      "cell_type": "code",
      "metadata": {
        "id": "F9Y17BPbb3KT"
      },
      "source": [
        "import emoji\n"
      ],
      "execution_count": 3,
      "outputs": []
    },
    {
      "cell_type": "code",
      "metadata": {
        "id": "N5b6S8LlX1mN"
      },
      "source": [
        "df=pd.read_csv('/content/drive/MyDrive/Omdena_sentiment/Dataset/Sentiment_Analysis_Dataset.csv')"
      ],
      "execution_count": 4,
      "outputs": []
    },
    {
      "cell_type": "code",
      "metadata": {
        "colab": {
          "base_uri": "https://localhost:8080/",
          "height": 363
        },
        "id": "f9RN1CErYSQ0",
        "outputId": "1688c3d8-a5f7-48e3-d971-a378717771bc"
      },
      "source": [
        "df.head(10)"
      ],
      "execution_count": 5,
      "outputs": [
        {
          "output_type": "execute_result",
          "data": {
            "text/html": [
              "<div>\n",
              "<style scoped>\n",
              "    .dataframe tbody tr th:only-of-type {\n",
              "        vertical-align: middle;\n",
              "    }\n",
              "\n",
              "    .dataframe tbody tr th {\n",
              "        vertical-align: top;\n",
              "    }\n",
              "\n",
              "    .dataframe thead th {\n",
              "        text-align: right;\n",
              "    }\n",
              "</style>\n",
              "<table border=\"1\" class=\"dataframe\">\n",
              "  <thead>\n",
              "    <tr style=\"text-align: right;\">\n",
              "      <th></th>\n",
              "      <th>Text</th>\n",
              "      <th>Class_camel</th>\n",
              "    </tr>\n",
              "  </thead>\n",
              "  <tbody>\n",
              "    <tr>\n",
              "      <th>0</th>\n",
              "      <td>حقوق المرأة 💚💚💚 https://t.co/Mzf90Ta5g1</td>\n",
              "      <td>neutral</td>\n",
              "    </tr>\n",
              "    <tr>\n",
              "      <th>1</th>\n",
              "      <td>RT @___IHAVENOIDEA: حقوق المرأة في الإسلام. ht...</td>\n",
              "      <td>neutral</td>\n",
              "    </tr>\n",
              "    <tr>\n",
              "      <th>2</th>\n",
              "      <td>RT @saud_talep: Retweeted لجنة التنمية بشبرا (...</td>\n",
              "      <td>neutral</td>\n",
              "    </tr>\n",
              "    <tr>\n",
              "      <th>3</th>\n",
              "      <td>RT @MojKsa: حقوق المرأة التي تضمنها لها وزارة ...</td>\n",
              "      <td>neutral</td>\n",
              "    </tr>\n",
              "    <tr>\n",
              "      <th>4</th>\n",
              "      <td>RT @abm112211: ولي امر الزوجة او ولي الزوجة او...</td>\n",
              "      <td>neutral</td>\n",
              "    </tr>\n",
              "    <tr>\n",
              "      <th>5</th>\n",
              "      <td>RT @fatemaar7: انا كامرأة يوجعني كل حزن نساء ا...</td>\n",
              "      <td>negative</td>\n",
              "    </tr>\n",
              "    <tr>\n",
              "      <th>6</th>\n",
              "      <td>@Samar_K_ 😂😂😂😂😂\\n اومن حقوق المرأة \\n أنك تفتح...</td>\n",
              "      <td>neutral</td>\n",
              "    </tr>\n",
              "    <tr>\n",
              "      <th>7</th>\n",
              "      <td>@AliFCD @ShamsanM @AlyemenNor @space_dist @m2r...</td>\n",
              "      <td>negative</td>\n",
              "    </tr>\n",
              "    <tr>\n",
              "      <th>8</th>\n",
              "      <td>مبدائيا انا مع حقوق المرأة وضد حقوق الرجل 😁</td>\n",
              "      <td>neutral</td>\n",
              "    </tr>\n",
              "    <tr>\n",
              "      <th>9</th>\n",
              "      <td>RT @Dresraamohammed: السؤال بقى للناس الي شغال...</td>\n",
              "      <td>negative</td>\n",
              "    </tr>\n",
              "  </tbody>\n",
              "</table>\n",
              "</div>"
            ],
            "text/plain": [
              "                                                Text Class_camel\n",
              "0            حقوق المرأة 💚💚💚 https://t.co/Mzf90Ta5g1     neutral\n",
              "1  RT @___IHAVENOIDEA: حقوق المرأة في الإسلام. ht...     neutral\n",
              "2  RT @saud_talep: Retweeted لجنة التنمية بشبرا (...     neutral\n",
              "3  RT @MojKsa: حقوق المرأة التي تضمنها لها وزارة ...     neutral\n",
              "4  RT @abm112211: ولي امر الزوجة او ولي الزوجة او...     neutral\n",
              "5  RT @fatemaar7: انا كامرأة يوجعني كل حزن نساء ا...    negative\n",
              "6  @Samar_K_ 😂😂😂😂😂\\n اومن حقوق المرأة \\n أنك تفتح...     neutral\n",
              "7  @AliFCD @ShamsanM @AlyemenNor @space_dist @m2r...    negative\n",
              "8        مبدائيا انا مع حقوق المرأة وضد حقوق الرجل 😁     neutral\n",
              "9  RT @Dresraamohammed: السؤال بقى للناس الي شغال...    negative"
            ]
          },
          "metadata": {
            "tags": []
          },
          "execution_count": 5
        }
      ]
    },
    {
      "cell_type": "code",
      "metadata": {
        "id": "HqmhcFlSbDL0"
      },
      "source": [
        "def clean_text(text):  \n",
        "    # ref: https://github.com/bakrianoo/aravec\n",
        "    search = [\"أ\",\"إ\",\"آ\",\"ة\",\"_\",\"-\",\"/\",\".\",\"،\",\" و \",\" يا \",'\"',\"ـ\",\"'\",\"ى\",\n",
        "              \"\\\\\",'\\n', '\\t','&quot;','?','؟','!']\n",
        "    replace = [\"ا\",\"ا\",\"ا\",\"ه\",\" \",\" \",\"\",\"\",\"\",\" و\",\" يا\",\n",
        "               \"\",\"\",\"\",\"ي\",\"\",' ', ' ',' ',' ? ',' ؟ ', ' ! ']\n",
        "    \n",
        "    tashkeel = re.compile(r'[\\u0617-\\u061A\\u064B-\\u0652]')\n",
        "    text = re.sub(tashkeel,\"\", text)\n",
        "    \n",
        "    # longation = re.compile(r'(.)\\1+')\n",
        "    # subst = r\"\\1\\1\"\n",
        "    # text = re.sub(longation, subst, text)\n",
        "    \n",
        "    text = re.sub(r\"[^\\w\\s]\", '', text)\n",
        "    text = re.sub(r\"[a-zA-Z]\", '', text)\n",
        "    text = re.sub(r\"\\d+\", ' ', text)\n",
        "    text = re.sub(r\"\\n+\", ' ', text)\n",
        "    text = re.sub(r\"\\t+\", ' ', text)\n",
        "    text = re.sub(r\"\\r+\", ' ', text)\n",
        "    text = re.sub(r\"\\s+\", ' ', text)\n",
        "    text = text.replace('وو', 'و')\n",
        "    text = text.replace('يي', 'ي')\n",
        "    text = text.replace('اا', 'ا')\n",
        "    \n",
        "    for i in range(0, len(search)):\n",
        "        text = text.replace(search[i], replace[i])\n",
        "    \n",
        "    text = text.strip()\n",
        "    \n",
        "    return text"
      ],
      "execution_count": 6,
      "outputs": []
    },
    {
      "cell_type": "code",
      "metadata": {
        "id": "5CRfwqIModCy"
      },
      "source": [
        "# Extract each tweet's emojis - obv. it's just a brute force solution (so, it's slow) but works in ALL cases\n",
        "def extract_emojis(tweets):\n",
        "    emojis = []\n",
        "    for tw in tweets:\n",
        "        tw_emojis = []\n",
        "        for word in tw:\n",
        "            chars = list(word)\n",
        "            for ch in chars:\n",
        "                # print(ch)\n",
        "                if ch in emoji.UNICODE_EMOJI:\n",
        "                    tw_emojis.append(ch)\n",
        "        emojis.append(' '.join(tw_emojis))\n",
        "    return emojis\n",
        "\n",
        "def contain_emoji(tweets):\n",
        "\n",
        "  emoji___=''.join(c for c in tweets if c in emoji.UNICODE_EMOJI)  \n",
        "  if len(emoji___)>0:\n",
        "    return True\n",
        "  return False\n",
        "\n",
        "def convert_emojis(text):\n",
        "    emoji___=''.join(c for c in text if c in emoji.UNICODE_EMOJI)\n",
        "    return emoji.demojize(emoji___)"
      ],
      "execution_count": 7,
      "outputs": []
    },
    {
      "cell_type": "code",
      "metadata": {
        "id": "R5Pp1IhHbU3g"
      },
      "source": [
        "def remove_urls(text):\n",
        "    url_pattern = re.compile(r'https?://\\S+|www\\.\\S+')\n",
        "    return url_pattern.sub(r'', text)"
      ],
      "execution_count": 8,
      "outputs": []
    },
    {
      "cell_type": "code",
      "metadata": {
        "id": "BSXnELsNpoWv"
      },
      "source": [
        "def extract_mention(str):\n",
        "  result = re.findall(\"@([a-zA-Z0-9]{1,15})\", str)\n",
        "  return result\n"
      ],
      "execution_count": 9,
      "outputs": []
    },
    {
      "cell_type": "code",
      "metadata": {
        "id": "Bte4dEMKwcoe"
      },
      "source": [
        "def get_url(text):\n",
        "  urls = re.findall('http[s]?://(?:[a-zA-Z]|[0-9]|[$-_@.&+]|[!*\\(\\),]|(?:%[0-9a-fA-F][0-9a-fA-F]))+', text)\n",
        "  return urls "
      ],
      "execution_count": 18,
      "outputs": []
    },
    {
      "cell_type": "code",
      "metadata": {
        "id": "P-QB3R2PbfHa"
      },
      "source": [
        "df['cleaned_text'] = df.Text.apply(clean_text)\n",
        "df['cleaned_text'] = df.cleaned_text.apply(remove_urls)\n",
        "df['mentions'] = df.Text.apply(extract_mention)\n",
        "df[\"word_count\"] = df[\"cleaned_text\"].apply(lambda x: len(x.split()))"
      ],
      "execution_count": 10,
      "outputs": []
    },
    {
      "cell_type": "code",
      "metadata": {
        "id": "bn1JmRK8vtwu"
      },
      "source": [
        "df[\"contain_emoji\"] = df.Text.apply(contain_emoji)"
      ],
      "execution_count": 12,
      "outputs": []
    },
    {
      "cell_type": "code",
      "metadata": {
        "id": "KA7_9iXhv3r8"
      },
      "source": [
        "df[\"demoji_text\"] =''\n",
        "df[\"demoji_text\"] = df.Text.apply(convert_emojis)"
      ],
      "execution_count": 16,
      "outputs": []
    },
    {
      "cell_type": "code",
      "metadata": {
        "id": "9lXLqO2EwZr3"
      },
      "source": [
        "df['URLS']=df.Text.apply(get_url)"
      ],
      "execution_count": 20,
      "outputs": []
    },
    {
      "cell_type": "code",
      "metadata": {
        "colab": {
          "base_uri": "https://localhost:8080/",
          "height": 382
        },
        "id": "HQbPmhzQcK6c",
        "outputId": "b378e1eb-b1a9-4db8-e106-e81c5fcc921b"
      },
      "source": [
        "df.head()"
      ],
      "execution_count": 21,
      "outputs": [
        {
          "output_type": "execute_result",
          "data": {
            "text/html": [
              "<div>\n",
              "<style scoped>\n",
              "    .dataframe tbody tr th:only-of-type {\n",
              "        vertical-align: middle;\n",
              "    }\n",
              "\n",
              "    .dataframe tbody tr th {\n",
              "        vertical-align: top;\n",
              "    }\n",
              "\n",
              "    .dataframe thead th {\n",
              "        text-align: right;\n",
              "    }\n",
              "</style>\n",
              "<table border=\"1\" class=\"dataframe\">\n",
              "  <thead>\n",
              "    <tr style=\"text-align: right;\">\n",
              "      <th></th>\n",
              "      <th>Text</th>\n",
              "      <th>Class_camel</th>\n",
              "      <th>cleaned_text</th>\n",
              "      <th>mentions</th>\n",
              "      <th>word_count</th>\n",
              "      <th>contain_emoji</th>\n",
              "      <th>demoji_text</th>\n",
              "      <th>URLS</th>\n",
              "    </tr>\n",
              "  </thead>\n",
              "  <tbody>\n",
              "    <tr>\n",
              "      <th>0</th>\n",
              "      <td>حقوق المرأة 💚💚💚 https://t.co/Mzf90Ta5g1</td>\n",
              "      <td>neutral</td>\n",
              "      <td>حقوق المراه</td>\n",
              "      <td>[]</td>\n",
              "      <td>2</td>\n",
              "      <td>True</td>\n",
              "      <td>:green_heart::green_heart::green_heart:</td>\n",
              "      <td>[https://t.co/Mzf90Ta5g1]</td>\n",
              "    </tr>\n",
              "    <tr>\n",
              "      <th>1</th>\n",
              "      <td>RT @___IHAVENOIDEA: حقوق المرأة في الإسلام. ht...</td>\n",
              "      <td>neutral</td>\n",
              "      <td>حقوق المراه في الاسلام</td>\n",
              "      <td>[]</td>\n",
              "      <td>4</td>\n",
              "      <td>False</td>\n",
              "      <td></td>\n",
              "      <td>[https://t.co/ps3qNw1CbB]</td>\n",
              "    </tr>\n",
              "    <tr>\n",
              "      <th>2</th>\n",
              "      <td>RT @saud_talep: Retweeted لجنة التنمية بشبرا (...</td>\n",
              "      <td>neutral</td>\n",
              "      <td>لجنه التنميه بشبرا ما زال التسجيل مستمر في دور...</td>\n",
              "      <td>[saud, Shubratanmyeh]</td>\n",
              "      <td>15</td>\n",
              "      <td>True</td>\n",
              "      <td>:sparkles:</td>\n",
              "      <td>[https://t.co/c2NXzNCdLU]</td>\n",
              "    </tr>\n",
              "    <tr>\n",
              "      <th>3</th>\n",
              "      <td>RT @MojKsa: حقوق المرأة التي تضمنها لها وزارة ...</td>\n",
              "      <td>neutral</td>\n",
              "      <td>حقوق المراه التي تضمنها لها وزاره العدل</td>\n",
              "      <td>[MojKsa]</td>\n",
              "      <td>7</td>\n",
              "      <td>False</td>\n",
              "      <td></td>\n",
              "      <td>[https://t.co/QUGzWwubFk]</td>\n",
              "    </tr>\n",
              "    <tr>\n",
              "      <th>4</th>\n",
              "      <td>RT @abm112211: ولي امر الزوجة او ولي الزوجة او...</td>\n",
              "      <td>neutral</td>\n",
              "      <td>ولي امر الزوجه او ولي الزوجه او ولي المراه من ...</td>\n",
              "      <td>[abm112211]</td>\n",
              "      <td>47</td>\n",
              "      <td>False</td>\n",
              "      <td></td>\n",
              "      <td>[https://t.co/rkqxvm5qY7]</td>\n",
              "    </tr>\n",
              "  </tbody>\n",
              "</table>\n",
              "</div>"
            ],
            "text/plain": [
              "                                                Text  ...                       URLS\n",
              "0            حقوق المرأة 💚💚💚 https://t.co/Mzf90Ta5g1  ...  [https://t.co/Mzf90Ta5g1]\n",
              "1  RT @___IHAVENOIDEA: حقوق المرأة في الإسلام. ht...  ...  [https://t.co/ps3qNw1CbB]\n",
              "2  RT @saud_talep: Retweeted لجنة التنمية بشبرا (...  ...  [https://t.co/c2NXzNCdLU]\n",
              "3  RT @MojKsa: حقوق المرأة التي تضمنها لها وزارة ...  ...  [https://t.co/QUGzWwubFk]\n",
              "4  RT @abm112211: ولي امر الزوجة او ولي الزوجة او...  ...  [https://t.co/rkqxvm5qY7]\n",
              "\n",
              "[5 rows x 8 columns]"
            ]
          },
          "metadata": {
            "tags": []
          },
          "execution_count": 21
        }
      ]
    },
    {
      "cell_type": "code",
      "metadata": {
        "id": "tBlgE_BxrN63"
      },
      "source": [
        "msk = np.random.rand(len(df)) < 0.7"
      ],
      "execution_count": 36,
      "outputs": []
    },
    {
      "cell_type": "code",
      "metadata": {
        "id": "WCosKWh7rP4P"
      },
      "source": [
        "train = df[msk]\n",
        "test = df[~msk]"
      ],
      "execution_count": 37,
      "outputs": []
    },
    {
      "cell_type": "code",
      "metadata": {
        "colab": {
          "base_uri": "https://localhost:8080/",
          "height": 382
        },
        "id": "cGwgYsuuw0tJ",
        "outputId": "5937904e-ae47-4261-bc88-2bea8c508f0d"
      },
      "source": [
        "train.head()"
      ],
      "execution_count": 38,
      "outputs": [
        {
          "output_type": "execute_result",
          "data": {
            "text/html": [
              "<div>\n",
              "<style scoped>\n",
              "    .dataframe tbody tr th:only-of-type {\n",
              "        vertical-align: middle;\n",
              "    }\n",
              "\n",
              "    .dataframe tbody tr th {\n",
              "        vertical-align: top;\n",
              "    }\n",
              "\n",
              "    .dataframe thead th {\n",
              "        text-align: right;\n",
              "    }\n",
              "</style>\n",
              "<table border=\"1\" class=\"dataframe\">\n",
              "  <thead>\n",
              "    <tr style=\"text-align: right;\">\n",
              "      <th></th>\n",
              "      <th>Text</th>\n",
              "      <th>Class_camel</th>\n",
              "      <th>cleaned_text</th>\n",
              "      <th>mentions</th>\n",
              "      <th>word_count</th>\n",
              "      <th>contain_emoji</th>\n",
              "      <th>demoji_text</th>\n",
              "      <th>URLS</th>\n",
              "    </tr>\n",
              "  </thead>\n",
              "  <tbody>\n",
              "    <tr>\n",
              "      <th>0</th>\n",
              "      <td>حقوق المرأة 💚💚💚 https://t.co/Mzf90Ta5g1</td>\n",
              "      <td>neutral</td>\n",
              "      <td>حقوق المراه</td>\n",
              "      <td>[]</td>\n",
              "      <td>2</td>\n",
              "      <td>True</td>\n",
              "      <td>:green_heart::green_heart::green_heart:</td>\n",
              "      <td>[https://t.co/Mzf90Ta5g1]</td>\n",
              "    </tr>\n",
              "    <tr>\n",
              "      <th>1</th>\n",
              "      <td>RT @___IHAVENOIDEA: حقوق المرأة في الإسلام. ht...</td>\n",
              "      <td>neutral</td>\n",
              "      <td>حقوق المراه في الاسلام</td>\n",
              "      <td>[]</td>\n",
              "      <td>4</td>\n",
              "      <td>False</td>\n",
              "      <td></td>\n",
              "      <td>[https://t.co/ps3qNw1CbB]</td>\n",
              "    </tr>\n",
              "    <tr>\n",
              "      <th>2</th>\n",
              "      <td>RT @saud_talep: Retweeted لجنة التنمية بشبرا (...</td>\n",
              "      <td>neutral</td>\n",
              "      <td>لجنه التنميه بشبرا ما زال التسجيل مستمر في دور...</td>\n",
              "      <td>[saud, Shubratanmyeh]</td>\n",
              "      <td>15</td>\n",
              "      <td>True</td>\n",
              "      <td>:sparkles:</td>\n",
              "      <td>[https://t.co/c2NXzNCdLU]</td>\n",
              "    </tr>\n",
              "    <tr>\n",
              "      <th>5</th>\n",
              "      <td>RT @fatemaar7: انا كامرأة يوجعني كل حزن نساء ا...</td>\n",
              "      <td>negative</td>\n",
              "      <td>انا كامراه يوجعني كل حزن نساء العالم سواء تعنف...</td>\n",
              "      <td>[fatemaar7]</td>\n",
              "      <td>50</td>\n",
              "      <td>False</td>\n",
              "      <td></td>\n",
              "      <td>[https://t.co/c494qBVPx4]</td>\n",
              "    </tr>\n",
              "    <tr>\n",
              "      <th>6</th>\n",
              "      <td>@Samar_K_ 😂😂😂😂😂\\n اومن حقوق المرأة \\n أنك تفتح...</td>\n",
              "      <td>neutral</td>\n",
              "      <td>اومن حقوق المراه انك تفتحلها الباب</td>\n",
              "      <td>[Samar]</td>\n",
              "      <td>6</td>\n",
              "      <td>True</td>\n",
              "      <td>:face_with_tears_of_joy::face_with_tears_of_jo...</td>\n",
              "      <td>[]</td>\n",
              "    </tr>\n",
              "  </tbody>\n",
              "</table>\n",
              "</div>"
            ],
            "text/plain": [
              "                                                Text  ...                       URLS\n",
              "0            حقوق المرأة 💚💚💚 https://t.co/Mzf90Ta5g1  ...  [https://t.co/Mzf90Ta5g1]\n",
              "1  RT @___IHAVENOIDEA: حقوق المرأة في الإسلام. ht...  ...  [https://t.co/ps3qNw1CbB]\n",
              "2  RT @saud_talep: Retweeted لجنة التنمية بشبرا (...  ...  [https://t.co/c2NXzNCdLU]\n",
              "5  RT @fatemaar7: انا كامرأة يوجعني كل حزن نساء ا...  ...  [https://t.co/c494qBVPx4]\n",
              "6  @Samar_K_ 😂😂😂😂😂\\n اومن حقوق المرأة \\n أنك تفتح...  ...                         []\n",
              "\n",
              "[5 rows x 8 columns]"
            ]
          },
          "metadata": {
            "tags": []
          },
          "execution_count": 38
        }
      ]
    },
    {
      "cell_type": "code",
      "metadata": {
        "colab": {
          "base_uri": "https://localhost:8080/"
        },
        "id": "IuhXzpS-w2pn",
        "outputId": "086478ce-b43a-4303-9ff0-bdb98ccab00e"
      },
      "source": [
        "len(train)"
      ],
      "execution_count": 39,
      "outputs": [
        {
          "output_type": "execute_result",
          "data": {
            "text/plain": [
              "138720"
            ]
          },
          "metadata": {
            "tags": []
          },
          "execution_count": 39
        }
      ]
    },
    {
      "cell_type": "code",
      "metadata": {
        "colab": {
          "base_uri": "https://localhost:8080/",
          "height": 417
        },
        "id": "GSRUzt7Dw4CJ",
        "outputId": "96da6298-1526-47e4-8731-90d268ee5cd3"
      },
      "source": [
        "test.head()"
      ],
      "execution_count": 40,
      "outputs": [
        {
          "output_type": "execute_result",
          "data": {
            "text/html": [
              "<div>\n",
              "<style scoped>\n",
              "    .dataframe tbody tr th:only-of-type {\n",
              "        vertical-align: middle;\n",
              "    }\n",
              "\n",
              "    .dataframe tbody tr th {\n",
              "        vertical-align: top;\n",
              "    }\n",
              "\n",
              "    .dataframe thead th {\n",
              "        text-align: right;\n",
              "    }\n",
              "</style>\n",
              "<table border=\"1\" class=\"dataframe\">\n",
              "  <thead>\n",
              "    <tr style=\"text-align: right;\">\n",
              "      <th></th>\n",
              "      <th>Text</th>\n",
              "      <th>Class_camel</th>\n",
              "      <th>cleaned_text</th>\n",
              "      <th>mentions</th>\n",
              "      <th>word_count</th>\n",
              "      <th>contain_emoji</th>\n",
              "      <th>demoji_text</th>\n",
              "      <th>URLS</th>\n",
              "    </tr>\n",
              "  </thead>\n",
              "  <tbody>\n",
              "    <tr>\n",
              "      <th>3</th>\n",
              "      <td>RT @MojKsa: حقوق المرأة التي تضمنها لها وزارة ...</td>\n",
              "      <td>neutral</td>\n",
              "      <td>حقوق المراه التي تضمنها لها وزاره العدل</td>\n",
              "      <td>[MojKsa]</td>\n",
              "      <td>7</td>\n",
              "      <td>False</td>\n",
              "      <td></td>\n",
              "      <td>[https://t.co/QUGzWwubFk]</td>\n",
              "    </tr>\n",
              "    <tr>\n",
              "      <th>4</th>\n",
              "      <td>RT @abm112211: ولي امر الزوجة او ولي الزوجة او...</td>\n",
              "      <td>neutral</td>\n",
              "      <td>ولي امر الزوجه او ولي الزوجه او ولي المراه من ...</td>\n",
              "      <td>[abm112211]</td>\n",
              "      <td>47</td>\n",
              "      <td>False</td>\n",
              "      <td></td>\n",
              "      <td>[https://t.co/rkqxvm5qY7]</td>\n",
              "    </tr>\n",
              "    <tr>\n",
              "      <th>8</th>\n",
              "      <td>مبدائيا انا مع حقوق المرأة وضد حقوق الرجل 😁</td>\n",
              "      <td>neutral</td>\n",
              "      <td>مبدائيا انا مع حقوق المراه وضد حقوق الرجل</td>\n",
              "      <td>[]</td>\n",
              "      <td>8</td>\n",
              "      <td>True</td>\n",
              "      <td>:beaming_face_with_smiling_eyes:</td>\n",
              "      <td>[]</td>\n",
              "    </tr>\n",
              "    <tr>\n",
              "      <th>19</th>\n",
              "      <td>RT @Stranger23_: @Oh__28 @LifeRights19 عشان كذ...</td>\n",
              "      <td>negative</td>\n",
              "      <td>عشان كذا انا عندي تحفظ للي يشوف الغاء الولايه ...</td>\n",
              "      <td>[Stranger23, Oh, LifeRights19]</td>\n",
              "      <td>49</td>\n",
              "      <td>True</td>\n",
              "      <td>:downcast_face_with_sweat:</td>\n",
              "      <td>[]</td>\n",
              "    </tr>\n",
              "    <tr>\n",
              "      <th>34</th>\n",
              "      <td>@Eqbal_Darandari @g11_we المفروض تتم الموافقة ...</td>\n",
              "      <td>neutral</td>\n",
              "      <td>المفروض تتم الموافقه وبلاجماع مافي ابدا توافق ...</td>\n",
              "      <td>[Eqbal, g11]</td>\n",
              "      <td>25</td>\n",
              "      <td>False</td>\n",
              "      <td></td>\n",
              "      <td>[]</td>\n",
              "    </tr>\n",
              "  </tbody>\n",
              "</table>\n",
              "</div>"
            ],
            "text/plain": [
              "                                                 Text  ...                       URLS\n",
              "3   RT @MojKsa: حقوق المرأة التي تضمنها لها وزارة ...  ...  [https://t.co/QUGzWwubFk]\n",
              "4   RT @abm112211: ولي امر الزوجة او ولي الزوجة او...  ...  [https://t.co/rkqxvm5qY7]\n",
              "8         مبدائيا انا مع حقوق المرأة وضد حقوق الرجل 😁  ...                         []\n",
              "19  RT @Stranger23_: @Oh__28 @LifeRights19 عشان كذ...  ...                         []\n",
              "34  @Eqbal_Darandari @g11_we المفروض تتم الموافقة ...  ...                         []\n",
              "\n",
              "[5 rows x 8 columns]"
            ]
          },
          "metadata": {
            "tags": []
          },
          "execution_count": 40
        }
      ]
    },
    {
      "cell_type": "code",
      "metadata": {
        "colab": {
          "base_uri": "https://localhost:8080/"
        },
        "id": "VE6BBncJw5tB",
        "outputId": "9131de4a-b161-4fb7-d019-6097e1d4e95e"
      },
      "source": [
        "len(test)"
      ],
      "execution_count": 41,
      "outputs": [
        {
          "output_type": "execute_result",
          "data": {
            "text/plain": [
              "59669"
            ]
          },
          "metadata": {
            "tags": []
          },
          "execution_count": 41
        }
      ]
    },
    {
      "cell_type": "code",
      "metadata": {
        "id": "hwtqzH8RrTgo"
      },
      "source": [
        "msk = np.random.rand(len(train)) < 0.8"
      ],
      "execution_count": 42,
      "outputs": []
    },
    {
      "cell_type": "code",
      "metadata": {
        "id": "1J8HSApWrXAg"
      },
      "source": [
        "train_new = train[msk]"
      ],
      "execution_count": 43,
      "outputs": []
    },
    {
      "cell_type": "code",
      "metadata": {
        "colab": {
          "base_uri": "https://localhost:8080/",
          "height": 399
        },
        "id": "Ey0eErQrxItp",
        "outputId": "36c242a3-e23e-410a-c268-0f39d655a95b"
      },
      "source": [
        "train_new.head()"
      ],
      "execution_count": 45,
      "outputs": [
        {
          "output_type": "execute_result",
          "data": {
            "text/html": [
              "<div>\n",
              "<style scoped>\n",
              "    .dataframe tbody tr th:only-of-type {\n",
              "        vertical-align: middle;\n",
              "    }\n",
              "\n",
              "    .dataframe tbody tr th {\n",
              "        vertical-align: top;\n",
              "    }\n",
              "\n",
              "    .dataframe thead th {\n",
              "        text-align: right;\n",
              "    }\n",
              "</style>\n",
              "<table border=\"1\" class=\"dataframe\">\n",
              "  <thead>\n",
              "    <tr style=\"text-align: right;\">\n",
              "      <th></th>\n",
              "      <th>Text</th>\n",
              "      <th>Class_camel</th>\n",
              "      <th>cleaned_text</th>\n",
              "      <th>mentions</th>\n",
              "      <th>word_count</th>\n",
              "      <th>contain_emoji</th>\n",
              "      <th>demoji_text</th>\n",
              "      <th>URLS</th>\n",
              "    </tr>\n",
              "  </thead>\n",
              "  <tbody>\n",
              "    <tr>\n",
              "      <th>0</th>\n",
              "      <td>حقوق المرأة 💚💚💚 https://t.co/Mzf90Ta5g1</td>\n",
              "      <td>neutral</td>\n",
              "      <td>حقوق المراه</td>\n",
              "      <td>[]</td>\n",
              "      <td>2</td>\n",
              "      <td>True</td>\n",
              "      <td>:green_heart::green_heart::green_heart:</td>\n",
              "      <td>[https://t.co/Mzf90Ta5g1]</td>\n",
              "    </tr>\n",
              "    <tr>\n",
              "      <th>2</th>\n",
              "      <td>RT @saud_talep: Retweeted لجنة التنمية بشبرا (...</td>\n",
              "      <td>neutral</td>\n",
              "      <td>لجنه التنميه بشبرا ما زال التسجيل مستمر في دور...</td>\n",
              "      <td>[saud, Shubratanmyeh]</td>\n",
              "      <td>15</td>\n",
              "      <td>True</td>\n",
              "      <td>:sparkles:</td>\n",
              "      <td>[https://t.co/c2NXzNCdLU]</td>\n",
              "    </tr>\n",
              "    <tr>\n",
              "      <th>5</th>\n",
              "      <td>RT @fatemaar7: انا كامرأة يوجعني كل حزن نساء ا...</td>\n",
              "      <td>negative</td>\n",
              "      <td>انا كامراه يوجعني كل حزن نساء العالم سواء تعنف...</td>\n",
              "      <td>[fatemaar7]</td>\n",
              "      <td>50</td>\n",
              "      <td>False</td>\n",
              "      <td></td>\n",
              "      <td>[https://t.co/c494qBVPx4]</td>\n",
              "    </tr>\n",
              "    <tr>\n",
              "      <th>7</th>\n",
              "      <td>@AliFCD @ShamsanM @AlyemenNor @space_dist @m2r...</td>\n",
              "      <td>negative</td>\n",
              "      <td>غسق وسبيس وحلوه الحلوات هم اشخاص لهم هويتهم وك...</td>\n",
              "      <td>[AliFCD, ShamsanM, AlyemenNor, space, m2rwa1, ...</td>\n",
              "      <td>32</td>\n",
              "      <td>False</td>\n",
              "      <td></td>\n",
              "      <td>[]</td>\n",
              "    </tr>\n",
              "    <tr>\n",
              "      <th>9</th>\n",
              "      <td>RT @Dresraamohammed: السؤال بقى للناس الي شغال...</td>\n",
              "      <td>negative</td>\n",
              "      <td>السؤال بقي للناس الي شغاله في حقوق الانسان حقو...</td>\n",
              "      <td>[Dresraamohammed]</td>\n",
              "      <td>24</td>\n",
              "      <td>True</td>\n",
              "      <td>:person_facepalming_light_skin_tone::female_si...</td>\n",
              "      <td>[]</td>\n",
              "    </tr>\n",
              "  </tbody>\n",
              "</table>\n",
              "</div>"
            ],
            "text/plain": [
              "                                                Text  ...                       URLS\n",
              "0            حقوق المرأة 💚💚💚 https://t.co/Mzf90Ta5g1  ...  [https://t.co/Mzf90Ta5g1]\n",
              "2  RT @saud_talep: Retweeted لجنة التنمية بشبرا (...  ...  [https://t.co/c2NXzNCdLU]\n",
              "5  RT @fatemaar7: انا كامرأة يوجعني كل حزن نساء ا...  ...  [https://t.co/c494qBVPx4]\n",
              "7  @AliFCD @ShamsanM @AlyemenNor @space_dist @m2r...  ...                         []\n",
              "9  RT @Dresraamohammed: السؤال بقى للناس الي شغال...  ...                         []\n",
              "\n",
              "[5 rows x 8 columns]"
            ]
          },
          "metadata": {
            "tags": []
          },
          "execution_count": 45
        }
      ]
    },
    {
      "cell_type": "code",
      "metadata": {
        "colab": {
          "base_uri": "https://localhost:8080/"
        },
        "id": "63QX40GIxKDf",
        "outputId": "97ff7f1d-7926-49c4-f63a-229d75467ef5"
      },
      "source": [
        "len(train_new)"
      ],
      "execution_count": 46,
      "outputs": [
        {
          "output_type": "execute_result",
          "data": {
            "text/plain": [
              "110922"
            ]
          },
          "metadata": {
            "tags": []
          },
          "execution_count": 46
        }
      ]
    },
    {
      "cell_type": "code",
      "metadata": {
        "id": "YBUgV1KMw9ge"
      },
      "source": [
        "valid = train[~msk]"
      ],
      "execution_count": 44,
      "outputs": []
    },
    {
      "cell_type": "code",
      "metadata": {
        "colab": {
          "base_uri": "https://localhost:8080/",
          "height": 399
        },
        "id": "ahx2I-kuxMRj",
        "outputId": "6889d60a-46ae-4de8-c167-dff306f72d0f"
      },
      "source": [
        "valid.head()"
      ],
      "execution_count": 47,
      "outputs": [
        {
          "output_type": "execute_result",
          "data": {
            "text/html": [
              "<div>\n",
              "<style scoped>\n",
              "    .dataframe tbody tr th:only-of-type {\n",
              "        vertical-align: middle;\n",
              "    }\n",
              "\n",
              "    .dataframe tbody tr th {\n",
              "        vertical-align: top;\n",
              "    }\n",
              "\n",
              "    .dataframe thead th {\n",
              "        text-align: right;\n",
              "    }\n",
              "</style>\n",
              "<table border=\"1\" class=\"dataframe\">\n",
              "  <thead>\n",
              "    <tr style=\"text-align: right;\">\n",
              "      <th></th>\n",
              "      <th>Text</th>\n",
              "      <th>Class_camel</th>\n",
              "      <th>cleaned_text</th>\n",
              "      <th>mentions</th>\n",
              "      <th>word_count</th>\n",
              "      <th>contain_emoji</th>\n",
              "      <th>demoji_text</th>\n",
              "      <th>URLS</th>\n",
              "    </tr>\n",
              "  </thead>\n",
              "  <tbody>\n",
              "    <tr>\n",
              "      <th>1</th>\n",
              "      <td>RT @___IHAVENOIDEA: حقوق المرأة في الإسلام. ht...</td>\n",
              "      <td>neutral</td>\n",
              "      <td>حقوق المراه في الاسلام</td>\n",
              "      <td>[]</td>\n",
              "      <td>4</td>\n",
              "      <td>False</td>\n",
              "      <td></td>\n",
              "      <td>[https://t.co/ps3qNw1CbB]</td>\n",
              "    </tr>\n",
              "    <tr>\n",
              "      <th>6</th>\n",
              "      <td>@Samar_K_ 😂😂😂😂😂\\n اومن حقوق المرأة \\n أنك تفتح...</td>\n",
              "      <td>neutral</td>\n",
              "      <td>اومن حقوق المراه انك تفتحلها الباب</td>\n",
              "      <td>[Samar]</td>\n",
              "      <td>6</td>\n",
              "      <td>True</td>\n",
              "      <td>:face_with_tears_of_joy::face_with_tears_of_jo...</td>\n",
              "      <td>[]</td>\n",
              "    </tr>\n",
              "    <tr>\n",
              "      <th>10</th>\n",
              "      <td>نعم المرأة في الإسلام منتقصة الحقوق\\n والواااا...</td>\n",
              "      <td>negative</td>\n",
              "      <td>نعم المراه في الاسلام منتقصه الحقوق والواااجبا...</td>\n",
              "      <td>[]</td>\n",
              "      <td>24</td>\n",
              "      <td>False</td>\n",
              "      <td></td>\n",
              "      <td>[]</td>\n",
              "    </tr>\n",
              "    <tr>\n",
              "      <th>11</th>\n",
              "      <td>RT @h747531: محاولات بائسه لاقصاء دور الام الس...</td>\n",
              "      <td>negative</td>\n",
              "      <td>محاولات بائسه لاقصاء دور الام السعوديه ودورها ...</td>\n",
              "      <td>[h747531]</td>\n",
              "      <td>35</td>\n",
              "      <td>False</td>\n",
              "      <td></td>\n",
              "      <td>[https://t.co/Cxx8oGXPD1]</td>\n",
              "    </tr>\n",
              "    <tr>\n",
              "      <th>15</th>\n",
              "      <td>@EslamNagyy ناصر حقوق المرأة</td>\n",
              "      <td>neutral</td>\n",
              "      <td>ناصر حقوق المراه</td>\n",
              "      <td>[EslamNagyy]</td>\n",
              "      <td>3</td>\n",
              "      <td>False</td>\n",
              "      <td></td>\n",
              "      <td>[]</td>\n",
              "    </tr>\n",
              "  </tbody>\n",
              "</table>\n",
              "</div>"
            ],
            "text/plain": [
              "                                                 Text  ...                       URLS\n",
              "1   RT @___IHAVENOIDEA: حقوق المرأة في الإسلام. ht...  ...  [https://t.co/ps3qNw1CbB]\n",
              "6   @Samar_K_ 😂😂😂😂😂\\n اومن حقوق المرأة \\n أنك تفتح...  ...                         []\n",
              "10  نعم المرأة في الإسلام منتقصة الحقوق\\n والواااا...  ...                         []\n",
              "11  RT @h747531: محاولات بائسه لاقصاء دور الام الس...  ...  [https://t.co/Cxx8oGXPD1]\n",
              "15                       @EslamNagyy ناصر حقوق المرأة  ...                         []\n",
              "\n",
              "[5 rows x 8 columns]"
            ]
          },
          "metadata": {
            "tags": []
          },
          "execution_count": 47
        }
      ]
    },
    {
      "cell_type": "code",
      "metadata": {
        "colab": {
          "base_uri": "https://localhost:8080/"
        },
        "id": "RYUmbOi1xOIG",
        "outputId": "5bb69dd5-b311-4fff-88cf-68f00a831711"
      },
      "source": [
        "len(valid)"
      ],
      "execution_count": 48,
      "outputs": [
        {
          "output_type": "execute_result",
          "data": {
            "text/plain": [
              "27798"
            ]
          },
          "metadata": {
            "tags": []
          },
          "execution_count": 48
        }
      ]
    },
    {
      "cell_type": "code",
      "metadata": {
        "id": "vJG68Kz8haZQ"
      },
      "source": [
        "train_new.to_csv('/content/drive/MyDrive/Omdena_sentiment/Dataset/train.csv')"
      ],
      "execution_count": 49,
      "outputs": []
    },
    {
      "cell_type": "code",
      "metadata": {
        "id": "SSfsN4yah_aP"
      },
      "source": [
        "valid.to_csv('/content/drive/MyDrive/Omdena_sentiment/Dataset/val.csv')"
      ],
      "execution_count": 50,
      "outputs": []
    },
    {
      "cell_type": "code",
      "metadata": {
        "id": "bHW0Lb4jiW1S"
      },
      "source": [
        "test.to_csv('/content/drive/MyDrive/Omdena_sentiment/Dataset/test.csv')"
      ],
      "execution_count": 51,
      "outputs": []
    }
  ]
}