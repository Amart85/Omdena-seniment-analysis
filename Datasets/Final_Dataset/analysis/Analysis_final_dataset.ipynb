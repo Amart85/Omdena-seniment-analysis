{
  "nbformat": 4,
  "nbformat_minor": 0,
  "metadata": {
    "colab": {
      "name": "Analysis_final_dataset",
      "provenance": [],
      "collapsed_sections": []
    },
    "kernelspec": {
      "name": "python3",
      "display_name": "Python 3"
    },
    "language_info": {
      "name": "python"
    }
  },
  "cells": [
    {
      "cell_type": "code",
      "metadata": {
        "id": "GbUwAbRacaNj"
      },
      "source": [
        "import pandas as pd\n",
        "import numpy as np\n",
        "import os\n",
        "import sys\n",
        "import matplotlib.pyplot as plt\n",
        "import re\n",
        "import json\n",
        "import csv \n",
        "\n",
        "%matplotlib inline\n"
      ],
      "execution_count": 1,
      "outputs": []
    },
    {
      "cell_type": "code",
      "metadata": {
        "id": "8SztpHZBc5Ok"
      },
      "source": [
        "df=pd.read_csv('/content/drive/MyDrive/Omdena_sentiment/Dataset/Sentiment_Analysis_Dataset.csv')"
      ],
      "execution_count": 2,
      "outputs": []
    },
    {
      "cell_type": "code",
      "metadata": {
        "colab": {
          "base_uri": "https://localhost:8080/",
          "height": 363
        },
        "id": "cCXS6txlc7ON",
        "outputId": "83cc1c83-237e-43a8-b495-fc8191d24bdb"
      },
      "source": [
        "df.head(10)"
      ],
      "execution_count": 3,
      "outputs": [
        {
          "output_type": "execute_result",
          "data": {
            "text/html": [
              "<div>\n",
              "<style scoped>\n",
              "    .dataframe tbody tr th:only-of-type {\n",
              "        vertical-align: middle;\n",
              "    }\n",
              "\n",
              "    .dataframe tbody tr th {\n",
              "        vertical-align: top;\n",
              "    }\n",
              "\n",
              "    .dataframe thead th {\n",
              "        text-align: right;\n",
              "    }\n",
              "</style>\n",
              "<table border=\"1\" class=\"dataframe\">\n",
              "  <thead>\n",
              "    <tr style=\"text-align: right;\">\n",
              "      <th></th>\n",
              "      <th>Text</th>\n",
              "      <th>Class_camel</th>\n",
              "    </tr>\n",
              "  </thead>\n",
              "  <tbody>\n",
              "    <tr>\n",
              "      <th>0</th>\n",
              "      <td>حقوق المرأة 💚💚💚 https://t.co/Mzf90Ta5g1</td>\n",
              "      <td>neutral</td>\n",
              "    </tr>\n",
              "    <tr>\n",
              "      <th>1</th>\n",
              "      <td>RT @___IHAVENOIDEA: حقوق المرأة في الإسلام. ht...</td>\n",
              "      <td>neutral</td>\n",
              "    </tr>\n",
              "    <tr>\n",
              "      <th>2</th>\n",
              "      <td>RT @saud_talep: Retweeted لجنة التنمية بشبرا (...</td>\n",
              "      <td>neutral</td>\n",
              "    </tr>\n",
              "    <tr>\n",
              "      <th>3</th>\n",
              "      <td>RT @MojKsa: حقوق المرأة التي تضمنها لها وزارة ...</td>\n",
              "      <td>neutral</td>\n",
              "    </tr>\n",
              "    <tr>\n",
              "      <th>4</th>\n",
              "      <td>RT @abm112211: ولي امر الزوجة او ولي الزوجة او...</td>\n",
              "      <td>neutral</td>\n",
              "    </tr>\n",
              "    <tr>\n",
              "      <th>5</th>\n",
              "      <td>RT @fatemaar7: انا كامرأة يوجعني كل حزن نساء ا...</td>\n",
              "      <td>negative</td>\n",
              "    </tr>\n",
              "    <tr>\n",
              "      <th>6</th>\n",
              "      <td>@Samar_K_ 😂😂😂😂😂\\n اومن حقوق المرأة \\n أنك تفتح...</td>\n",
              "      <td>neutral</td>\n",
              "    </tr>\n",
              "    <tr>\n",
              "      <th>7</th>\n",
              "      <td>@AliFCD @ShamsanM @AlyemenNor @space_dist @m2r...</td>\n",
              "      <td>negative</td>\n",
              "    </tr>\n",
              "    <tr>\n",
              "      <th>8</th>\n",
              "      <td>مبدائيا انا مع حقوق المرأة وضد حقوق الرجل 😁</td>\n",
              "      <td>neutral</td>\n",
              "    </tr>\n",
              "    <tr>\n",
              "      <th>9</th>\n",
              "      <td>RT @Dresraamohammed: السؤال بقى للناس الي شغال...</td>\n",
              "      <td>negative</td>\n",
              "    </tr>\n",
              "  </tbody>\n",
              "</table>\n",
              "</div>"
            ],
            "text/plain": [
              "                                                Text Class_camel\n",
              "0            حقوق المرأة 💚💚💚 https://t.co/Mzf90Ta5g1     neutral\n",
              "1  RT @___IHAVENOIDEA: حقوق المرأة في الإسلام. ht...     neutral\n",
              "2  RT @saud_talep: Retweeted لجنة التنمية بشبرا (...     neutral\n",
              "3  RT @MojKsa: حقوق المرأة التي تضمنها لها وزارة ...     neutral\n",
              "4  RT @abm112211: ولي امر الزوجة او ولي الزوجة او...     neutral\n",
              "5  RT @fatemaar7: انا كامرأة يوجعني كل حزن نساء ا...    negative\n",
              "6  @Samar_K_ 😂😂😂😂😂\\n اومن حقوق المرأة \\n أنك تفتح...     neutral\n",
              "7  @AliFCD @ShamsanM @AlyemenNor @space_dist @m2r...    negative\n",
              "8        مبدائيا انا مع حقوق المرأة وضد حقوق الرجل 😁     neutral\n",
              "9  RT @Dresraamohammed: السؤال بقى للناس الي شغال...    negative"
            ]
          },
          "metadata": {
            "tags": []
          },
          "execution_count": 3
        }
      ]
    },
    {
      "cell_type": "code",
      "metadata": {
        "colab": {
          "base_uri": "https://localhost:8080/"
        },
        "id": "QETjIlMJc-od",
        "outputId": "a674c06b-8c94-4f98-d59a-515d4140a1cf"
      },
      "source": [
        "len(df)"
      ],
      "execution_count": 4,
      "outputs": [
        {
          "output_type": "execute_result",
          "data": {
            "text/plain": [
              "198389"
            ]
          },
          "metadata": {
            "tags": []
          },
          "execution_count": 4
        }
      ]
    },
    {
      "cell_type": "code",
      "metadata": {
        "colab": {
          "base_uri": "https://localhost:8080/"
        },
        "id": "2Xnv4jBqdBw9",
        "outputId": "6a2aabf3-384e-46dc-d818-8b71a78e8f25"
      },
      "source": [
        "df.isna().sum()\n"
      ],
      "execution_count": 5,
      "outputs": [
        {
          "output_type": "execute_result",
          "data": {
            "text/plain": [
              "Text           0\n",
              "Class_camel    0\n",
              "dtype: int64"
            ]
          },
          "metadata": {
            "tags": []
          },
          "execution_count": 5
        }
      ]
    },
    {
      "cell_type": "code",
      "metadata": {
        "colab": {
          "base_uri": "https://localhost:8080/"
        },
        "id": "y8eqC-osdFLd",
        "outputId": "d3662bea-3f54-425f-8310-c9f8754ab2cf"
      },
      "source": [
        "df[(df['Class_camel']=='neutral') ].count()\n"
      ],
      "execution_count": 6,
      "outputs": [
        {
          "output_type": "execute_result",
          "data": {
            "text/plain": [
              "Text           36127\n",
              "Class_camel    36127\n",
              "dtype: int64"
            ]
          },
          "metadata": {
            "tags": []
          },
          "execution_count": 6
        }
      ]
    },
    {
      "cell_type": "code",
      "metadata": {
        "colab": {
          "base_uri": "https://localhost:8080/"
        },
        "id": "ebbG9CH6dJRd",
        "outputId": "4f59b1be-5b83-482d-c806-13666629048c"
      },
      "source": [
        "df[(df['Class_camel']=='negative') ].count()\n"
      ],
      "execution_count": 7,
      "outputs": [
        {
          "output_type": "execute_result",
          "data": {
            "text/plain": [
              "Text           60381\n",
              "Class_camel    60381\n",
              "dtype: int64"
            ]
          },
          "metadata": {
            "tags": []
          },
          "execution_count": 7
        }
      ]
    },
    {
      "cell_type": "code",
      "metadata": {
        "colab": {
          "base_uri": "https://localhost:8080/"
        },
        "id": "3exvvKEDdK4r",
        "outputId": "c6ba6da7-f6db-496b-cbc8-e956ff79a23b"
      },
      "source": [
        "df[(df['Class_camel']=='positive') ].count()\n"
      ],
      "execution_count": 8,
      "outputs": [
        {
          "output_type": "execute_result",
          "data": {
            "text/plain": [
              "Text           101881\n",
              "Class_camel    101881\n",
              "dtype: int64"
            ]
          },
          "metadata": {
            "tags": []
          },
          "execution_count": 8
        }
      ]
    },
    {
      "cell_type": "code",
      "metadata": {
        "colab": {
          "base_uri": "https://localhost:8080/",
          "height": 269
        },
        "id": "0iHWJoDbddA5",
        "outputId": "617b9503-b1b5-41dc-eba4-73ea0ccd3d6f"
      },
      "source": [
        "Tasks = [36127,60381,101881]\n",
        "\n",
        "my_labels = 'neutral','negative','positive'\n",
        "plt.pie(Tasks,labels=my_labels,autopct='%1.1f%%')\n",
        "plt.title('Sentiment')\n",
        "plt.axis('equal')\n",
        "plt.show()"
      ],
      "execution_count": 9,
      "outputs": [
        {
          "output_type": "display_data",
          "data": {
            "image/png": "[encoded data removed]",
            "text/plain": [
              "<Figure size 432x288 with 1 Axes>"
            ]
          },
          "metadata": {
            "tags": []
          }
        }
      ]
    },
    {
      "cell_type": "markdown",
      "metadata": {
        "id": "RNYe_zn7ejvg"
      },
      "source": [
        "Maximum length Text"
      ]
    },
    {
      "cell_type": "code",
      "metadata": {
        "id": "4X0WbzjEemZU",
        "colab": {
          "base_uri": "https://localhost:8080/"
        },
        "outputId": "83ab0307-577a-4474-a8d6-bac7e7be91ea"
      },
      "source": [
        "max_tweet_length = df.Text.map(len).max()\n",
        "print(max_tweet_length)"
      ],
      "execution_count": 10,
      "outputs": [
        {
          "output_type": "stream",
          "text": [
            "16390\n"
          ],
          "name": "stdout"
        }
      ]
    },
    {
      "cell_type": "code",
      "metadata": {
        "colab": {
          "base_uri": "https://localhost:8080/"
        },
        "id": "0OWs6Yh6sTFZ",
        "outputId": "e181463f-6301-470b-a039-3270e00e0dcf"
      },
      "source": [
        "min_tweet_length = df.Text.map(len).min()\n",
        "print(min_tweet_length)"
      ],
      "execution_count": 12,
      "outputs": [
        {
          "output_type": "stream",
          "text": [
            "1\n"
          ],
          "name": "stdout"
        }
      ]
    },
    {
      "cell_type": "code",
      "metadata": {
        "colab": {
          "base_uri": "https://localhost:8080/"
        },
        "id": "i-n-yFrMslLv",
        "outputId": "5f73a0b4-5ab8-4c4a-829d-0fe322502216"
      },
      "source": [
        "df.info()"
      ],
      "execution_count": 13,
      "outputs": [
        {
          "output_type": "stream",
          "text": [
            "<class 'pandas.core.frame.DataFrame'>\n",
            "RangeIndex: 198389 entries, 0 to 198388\n",
            "Data columns (total 2 columns):\n",
            " #   Column       Non-Null Count   Dtype \n",
            "---  ------       --------------   ----- \n",
            " 0   Text         198389 non-null  object\n",
            " 1   Class_camel  198389 non-null  object\n",
            "dtypes: object(2)\n",
            "memory usage: 3.0+ MB\n"
          ],
          "name": "stdout"
        }
      ]
    },
    {
      "cell_type": "code",
      "metadata": {
        "id": "HkhJzRv0sp4o"
      },
      "source": [
        "text_duplicate=df[df.duplicated(subset = ['Text'])]\n"
      ],
      "execution_count": 28,
      "outputs": []
    },
    {
      "cell_type": "code",
      "metadata": {
        "colab": {
          "base_uri": "https://localhost:8080/",
          "height": 206
        },
        "id": "22TL_g60uKnk",
        "outputId": "1f8306df-c7b7-4473-a2b1-c20b4b0e456f"
      },
      "source": [
        "text_duplicate.head()"
      ],
      "execution_count": 29,
      "outputs": [
        {
          "output_type": "execute_result",
          "data": {
            "text/html": [
              "<div>\n",
              "<style scoped>\n",
              "    .dataframe tbody tr th:only-of-type {\n",
              "        vertical-align: middle;\n",
              "    }\n",
              "\n",
              "    .dataframe tbody tr th {\n",
              "        vertical-align: top;\n",
              "    }\n",
              "\n",
              "    .dataframe thead th {\n",
              "        text-align: right;\n",
              "    }\n",
              "</style>\n",
              "<table border=\"1\" class=\"dataframe\">\n",
              "  <thead>\n",
              "    <tr style=\"text-align: right;\">\n",
              "      <th></th>\n",
              "      <th>Text</th>\n",
              "      <th>Class_camel</th>\n",
              "    </tr>\n",
              "  </thead>\n",
              "  <tbody>\n",
              "    <tr>\n",
              "      <th>425</th>\n",
              "      <td>RT @NORA100011: الولايه سقف يستظل بظله المتحرش...</td>\n",
              "      <td>negative</td>\n",
              "    </tr>\n",
              "    <tr>\n",
              "      <th>493</th>\n",
              "      <td>كذابين المرأة بالسعودية مالها حقوق للأسف \\n يك...</td>\n",
              "      <td>negative</td>\n",
              "    </tr>\n",
              "    <tr>\n",
              "      <th>687</th>\n",
              "      <td>#اسقاط_الولايه_قريبا نطالب باسقاط الولايه</td>\n",
              "      <td>negative</td>\n",
              "    </tr>\n",
              "    <tr>\n",
              "      <th>1119</th>\n",
              "      <td>RT @fahd_albluwi: سفر بلا محرم \\n كشف الوجه \\n...</td>\n",
              "      <td>neutral</td>\n",
              "    </tr>\n",
              "    <tr>\n",
              "      <th>1162</th>\n",
              "      <td>@liirel احد فوائد قيادة المرأه خلها تسوق😂</td>\n",
              "      <td>positive</td>\n",
              "    </tr>\n",
              "  </tbody>\n",
              "</table>\n",
              "</div>"
            ],
            "text/plain": [
              "                                                   Text Class_camel\n",
              "425   RT @NORA100011: الولايه سقف يستظل بظله المتحرش...    negative\n",
              "493   كذابين المرأة بالسعودية مالها حقوق للأسف \\n يك...    negative\n",
              "687           #اسقاط_الولايه_قريبا نطالب باسقاط الولايه    negative\n",
              "1119  RT @fahd_albluwi: سفر بلا محرم \\n كشف الوجه \\n...     neutral\n",
              "1162          @liirel احد فوائد قيادة المرأه خلها تسوق😂    positive"
            ]
          },
          "metadata": {
            "tags": []
          },
          "execution_count": 29
        }
      ]
    },
    {
      "cell_type": "code",
      "metadata": {
        "colab": {
          "base_uri": "https://localhost:8080/"
        },
        "id": "TxxqHfDjuW_1",
        "outputId": "f141fe19-2808-40b4-bf21-a7043608d5cf"
      },
      "source": [
        "len(text_duplicate)"
      ],
      "execution_count": 30,
      "outputs": [
        {
          "output_type": "execute_result",
          "data": {
            "text/plain": [
              "35882"
            ]
          },
          "metadata": {
            "tags": []
          },
          "execution_count": 30
        }
      ]
    },
    {
      "cell_type": "code",
      "metadata": {
        "id": "jPlJTAzwtfQt"
      },
      "source": [
        "duplicate = df[df.duplicated()]"
      ],
      "execution_count": 18,
      "outputs": []
    },
    {
      "cell_type": "code",
      "metadata": {
        "colab": {
          "base_uri": "https://localhost:8080/",
          "height": 519
        },
        "id": "H4HPLLXVtqeV",
        "outputId": "ac618c78-3369-4549-d3fb-9b5e95264150"
      },
      "source": [
        "duplicate.head(15)"
      ],
      "execution_count": 33,
      "outputs": [
        {
          "output_type": "execute_result",
          "data": {
            "text/html": [
              "<div>\n",
              "<style scoped>\n",
              "    .dataframe tbody tr th:only-of-type {\n",
              "        vertical-align: middle;\n",
              "    }\n",
              "\n",
              "    .dataframe tbody tr th {\n",
              "        vertical-align: top;\n",
              "    }\n",
              "\n",
              "    .dataframe thead th {\n",
              "        text-align: right;\n",
              "    }\n",
              "</style>\n",
              "<table border=\"1\" class=\"dataframe\">\n",
              "  <thead>\n",
              "    <tr style=\"text-align: right;\">\n",
              "      <th></th>\n",
              "      <th>Text</th>\n",
              "      <th>Class_camel</th>\n",
              "    </tr>\n",
              "  </thead>\n",
              "  <tbody>\n",
              "    <tr>\n",
              "      <th>425</th>\n",
              "      <td>RT @NORA100011: الولايه سقف يستظل بظله المتحرش...</td>\n",
              "      <td>negative</td>\n",
              "    </tr>\n",
              "    <tr>\n",
              "      <th>493</th>\n",
              "      <td>كذابين المرأة بالسعودية مالها حقوق للأسف \\n يك...</td>\n",
              "      <td>negative</td>\n",
              "    </tr>\n",
              "    <tr>\n",
              "      <th>687</th>\n",
              "      <td>#اسقاط_الولايه_قريبا نطالب باسقاط الولايه</td>\n",
              "      <td>negative</td>\n",
              "    </tr>\n",
              "    <tr>\n",
              "      <th>1119</th>\n",
              "      <td>RT @fahd_albluwi: سفر بلا محرم \\n كشف الوجه \\n...</td>\n",
              "      <td>neutral</td>\n",
              "    </tr>\n",
              "    <tr>\n",
              "      <th>1162</th>\n",
              "      <td>@liirel احد فوائد قيادة المرأه خلها تسوق😂</td>\n",
              "      <td>positive</td>\n",
              "    </tr>\n",
              "    <tr>\n",
              "      <th>1163</th>\n",
              "      <td>@lllollloiii 😍😍 انا مع قيادة المراة</td>\n",
              "      <td>positive</td>\n",
              "    </tr>\n",
              "    <tr>\n",
              "      <th>1178</th>\n",
              "      <td>@nampsycho أنا حضريه متحضره متحرره مع قياده ال...</td>\n",
              "      <td>neutral</td>\n",
              "    </tr>\n",
              "    <tr>\n",
              "      <th>1188</th>\n",
              "      <td>@Prof_Subaie قرار قيادة المرأة تطبق وبنجاح ولل...</td>\n",
              "      <td>positive</td>\n",
              "    </tr>\n",
              "    <tr>\n",
              "      <th>1194</th>\n",
              "      <td>@isalmeens @BNBoodai اخي العزيز في شي اسمه درء...</td>\n",
              "      <td>negative</td>\n",
              "    </tr>\n",
              "    <tr>\n",
              "      <th>1195</th>\n",
              "      <td>@itsmemen_ النسويات ذولي اللي يطالبون بحقوقهم ...</td>\n",
              "      <td>negative</td>\n",
              "    </tr>\n",
              "    <tr>\n",
              "      <th>1211</th>\n",
              "      <td>@R_A_M_I_S_ كأنه اوفر شوي🙂 الا قيادة المرأة نع...</td>\n",
              "      <td>positive</td>\n",
              "    </tr>\n",
              "    <tr>\n",
              "      <th>1212</th>\n",
              "      <td>@Ra97na @MoadAlMubarak حتى قيادة المرأة جاءت ب...</td>\n",
              "      <td>positive</td>\n",
              "    </tr>\n",
              "    <tr>\n",
              "      <th>1232</th>\n",
              "      <td>@shaoolh_khalid بس المشكلة لو جزمت اهلي بيجزمو...</td>\n",
              "      <td>negative</td>\n",
              "    </tr>\n",
              "    <tr>\n",
              "      <th>1250</th>\n",
              "      <td>@YKhoshaim @zooztox 👍 فى أمل طول ماللى زيك موج...</td>\n",
              "      <td>negative</td>\n",
              "    </tr>\n",
              "    <tr>\n",
              "      <th>1316</th>\n",
              "      <td>@Rwqna انا معك ب عودة الهيئه و اللغاء قياده ال...</td>\n",
              "      <td>positive</td>\n",
              "    </tr>\n",
              "  </tbody>\n",
              "</table>\n",
              "</div>"
            ],
            "text/plain": [
              "                                                   Text Class_camel\n",
              "425   RT @NORA100011: الولايه سقف يستظل بظله المتحرش...    negative\n",
              "493   كذابين المرأة بالسعودية مالها حقوق للأسف \\n يك...    negative\n",
              "687           #اسقاط_الولايه_قريبا نطالب باسقاط الولايه    negative\n",
              "1119  RT @fahd_albluwi: سفر بلا محرم \\n كشف الوجه \\n...     neutral\n",
              "1162          @liirel احد فوائد قيادة المرأه خلها تسوق😂    positive\n",
              "1163                @lllollloiii 😍😍 انا مع قيادة المراة    positive\n",
              "1178  @nampsycho أنا حضريه متحضره متحرره مع قياده ال...     neutral\n",
              "1188  @Prof_Subaie قرار قيادة المرأة تطبق وبنجاح ولل...    positive\n",
              "1194  @isalmeens @BNBoodai اخي العزيز في شي اسمه درء...    negative\n",
              "1195  @itsmemen_ النسويات ذولي اللي يطالبون بحقوقهم ...    negative\n",
              "1211  @R_A_M_I_S_ كأنه اوفر شوي🙂 الا قيادة المرأة نع...    positive\n",
              "1212  @Ra97na @MoadAlMubarak حتى قيادة المرأة جاءت ب...    positive\n",
              "1232  @shaoolh_khalid بس المشكلة لو جزمت اهلي بيجزمو...    negative\n",
              "1250  @YKhoshaim @zooztox 👍 فى أمل طول ماللى زيك موج...    negative\n",
              "1316  @Rwqna انا معك ب عودة الهيئه و اللغاء قياده ال...    positive"
            ]
          },
          "metadata": {
            "tags": []
          },
          "execution_count": 33
        }
      ]
    },
    {
      "cell_type": "code",
      "metadata": {
        "colab": {
          "base_uri": "https://localhost:8080/"
        },
        "id": "3-EnSchmtuYJ",
        "outputId": "41ca11e0-fe5b-41b5-a45d-cca84f8bcf7c"
      },
      "source": [
        "len(duplicate)"
      ],
      "execution_count": 20,
      "outputs": [
        {
          "output_type": "execute_result",
          "data": {
            "text/plain": [
              "35882"
            ]
          },
          "metadata": {
            "tags": []
          },
          "execution_count": 20
        }
      ]
    }
  ]
}