{
  "nbformat": 4,
  "nbformat_minor": 0,
  "metadata": {
    "colab": {
      "name": "pre_process_labr_dataset.ipynb",
      "provenance": [],
      "collapsed_sections": []
    },
    "kernelspec": {
      "name": "python3",
      "display_name": "Python 3"
    },
    "language_info": {
      "name": "python"
    }
  },
  "cells": [
    {
      "cell_type": "code",
      "metadata": {
        "id": "uOyNVWm-XHLH"
      },
      "source": [
        "import pandas as pd\n",
        "import numpy as np\n",
        "import os\n",
        "import sys\n",
        "import matplotlib.pyplot as plt\n",
        "import re\n",
        "import json\n",
        "import csv \n",
        "\n",
        "%matplotlib inline\n"
      ],
      "execution_count": 20,
      "outputs": []
    },
    {
      "cell_type": "code",
      "metadata": {
        "colab": {
          "base_uri": "https://localhost:8080/"
        },
        "id": "m_6W0ALtb1N8",
        "outputId": "8ef73382-660d-4673-87f7-f337c0444a99"
      },
      "source": [
        "!pip install emoji==0.6.0\n"
      ],
      "execution_count": 38,
      "outputs": [
        {
          "output_type": "stream",
          "text": [
            "Collecting emoji==0.6.0\n",
            "\u001b[?25l  Downloading https://files.pythonhosted.org/packages/ff/1c/1f1457fe52d0b30cbeebfd578483cedb3e3619108d2d5a21380dfecf8ffd/emoji-0.6.0.tar.gz (51kB)\n",
            "\u001b[K     |████████████████████████████████| 51kB 1.5MB/s \n",
            "\u001b[?25hBuilding wheels for collected packages: emoji\n",
            "  Building wheel for emoji (setup.py) ... \u001b[?25l\u001b[?25hdone\n",
            "  Created wheel for emoji: filename=emoji-0.6.0-cp37-none-any.whl size=49716 sha256=9947af045f27be9e27c47ca96685157a64a48680765be160c788f985faeb473c\n",
            "  Stored in directory: /root/.cache/pip/wheels/46/2c/8b/9dcf5216ca68e14e0320e283692dce8ae321cdc01e73e17796\n",
            "Successfully built emoji\n",
            "Installing collected packages: emoji\n",
            "Successfully installed emoji-0.6.0\n"
          ],
          "name": "stdout"
        }
      ]
    },
    {
      "cell_type": "code",
      "metadata": {
        "id": "F9Y17BPbb3KT"
      },
      "source": [
        "import emoji\n"
      ],
      "execution_count": 39,
      "outputs": []
    },
    {
      "cell_type": "code",
      "metadata": {
        "id": "HOnezwIXYqBZ"
      },
      "source": [
        "with open('/content/drive/MyDrive/Omdena_sentiment/Dataset/labr.json') as file:\n",
        "    data = json.load(file)"
      ],
      "execution_count": 11,
      "outputs": []
    },
    {
      "cell_type": "code",
      "metadata": {
        "id": "4-X-DB-IY5mG"
      },
      "source": [
        "with open(\"/content/drive/MyDrive/Omdena_sentiment/Dataset/labr.csv\", \"w\") as file:\n",
        "    csv_file = csv.writer(file)\n",
        "    csv_file.writerow(['Class','Text'])  # header row\n",
        "    for item in data:\n",
        "        \n",
        "        csv_file.writerow([data[item]['Class'], data[item]['Text']])"
      ],
      "execution_count": 27,
      "outputs": []
    },
    {
      "cell_type": "code",
      "metadata": {
        "id": "N5b6S8LlX1mN"
      },
      "source": [
        "df=pd.read_csv('/content/drive/MyDrive/Omdena_sentiment/Dataset/labr.csv')"
      ],
      "execution_count": 56,
      "outputs": []
    },
    {
      "cell_type": "code",
      "metadata": {
        "colab": {
          "base_uri": "https://localhost:8080/",
          "height": 363
        },
        "id": "f9RN1CErYSQ0",
        "outputId": "e6dc725e-3558-4168-9041-d77231f3d740"
      },
      "source": [
        "df.head(10)"
      ],
      "execution_count": 57,
      "outputs": [
        {
          "output_type": "execute_result",
          "data": {
            "text/html": [
              "<div>\n",
              "<style scoped>\n",
              "    .dataframe tbody tr th:only-of-type {\n",
              "        vertical-align: middle;\n",
              "    }\n",
              "\n",
              "    .dataframe tbody tr th {\n",
              "        vertical-align: top;\n",
              "    }\n",
              "\n",
              "    .dataframe thead th {\n",
              "        text-align: right;\n",
              "    }\n",
              "</style>\n",
              "<table border=\"1\" class=\"dataframe\">\n",
              "  <thead>\n",
              "    <tr style=\"text-align: right;\">\n",
              "      <th></th>\n",
              "      <th>Class</th>\n",
              "      <th>Text</th>\n",
              "    </tr>\n",
              "  </thead>\n",
              "  <tbody>\n",
              "    <tr>\n",
              "      <th>0</th>\n",
              "      <td>4</td>\n",
              "      <td>\"عزازيل الذي صنعناه ،الكامن في أنفسنا\" يذكرني...</td>\n",
              "    </tr>\n",
              "    <tr>\n",
              "      <th>1</th>\n",
              "      <td>4</td>\n",
              "      <td>من أمتع ما قرأت من روايات بلا شك. وحول الشك ت...</td>\n",
              "    </tr>\n",
              "    <tr>\n",
              "      <th>2</th>\n",
              "      <td>4</td>\n",
              "      <td>رواية تتخذ من التاريخ ،جوًا لها اختار المؤلف ...</td>\n",
              "    </tr>\n",
              "    <tr>\n",
              "      <th>3</th>\n",
              "      <td>1</td>\n",
              "      <td>إني أقدّر هذه الرواية كثيرا، لسبب مختلف عن أس...</td>\n",
              "    </tr>\n",
              "    <tr>\n",
              "      <th>4</th>\n",
              "      <td>5</td>\n",
              "      <td>الكاهن الذي أطلق على نفسه اسم هيبا تيمنا بالع...</td>\n",
              "    </tr>\n",
              "    <tr>\n",
              "      <th>5</th>\n",
              "      <td>5</td>\n",
              "      <td>\"عزازيل\" هو اسم رواية يوسف زيدان الثانية و ال...</td>\n",
              "    </tr>\n",
              "    <tr>\n",
              "      <th>6</th>\n",
              "      <td>3</td>\n",
              "      <td>لم استوعب بداية أنها رواية حتى وصلت إلى المنت...</td>\n",
              "    </tr>\n",
              "    <tr>\n",
              "      <th>7</th>\n",
              "      <td>4</td>\n",
              "      <td>هذا هو الأدب . هذه هي الرواية !</td>\n",
              "    </tr>\n",
              "    <tr>\n",
              "      <th>8</th>\n",
              "      <td>4</td>\n",
              "      <td>مقتطفات من رواية عزازيل للكاتب يوسف زيدان ---...</td>\n",
              "    </tr>\n",
              "    <tr>\n",
              "      <th>9</th>\n",
              "      <td>5</td>\n",
              "      <td>في البداية.ولكن بداية مشوقة للغاية.يبدو انني ...</td>\n",
              "    </tr>\n",
              "  </tbody>\n",
              "</table>\n",
              "</div>"
            ],
            "text/plain": [
              "   Class                                               Text\n",
              "0      4   \"عزازيل الذي صنعناه ،الكامن في أنفسنا\" يذكرني...\n",
              "1      4   من أمتع ما قرأت من روايات بلا شك. وحول الشك ت...\n",
              "2      4   رواية تتخذ من التاريخ ،جوًا لها اختار المؤلف ...\n",
              "3      1   إني أقدّر هذه الرواية كثيرا، لسبب مختلف عن أس...\n",
              "4      5   الكاهن الذي أطلق على نفسه اسم هيبا تيمنا بالع...\n",
              "5      5   \"عزازيل\" هو اسم رواية يوسف زيدان الثانية و ال...\n",
              "6      3   لم استوعب بداية أنها رواية حتى وصلت إلى المنت...\n",
              "7      4                    هذا هو الأدب . هذه هي الرواية !\n",
              "8      4   مقتطفات من رواية عزازيل للكاتب يوسف زيدان ---...\n",
              "9      5   في البداية.ولكن بداية مشوقة للغاية.يبدو انني ..."
            ]
          },
          "metadata": {
            "tags": []
          },
          "execution_count": 57
        }
      ]
    },
    {
      "cell_type": "code",
      "metadata": {
        "id": "HqmhcFlSbDL0"
      },
      "source": [
        "def clean_text(text):  \n",
        "    # ref: https://github.com/bakrianoo/aravec\n",
        "    search = [\"أ\",\"إ\",\"آ\",\"ة\",\"_\",\"-\",\"/\",\".\",\"،\",\" و \",\" يا \",'\"',\"ـ\",\"'\",\"ى\",\n",
        "              \"\\\\\",'\\n', '\\t','&quot;','?','؟','!']\n",
        "    replace = [\"ا\",\"ا\",\"ا\",\"ه\",\" \",\" \",\"\",\"\",\"\",\" و\",\" يا\",\n",
        "               \"\",\"\",\"\",\"ي\",\"\",' ', ' ',' ',' ? ',' ؟ ', ' ! ']\n",
        "    \n",
        "    tashkeel = re.compile(r'[\\u0617-\\u061A\\u064B-\\u0652]')\n",
        "    text = re.sub(tashkeel,\"\", text)\n",
        "    \n",
        "    # longation = re.compile(r'(.)\\1+')\n",
        "    # subst = r\"\\1\\1\"\n",
        "    # text = re.sub(longation, subst, text)\n",
        "    \n",
        "    text = re.sub(r\"[^\\w\\s]\", '', text)\n",
        "    text = re.sub(r\"[a-zA-Z]\", '', text)\n",
        "    text = re.sub(r\"\\d+\", ' ', text)\n",
        "    text = re.sub(r\"\\n+\", ' ', text)\n",
        "    text = re.sub(r\"\\t+\", ' ', text)\n",
        "    text = re.sub(r\"\\r+\", ' ', text)\n",
        "    text = re.sub(r\"\\s+\", ' ', text)\n",
        "    text = text.replace('وو', 'و')\n",
        "    text = text.replace('يي', 'ي')\n",
        "    text = text.replace('اا', 'ا')\n",
        "    \n",
        "    for i in range(0, len(search)):\n",
        "        text = text.replace(search[i], replace[i])\n",
        "    \n",
        "    text = text.strip()\n",
        "    \n",
        "    return text"
      ],
      "execution_count": 58,
      "outputs": []
    },
    {
      "cell_type": "code",
      "metadata": {
        "id": "R5Pp1IhHbU3g"
      },
      "source": [
        "def remove_urls(text):\n",
        "    url_pattern = re.compile(r'https?://\\S+|www\\.\\S+')\n",
        "    return url_pattern.sub(r'', text)"
      ],
      "execution_count": 59,
      "outputs": []
    },
    {
      "cell_type": "code",
      "metadata": {
        "id": "P-QB3R2PbfHa"
      },
      "source": [
        "df['cleaned_text'] = df.Text.apply(clean_text)\n",
        "df[\"word_count\"] = df[\"cleaned_text\"].apply(lambda x: len(x.split()))"
      ],
      "execution_count": 60,
      "outputs": []
    },
    {
      "cell_type": "code",
      "metadata": {
        "colab": {
          "base_uri": "https://localhost:8080/",
          "height": 206
        },
        "id": "HQbPmhzQcK6c",
        "outputId": "0a47be2e-0768-47dc-b0f8-8212f427b79b"
      },
      "source": [
        "df.head()"
      ],
      "execution_count": 61,
      "outputs": [
        {
          "output_type": "execute_result",
          "data": {
            "text/html": [
              "<div>\n",
              "<style scoped>\n",
              "    .dataframe tbody tr th:only-of-type {\n",
              "        vertical-align: middle;\n",
              "    }\n",
              "\n",
              "    .dataframe tbody tr th {\n",
              "        vertical-align: top;\n",
              "    }\n",
              "\n",
              "    .dataframe thead th {\n",
              "        text-align: right;\n",
              "    }\n",
              "</style>\n",
              "<table border=\"1\" class=\"dataframe\">\n",
              "  <thead>\n",
              "    <tr style=\"text-align: right;\">\n",
              "      <th></th>\n",
              "      <th>Class</th>\n",
              "      <th>Text</th>\n",
              "      <th>cleaned_text</th>\n",
              "      <th>word_count</th>\n",
              "    </tr>\n",
              "  </thead>\n",
              "  <tbody>\n",
              "    <tr>\n",
              "      <th>0</th>\n",
              "      <td>4</td>\n",
              "      <td>\"عزازيل الذي صنعناه ،الكامن في أنفسنا\" يذكرني...</td>\n",
              "      <td>عزازيل الذي صنعناه الكامن في انفسنا يذكرني يوس...</td>\n",
              "      <td>101</td>\n",
              "    </tr>\n",
              "    <tr>\n",
              "      <th>1</th>\n",
              "      <td>4</td>\n",
              "      <td>من أمتع ما قرأت من روايات بلا شك. وحول الشك ت...</td>\n",
              "      <td>من امتع ما قرات من روايات بلا شك وحول الشك تدن...</td>\n",
              "      <td>16</td>\n",
              "    </tr>\n",
              "    <tr>\n",
              "      <th>2</th>\n",
              "      <td>4</td>\n",
              "      <td>رواية تتخذ من التاريخ ،جوًا لها اختار المؤلف ...</td>\n",
              "      <td>روايه تتخذ من التاريخ جوا لها اختار المؤلف فتر...</td>\n",
              "      <td>31</td>\n",
              "    </tr>\n",
              "    <tr>\n",
              "      <th>3</th>\n",
              "      <td>1</td>\n",
              "      <td>إني أقدّر هذه الرواية كثيرا، لسبب مختلف عن أس...</td>\n",
              "      <td>اني اقدر هذه الروايه كثيرا لسبب مختلف عن اسباب...</td>\n",
              "      <td>498</td>\n",
              "    </tr>\n",
              "    <tr>\n",
              "      <th>4</th>\n",
              "      <td>5</td>\n",
              "      <td>الكاهن الذي أطلق على نفسه اسم هيبا تيمنا بالع...</td>\n",
              "      <td>الكاهن الذي اطلق علي نفسه اسم هيبا تيمنا بالعا...</td>\n",
              "      <td>124</td>\n",
              "    </tr>\n",
              "  </tbody>\n",
              "</table>\n",
              "</div>"
            ],
            "text/plain": [
              "   Class  ... word_count\n",
              "0      4  ...        101\n",
              "1      4  ...         16\n",
              "2      4  ...         31\n",
              "3      1  ...        498\n",
              "4      5  ...        124\n",
              "\n",
              "[5 rows x 4 columns]"
            ]
          },
          "metadata": {
            "tags": []
          },
          "execution_count": 61
        }
      ]
    },
    {
      "cell_type": "code",
      "metadata": {
        "id": "eKn0KCRufUyT"
      },
      "source": [
        "from sklearn.model_selection import train_test_split\n",
        "X_train, X_test, y_train, y_test = train_test_split(df['Text'], df['Class'], test_size=0.2, random_state=1)\n",
        "\n"
      ],
      "execution_count": 65,
      "outputs": []
    },
    {
      "cell_type": "code",
      "metadata": {
        "id": "-cqtOxkbf4wh"
      },
      "source": [
        " X_train, X_val, y_train, y_val = train_test_split(X_train, y_train, test_size=0.25, random_state=1) # 0.25 x 0.8 = 0.2"
      ],
      "execution_count": 67,
      "outputs": []
    },
    {
      "cell_type": "code",
      "metadata": {
        "id": "NtehArGBgdO_"
      },
      "source": [
        "series_X_Train = pd.Series(X_train)\n",
        "series_Y_Train = pd.Series(y_train)\n",
        "\n",
        "series_X_Test = pd.Series(X_test)\n",
        "series_Y_Test = pd.Series(y_test)\n",
        "\n",
        "\n",
        "series_X_val = pd.Series(X_val)\n",
        "series_Y_val = pd.Series(y_val)\n",
        "\n"
      ],
      "execution_count": 73,
      "outputs": []
    },
    {
      "cell_type": "code",
      "metadata": {
        "id": "cLLttUW-hBwT"
      },
      "source": [
        "df_X_train = pd.DataFrame(series_X_Train)\n",
        "df_X_train = df_X_train.rename(columns = {0:'Text'})\n",
        "\n",
        "df_y_train = pd.DataFrame(series_Y_Train)\n",
        "df_y_train = df_y_train.rename(columns = {0:'Class'})\n",
        "\n",
        "df_all = pd.concat([df_X_train, df_y_train], axis=1)\n"
      ],
      "execution_count": 74,
      "outputs": []
    },
    {
      "cell_type": "code",
      "metadata": {
        "colab": {
          "base_uri": "https://localhost:8080/",
          "height": 206
        },
        "id": "WNvUcaKehV1K",
        "outputId": "ecfb1fae-0d93-4bba-807e-d18fefcd3dc3"
      },
      "source": [
        "df_all.head()"
      ],
      "execution_count": 75,
      "outputs": [
        {
          "output_type": "execute_result",
          "data": {
            "text/html": [
              "<div>\n",
              "<style scoped>\n",
              "    .dataframe tbody tr th:only-of-type {\n",
              "        vertical-align: middle;\n",
              "    }\n",
              "\n",
              "    .dataframe tbody tr th {\n",
              "        vertical-align: top;\n",
              "    }\n",
              "\n",
              "    .dataframe thead th {\n",
              "        text-align: right;\n",
              "    }\n",
              "</style>\n",
              "<table border=\"1\" class=\"dataframe\">\n",
              "  <thead>\n",
              "    <tr style=\"text-align: right;\">\n",
              "      <th></th>\n",
              "      <th>Text</th>\n",
              "      <th>Class</th>\n",
              "    </tr>\n",
              "  </thead>\n",
              "  <tbody>\n",
              "    <tr>\n",
              "      <th>54225</th>\n",
              "      <td>رائعة جدا العطر ( قصة قاتل للمبدع الألماني با...</td>\n",
              "      <td>5</td>\n",
              "    </tr>\n",
              "    <tr>\n",
              "      <th>24320</th>\n",
              "      <td>قرأت أرز باللبن لشخصين عشر مرات قبل تكملة الك...</td>\n",
              "      <td>4</td>\n",
              "    </tr>\n",
              "    <tr>\n",
              "      <th>5866</th>\n",
              "      <td>ثم شرد من جديد كأنه يفكر في شئ آخر و قال بشئ ...</td>\n",
              "      <td>4</td>\n",
              "    </tr>\n",
              "    <tr>\n",
              "      <th>35391</th>\n",
              "      <td>الرواية ممتعة ولكن بسبب طولها اجلتها لفترة وج...</td>\n",
              "      <td>3</td>\n",
              "    </tr>\n",
              "    <tr>\n",
              "      <th>56519</th>\n",
              "      <td>كنت اول مرة اقرأ عن المسرح اللا معقول</td>\n",
              "      <td>5</td>\n",
              "    </tr>\n",
              "  </tbody>\n",
              "</table>\n",
              "</div>"
            ],
            "text/plain": [
              "                                                    Text  Class\n",
              "54225   رائعة جدا العطر ( قصة قاتل للمبدع الألماني با...      5\n",
              "24320   قرأت أرز باللبن لشخصين عشر مرات قبل تكملة الك...      4\n",
              "5866    ثم شرد من جديد كأنه يفكر في شئ آخر و قال بشئ ...      4\n",
              "35391   الرواية ممتعة ولكن بسبب طولها اجلتها لفترة وج...      3\n",
              "56519              كنت اول مرة اقرأ عن المسرح اللا معقول      5"
            ]
          },
          "metadata": {
            "tags": []
          },
          "execution_count": 75
        }
      ]
    },
    {
      "cell_type": "code",
      "metadata": {
        "id": "vJG68Kz8haZQ"
      },
      "source": [
        "df_all.to_csv('/content/drive/MyDrive/Omdena_sentiment/Dataset/train_labr.csv')"
      ],
      "execution_count": 79,
      "outputs": []
    },
    {
      "cell_type": "code",
      "metadata": {
        "id": "vS50RUr1hsy_"
      },
      "source": [
        "df_X_val = pd.DataFrame(series_X_val)\n",
        "df_X_val = df_X_val.rename(columns = {0:'Text'})\n",
        "\n",
        "df_y_val = pd.DataFrame(series_Y_val)\n",
        "df_y_val = df_y_val.rename(columns = {0:'Class'})\n",
        "\n",
        "df_val_all = pd.concat([df_X_val, df_y_val], axis=1)\n"
      ],
      "execution_count": 77,
      "outputs": []
    },
    {
      "cell_type": "code",
      "metadata": {
        "colab": {
          "base_uri": "https://localhost:8080/",
          "height": 363
        },
        "id": "rI_D9ePyh87q",
        "outputId": "4215ec7e-59f6-4220-a961-418568398200"
      },
      "source": [
        "df_val_all.head(10)"
      ],
      "execution_count": 78,
      "outputs": [
        {
          "output_type": "execute_result",
          "data": {
            "text/html": [
              "<div>\n",
              "<style scoped>\n",
              "    .dataframe tbody tr th:only-of-type {\n",
              "        vertical-align: middle;\n",
              "    }\n",
              "\n",
              "    .dataframe tbody tr th {\n",
              "        vertical-align: top;\n",
              "    }\n",
              "\n",
              "    .dataframe thead th {\n",
              "        text-align: right;\n",
              "    }\n",
              "</style>\n",
              "<table border=\"1\" class=\"dataframe\">\n",
              "  <thead>\n",
              "    <tr style=\"text-align: right;\">\n",
              "      <th></th>\n",
              "      <th>Text</th>\n",
              "      <th>Class</th>\n",
              "    </tr>\n",
              "  </thead>\n",
              "  <tbody>\n",
              "    <tr>\n",
              "      <th>7199</th>\n",
              "      <td>كتاب بالف كتاب</td>\n",
              "      <td>5</td>\n",
              "    </tr>\n",
              "    <tr>\n",
              "      <th>27988</th>\n",
              "      <td>يقدم الكتاب رؤية متصلة لعلم الكلام ويرينا امت...</td>\n",
              "      <td>5</td>\n",
              "    </tr>\n",
              "    <tr>\n",
              "      <th>10440</th>\n",
              "      <td>عشت لحظات جميلة مع هذا الكتاب حيث نقلنا من خل...</td>\n",
              "      <td>4</td>\n",
              "    </tr>\n",
              "    <tr>\n",
              "      <th>6008</th>\n",
              "      <td>الأجداد لا بأس . أما الأحفاد فلا يصلحون إلا ل...</td>\n",
              "      <td>5</td>\n",
              "    </tr>\n",
              "    <tr>\n",
              "      <th>58089</th>\n",
              "      <td>الكتاب يتحدث عن حياة شخص يدعي بيتر هوركوس. وا...</td>\n",
              "      <td>1</td>\n",
              "    </tr>\n",
              "    <tr>\n",
              "      <th>49671</th>\n",
              "      <td>بلاغة لا حدود لها من كلام أمير المؤمنين رضي ا...</td>\n",
              "      <td>5</td>\n",
              "    </tr>\n",
              "    <tr>\n",
              "      <th>37312</th>\n",
              "      <td>اشعر اننى اقل من ان ابدى رأيا فى احلى نزاريات...</td>\n",
              "      <td>5</td>\n",
              "    </tr>\n",
              "    <tr>\n",
              "      <th>14681</th>\n",
              "      <td>عجبتنى جدا مقالة زغروطة وحشة . و مقال قصيدة ع...</td>\n",
              "      <td>2</td>\n",
              "    </tr>\n",
              "    <tr>\n",
              "      <th>24826</th>\n",
              "      <td>كتاب يعلو بروحك الى السماء فترفرف عاليا بجانب...</td>\n",
              "      <td>5</td>\n",
              "    </tr>\n",
              "    <tr>\n",
              "      <th>11424</th>\n",
              "      <td>جميييييييييييييييييييل :)</td>\n",
              "      <td>4</td>\n",
              "    </tr>\n",
              "  </tbody>\n",
              "</table>\n",
              "</div>"
            ],
            "text/plain": [
              "                                                    Text  Class\n",
              "7199                                      كتاب بالف كتاب      5\n",
              "27988   يقدم الكتاب رؤية متصلة لعلم الكلام ويرينا امت...      5\n",
              "10440   عشت لحظات جميلة مع هذا الكتاب حيث نقلنا من خل...      4\n",
              "6008    الأجداد لا بأس . أما الأحفاد فلا يصلحون إلا ل...      5\n",
              "58089   الكتاب يتحدث عن حياة شخص يدعي بيتر هوركوس. وا...      1\n",
              "49671   بلاغة لا حدود لها من كلام أمير المؤمنين رضي ا...      5\n",
              "37312   اشعر اننى اقل من ان ابدى رأيا فى احلى نزاريات...      5\n",
              "14681   عجبتنى جدا مقالة زغروطة وحشة . و مقال قصيدة ع...      2\n",
              "24826   كتاب يعلو بروحك الى السماء فترفرف عاليا بجانب...      5\n",
              "11424                          جميييييييييييييييييييل :)      4"
            ]
          },
          "metadata": {
            "tags": []
          },
          "execution_count": 78
        }
      ]
    },
    {
      "cell_type": "code",
      "metadata": {
        "id": "SSfsN4yah_aP"
      },
      "source": [
        "df_val_all.to_csv('/content/drive/MyDrive/Omdena_sentiment/Dataset/val_labr.csv')"
      ],
      "execution_count": 80,
      "outputs": []
    },
    {
      "cell_type": "code",
      "metadata": {
        "id": "-CgimZYZiH4m"
      },
      "source": [
        "df_X_test = pd.DataFrame(series_X_Test)\n",
        "df_X_test = df_X_test.rename(columns = {0:'Text'})\n",
        "\n",
        "df_y_test = pd.DataFrame(series_Y_Test)\n",
        "df_y_test = df_y_test.rename(columns = {0:'Class'})\n",
        "\n",
        "df_test_all = pd.concat([df_X_test, df_y_test], axis=1)\n"
      ],
      "execution_count": 81,
      "outputs": []
    },
    {
      "cell_type": "code",
      "metadata": {
        "colab": {
          "base_uri": "https://localhost:8080/",
          "height": 206
        },
        "id": "uqrEnkVmiUgQ",
        "outputId": "a541f420-b3c5-4706-dcdb-f7a77549d870"
      },
      "source": [
        "df_test_all.head()"
      ],
      "execution_count": 82,
      "outputs": [
        {
          "output_type": "execute_result",
          "data": {
            "text/html": [
              "<div>\n",
              "<style scoped>\n",
              "    .dataframe tbody tr th:only-of-type {\n",
              "        vertical-align: middle;\n",
              "    }\n",
              "\n",
              "    .dataframe tbody tr th {\n",
              "        vertical-align: top;\n",
              "    }\n",
              "\n",
              "    .dataframe thead th {\n",
              "        text-align: right;\n",
              "    }\n",
              "</style>\n",
              "<table border=\"1\" class=\"dataframe\">\n",
              "  <thead>\n",
              "    <tr style=\"text-align: right;\">\n",
              "      <th></th>\n",
              "      <th>Text</th>\n",
              "      <th>Class</th>\n",
              "    </tr>\n",
              "  </thead>\n",
              "  <tbody>\n",
              "    <tr>\n",
              "      <th>33728</th>\n",
              "      <td>أرى أن الأذواق تختلف و لا تقبل أي نعوت بالرذا...</td>\n",
              "      <td>4</td>\n",
              "    </tr>\n",
              "    <tr>\n",
              "      <th>22401</th>\n",
              "      <td>عندما بدات في قراءة هذا الكتاب, اعتقدت خطأ ان...</td>\n",
              "      <td>1</td>\n",
              "    </tr>\n",
              "    <tr>\n",
              "      <th>21273</th>\n",
              "      <td>رواية جميله جدا و لغة الكاتب مبهره(مع تحفظي ع...</td>\n",
              "      <td>5</td>\n",
              "    </tr>\n",
              "    <tr>\n",
              "      <th>10447</th>\n",
              "      <td>اختير كأفضل كتاب سيرة للمصطفى محمد حبيبنا صلى...</td>\n",
              "      <td>4</td>\n",
              "    </tr>\n",
              "    <tr>\n",
              "      <th>44752</th>\n",
              "      <td>رحمك الله ياسيد، كم أثريتنا وكم عريتهم!</td>\n",
              "      <td>5</td>\n",
              "    </tr>\n",
              "  </tbody>\n",
              "</table>\n",
              "</div>"
            ],
            "text/plain": [
              "                                                    Text  Class\n",
              "33728   أرى أن الأذواق تختلف و لا تقبل أي نعوت بالرذا...      4\n",
              "22401   عندما بدات في قراءة هذا الكتاب, اعتقدت خطأ ان...      1\n",
              "21273   رواية جميله جدا و لغة الكاتب مبهره(مع تحفظي ع...      5\n",
              "10447   اختير كأفضل كتاب سيرة للمصطفى محمد حبيبنا صلى...      4\n",
              "44752            رحمك الله ياسيد، كم أثريتنا وكم عريتهم!      5"
            ]
          },
          "metadata": {
            "tags": []
          },
          "execution_count": 82
        }
      ]
    },
    {
      "cell_type": "code",
      "metadata": {
        "id": "bHW0Lb4jiW1S"
      },
      "source": [
        "df_test_all.to_csv('/content/drive/MyDrive/Omdena_sentiment/Dataset/test_labr.csv')"
      ],
      "execution_count": 83,
      "outputs": []
    }
  ]
}