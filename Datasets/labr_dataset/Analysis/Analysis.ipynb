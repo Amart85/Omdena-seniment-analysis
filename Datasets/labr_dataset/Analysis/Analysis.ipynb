{
  "nbformat": 4,
  "nbformat_minor": 0,
  "metadata": {
    "colab": {
      "name": "Analysis",
      "provenance": []
    },
    "kernelspec": {
      "name": "python3",
      "display_name": "Python 3"
    },
    "language_info": {
      "name": "python"
    }
  },
  "cells": [
    {
      "cell_type": "code",
      "metadata": {
        "id": "GbUwAbRacaNj"
      },
      "source": [
        "import pandas as pd\n",
        "import numpy as np\n",
        "import os\n",
        "import sys\n",
        "import matplotlib.pyplot as plt\n",
        "import re\n",
        "import json\n",
        "import csv \n",
        "\n",
        "%matplotlib inline\n"
      ],
      "execution_count": 3,
      "outputs": []
    },
    {
      "cell_type": "code",
      "metadata": {
        "id": "8SztpHZBc5Ok"
      },
      "source": [
        "df=pd.read_csv('/content/drive/MyDrive/Omdena_sentiment/Dataset/labr.csv')"
      ],
      "execution_count": 4,
      "outputs": []
    },
    {
      "cell_type": "code",
      "metadata": {
        "colab": {
          "base_uri": "https://localhost:8080/",
          "height": 363
        },
        "id": "cCXS6txlc7ON",
        "outputId": "8d528bf6-3630-4e5a-c05a-e212ce46a089"
      },
      "source": [
        "df.head(10)"
      ],
      "execution_count": 5,
      "outputs": [
        {
          "output_type": "execute_result",
          "data": {
            "text/html": [
              "<div>\n",
              "<style scoped>\n",
              "    .dataframe tbody tr th:only-of-type {\n",
              "        vertical-align: middle;\n",
              "    }\n",
              "\n",
              "    .dataframe tbody tr th {\n",
              "        vertical-align: top;\n",
              "    }\n",
              "\n",
              "    .dataframe thead th {\n",
              "        text-align: right;\n",
              "    }\n",
              "</style>\n",
              "<table border=\"1\" class=\"dataframe\">\n",
              "  <thead>\n",
              "    <tr style=\"text-align: right;\">\n",
              "      <th></th>\n",
              "      <th>Class</th>\n",
              "      <th>Text</th>\n",
              "    </tr>\n",
              "  </thead>\n",
              "  <tbody>\n",
              "    <tr>\n",
              "      <th>0</th>\n",
              "      <td>4</td>\n",
              "      <td>\"عزازيل الذي صنعناه ،الكامن في أنفسنا\" يذكرني...</td>\n",
              "    </tr>\n",
              "    <tr>\n",
              "      <th>1</th>\n",
              "      <td>4</td>\n",
              "      <td>من أمتع ما قرأت من روايات بلا شك. وحول الشك ت...</td>\n",
              "    </tr>\n",
              "    <tr>\n",
              "      <th>2</th>\n",
              "      <td>4</td>\n",
              "      <td>رواية تتخذ من التاريخ ،جوًا لها اختار المؤلف ...</td>\n",
              "    </tr>\n",
              "    <tr>\n",
              "      <th>3</th>\n",
              "      <td>1</td>\n",
              "      <td>إني أقدّر هذه الرواية كثيرا، لسبب مختلف عن أس...</td>\n",
              "    </tr>\n",
              "    <tr>\n",
              "      <th>4</th>\n",
              "      <td>5</td>\n",
              "      <td>الكاهن الذي أطلق على نفسه اسم هيبا تيمنا بالع...</td>\n",
              "    </tr>\n",
              "    <tr>\n",
              "      <th>5</th>\n",
              "      <td>5</td>\n",
              "      <td>\"عزازيل\" هو اسم رواية يوسف زيدان الثانية و ال...</td>\n",
              "    </tr>\n",
              "    <tr>\n",
              "      <th>6</th>\n",
              "      <td>3</td>\n",
              "      <td>لم استوعب بداية أنها رواية حتى وصلت إلى المنت...</td>\n",
              "    </tr>\n",
              "    <tr>\n",
              "      <th>7</th>\n",
              "      <td>4</td>\n",
              "      <td>هذا هو الأدب . هذه هي الرواية !</td>\n",
              "    </tr>\n",
              "    <tr>\n",
              "      <th>8</th>\n",
              "      <td>4</td>\n",
              "      <td>مقتطفات من رواية عزازيل للكاتب يوسف زيدان ---...</td>\n",
              "    </tr>\n",
              "    <tr>\n",
              "      <th>9</th>\n",
              "      <td>5</td>\n",
              "      <td>في البداية.ولكن بداية مشوقة للغاية.يبدو انني ...</td>\n",
              "    </tr>\n",
              "  </tbody>\n",
              "</table>\n",
              "</div>"
            ],
            "text/plain": [
              "   Class                                               Text\n",
              "0      4   \"عزازيل الذي صنعناه ،الكامن في أنفسنا\" يذكرني...\n",
              "1      4   من أمتع ما قرأت من روايات بلا شك. وحول الشك ت...\n",
              "2      4   رواية تتخذ من التاريخ ،جوًا لها اختار المؤلف ...\n",
              "3      1   إني أقدّر هذه الرواية كثيرا، لسبب مختلف عن أس...\n",
              "4      5   الكاهن الذي أطلق على نفسه اسم هيبا تيمنا بالع...\n",
              "5      5   \"عزازيل\" هو اسم رواية يوسف زيدان الثانية و ال...\n",
              "6      3   لم استوعب بداية أنها رواية حتى وصلت إلى المنت...\n",
              "7      4                    هذا هو الأدب . هذه هي الرواية !\n",
              "8      4   مقتطفات من رواية عزازيل للكاتب يوسف زيدان ---...\n",
              "9      5   في البداية.ولكن بداية مشوقة للغاية.يبدو انني ..."
            ]
          },
          "metadata": {
            "tags": []
          },
          "execution_count": 5
        }
      ]
    },
    {
      "cell_type": "code",
      "metadata": {
        "colab": {
          "base_uri": "https://localhost:8080/"
        },
        "id": "QETjIlMJc-od",
        "outputId": "d636e938-a958-4779-beff-6b77157eacaa"
      },
      "source": [
        "len(df)"
      ],
      "execution_count": 6,
      "outputs": [
        {
          "output_type": "execute_result",
          "data": {
            "text/plain": [
              "63257"
            ]
          },
          "metadata": {
            "tags": []
          },
          "execution_count": 6
        }
      ]
    },
    {
      "cell_type": "code",
      "metadata": {
        "colab": {
          "base_uri": "https://localhost:8080/"
        },
        "id": "2Xnv4jBqdBw9",
        "outputId": "eaf763a7-ab9a-475e-ec16-328aa5bb92a3"
      },
      "source": [
        "df.isna().sum()\n"
      ],
      "execution_count": 7,
      "outputs": [
        {
          "output_type": "execute_result",
          "data": {
            "text/plain": [
              "Class    0\n",
              "Text     0\n",
              "dtype: int64"
            ]
          },
          "metadata": {
            "tags": []
          },
          "execution_count": 7
        }
      ]
    },
    {
      "cell_type": "code",
      "metadata": {
        "colab": {
          "base_uri": "https://localhost:8080/"
        },
        "id": "y8eqC-osdFLd",
        "outputId": "2391b68a-9afa-4af5-bb4c-fb72b4e71293"
      },
      "source": [
        "df[(df['Class']==1) ].count()\n"
      ],
      "execution_count": 9,
      "outputs": [
        {
          "output_type": "execute_result",
          "data": {
            "text/plain": [
              "Class    2939\n",
              "Text     2939\n",
              "dtype: int64"
            ]
          },
          "metadata": {
            "tags": []
          },
          "execution_count": 9
        }
      ]
    },
    {
      "cell_type": "code",
      "metadata": {
        "colab": {
          "base_uri": "https://localhost:8080/"
        },
        "id": "ebbG9CH6dJRd",
        "outputId": "1a9dffff-7803-4700-f4c7-0879741845b3"
      },
      "source": [
        "df[(df['Class']==2) ].count()\n"
      ],
      "execution_count": 10,
      "outputs": [
        {
          "output_type": "execute_result",
          "data": {
            "text/plain": [
              "Class    5285\n",
              "Text     5285\n",
              "dtype: int64"
            ]
          },
          "metadata": {
            "tags": []
          },
          "execution_count": 10
        }
      ]
    },
    {
      "cell_type": "code",
      "metadata": {
        "colab": {
          "base_uri": "https://localhost:8080/"
        },
        "id": "3exvvKEDdK4r",
        "outputId": "89247ec1-421b-46b9-9648-8bf37c36c976"
      },
      "source": [
        "df[(df['Class']==3) ].count()\n"
      ],
      "execution_count": 11,
      "outputs": [
        {
          "output_type": "execute_result",
          "data": {
            "text/plain": [
              "Class    12201\n",
              "Text     12201\n",
              "dtype: int64"
            ]
          },
          "metadata": {
            "tags": []
          },
          "execution_count": 11
        }
      ]
    },
    {
      "cell_type": "code",
      "metadata": {
        "colab": {
          "base_uri": "https://localhost:8080/"
        },
        "id": "4DPOWEoxdL4O",
        "outputId": "67c157ef-2cbf-43a8-bd74-99bf5900c414"
      },
      "source": [
        "df[(df['Class']==4) ].count()\n"
      ],
      "execution_count": 12,
      "outputs": [
        {
          "output_type": "execute_result",
          "data": {
            "text/plain": [
              "Class    19054\n",
              "Text     19054\n",
              "dtype: int64"
            ]
          },
          "metadata": {
            "tags": []
          },
          "execution_count": 12
        }
      ]
    },
    {
      "cell_type": "code",
      "metadata": {
        "colab": {
          "base_uri": "https://localhost:8080/"
        },
        "id": "fvCUb6qbdNHC",
        "outputId": "e5e643ca-3c8b-40a3-cac6-611208d34c82"
      },
      "source": [
        "df[(df['Class']==5) ].count()\n"
      ],
      "execution_count": 13,
      "outputs": [
        {
          "output_type": "execute_result",
          "data": {
            "text/plain": [
              "Class    23778\n",
              "Text     23778\n",
              "dtype: int64"
            ]
          },
          "metadata": {
            "tags": []
          },
          "execution_count": 13
        }
      ]
    },
    {
      "cell_type": "markdown",
      "metadata": {
        "id": "vUa-ehwXeE7H"
      },
      "source": [
        "Sentiment\n",
        "polarity classification: where the goal is to predict if the\n",
        "review is positive i.e. with rating 4 or 5, is negative i.e.\n",
        "with rating 1 or 2, or neutral with rating 3; "
      ]
    },
    {
      "cell_type": "code",
      "metadata": {
        "colab": {
          "base_uri": "https://localhost:8080/",
          "height": 264
        },
        "id": "0iHWJoDbddA5",
        "outputId": "e5474c19-cb0d-432b-e3ad-75efea3f27b9"
      },
      "source": [
        "Tasks = [2939,5285,12201,19054,23778]\n",
        "\n",
        "my_labels = '1','2','3','4','5'\n",
        "plt.pie(Tasks,labels=my_labels,autopct='%1.1f%%')\n",
        "plt.title('Sentiment')\n",
        "plt.axis('equal')\n",
        "plt.show()"
      ],
      "execution_count": 14,
      "outputs": [
        {
          "output_type": "display_data",
          "data": {
            "image/png": "[encoded data removed]",
            "text/plain": [
              "<Figure size 432x288 with 1 Axes>"
            ]
          },
          "metadata": {
            "tags": []
          }
        }
      ]
    },
    {
      "cell_type": "markdown",
      "metadata": {
        "id": "RNYe_zn7ejvg"
      },
      "source": [
        "Maximum length Text"
      ]
    },
    {
      "cell_type": "code",
      "metadata": {
        "colab": {
          "base_uri": "https://localhost:8080/"
        },
        "id": "4X0WbzjEemZU",
        "outputId": "a042b18c-348a-4bb3-f2b4-9935c11f2f6f"
      },
      "source": [
        "max_tweet_length = df.Text.map(len).max()\n",
        "print(max_tweet_length)"
      ],
      "execution_count": 17,
      "outputs": [
        {
          "output_type": "stream",
          "text": [
            "19088\n"
          ],
          "name": "stdout"
        }
      ]
    }
  ]
}