{
  "nbformat": 4,
  "nbformat_minor": 0,
  "metadata": {
    "accelerator": "GPU",
    "colab": {
      "name": "Arabic_Standard_Sentiment_Analysis_AM_2021.ipynb",
      "provenance": [],
      "collapsed_sections": [],
      "include_colab_link": true
    },
    "kernelspec": {
      "display_name": "Python 3",
      "language": "python",
      "name": "python3"
    },
    "language_info": {
      "codemirror_mode": {
        "name": "ipython",
        "version": 3
      },
      "file_extension": ".py",
      "mimetype": "text/x-python",
      "name": "python",
      "nbconvert_exporter": "python",
      "pygments_lexer": "ipython3",
      "version": "3.7.4"
    }
  },
  "cells": [
    {
      "cell_type": "markdown",
      "metadata": {
        "id": "view-in-github",
        "colab_type": "text"
      },
      "source": [
        "<a href=\"https://colab.research.google.com/github/MohamadElnomrossie/Omdena-seniment-analysis/blob/rest_ML_models(Naive_Bayes)/Arabic_Standard_Sentiment_Analysis_AM_2021.ipynb\" target=\"_parent\"><img src=\"https://colab.research.google.com/assets/colab-badge.svg\" alt=\"Open In Colab\"/></a>"
      ]
    },
    {
      "cell_type": "markdown",
      "metadata": {
        "id": "M27qF7CTrBqc"
      },
      "source": [
        "# TASK #1: UNDERSTAND THE PROBLEM STATEMENT AND BUSINESS CASE"
      ]
    },
    {
      "cell_type": "markdown",
      "metadata": {
        "id": "BhjpDoEW1_4R"
      },
      "source": [
        "![image.png](attachment:image.png)"
      ]
    },
    {
      "cell_type": "markdown",
      "metadata": {
        "id": "VbX0jYELZend"
      },
      "source": [
        "data source: final_Text_clean"
      ]
    },
    {
      "cell_type": "markdown",
      "metadata": {
        "id": "uAE6Icc0uylP"
      },
      "source": [
        "# TASK #2: IMPORT LIBRARIES AND DATASETS"
      ]
    },
    {
      "cell_type": "code",
      "metadata": {
        "colab": {
          "base_uri": "https://localhost:8080/",
          "height": 70
        },
        "id": "YBp2qDPb8pDo",
        "outputId": "42021516-5452-4958-b8fb-71111552dbd3"
      },
      "source": [
        "!pip install jupyterthemes\n",
        "import pandas as pd\n",
        "import numpy as np\n",
        "import seaborn as sns\n",
        "import matplotlib.pyplot as plt\n",
        "from jupyterthemes import jtplot\n",
        "jtplot.style(theme='monokai', context='notebook', ticks=True, grid=False) \n",
        "# setting the style of the notebook to be monokai theme  \n",
        "# this line of code is important to ensure that we are able to see the x and y axes clearly\n",
        "# If you don't run this code line, you will notice that the xlabel and ylabel on any plot is black on black and it will be hard to see them. \n"
      ],
      "execution_count": null,
      "outputs": [
        {
          "output_type": "stream",
          "text": [
            "Requirement already satisfied: jupyterthemes in c:\\users\\sayne.elec.store\\anaconda3\\lib\\site-packages (0.20.0)\n",
            "Requirement already satisfied: ipython>=5.4.1 in c:\\users\\sayne.elec.store\\appdata\\roaming\\python\\python37\\site-packages (from jupyterthemes) (7.12.0)\n",
            "Requirement already satisfied: lesscpy>=0.11.2 in c:\\users\\sayne.elec.store\\anaconda3\\lib\\site-packages (from jupyterthemes) (0.14.0)\n",
            "Requirement already satisfied: jupyter-core in c:\\users\\sayne.elec.store\\appdata\\roaming\\python\\python37\\site-packages (from jupyterthemes) (4.6.2)\n",
            "Requirement already satisfied: matplotlib>=1.4.3 in c:\\users\\sayne.elec.store\\anaconda3\\lib\\site-packages (from jupyterthemes) (3.1.1)\n",
            "Requirement already satisfied: notebook>=5.6.0 in c:\\users\\sayne.elec.store\\appdata\\roaming\\python\\python37\\site-packages (from jupyterthemes) (6.0.3)\n",
            "Requirement already satisfied: traitlets>=4.2 in c:\\users\\sayne.elec.store\\appdata\\roaming\\python\\python37\\site-packages (from ipython>=5.4.1->jupyterthemes) (4.3.3)\n",
            "Requirement already satisfied: prompt-toolkit!=3.0.0,!=3.0.1,<3.1.0,>=2.0.0 in c:\\users\\sayne.elec.store\\appdata\\roaming\\python\\python37\\site-packages (from ipython>=5.4.1->jupyterthemes) (3.0.3)\n",
            "Requirement already satisfied: setuptools>=18.5 in c:\\users\\sayne.elec.store\\anaconda3\\lib\\site-packages (from ipython>=5.4.1->jupyterthemes) (41.4.0)\n",
            "Requirement already satisfied: colorama in c:\\users\\sayne.elec.store\\appdata\\roaming\\python\\python37\\site-packages (from ipython>=5.4.1->jupyterthemes) (0.4.3)\n",
            "Requirement already satisfied: pickleshare in c:\\users\\sayne.elec.store\\appdata\\roaming\\python\\python37\\site-packages (from ipython>=5.4.1->jupyterthemes) (0.7.5)\n",
            "Requirement already satisfied: backcall in c:\\users\\sayne.elec.store\\appdata\\roaming\\python\\python37\\site-packages (from ipython>=5.4.1->jupyterthemes) (0.1.0)\n",
            "Requirement already satisfied: jedi>=0.10 in c:\\users\\sayne.elec.store\\appdata\\roaming\\python\\python37\\site-packages (from ipython>=5.4.1->jupyterthemes) (0.16.0)\n",
            "Requirement already satisfied: pygments in c:\\users\\sayne.elec.store\\appdata\\roaming\\python\\python37\\site-packages (from ipython>=5.4.1->jupyterthemes) (2.5.2)\n",
            "Requirement already satisfied: decorator in c:\\users\\sayne.elec.store\\appdata\\roaming\\python\\python37\\site-packages (from ipython>=5.4.1->jupyterthemes) (4.4.1)\n",
            "Requirement already satisfied: parso>=0.5.2 in c:\\users\\sayne.elec.store\\appdata\\roaming\\python\\python37\\site-packages (from jedi>=0.10->ipython>=5.4.1->jupyterthemes) (0.6.1)\n",
            "Requirement already satisfied: six in c:\\users\\sayne.elec.store\\appdata\\roaming\\python\\python37\\site-packages (from lesscpy>=0.11.2->jupyterthemes) (1.14.0)\n",
            "Requirement already satisfied: ply in c:\\users\\sayne.elec.store\\anaconda3\\lib\\site-packages (from lesscpy>=0.11.2->jupyterthemes) (3.11)\n",
            "Requirement already satisfied: cycler>=0.10 in c:\\users\\sayne.elec.store\\anaconda3\\lib\\site-packages (from matplotlib>=1.4.3->jupyterthemes) (0.10.0)\n",
            "Requirement already satisfied: kiwisolver>=1.0.1 in c:\\users\\sayne.elec.store\\anaconda3\\lib\\site-packages (from matplotlib>=1.4.3->jupyterthemes) (1.1.0)\n",
            "Requirement already satisfied: pyparsing!=2.0.4,!=2.1.2,!=2.1.6,>=2.0.1 in c:\\users\\sayne.elec.store\\anaconda3\\lib\\site-packages (from matplotlib>=1.4.3->jupyterthemes) (2.4.2)\n",
            "Requirement already satisfied: python-dateutil>=2.1 in c:\\users\\sayne.elec.store\\appdata\\roaming\\python\\python37\\site-packages (from matplotlib>=1.4.3->jupyterthemes) (2.8.1)\n",
            "Requirement already satisfied: numpy>=1.11 in c:\\users\\sayne.elec.store\\anaconda3\\lib\\site-packages (from matplotlib>=1.4.3->jupyterthemes) (1.16.5)\n",
            "Requirement already satisfied: ipykernel in c:\\users\\sayne.elec.store\\appdata\\roaming\\python\\python37\\site-packages (from notebook>=5.6.0->jupyterthemes) (5.1.4)\n",
            "Requirement already satisfied: terminado>=0.8.1 in c:\\users\\sayne.elec.store\\appdata\\roaming\\python\\python37\\site-packages (from notebook>=5.6.0->jupyterthemes) (0.8.3)\n",
            "Requirement already satisfied: pyzmq>=17 in c:\\users\\sayne.elec.store\\appdata\\roaming\\python\\python37\\site-packages (from notebook>=5.6.0->jupyterthemes) (18.1.1)\n",
            "Requirement already satisfied: nbformat in c:\\users\\sayne.elec.store\\appdata\\roaming\\python\\python37\\site-packages (from notebook>=5.6.0->jupyterthemes) (5.0.4)\n",
            "Requirement already satisfied: Send2Trash in c:\\users\\sayne.elec.store\\appdata\\roaming\\python\\python37\\site-packages (from notebook>=5.6.0->jupyterthemes) (1.5.0)\n",
            "Requirement already satisfied: nbconvert in c:\\users\\sayne.elec.store\\appdata\\roaming\\python\\python37\\site-packages (from notebook>=5.6.0->jupyterthemes) (5.6.1)\n",
            "Requirement already satisfied: jinja2 in c:\\users\\sayne.elec.store\\appdata\\roaming\\python\\python37\\site-packages (from notebook>=5.6.0->jupyterthemes) (2.11.1)\n",
            "Requirement already satisfied: tornado>=5.0 in c:\\users\\sayne.elec.store\\appdata\\roaming\\python\\python37\\site-packages (from notebook>=5.6.0->jupyterthemes) (6.0.3)\n",
            "Requirement already satisfied: ipython-genutils in c:\\users\\sayne.elec.store\\appdata\\roaming\\python\\python37\\site-packages (from notebook>=5.6.0->jupyterthemes) (0.2.0)\n",
            "Requirement already satisfied: jupyter-client>=5.3.4 in c:\\users\\sayne.elec.store\\appdata\\roaming\\python\\python37\\site-packages (from notebook>=5.6.0->jupyterthemes) (5.3.4)\n",
            "Requirement already satisfied: prometheus-client in c:\\users\\sayne.elec.store\\appdata\\roaming\\python\\python37\\site-packages (from notebook>=5.6.0->jupyterthemes) (0.7.1)\n",
            "Requirement already satisfied: pywin32>=1.0 in c:\\users\\sayne.elec.store\\appdata\\roaming\\python\\python37\\site-packages (from jupyter-client>=5.3.4->notebook>=5.6.0->jupyterthemes) (227)\n",
            "Requirement already satisfied: wcwidth in c:\\users\\sayne.elec.store\\appdata\\roaming\\python\\python37\\site-packages (from prompt-toolkit!=3.0.0,!=3.0.1,<3.1.0,>=2.0.0->ipython>=5.4.1->jupyterthemes) (0.1.8)\n",
            "Requirement already satisfied: pywinpty>=0.5 in c:\\users\\sayne.elec.store\\appdata\\roaming\\python\\python37\\site-packages (from terminado>=0.8.1->notebook>=5.6.0->jupyterthemes) (0.5.7)\n",
            "Requirement already satisfied: MarkupSafe>=0.23 in c:\\users\\sayne.elec.store\\anaconda3\\lib\\site-packages (from jinja2->notebook>=5.6.0->jupyterthemes) (0.23)\n",
            "Requirement already satisfied: testpath in c:\\users\\sayne.elec.store\\appdata\\roaming\\python\\python37\\site-packages (from nbconvert->notebook>=5.6.0->jupyterthemes) (0.4.4)\n",
            "Requirement already satisfied: bleach in c:\\users\\sayne.elec.store\\appdata\\roaming\\python\\python37\\site-packages (from nbconvert->notebook>=5.6.0->jupyterthemes) (3.1.0)\n",
            "Requirement already satisfied: defusedxml in c:\\users\\sayne.elec.store\\appdata\\roaming\\python\\python37\\site-packages (from nbconvert->notebook>=5.6.0->jupyterthemes) (0.6.0)\n",
            "Requirement already satisfied: pandocfilters>=1.4.1 in c:\\users\\sayne.elec.store\\appdata\\roaming\\python\\python37\\site-packages (from nbconvert->notebook>=5.6.0->jupyterthemes) (1.4.2)\n",
            "Requirement already satisfied: mistune<2,>=0.8.1 in c:\\users\\sayne.elec.store\\appdata\\roaming\\python\\python37\\site-packages (from nbconvert->notebook>=5.6.0->jupyterthemes) (0.8.4)\n",
            "Requirement already satisfied: entrypoints>=0.2.2 in c:\\users\\sayne.elec.store\\appdata\\roaming\\python\\python37\\site-packages (from nbconvert->notebook>=5.6.0->jupyterthemes) (0.3)\n",
            "Requirement already satisfied: jsonschema!=2.5.0,>=2.4 in c:\\users\\sayne.elec.store\\appdata\\roaming\\python\\python37\\site-packages (from nbformat->notebook>=5.6.0->jupyterthemes) (3.2.0)\n",
            "Requirement already satisfied: importlib-metadata in c:\\users\\sayne.elec.store\\appdata\\roaming\\python\\python37\\site-packages (from jsonschema!=2.5.0,>=2.4->nbformat->notebook>=5.6.0->jupyterthemes) (1.5.0)\n",
            "Requirement already satisfied: pyrsistent>=0.14.0 in c:\\users\\sayne.elec.store\\appdata\\roaming\\python\\python37\\site-packages (from jsonschema!=2.5.0,>=2.4->nbformat->notebook>=5.6.0->jupyterthemes) (0.15.7)\n",
            "Requirement already satisfied: attrs>=17.4.0 in c:\\users\\sayne.elec.store\\appdata\\roaming\\python\\python37\\site-packages (from jsonschema!=2.5.0,>=2.4->nbformat->notebook>=5.6.0->jupyterthemes) (19.3.0)\n",
            "Requirement already satisfied: webencodings in c:\\users\\sayne.elec.store\\appdata\\roaming\\python\\python37\\site-packages (from bleach->nbconvert->notebook>=5.6.0->jupyterthemes) (0.5.1)\n",
            "Requirement already satisfied: zipp>=0.5 in c:\\users\\sayne.elec.store\\appdata\\roaming\\python\\python37\\site-packages (from importlib-metadata->jsonschema!=2.5.0,>=2.4->nbformat->notebook>=5.6.0->jupyterthemes) (2.2.0)\n"
          ],
          "name": "stdout"
        }
      ]
    },
    {
      "cell_type": "code",
      "metadata": {
        "id": "tjIiJdM4u1IE"
      },
      "source": [
        "# Load the data\n",
        "\n",
        "ST_df=pd.read_csv('final_text.csv')\n"
      ],
      "execution_count": null,
      "outputs": []
    },
    {
      "cell_type": "code",
      "metadata": {
        "colab": {
          "base_uri": "https://localhost:8080/",
          "height": 402
        },
        "id": "q4_wPDKCu5Uc",
        "outputId": "dbf80e99-bd48-408e-dd6f-4651fecbe757"
      },
      "source": [
        "ST_df\n"
      ],
      "execution_count": null,
      "outputs": [
        {
          "output_type": "execute_result",
          "data": {
            "text/html": [
              "<div>\n",
              "<style scoped>\n",
              "    .dataframe tbody tr th:only-of-type {\n",
              "        vertical-align: middle;\n",
              "    }\n",
              "\n",
              "    .dataframe tbody tr th {\n",
              "        vertical-align: top;\n",
              "    }\n",
              "\n",
              "    .dataframe thead th {\n",
              "        text-align: right;\n",
              "    }\n",
              "</style>\n",
              "<table border=\"1\" class=\"dataframe\">\n",
              "  <thead>\n",
              "    <tr style=\"text-align: right;\">\n",
              "      <th></th>\n",
              "      <th>final</th>\n",
              "      <th>label</th>\n",
              "      <th>length</th>\n",
              "    </tr>\n",
              "  </thead>\n",
              "  <tbody>\n",
              "    <tr>\n",
              "      <td>0</td>\n",
              "      <td>رجل يرفع شعار الحريه يدعو لرفع الظلم المراه او...</td>\n",
              "      <td>2</td>\n",
              "      <td>31</td>\n",
              "    </tr>\n",
              "    <tr>\n",
              "      <td>1</td>\n",
              "      <td>صفاء الهاشم سيده كويتيه المراه الوحيده حاليا م...</td>\n",
              "      <td>2</td>\n",
              "      <td>27</td>\n",
              "    </tr>\n",
              "    <tr>\n",
              "      <td>2</td>\n",
              "      <td>حقوق المراه عينك مو دكتور واحدحثاله بلدنا بلد ...</td>\n",
              "      <td>2</td>\n",
              "      <td>40</td>\n",
              "    </tr>\n",
              "    <tr>\n",
              "      <td>3</td>\n",
              "      <td>شخصيا حقوق المراه لانو بالجد الدستور السوداني ...</td>\n",
              "      <td>2</td>\n",
              "      <td>42</td>\n",
              "    </tr>\n",
              "    <tr>\n",
              "      <td>4</td>\n",
              "      <td>حق حقوق المراه مثل الرجل يريد وحده زينه واخلاق...</td>\n",
              "      <td>2</td>\n",
              "      <td>21</td>\n",
              "    </tr>\n",
              "    <tr>\n",
              "      <td>...</td>\n",
              "      <td>...</td>\n",
              "      <td>...</td>\n",
              "      <td>...</td>\n",
              "    </tr>\n",
              "    <tr>\n",
              "      <td>229974</td>\n",
              "      <td>افكار تقليديه استطاعت ويندي كوب ابنه ال عاما ت...</td>\n",
              "      <td>0</td>\n",
              "      <td>14</td>\n",
              "    </tr>\n",
              "    <tr>\n",
              "      <td>229975</td>\n",
              "      <td>مليون بريد الكتروني ترسل عبر الانترنت دقيقه جو...</td>\n",
              "      <td>0</td>\n",
              "      <td>16</td>\n",
              "    </tr>\n",
              "    <tr>\n",
              "      <td>229976</td>\n",
              "      <td>اعرف دستورك يوميا د حمزاوي حمله دستورنا حياتنا</td>\n",
              "      <td>0</td>\n",
              "      <td>8</td>\n",
              "    </tr>\n",
              "    <tr>\n",
              "      <td>229977</td>\n",
              "      <td>الحمله مرحله جديده الاعلان الرسمي للدكتور عبد ...</td>\n",
              "      <td>0</td>\n",
              "      <td>14</td>\n",
              "    </tr>\n",
              "    <tr>\n",
              "      <td>229978</td>\n",
              "      <td>تونس حلقه واحد اربعه</td>\n",
              "      <td>0</td>\n",
              "      <td>4</td>\n",
              "    </tr>\n",
              "  </tbody>\n",
              "</table>\n",
              "<p>229979 rows × 3 columns</p>\n",
              "</div>"
            ],
            "text/plain": [
              "                                                    final  label  length\n",
              "0       رجل يرفع شعار الحريه يدعو لرفع الظلم المراه او...      2      31\n",
              "1       صفاء الهاشم سيده كويتيه المراه الوحيده حاليا م...      2      27\n",
              "2       حقوق المراه عينك مو دكتور واحدحثاله بلدنا بلد ...      2      40\n",
              "3       شخصيا حقوق المراه لانو بالجد الدستور السوداني ...      2      42\n",
              "4       حق حقوق المراه مثل الرجل يريد وحده زينه واخلاق...      2      21\n",
              "...                                                   ...    ...     ...\n",
              "229974  افكار تقليديه استطاعت ويندي كوب ابنه ال عاما ت...      0      14\n",
              "229975  مليون بريد الكتروني ترسل عبر الانترنت دقيقه جو...      0      16\n",
              "229976     اعرف دستورك يوميا د حمزاوي حمله دستورنا حياتنا      0       8\n",
              "229977  الحمله مرحله جديده الاعلان الرسمي للدكتور عبد ...      0      14\n",
              "229978                               تونس حلقه واحد اربعه      0       4\n",
              "\n",
              "[229979 rows x 3 columns]"
            ]
          },
          "metadata": {
            "tags": []
          },
          "execution_count": 66
        }
      ]
    },
    {
      "cell_type": "code",
      "metadata": {
        "colab": {
          "base_uri": "https://localhost:8080/",
          "height": 185
        },
        "id": "RUt2ON_UxyYk",
        "outputId": "4948f7ca-ec1b-4561-97bb-8d3ce688e623"
      },
      "source": [
        "ST_df.info()"
      ],
      "execution_count": null,
      "outputs": [
        {
          "output_type": "stream",
          "text": [
            "<class 'pandas.core.frame.DataFrame'>\n",
            "RangeIndex: 229979 entries, 0 to 229978\n",
            "Data columns (total 3 columns):\n",
            "final     229958 non-null object\n",
            "label     229979 non-null int64\n",
            "length    229979 non-null int64\n",
            "dtypes: int64(2), object(1)\n",
            "memory usage: 5.3+ MB\n"
          ],
          "name": "stdout"
        }
      ]
    },
    {
      "cell_type": "code",
      "metadata": {
        "colab": {
          "base_uri": "https://localhost:8080/",
          "height": 284
        },
        "id": "hMq3-KWOx0e1",
        "outputId": "d2e856cc-639b-4ff5-a939-dadbb237fdc1"
      },
      "source": [
        "ST_df.describe()"
      ],
      "execution_count": null,
      "outputs": [
        {
          "output_type": "execute_result",
          "data": {
            "text/html": [
              "<div>\n",
              "<style scoped>\n",
              "    .dataframe tbody tr th:only-of-type {\n",
              "        vertical-align: middle;\n",
              "    }\n",
              "\n",
              "    .dataframe tbody tr th {\n",
              "        vertical-align: top;\n",
              "    }\n",
              "\n",
              "    .dataframe thead th {\n",
              "        text-align: right;\n",
              "    }\n",
              "</style>\n",
              "<table border=\"1\" class=\"dataframe\">\n",
              "  <thead>\n",
              "    <tr style=\"text-align: right;\">\n",
              "      <th></th>\n",
              "      <th>label</th>\n",
              "      <th>length</th>\n",
              "    </tr>\n",
              "  </thead>\n",
              "  <tbody>\n",
              "    <tr>\n",
              "      <td>count</td>\n",
              "      <td>229979.000000</td>\n",
              "      <td>229979.000000</td>\n",
              "    </tr>\n",
              "    <tr>\n",
              "      <td>mean</td>\n",
              "      <td>1.211128</td>\n",
              "      <td>27.882559</td>\n",
              "    </tr>\n",
              "    <tr>\n",
              "      <td>std</td>\n",
              "      <td>0.819948</td>\n",
              "      <td>51.708617</td>\n",
              "    </tr>\n",
              "    <tr>\n",
              "      <td>min</td>\n",
              "      <td>0.000000</td>\n",
              "      <td>0.000000</td>\n",
              "    </tr>\n",
              "    <tr>\n",
              "      <td>25%</td>\n",
              "      <td>0.000000</td>\n",
              "      <td>8.000000</td>\n",
              "    </tr>\n",
              "    <tr>\n",
              "      <td>50%</td>\n",
              "      <td>1.000000</td>\n",
              "      <td>14.000000</td>\n",
              "    </tr>\n",
              "    <tr>\n",
              "      <td>75%</td>\n",
              "      <td>2.000000</td>\n",
              "      <td>27.000000</td>\n",
              "    </tr>\n",
              "    <tr>\n",
              "      <td>max</td>\n",
              "      <td>2.000000</td>\n",
              "      <td>2279.000000</td>\n",
              "    </tr>\n",
              "  </tbody>\n",
              "</table>\n",
              "</div>"
            ],
            "text/plain": [
              "               label         length\n",
              "count  229979.000000  229979.000000\n",
              "mean        1.211128      27.882559\n",
              "std         0.819948      51.708617\n",
              "min         0.000000       0.000000\n",
              "25%         0.000000       8.000000\n",
              "50%         1.000000      14.000000\n",
              "75%         2.000000      27.000000\n",
              "max         2.000000    2279.000000"
            ]
          },
          "metadata": {
            "tags": []
          },
          "execution_count": 68
        }
      ]
    },
    {
      "cell_type": "code",
      "metadata": {
        "colab": {
          "base_uri": "https://localhost:8080/",
          "height": 218
        },
        "id": "0uwENWm__yoA",
        "outputId": "2e360117-80c3-4bce-e61a-1aa21ba804f4"
      },
      "source": [
        "ST_df['final']"
      ],
      "execution_count": null,
      "outputs": [
        {
          "output_type": "execute_result",
          "data": {
            "text/plain": [
              "0         رجل يرفع شعار الحريه يدعو لرفع الظلم المراه او...\n",
              "1         صفاء الهاشم سيده كويتيه المراه الوحيده حاليا م...\n",
              "2         حقوق المراه عينك مو دكتور واحدحثاله بلدنا بلد ...\n",
              "3         شخصيا حقوق المراه لانو بالجد الدستور السوداني ...\n",
              "4         حق حقوق المراه مثل الرجل يريد وحده زينه واخلاق...\n",
              "                                ...                        \n",
              "229974    افكار تقليديه استطاعت ويندي كوب ابنه ال عاما ت...\n",
              "229975    مليون بريد الكتروني ترسل عبر الانترنت دقيقه جو...\n",
              "229976       اعرف دستورك يوميا د حمزاوي حمله دستورنا حياتنا\n",
              "229977    الحمله مرحله جديده الاعلان الرسمي للدكتور عبد ...\n",
              "229978                                 تونس حلقه واحد اربعه\n",
              "Name: final, Length: 229979, dtype: object"
            ]
          },
          "metadata": {
            "tags": []
          },
          "execution_count": 69
        }
      ]
    },
    {
      "cell_type": "markdown",
      "metadata": {
        "id": "9p5LkV0_1_4b"
      },
      "source": [
        "MINI CHALLENGE #1: \n",
        "- Drop the 'id' column from the DataFrame. \n",
        "- Ensure that the column has been succesfully dropped. "
      ]
    },
    {
      "cell_type": "code",
      "metadata": {
        "id": "vsrF3h7M1_4c"
      },
      "source": [
        "ST_df.dropna(inplace=True)"
      ],
      "execution_count": null,
      "outputs": []
    },
    {
      "cell_type": "code",
      "metadata": {
        "id": "pNeFQWXV1_4c",
        "outputId": "f669987a-857b-4308-d7d5-54a84f354f02"
      },
      "source": [
        "ST_df"
      ],
      "execution_count": null,
      "outputs": [
        {
          "output_type": "execute_result",
          "data": {
            "text/html": [
              "<div>\n",
              "<style scoped>\n",
              "    .dataframe tbody tr th:only-of-type {\n",
              "        vertical-align: middle;\n",
              "    }\n",
              "\n",
              "    .dataframe tbody tr th {\n",
              "        vertical-align: top;\n",
              "    }\n",
              "\n",
              "    .dataframe thead th {\n",
              "        text-align: right;\n",
              "    }\n",
              "</style>\n",
              "<table border=\"1\" class=\"dataframe\">\n",
              "  <thead>\n",
              "    <tr style=\"text-align: right;\">\n",
              "      <th></th>\n",
              "      <th>final</th>\n",
              "      <th>label</th>\n",
              "      <th>length</th>\n",
              "    </tr>\n",
              "  </thead>\n",
              "  <tbody>\n",
              "    <tr>\n",
              "      <td>0</td>\n",
              "      <td>رجل يرفع شعار الحريه يدعو لرفع الظلم المراه او...</td>\n",
              "      <td>2</td>\n",
              "      <td>31</td>\n",
              "    </tr>\n",
              "    <tr>\n",
              "      <td>1</td>\n",
              "      <td>صفاء الهاشم سيده كويتيه المراه الوحيده حاليا م...</td>\n",
              "      <td>2</td>\n",
              "      <td>27</td>\n",
              "    </tr>\n",
              "    <tr>\n",
              "      <td>2</td>\n",
              "      <td>حقوق المراه عينك مو دكتور واحدحثاله بلدنا بلد ...</td>\n",
              "      <td>2</td>\n",
              "      <td>40</td>\n",
              "    </tr>\n",
              "    <tr>\n",
              "      <td>3</td>\n",
              "      <td>شخصيا حقوق المراه لانو بالجد الدستور السوداني ...</td>\n",
              "      <td>2</td>\n",
              "      <td>42</td>\n",
              "    </tr>\n",
              "    <tr>\n",
              "      <td>4</td>\n",
              "      <td>حق حقوق المراه مثل الرجل يريد وحده زينه واخلاق...</td>\n",
              "      <td>2</td>\n",
              "      <td>21</td>\n",
              "    </tr>\n",
              "    <tr>\n",
              "      <td>...</td>\n",
              "      <td>...</td>\n",
              "      <td>...</td>\n",
              "      <td>...</td>\n",
              "    </tr>\n",
              "    <tr>\n",
              "      <td>229974</td>\n",
              "      <td>افكار تقليديه استطاعت ويندي كوب ابنه ال عاما ت...</td>\n",
              "      <td>0</td>\n",
              "      <td>14</td>\n",
              "    </tr>\n",
              "    <tr>\n",
              "      <td>229975</td>\n",
              "      <td>مليون بريد الكتروني ترسل عبر الانترنت دقيقه جو...</td>\n",
              "      <td>0</td>\n",
              "      <td>16</td>\n",
              "    </tr>\n",
              "    <tr>\n",
              "      <td>229976</td>\n",
              "      <td>اعرف دستورك يوميا د حمزاوي حمله دستورنا حياتنا</td>\n",
              "      <td>0</td>\n",
              "      <td>8</td>\n",
              "    </tr>\n",
              "    <tr>\n",
              "      <td>229977</td>\n",
              "      <td>الحمله مرحله جديده الاعلان الرسمي للدكتور عبد ...</td>\n",
              "      <td>0</td>\n",
              "      <td>14</td>\n",
              "    </tr>\n",
              "    <tr>\n",
              "      <td>229978</td>\n",
              "      <td>تونس حلقه واحد اربعه</td>\n",
              "      <td>0</td>\n",
              "      <td>4</td>\n",
              "    </tr>\n",
              "  </tbody>\n",
              "</table>\n",
              "<p>229958 rows × 3 columns</p>\n",
              "</div>"
            ],
            "text/plain": [
              "                                                    final  label  length\n",
              "0       رجل يرفع شعار الحريه يدعو لرفع الظلم المراه او...      2      31\n",
              "1       صفاء الهاشم سيده كويتيه المراه الوحيده حاليا م...      2      27\n",
              "2       حقوق المراه عينك مو دكتور واحدحثاله بلدنا بلد ...      2      40\n",
              "3       شخصيا حقوق المراه لانو بالجد الدستور السوداني ...      2      42\n",
              "4       حق حقوق المراه مثل الرجل يريد وحده زينه واخلاق...      2      21\n",
              "...                                                   ...    ...     ...\n",
              "229974  افكار تقليديه استطاعت ويندي كوب ابنه ال عاما ت...      0      14\n",
              "229975  مليون بريد الكتروني ترسل عبر الانترنت دقيقه جو...      0      16\n",
              "229976     اعرف دستورك يوميا د حمزاوي حمله دستورنا حياتنا      0       8\n",
              "229977  الحمله مرحله جديده الاعلان الرسمي للدكتور عبد ...      0      14\n",
              "229978                               تونس حلقه واحد اربعه      0       4\n",
              "\n",
              "[229958 rows x 3 columns]"
            ]
          },
          "metadata": {
            "tags": []
          },
          "execution_count": 71
        }
      ]
    },
    {
      "cell_type": "code",
      "metadata": {
        "id": "nm3Vhzdu1_4d",
        "outputId": "654a1be9-5d29-4251-87dc-7b865e24aaa5"
      },
      "source": [
        "ST_df.shape"
      ],
      "execution_count": null,
      "outputs": [
        {
          "output_type": "execute_result",
          "data": {
            "text/plain": [
              "(229958, 3)"
            ]
          },
          "metadata": {
            "tags": []
          },
          "execution_count": 72
        }
      ]
    },
    {
      "cell_type": "code",
      "metadata": {
        "id": "J94USHbR1_4e",
        "outputId": "c02b03cf-62d1-4cf9-e250-c73aa1541e7c"
      },
      "source": [
        "ST_df.head(1000)"
      ],
      "execution_count": null,
      "outputs": [
        {
          "output_type": "execute_result",
          "data": {
            "text/html": [
              "<div>\n",
              "<style scoped>\n",
              "    .dataframe tbody tr th:only-of-type {\n",
              "        vertical-align: middle;\n",
              "    }\n",
              "\n",
              "    .dataframe tbody tr th {\n",
              "        vertical-align: top;\n",
              "    }\n",
              "\n",
              "    .dataframe thead th {\n",
              "        text-align: right;\n",
              "    }\n",
              "</style>\n",
              "<table border=\"1\" class=\"dataframe\">\n",
              "  <thead>\n",
              "    <tr style=\"text-align: right;\">\n",
              "      <th></th>\n",
              "      <th>final</th>\n",
              "      <th>label</th>\n",
              "      <th>length</th>\n",
              "    </tr>\n",
              "  </thead>\n",
              "  <tbody>\n",
              "    <tr>\n",
              "      <td>0</td>\n",
              "      <td>رجل يرفع شعار الحريه يدعو لرفع الظلم المراه او...</td>\n",
              "      <td>2</td>\n",
              "      <td>31</td>\n",
              "    </tr>\n",
              "    <tr>\n",
              "      <td>1</td>\n",
              "      <td>صفاء الهاشم سيده كويتيه المراه الوحيده حاليا م...</td>\n",
              "      <td>2</td>\n",
              "      <td>27</td>\n",
              "    </tr>\n",
              "    <tr>\n",
              "      <td>2</td>\n",
              "      <td>حقوق المراه عينك مو دكتور واحدحثاله بلدنا بلد ...</td>\n",
              "      <td>2</td>\n",
              "      <td>40</td>\n",
              "    </tr>\n",
              "    <tr>\n",
              "      <td>3</td>\n",
              "      <td>شخصيا حقوق المراه لانو بالجد الدستور السوداني ...</td>\n",
              "      <td>2</td>\n",
              "      <td>42</td>\n",
              "    </tr>\n",
              "    <tr>\n",
              "      <td>4</td>\n",
              "      <td>حق حقوق المراه مثل الرجل يريد وحده زينه واخلاق...</td>\n",
              "      <td>2</td>\n",
              "      <td>21</td>\n",
              "    </tr>\n",
              "    <tr>\n",
              "      <td>...</td>\n",
              "      <td>...</td>\n",
              "      <td>...</td>\n",
              "      <td>...</td>\n",
              "    </tr>\n",
              "    <tr>\n",
              "      <td>995</td>\n",
              "      <td>الكلام قليل بحقك ياسيدي حفظك الله ورعاك غرد بح...</td>\n",
              "      <td>2</td>\n",
              "      <td>12</td>\n",
              "    </tr>\n",
              "    <tr>\n",
              "      <td>996</td>\n",
              "      <td>الشعب يحبك غرد بحبك لمحمد بن سلمان</td>\n",
              "      <td>2</td>\n",
              "      <td>7</td>\n",
              "    </tr>\n",
              "    <tr>\n",
              "      <td>997</td>\n",
              "      <td>التثبيت للعقود والبنود يامحمد وشكرا غرد بحبك ل...</td>\n",
              "      <td>2</td>\n",
              "      <td>10</td>\n",
              "    </tr>\n",
              "    <tr>\n",
              "      <td>998</td>\n",
              "      <td>الاحرف والمعاني تعجز وصف حبه ابو سلمان حبه عظي...</td>\n",
              "      <td>2</td>\n",
              "      <td>14</td>\n",
              "    </tr>\n",
              "    <tr>\n",
              "      <td>999</td>\n",
              "      <td>اقوله قلبي شعبك يحبك ويعشقك وربي يطول بعمرك لا...</td>\n",
              "      <td>2</td>\n",
              "      <td>24</td>\n",
              "    </tr>\n",
              "  </tbody>\n",
              "</table>\n",
              "<p>1000 rows × 3 columns</p>\n",
              "</div>"
            ],
            "text/plain": [
              "                                                 final  label  length\n",
              "0    رجل يرفع شعار الحريه يدعو لرفع الظلم المراه او...      2      31\n",
              "1    صفاء الهاشم سيده كويتيه المراه الوحيده حاليا م...      2      27\n",
              "2    حقوق المراه عينك مو دكتور واحدحثاله بلدنا بلد ...      2      40\n",
              "3    شخصيا حقوق المراه لانو بالجد الدستور السوداني ...      2      42\n",
              "4    حق حقوق المراه مثل الرجل يريد وحده زينه واخلاق...      2      21\n",
              "..                                                 ...    ...     ...\n",
              "995  الكلام قليل بحقك ياسيدي حفظك الله ورعاك غرد بح...      2      12\n",
              "996                 الشعب يحبك غرد بحبك لمحمد بن سلمان      2       7\n",
              "997  التثبيت للعقود والبنود يامحمد وشكرا غرد بحبك ل...      2      10\n",
              "998  الاحرف والمعاني تعجز وصف حبه ابو سلمان حبه عظي...      2      14\n",
              "999  اقوله قلبي شعبك يحبك ويعشقك وربي يطول بعمرك لا...      2      24\n",
              "\n",
              "[1000 rows x 3 columns]"
            ]
          },
          "metadata": {
            "tags": []
          },
          "execution_count": 73
        }
      ]
    },
    {
      "cell_type": "code",
      "metadata": {
        "id": "eTT7MUqO1_4e"
      },
      "source": [
        "ST_df = ST_df.sample(n=10000,replace=True)"
      ],
      "execution_count": null,
      "outputs": []
    },
    {
      "cell_type": "code",
      "metadata": {
        "id": "RSaytfHz1_4f",
        "outputId": "2162b5df-cd5f-4916-a62b-dc96f02ef236"
      },
      "source": [
        "ST_df"
      ],
      "execution_count": null,
      "outputs": [
        {
          "output_type": "execute_result",
          "data": {
            "text/html": [
              "<div>\n",
              "<style scoped>\n",
              "    .dataframe tbody tr th:only-of-type {\n",
              "        vertical-align: middle;\n",
              "    }\n",
              "\n",
              "    .dataframe tbody tr th {\n",
              "        vertical-align: top;\n",
              "    }\n",
              "\n",
              "    .dataframe thead th {\n",
              "        text-align: right;\n",
              "    }\n",
              "</style>\n",
              "<table border=\"1\" class=\"dataframe\">\n",
              "  <thead>\n",
              "    <tr style=\"text-align: right;\">\n",
              "      <th></th>\n",
              "      <th>final</th>\n",
              "      <th>label</th>\n",
              "      <th>length</th>\n",
              "    </tr>\n",
              "  </thead>\n",
              "  <tbody>\n",
              "    <tr>\n",
              "      <td>177025</td>\n",
              "      <td>اقصد اخر سؤال جاني بالخاص</td>\n",
              "      <td>0</td>\n",
              "      <td>5</td>\n",
              "    </tr>\n",
              "    <tr>\n",
              "      <td>85027</td>\n",
              "      <td>كعاده بهاء طاهر روايه عذبه الملامح والاحداث وك...</td>\n",
              "      <td>2</td>\n",
              "      <td>23</td>\n",
              "    </tr>\n",
              "    <tr>\n",
              "      <td>38803</td>\n",
              "      <td>البرلمان اسماعيل منتدي شباب العالم ناجح ومداخل...</td>\n",
              "      <td>2</td>\n",
              "      <td>10</td>\n",
              "    </tr>\n",
              "    <tr>\n",
              "      <td>96253</td>\n",
              "      <td>المحتوي جيد و العنوان عبقري و كاني بقرا كتاب ف...</td>\n",
              "      <td>2</td>\n",
              "      <td>42</td>\n",
              "    </tr>\n",
              "    <tr>\n",
              "      <td>119851</td>\n",
              "      <td>المطعم قضيت اجمل لحظات حياتي زوجي مرغوب كل لان...</td>\n",
              "      <td>1</td>\n",
              "      <td>58</td>\n",
              "    </tr>\n",
              "    <tr>\n",
              "      <td>...</td>\n",
              "      <td>...</td>\n",
              "      <td>...</td>\n",
              "      <td>...</td>\n",
              "    </tr>\n",
              "    <tr>\n",
              "      <td>56687</td>\n",
              "      <td>خالص ي مريم</td>\n",
              "      <td>2</td>\n",
              "      <td>3</td>\n",
              "    </tr>\n",
              "    <tr>\n",
              "      <td>211255</td>\n",
              "      <td>اليس العيب تحفظ الاغي وتكرر نفس السوره صلاه</td>\n",
              "      <td>0</td>\n",
              "      <td>8</td>\n",
              "    </tr>\n",
              "    <tr>\n",
              "      <td>55491</td>\n",
              "      <td>اسالك اللهم يوم جديد زدته حياتنا تزيدنا معه اي...</td>\n",
              "      <td>2</td>\n",
              "      <td>15</td>\n",
              "    </tr>\n",
              "    <tr>\n",
              "      <td>195432</td>\n",
              "      <td>لاعدمناكم ولايوفيكم الجزاء الديان سريع الحساب ...</td>\n",
              "      <td>0</td>\n",
              "      <td>11</td>\n",
              "    </tr>\n",
              "    <tr>\n",
              "      <td>121024</td>\n",
              "      <td>احد الاصدقاء دعي لتجربه المطعم حسابه وذهبنا سو...</td>\n",
              "      <td>1</td>\n",
              "      <td>44</td>\n",
              "    </tr>\n",
              "  </tbody>\n",
              "</table>\n",
              "<p>10000 rows × 3 columns</p>\n",
              "</div>"
            ],
            "text/plain": [
              "                                                    final  label  length\n",
              "177025                          اقصد اخر سؤال جاني بالخاص      0       5\n",
              "85027   كعاده بهاء طاهر روايه عذبه الملامح والاحداث وك...      2      23\n",
              "38803   البرلمان اسماعيل منتدي شباب العالم ناجح ومداخل...      2      10\n",
              "96253   المحتوي جيد و العنوان عبقري و كاني بقرا كتاب ف...      2      42\n",
              "119851  المطعم قضيت اجمل لحظات حياتي زوجي مرغوب كل لان...      1      58\n",
              "...                                                   ...    ...     ...\n",
              "56687                                         خالص ي مريم      2       3\n",
              "211255        اليس العيب تحفظ الاغي وتكرر نفس السوره صلاه      0       8\n",
              "55491   اسالك اللهم يوم جديد زدته حياتنا تزيدنا معه اي...      2      15\n",
              "195432  لاعدمناكم ولايوفيكم الجزاء الديان سريع الحساب ...      0      11\n",
              "121024  احد الاصدقاء دعي لتجربه المطعم حسابه وذهبنا سو...      1      44\n",
              "\n",
              "[10000 rows x 3 columns]"
            ]
          },
          "metadata": {
            "tags": []
          },
          "execution_count": 75
        }
      ]
    },
    {
      "cell_type": "code",
      "metadata": {
        "id": "RJSHGKya1_4f"
      },
      "source": [
        "ST_df = ST_df.sample(n=100,replace=True)"
      ],
      "execution_count": null,
      "outputs": []
    },
    {
      "cell_type": "code",
      "metadata": {
        "id": "t8TVnPIo1_4g",
        "outputId": "652e0b1f-d9d3-43e9-bfed-413e4e6528fb"
      },
      "source": [
        "ST_df "
      ],
      "execution_count": null,
      "outputs": [
        {
          "output_type": "execute_result",
          "data": {
            "text/html": [
              "<div>\n",
              "<style scoped>\n",
              "    .dataframe tbody tr th:only-of-type {\n",
              "        vertical-align: middle;\n",
              "    }\n",
              "\n",
              "    .dataframe tbody tr th {\n",
              "        vertical-align: top;\n",
              "    }\n",
              "\n",
              "    .dataframe thead th {\n",
              "        text-align: right;\n",
              "    }\n",
              "</style>\n",
              "<table border=\"1\" class=\"dataframe\">\n",
              "  <thead>\n",
              "    <tr style=\"text-align: right;\">\n",
              "      <th></th>\n",
              "      <th>final</th>\n",
              "      <th>label</th>\n",
              "      <th>length</th>\n",
              "    </tr>\n",
              "  </thead>\n",
              "  <tbody>\n",
              "    <tr>\n",
              "      <td>182886</td>\n",
              "      <td>السلام عليكم نقلنا كفاله العامل صاحب اقامه رقم...</td>\n",
              "      <td>0</td>\n",
              "      <td>11</td>\n",
              "    </tr>\n",
              "    <tr>\n",
              "      <td>221012</td>\n",
              "      <td>عندي امتحان باطنه وماقدرتش م اخلصها هدخل ع ال...</td>\n",
              "      <td>0</td>\n",
              "      <td>59</td>\n",
              "    </tr>\n",
              "    <tr>\n",
              "      <td>75753</td>\n",
              "      <td>كتاب رائع جدا افدني شخصيا جدا وصحح عندي مفام م...</td>\n",
              "      <td>2</td>\n",
              "      <td>19</td>\n",
              "    </tr>\n",
              "    <tr>\n",
              "      <td>109839</td>\n",
              "      <td>م سيء للغايه جراند ميدويست للشقق الفندقيه فندق...</td>\n",
              "      <td>1</td>\n",
              "      <td>127</td>\n",
              "    </tr>\n",
              "    <tr>\n",
              "      <td>205203</td>\n",
              "      <td>ارشيف اصدارات المركز العلاقات المصريه الاسرائي...</td>\n",
              "      <td>0</td>\n",
              "      <td>8</td>\n",
              "    </tr>\n",
              "    <tr>\n",
              "      <td>...</td>\n",
              "      <td>...</td>\n",
              "      <td>...</td>\n",
              "      <td>...</td>\n",
              "    </tr>\n",
              "    <tr>\n",
              "      <td>197437</td>\n",
              "      <td>ايجابيات و سلبيات سيتيزين ايكو درايف رجاليه ‫ ...</td>\n",
              "      <td>0</td>\n",
              "      <td>12</td>\n",
              "    </tr>\n",
              "    <tr>\n",
              "      <td>7752</td>\n",
              "      <td>موقع جدا مميز لقد اقمت لوحدي بشهر ابريل استمتع...</td>\n",
              "      <td>2</td>\n",
              "      <td>42</td>\n",
              "    </tr>\n",
              "    <tr>\n",
              "      <td>95117</td>\n",
              "      <td>الكتاب نفس فكره كتاب صناعه الذكاء الكثيره الال...</td>\n",
              "      <td>2</td>\n",
              "      <td>17</td>\n",
              "    </tr>\n",
              "    <tr>\n",
              "      <td>95856</td>\n",
              "      <td>نصيحه قالها احمد العايدي كنت تعتبرها روايه فات...</td>\n",
              "      <td>2</td>\n",
              "      <td>78</td>\n",
              "    </tr>\n",
              "    <tr>\n",
              "      <td>170238</td>\n",
              "      <td>عاجلمقتل واصابه شخصا ب تفجير سيطره بابل</td>\n",
              "      <td>1</td>\n",
              "      <td>7</td>\n",
              "    </tr>\n",
              "  </tbody>\n",
              "</table>\n",
              "<p>100 rows × 3 columns</p>\n",
              "</div>"
            ],
            "text/plain": [
              "                                                    final  label  length\n",
              "182886  السلام عليكم نقلنا كفاله العامل صاحب اقامه رقم...      0      11\n",
              "221012   عندي امتحان باطنه وماقدرتش م اخلصها هدخل ع ال...      0      59\n",
              "75753   كتاب رائع جدا افدني شخصيا جدا وصحح عندي مفام م...      2      19\n",
              "109839  م سيء للغايه جراند ميدويست للشقق الفندقيه فندق...      1     127\n",
              "205203  ارشيف اصدارات المركز العلاقات المصريه الاسرائي...      0       8\n",
              "...                                                   ...    ...     ...\n",
              "197437  ايجابيات و سلبيات سيتيزين ايكو درايف رجاليه ‫ ...      0      12\n",
              "7752    موقع جدا مميز لقد اقمت لوحدي بشهر ابريل استمتع...      2      42\n",
              "95117   الكتاب نفس فكره كتاب صناعه الذكاء الكثيره الال...      2      17\n",
              "95856   نصيحه قالها احمد العايدي كنت تعتبرها روايه فات...      2      78\n",
              "170238            عاجلمقتل واصابه شخصا ب تفجير سيطره بابل      1       7\n",
              "\n",
              "[100 rows x 3 columns]"
            ]
          },
          "metadata": {
            "tags": []
          },
          "execution_count": 77
        }
      ]
    },
    {
      "cell_type": "markdown",
      "metadata": {
        "id": "LlszUhNNyrl_"
      },
      "source": [
        "# TASK #3: EXPLORE DATASET"
      ]
    },
    {
      "cell_type": "code",
      "metadata": {
        "colab": {
          "base_uri": "https://localhost:8080/",
          "height": 282
        },
        "id": "504hnDW71Afb",
        "outputId": "d1672649-7f4b-4ea1-8854-20014a18b4d0"
      },
      "source": [
        " sns.heatmap(ST_df.isnull(), yticklabels = False, cbar = False, cmap=\"Blues\")"
      ],
      "execution_count": null,
      "outputs": [
        {
          "output_type": "execute_result",
          "data": {
            "text/plain": [
              "<matplotlib.axes._subplots.AxesSubplot at 0x21888cbc788>"
            ]
          },
          "metadata": {
            "tags": []
          },
          "execution_count": 78
        },
        {
          "output_type": "display_data",
          "data": {
            "image/png": "[encoded data removed]",
            "text/plain": [
              "<Figure size 576x504 with 1 Axes>"
            ]
          },
          "metadata": {
            "tags": []
          }
        }
      ]
    },
    {
      "cell_type": "code",
      "metadata": {
        "colab": {
          "base_uri": "https://localhost:8080/",
          "height": 386
        },
        "id": "zflUg_k50qPy",
        "outputId": "d072f994-da9c-4074-ec7e-631028203e7b"
      },
      "source": [
        "ST_df.hist(bins = 30, figsize = (13,5), color = 'r')"
      ],
      "execution_count": null,
      "outputs": [
        {
          "output_type": "execute_result",
          "data": {
            "text/plain": [
              "array([[<matplotlib.axes._subplots.AxesSubplot object at 0x0000021888CBF648>,\n",
              "        <matplotlib.axes._subplots.AxesSubplot object at 0x0000021880B37548>]],\n",
              "      dtype=object)"
            ]
          },
          "metadata": {
            "tags": []
          },
          "execution_count": 79
        },
        {
          "output_type": "display_data",
          "data": {
            "image/png": "[encoded data removed]",
            "text/plain": [
              "<Figure size 936x360 with 2 Axes>"
            ]
          },
          "metadata": {
            "tags": []
          }
        }
      ]
    },
    {
      "cell_type": "markdown",
      "metadata": {
        "id": "c-TDw32N1_4j"
      },
      "source": [
        "MINI CHALLENGE #2: \n",
        "- Plot similar figure using seaborn countplot"
      ]
    },
    {
      "cell_type": "code",
      "metadata": {
        "id": "PuRMbsbN1_4j",
        "outputId": "9928e763-417a-4ac1-f7bb-04e5242c5d59"
      },
      "source": [
        "sns.countplot(ST_df['label'],label = 'count')"
      ],
      "execution_count": null,
      "outputs": [
        {
          "output_type": "execute_result",
          "data": {
            "text/plain": [
              "<matplotlib.axes._subplots.AxesSubplot at 0x21880dd9948>"
            ]
          },
          "metadata": {
            "tags": []
          },
          "execution_count": 80
        },
        {
          "output_type": "display_data",
          "data": {
            "image/png": "[encoded data removed]",
            "text/plain": [
              "<Figure size 576x504 with 1 Axes>"
            ]
          },
          "metadata": {
            "tags": []
          }
        }
      ]
    },
    {
      "cell_type": "code",
      "metadata": {
        "id": "ZiVkQqEPMDDD"
      },
      "source": [
        "# Let's get the length of the message\n",
        "ST_df['length']=ST_df['final'].apply(len)"
      ],
      "execution_count": null,
      "outputs": []
    },
    {
      "cell_type": "code",
      "metadata": {
        "id": "EJGutfel1_4k",
        "outputId": "f1f4e793-202e-427b-e6c5-7405f6f85366"
      },
      "source": [
        "ST_df"
      ],
      "execution_count": null,
      "outputs": [
        {
          "output_type": "execute_result",
          "data": {
            "text/html": [
              "<div>\n",
              "<style scoped>\n",
              "    .dataframe tbody tr th:only-of-type {\n",
              "        vertical-align: middle;\n",
              "    }\n",
              "\n",
              "    .dataframe tbody tr th {\n",
              "        vertical-align: top;\n",
              "    }\n",
              "\n",
              "    .dataframe thead th {\n",
              "        text-align: right;\n",
              "    }\n",
              "</style>\n",
              "<table border=\"1\" class=\"dataframe\">\n",
              "  <thead>\n",
              "    <tr style=\"text-align: right;\">\n",
              "      <th></th>\n",
              "      <th>final</th>\n",
              "      <th>label</th>\n",
              "      <th>length</th>\n",
              "    </tr>\n",
              "  </thead>\n",
              "  <tbody>\n",
              "    <tr>\n",
              "      <td>182886</td>\n",
              "      <td>السلام عليكم نقلنا كفاله العامل صاحب اقامه رقم...</td>\n",
              "      <td>0</td>\n",
              "      <td>58</td>\n",
              "    </tr>\n",
              "    <tr>\n",
              "      <td>221012</td>\n",
              "      <td>عندي امتحان باطنه وماقدرتش م اخلصها هدخل ع ال...</td>\n",
              "      <td>0</td>\n",
              "      <td>318</td>\n",
              "    </tr>\n",
              "    <tr>\n",
              "      <td>75753</td>\n",
              "      <td>كتاب رائع جدا افدني شخصيا جدا وصحح عندي مفام م...</td>\n",
              "      <td>2</td>\n",
              "      <td>105</td>\n",
              "    </tr>\n",
              "    <tr>\n",
              "      <td>109839</td>\n",
              "      <td>م سيء للغايه جراند ميدويست للشقق الفندقيه فندق...</td>\n",
              "      <td>1</td>\n",
              "      <td>716</td>\n",
              "    </tr>\n",
              "    <tr>\n",
              "      <td>205203</td>\n",
              "      <td>ارشيف اصدارات المركز العلاقات المصريه الاسرائي...</td>\n",
              "      <td>0</td>\n",
              "      <td>60</td>\n",
              "    </tr>\n",
              "    <tr>\n",
              "      <td>...</td>\n",
              "      <td>...</td>\n",
              "      <td>...</td>\n",
              "      <td>...</td>\n",
              "    </tr>\n",
              "    <tr>\n",
              "      <td>197437</td>\n",
              "      <td>ايجابيات و سلبيات سيتيزين ايكو درايف رجاليه ‫ ...</td>\n",
              "      <td>0</td>\n",
              "      <td>71</td>\n",
              "    </tr>\n",
              "    <tr>\n",
              "      <td>7752</td>\n",
              "      <td>موقع جدا مميز لقد اقمت لوحدي بشهر ابريل استمتع...</td>\n",
              "      <td>2</td>\n",
              "      <td>251</td>\n",
              "    </tr>\n",
              "    <tr>\n",
              "      <td>95117</td>\n",
              "      <td>الكتاب نفس فكره كتاب صناعه الذكاء الكثيره الال...</td>\n",
              "      <td>2</td>\n",
              "      <td>107</td>\n",
              "    </tr>\n",
              "    <tr>\n",
              "      <td>95856</td>\n",
              "      <td>نصيحه قالها احمد العايدي كنت تعتبرها روايه فات...</td>\n",
              "      <td>2</td>\n",
              "      <td>469</td>\n",
              "    </tr>\n",
              "    <tr>\n",
              "      <td>170238</td>\n",
              "      <td>عاجلمقتل واصابه شخصا ب تفجير سيطره بابل</td>\n",
              "      <td>1</td>\n",
              "      <td>39</td>\n",
              "    </tr>\n",
              "  </tbody>\n",
              "</table>\n",
              "<p>100 rows × 3 columns</p>\n",
              "</div>"
            ],
            "text/plain": [
              "                                                    final  label  length\n",
              "182886  السلام عليكم نقلنا كفاله العامل صاحب اقامه رقم...      0      58\n",
              "221012   عندي امتحان باطنه وماقدرتش م اخلصها هدخل ع ال...      0     318\n",
              "75753   كتاب رائع جدا افدني شخصيا جدا وصحح عندي مفام م...      2     105\n",
              "109839  م سيء للغايه جراند ميدويست للشقق الفندقيه فندق...      1     716\n",
              "205203  ارشيف اصدارات المركز العلاقات المصريه الاسرائي...      0      60\n",
              "...                                                   ...    ...     ...\n",
              "197437  ايجابيات و سلبيات سيتيزين ايكو درايف رجاليه ‫ ...      0      71\n",
              "7752    موقع جدا مميز لقد اقمت لوحدي بشهر ابريل استمتع...      2     251\n",
              "95117   الكتاب نفس فكره كتاب صناعه الذكاء الكثيره الال...      2     107\n",
              "95856   نصيحه قالها احمد العايدي كنت تعتبرها روايه فات...      2     469\n",
              "170238            عاجلمقتل واصابه شخصا ب تفجير سيطره بابل      1      39\n",
              "\n",
              "[100 rows x 3 columns]"
            ]
          },
          "metadata": {
            "tags": []
          },
          "execution_count": 82
        }
      ]
    },
    {
      "cell_type": "code",
      "metadata": {
        "colab": {
          "base_uri": "https://localhost:8080/",
          "height": 285
        },
        "id": "RYLqq7WetK79",
        "outputId": "b7064682-90d8-47d4-ace2-86a81ac9bfe5"
      },
      "source": [
        "ST_df['length'].plot(bins=100, kind='hist') "
      ],
      "execution_count": null,
      "outputs": [
        {
          "output_type": "execute_result",
          "data": {
            "text/plain": [
              "<matplotlib.axes._subplots.AxesSubplot at 0x21880c61188>"
            ]
          },
          "metadata": {
            "tags": []
          },
          "execution_count": 83
        },
        {
          "output_type": "display_data",
          "data": {
            "image/png": "[encoded data removed]",
            "text/plain": [
              "<Figure size 576x504 with 1 Axes>"
            ]
          },
          "metadata": {
            "tags": []
          }
        }
      ]
    },
    {
      "cell_type": "code",
      "metadata": {
        "colab": {
          "base_uri": "https://localhost:8080/",
          "height": 168
        },
        "id": "bf22hdT0KFVs",
        "outputId": "932c9425-fbda-4c1b-9c52-0d4c53648733"
      },
      "source": [
        "ST_df.describe()"
      ],
      "execution_count": null,
      "outputs": [
        {
          "output_type": "execute_result",
          "data": {
            "text/html": [
              "<div>\n",
              "<style scoped>\n",
              "    .dataframe tbody tr th:only-of-type {\n",
              "        vertical-align: middle;\n",
              "    }\n",
              "\n",
              "    .dataframe tbody tr th {\n",
              "        vertical-align: top;\n",
              "    }\n",
              "\n",
              "    .dataframe thead th {\n",
              "        text-align: right;\n",
              "    }\n",
              "</style>\n",
              "<table border=\"1\" class=\"dataframe\">\n",
              "  <thead>\n",
              "    <tr style=\"text-align: right;\">\n",
              "      <th></th>\n",
              "      <th>label</th>\n",
              "      <th>length</th>\n",
              "    </tr>\n",
              "  </thead>\n",
              "  <tbody>\n",
              "    <tr>\n",
              "      <td>count</td>\n",
              "      <td>100.000000</td>\n",
              "      <td>100.000000</td>\n",
              "    </tr>\n",
              "    <tr>\n",
              "      <td>mean</td>\n",
              "      <td>1.260000</td>\n",
              "      <td>176.390000</td>\n",
              "    </tr>\n",
              "    <tr>\n",
              "      <td>std</td>\n",
              "      <td>0.824131</td>\n",
              "      <td>246.581226</td>\n",
              "    </tr>\n",
              "    <tr>\n",
              "      <td>min</td>\n",
              "      <td>0.000000</td>\n",
              "      <td>4.000000</td>\n",
              "    </tr>\n",
              "    <tr>\n",
              "      <td>25%</td>\n",
              "      <td>1.000000</td>\n",
              "      <td>55.750000</td>\n",
              "    </tr>\n",
              "    <tr>\n",
              "      <td>50%</td>\n",
              "      <td>1.500000</td>\n",
              "      <td>81.500000</td>\n",
              "    </tr>\n",
              "    <tr>\n",
              "      <td>75%</td>\n",
              "      <td>2.000000</td>\n",
              "      <td>182.500000</td>\n",
              "    </tr>\n",
              "    <tr>\n",
              "      <td>max</td>\n",
              "      <td>2.000000</td>\n",
              "      <td>1408.000000</td>\n",
              "    </tr>\n",
              "  </tbody>\n",
              "</table>\n",
              "</div>"
            ],
            "text/plain": [
              "            label       length\n",
              "count  100.000000   100.000000\n",
              "mean     1.260000   176.390000\n",
              "std      0.824131   246.581226\n",
              "min      0.000000     4.000000\n",
              "25%      1.000000    55.750000\n",
              "50%      1.500000    81.500000\n",
              "75%      2.000000   182.500000\n",
              "max      2.000000  1408.000000"
            ]
          },
          "metadata": {
            "tags": []
          },
          "execution_count": 84
        }
      ]
    },
    {
      "cell_type": "code",
      "metadata": {
        "colab": {
          "base_uri": "https://localhost:8080/",
          "height": 34
        },
        "id": "NECH94w1KSpS",
        "outputId": "cbe89a9e-f2ee-4ef2-9e4a-00382e00aa76"
      },
      "source": [
        "# Let's see the shortest message \n",
        "ST_df[ST_df['length'] == 4]['final'].iloc[0]"
      ],
      "execution_count": null,
      "outputs": [
        {
          "output_type": "execute_result",
          "data": {
            "text/plain": [
              "'حرام'"
            ]
          },
          "metadata": {
            "tags": []
          },
          "execution_count": 87
        }
      ]
    },
    {
      "cell_type": "code",
      "metadata": {
        "id": "W8XQMM3-1_4m",
        "outputId": "c5bcd0bc-5c72-47c4-ecb0-b11aae5f9db7"
      },
      "source": [
        "ST_df[ST_df['length'] == 1408]['final'].iloc[0]"
      ],
      "execution_count": null,
      "outputs": [
        {
          "output_type": "execute_result",
          "data": {
            "text/plain": [
              "'الداده دودي بقت مامي مافيش حاجه تمنع الاقتباس تدوير القصه والتغير وتقديمها بشكل مختلف وجديد الابقاء الخط الرئيسي والتيمه الاساسيه للفيلم العكس تماما ده بيبقي دافع قوي لمشاهده روئ وافكار مختلفه تقدر تحدد معاها التاثيرات الدراميه المختلفه يتم تحريف القصه بشكل هزلي ومستفز سبيل تقديم صوره لايت ممكن نقف وندور الاسباب الحقيقه اللي دفعت بمؤلف ومخرج قدر الحرفيه والتميز لتقديم مثل العمل واعتقد المؤلف خالد جلال مؤلف فيلم الانسه مامي اتوجه ليه السؤال ده مش ح يعرف يجاوب الاقل اجابته ح تبقي مشوهه ومقترنه بان مافيش حاجه تمنع الاقتباس زي قولنا قبل كدا سلمنا بالامر الواقع وبحكايه الاقتباس ح نلاقي قصه الفيلم ماخوذه الفيلم الاجنبي رجل العائله للممثل نيكولاس كيدج عام ح نشوف التغير شخصيات العمل الرئيسيه فبدل بطل العمل اللي بتقوم قصه الفيلم رجل حنشوف تحول لسيده وده مش مشكله نهائيا تكون المشاهد الغير عقلانيه بنخلينا نرجع تاني نسال وندور فمثلا اغلب السيدات تتمني تصبح يكون لديها اطفال جزمنا بان السيدات تعير لذلك الحلم اهتمام حنلاقي باب تاني اتفتح ازاي تقدم فيلم عائلي موجه الاخص للاسره والاطفال وتقدم المواقف المرفوضه فنيا اللي بنسعي اننا نحاربها زي الاغاني الشعبيه الهابطه والحركات اللي بتشير معاني مقبوله تحدثنا الاداء التمثيلي اذكر الكثير خاصه ياسمين عبدالعزيز تقدم جديد يذكر وادائها مفتعل ومشابه للشخصيه قدمتها بفيلم الداده دودي الكثير الحركات وتعبيرات الوجه دور الممثل حسن الرداد الممكن الاشاده بمحاولته للبس عباءه الكوميديا بالاضافه ادائه مقبولا الفيلم يختلف كثيرا نفس نوعيه الافلام قدمتها ياسمين عبدالعزيز مؤخرا'"
            ]
          },
          "metadata": {
            "tags": []
          },
          "execution_count": 88
        }
      ]
    },
    {
      "cell_type": "code",
      "metadata": {
        "id": "zy_hbyGU1_4n"
      },
      "source": [
        "N=ST_df[ST_df['label']==0]"
      ],
      "execution_count": null,
      "outputs": []
    },
    {
      "cell_type": "code",
      "metadata": {
        "id": "sUDQ5V6Y1_4n",
        "outputId": "661ef72d-502b-4703-8ed0-5c7be5c575b2"
      },
      "source": [
        "N"
      ],
      "execution_count": null,
      "outputs": [
        {
          "output_type": "execute_result",
          "data": {
            "text/html": [
              "<div>\n",
              "<style scoped>\n",
              "    .dataframe tbody tr th:only-of-type {\n",
              "        vertical-align: middle;\n",
              "    }\n",
              "\n",
              "    .dataframe tbody tr th {\n",
              "        vertical-align: top;\n",
              "    }\n",
              "\n",
              "    .dataframe thead th {\n",
              "        text-align: right;\n",
              "    }\n",
              "</style>\n",
              "<table border=\"1\" class=\"dataframe\">\n",
              "  <thead>\n",
              "    <tr style=\"text-align: right;\">\n",
              "      <th></th>\n",
              "      <th>final</th>\n",
              "      <th>label</th>\n",
              "      <th>length</th>\n",
              "    </tr>\n",
              "  </thead>\n",
              "  <tbody>\n",
              "    <tr>\n",
              "      <td>182886</td>\n",
              "      <td>السلام عليكم نقلنا كفاله العامل صاحب اقامه رقم...</td>\n",
              "      <td>0</td>\n",
              "      <td>58</td>\n",
              "    </tr>\n",
              "    <tr>\n",
              "      <td>221012</td>\n",
              "      <td>عندي امتحان باطنه وماقدرتش م اخلصها هدخل ع ال...</td>\n",
              "      <td>0</td>\n",
              "      <td>318</td>\n",
              "    </tr>\n",
              "    <tr>\n",
              "      <td>205203</td>\n",
              "      <td>ارشيف اصدارات المركز العلاقات المصريه الاسرائي...</td>\n",
              "      <td>0</td>\n",
              "      <td>60</td>\n",
              "    </tr>\n",
              "    <tr>\n",
              "      <td>183333</td>\n",
              "      <td>عندك ادخل واختار جهاز بعقد يمكن يعطونك</td>\n",
              "      <td>0</td>\n",
              "      <td>39</td>\n",
              "    </tr>\n",
              "    <tr>\n",
              "      <td>213133</td>\n",
              "      <td>قال الله تعالي لموسي وهارون عليهما السلام اجيب...</td>\n",
              "      <td>0</td>\n",
              "      <td>55</td>\n",
              "    </tr>\n",
              "    <tr>\n",
              "      <td>218033</td>\n",
              "      <td>احرق القصه تستحق القراءه لمن يريد متابعه عقليا...</td>\n",
              "      <td>0</td>\n",
              "      <td>237</td>\n",
              "    </tr>\n",
              "    <tr>\n",
              "      <td>199242</td>\n",
              "      <td>تعرف استراليا بالكنغر والكوالا فا تعرف ايضا ب...</td>\n",
              "      <td>0</td>\n",
              "      <td>704</td>\n",
              "    </tr>\n",
              "    <tr>\n",
              "      <td>200705</td>\n",
              "      <td>وجبه برقر بطاطس وبيبسي مطعم البيك ب ريالات</td>\n",
              "      <td>0</td>\n",
              "      <td>42</td>\n",
              "    </tr>\n",
              "    <tr>\n",
              "      <td>180890</td>\n",
              "      <td>السلام عليكم اقدر اصرف شيك باسمي بطاقه الاحوال...</td>\n",
              "      <td>0</td>\n",
              "      <td>53</td>\n",
              "    </tr>\n",
              "    <tr>\n",
              "      <td>176941</td>\n",
              "      <td>عندي قولي واقول</td>\n",
              "      <td>0</td>\n",
              "      <td>16</td>\n",
              "    </tr>\n",
              "    <tr>\n",
              "      <td>214918</td>\n",
              "      <td>كلين للتنحيف والرشاقه متابعه دوريه خلال مده ال...</td>\n",
              "      <td>0</td>\n",
              "      <td>71</td>\n",
              "    </tr>\n",
              "    <tr>\n",
              "      <td>189322</td>\n",
              "      <td>يعقل سعر شقه مساحه م برنامج سكني مدينه جيزان ب...</td>\n",
              "      <td>0</td>\n",
              "      <td>58</td>\n",
              "    </tr>\n",
              "    <tr>\n",
              "      <td>219379</td>\n",
              "      <td>روايه عجيبه صفحه تتاكد نهايه حد لخيال ماركيز ا...</td>\n",
              "      <td>0</td>\n",
              "      <td>383</td>\n",
              "    </tr>\n",
              "    <tr>\n",
              "      <td>202834</td>\n",
              "      <td>السويد ايطاليا هدف دي روسي مرماه تصفيات كاس ال...</td>\n",
              "      <td>0</td>\n",
              "      <td>50</td>\n",
              "    </tr>\n",
              "    <tr>\n",
              "      <td>172650</td>\n",
              "      <td>فيدرر سيكون دبي نهايه العام لذلك واقعيا يمكن ي...</td>\n",
              "      <td>0</td>\n",
              "      <td>84</td>\n",
              "    </tr>\n",
              "    <tr>\n",
              "      <td>204665</td>\n",
              "      <td>اهداف مصر وغانا شيكابالا يسجل تصفيات كاس العالم</td>\n",
              "      <td>0</td>\n",
              "      <td>47</td>\n",
              "    </tr>\n",
              "    <tr>\n",
              "      <td>177856</td>\n",
              "      <td>السنه النبويه قل قبل نومك باسمك ربي وضعت جنبي ...</td>\n",
              "      <td>0</td>\n",
              "      <td>106</td>\n",
              "    </tr>\n",
              "    <tr>\n",
              "      <td>221928</td>\n",
              "      <td>نفسي اعرف كيفيه قراءه الكتاب ممكن حد يفيدني سمحتم</td>\n",
              "      <td>0</td>\n",
              "      <td>49</td>\n",
              "    </tr>\n",
              "    <tr>\n",
              "      <td>210041</td>\n",
              "      <td>الامور تهون والمرء يستحيل ينسي اوجعه فقط نصير ...</td>\n",
              "      <td>0</td>\n",
              "      <td>83</td>\n",
              "    </tr>\n",
              "    <tr>\n",
              "      <td>213988</td>\n",
              "      <td>تبالغ مختلف لانه ذكي وجريء وطفولته وحياته تشبه...</td>\n",
              "      <td>0</td>\n",
              "      <td>101</td>\n",
              "    </tr>\n",
              "    <tr>\n",
              "      <td>189341</td>\n",
              "      <td>السلام عليكم صحيح اغلاق البناء الذاتي نهايه شه...</td>\n",
              "      <td>0</td>\n",
              "      <td>52</td>\n",
              "    </tr>\n",
              "    <tr>\n",
              "      <td>189252</td>\n",
              "      <td>مهو قتال جماعه اقسم بالله ليفاي شقه شق دقيقه و...</td>\n",
              "      <td>0</td>\n",
              "      <td>64</td>\n",
              "    </tr>\n",
              "    <tr>\n",
              "      <td>201226</td>\n",
              "      <td>الان القائد العام للقوات المسلحه العربيه الليب...</td>\n",
              "      <td>0</td>\n",
              "      <td>105</td>\n",
              "    </tr>\n",
              "    <tr>\n",
              "      <td>197437</td>\n",
              "      <td>ايجابيات و سلبيات سيتيزين ايكو درايف رجاليه ‫ ...</td>\n",
              "      <td>0</td>\n",
              "      <td>71</td>\n",
              "    </tr>\n",
              "  </tbody>\n",
              "</table>\n",
              "</div>"
            ],
            "text/plain": [
              "                                                    final  label  length\n",
              "182886  السلام عليكم نقلنا كفاله العامل صاحب اقامه رقم...      0      58\n",
              "221012   عندي امتحان باطنه وماقدرتش م اخلصها هدخل ع ال...      0     318\n",
              "205203  ارشيف اصدارات المركز العلاقات المصريه الاسرائي...      0      60\n",
              "183333             عندك ادخل واختار جهاز بعقد يمكن يعطونك      0      39\n",
              "213133  قال الله تعالي لموسي وهارون عليهما السلام اجيب...      0      55\n",
              "218033  احرق القصه تستحق القراءه لمن يريد متابعه عقليا...      0     237\n",
              "199242   تعرف استراليا بالكنغر والكوالا فا تعرف ايضا ب...      0     704\n",
              "200705         وجبه برقر بطاطس وبيبسي مطعم البيك ب ريالات      0      42\n",
              "180890  السلام عليكم اقدر اصرف شيك باسمي بطاقه الاحوال...      0      53\n",
              "176941                                    عندي قولي واقول      0      16\n",
              "214918  كلين للتنحيف والرشاقه متابعه دوريه خلال مده ال...      0      71\n",
              "189322  يعقل سعر شقه مساحه م برنامج سكني مدينه جيزان ب...      0      58\n",
              "219379  روايه عجيبه صفحه تتاكد نهايه حد لخيال ماركيز ا...      0     383\n",
              "202834  السويد ايطاليا هدف دي روسي مرماه تصفيات كاس ال...      0      50\n",
              "172650  فيدرر سيكون دبي نهايه العام لذلك واقعيا يمكن ي...      0      84\n",
              "204665    اهداف مصر وغانا شيكابالا يسجل تصفيات كاس العالم      0      47\n",
              "177856  السنه النبويه قل قبل نومك باسمك ربي وضعت جنبي ...      0     106\n",
              "221928  نفسي اعرف كيفيه قراءه الكتاب ممكن حد يفيدني سمحتم      0      49\n",
              "210041  الامور تهون والمرء يستحيل ينسي اوجعه فقط نصير ...      0      83\n",
              "213988  تبالغ مختلف لانه ذكي وجريء وطفولته وحياته تشبه...      0     101\n",
              "189341  السلام عليكم صحيح اغلاق البناء الذاتي نهايه شه...      0      52\n",
              "189252  مهو قتال جماعه اقسم بالله ليفاي شقه شق دقيقه و...      0      64\n",
              "201226  الان القائد العام للقوات المسلحه العربيه الليب...      0     105\n",
              "197437  ايجابيات و سلبيات سيتيزين ايكو درايف رجاليه ‫ ...      0      71"
            ]
          },
          "metadata": {
            "tags": []
          },
          "execution_count": 90
        }
      ]
    },
    {
      "cell_type": "code",
      "metadata": {
        "id": "TPSFzjy11_4n"
      },
      "source": [
        "negative=ST_df[ST_df['label']==1]"
      ],
      "execution_count": null,
      "outputs": []
    },
    {
      "cell_type": "code",
      "metadata": {
        "scrolled": true,
        "id": "2dUxpXhZ1_4o",
        "outputId": "4745f94c-a2b9-47b4-9414-0d60b47ca02d"
      },
      "source": [
        "negative"
      ],
      "execution_count": null,
      "outputs": [
        {
          "output_type": "execute_result",
          "data": {
            "text/html": [
              "<div>\n",
              "<style scoped>\n",
              "    .dataframe tbody tr th:only-of-type {\n",
              "        vertical-align: middle;\n",
              "    }\n",
              "\n",
              "    .dataframe tbody tr th {\n",
              "        vertical-align: top;\n",
              "    }\n",
              "\n",
              "    .dataframe thead th {\n",
              "        text-align: right;\n",
              "    }\n",
              "</style>\n",
              "<table border=\"1\" class=\"dataframe\">\n",
              "  <thead>\n",
              "    <tr style=\"text-align: right;\">\n",
              "      <th></th>\n",
              "      <th>final</th>\n",
              "      <th>label</th>\n",
              "      <th>length</th>\n",
              "    </tr>\n",
              "  </thead>\n",
              "  <tbody>\n",
              "    <tr>\n",
              "      <td>109839</td>\n",
              "      <td>م سيء للغايه جراند ميدويست للشقق الفندقيه فندق...</td>\n",
              "      <td>1</td>\n",
              "      <td>716</td>\n",
              "    </tr>\n",
              "    <tr>\n",
              "      <td>107464</td>\n",
              "      <td>تنشر الفساد الدعوه ممنهجه لافساد المجتمع و سلخ...</td>\n",
              "      <td>1</td>\n",
              "      <td>229</td>\n",
              "    </tr>\n",
              "    <tr>\n",
              "      <td>166358</td>\n",
              "      <td>لماذا يتاخر تصحيح الخطا يختفي الاختفاء الجهل ب...</td>\n",
              "      <td>1</td>\n",
              "      <td>350</td>\n",
              "    </tr>\n",
              "    <tr>\n",
              "      <td>116864</td>\n",
              "      <td>البنوك السعوديه باي حق يالراجحي تسحب القسط الا...</td>\n",
              "      <td>1</td>\n",
              "      <td>72</td>\n",
              "    </tr>\n",
              "    <tr>\n",
              "      <td>151669</td>\n",
              "      <td>الاتحاد يتوج بطلا للدوري الاتحاد مهدد بالهبوط ...</td>\n",
              "      <td>1</td>\n",
              "      <td>77</td>\n",
              "    </tr>\n",
              "    <tr>\n",
              "      <td>153128</td>\n",
              "      <td>رجعنا الصداره شاءالله تنتهي الصداره</td>\n",
              "      <td>1</td>\n",
              "      <td>35</td>\n",
              "    </tr>\n",
              "    <tr>\n",
              "      <td>145664</td>\n",
              "      <td>جيدي بتس سرقوا نص ملابسه</td>\n",
              "      <td>1</td>\n",
              "      <td>24</td>\n",
              "    </tr>\n",
              "    <tr>\n",
              "      <td>160983</td>\n",
              "      <td>اخيرا خرجت ام بدور البهجه ف صفحه وللاسف ملقتش ...</td>\n",
              "      <td>1</td>\n",
              "      <td>965</td>\n",
              "    </tr>\n",
              "    <tr>\n",
              "      <td>149332</td>\n",
              "      <td>اعداء الامه حيتجننوا شنب الشيخ خالد الجندي انك...</td>\n",
              "      <td>1</td>\n",
              "      <td>94</td>\n",
              "    </tr>\n",
              "    <tr>\n",
              "      <td>164034</td>\n",
              "      <td>بجد بيشد ل جزء كام صفحه كده بحس توهت و اقراها ...</td>\n",
              "      <td>1</td>\n",
              "      <td>176</td>\n",
              "    </tr>\n",
              "    <tr>\n",
              "      <td>133033</td>\n",
              "      <td>الشيء الوحيد وصلوا للعالميه المسيار تري كانوا ...</td>\n",
              "      <td>1</td>\n",
              "      <td>72</td>\n",
              "    </tr>\n",
              "    <tr>\n",
              "      <td>141307</td>\n",
              "      <td>حرام</td>\n",
              "      <td>1</td>\n",
              "      <td>4</td>\n",
              "    </tr>\n",
              "    <tr>\n",
              "      <td>136236</td>\n",
              "      <td>حافه الذاكره طيات الماضي تغرد ذكريات يصعب علين...</td>\n",
              "      <td>1</td>\n",
              "      <td>88</td>\n",
              "    </tr>\n",
              "    <tr>\n",
              "      <td>164139</td>\n",
              "      <td>انتهائك قراءه الكتاب ستخرج بمشاعر متضاربه كليا</td>\n",
              "      <td>1</td>\n",
              "      <td>46</td>\n",
              "    </tr>\n",
              "    <tr>\n",
              "      <td>112932</td>\n",
              "      <td>الداده دودي بقت مامي مافيش حاجه تمنع الاقتباس ...</td>\n",
              "      <td>1</td>\n",
              "      <td>1408</td>\n",
              "    </tr>\n",
              "    <tr>\n",
              "      <td>140644</td>\n",
              "      <td>غلطت مره وقلت</td>\n",
              "      <td>1</td>\n",
              "      <td>13</td>\n",
              "    </tr>\n",
              "    <tr>\n",
              "      <td>109062</td>\n",
              "      <td>ضد عمل وقياده المراه اللهم رد عبدك محمد بن نا...</td>\n",
              "      <td>1</td>\n",
              "      <td>81</td>\n",
              "    </tr>\n",
              "    <tr>\n",
              "      <td>147530</td>\n",
              "      <td>وش بقي راحت امي صحيح ماقدر اناديج يايمه يوم ال...</td>\n",
              "      <td>1</td>\n",
              "      <td>74</td>\n",
              "    </tr>\n",
              "    <tr>\n",
              "      <td>148906</td>\n",
              "      <td>هوب اعتراض</td>\n",
              "      <td>1</td>\n",
              "      <td>10</td>\n",
              "    </tr>\n",
              "    <tr>\n",
              "      <td>118194</td>\n",
              "      <td>خامه رديئه تتمزق بسرعه مقاس صغير جدا يناسب الن...</td>\n",
              "      <td>1</td>\n",
              "      <td>62</td>\n",
              "    </tr>\n",
              "    <tr>\n",
              "      <td>108125</td>\n",
              "      <td>اتوا انصار اسقاط الولايه جحر دفاعا الحريه المز...</td>\n",
              "      <td>1</td>\n",
              "      <td>82</td>\n",
              "    </tr>\n",
              "    <tr>\n",
              "      <td>160341</td>\n",
              "      <td>محتاجه حد يكون بايع حياته عشان يبتدي</td>\n",
              "      <td>1</td>\n",
              "      <td>36</td>\n",
              "    </tr>\n",
              "    <tr>\n",
              "      <td>115636</td>\n",
              "      <td>احلل ليوم القيامه نهبت نص حلالي</td>\n",
              "      <td>1</td>\n",
              "      <td>31</td>\n",
              "    </tr>\n",
              "    <tr>\n",
              "      <td>130465</td>\n",
              "      <td>ماكنت عارف معاير الاختيار اكرمنا بسكوتك بالله...</td>\n",
              "      <td>1</td>\n",
              "      <td>94</td>\n",
              "    </tr>\n",
              "    <tr>\n",
              "      <td>171709</td>\n",
              "      <td>شعر النصر الهلال متصدر تكلمني الامارات عمان سو...</td>\n",
              "      <td>1</td>\n",
              "      <td>71</td>\n",
              "    </tr>\n",
              "    <tr>\n",
              "      <td>170238</td>\n",
              "      <td>عاجلمقتل واصابه شخصا ب تفجير سيطره بابل</td>\n",
              "      <td>1</td>\n",
              "      <td>39</td>\n",
              "    </tr>\n",
              "  </tbody>\n",
              "</table>\n",
              "</div>"
            ],
            "text/plain": [
              "                                                    final  label  length\n",
              "109839  م سيء للغايه جراند ميدويست للشقق الفندقيه فندق...      1     716\n",
              "107464  تنشر الفساد الدعوه ممنهجه لافساد المجتمع و سلخ...      1     229\n",
              "166358  لماذا يتاخر تصحيح الخطا يختفي الاختفاء الجهل ب...      1     350\n",
              "116864  البنوك السعوديه باي حق يالراجحي تسحب القسط الا...      1      72\n",
              "151669  الاتحاد يتوج بطلا للدوري الاتحاد مهدد بالهبوط ...      1      77\n",
              "153128                رجعنا الصداره شاءالله تنتهي الصداره      1      35\n",
              "145664                           جيدي بتس سرقوا نص ملابسه      1      24\n",
              "160983  اخيرا خرجت ام بدور البهجه ف صفحه وللاسف ملقتش ...      1     965\n",
              "149332  اعداء الامه حيتجننوا شنب الشيخ خالد الجندي انك...      1      94\n",
              "164034  بجد بيشد ل جزء كام صفحه كده بحس توهت و اقراها ...      1     176\n",
              "133033  الشيء الوحيد وصلوا للعالميه المسيار تري كانوا ...      1      72\n",
              "141307                                               حرام      1       4\n",
              "136236  حافه الذاكره طيات الماضي تغرد ذكريات يصعب علين...      1      88\n",
              "164139     انتهائك قراءه الكتاب ستخرج بمشاعر متضاربه كليا      1      46\n",
              "112932  الداده دودي بقت مامي مافيش حاجه تمنع الاقتباس ...      1    1408\n",
              "140644                                      غلطت مره وقلت      1      13\n",
              "109062   ضد عمل وقياده المراه اللهم رد عبدك محمد بن نا...      1      81\n",
              "147530  وش بقي راحت امي صحيح ماقدر اناديج يايمه يوم ال...      1      74\n",
              "148906                                         هوب اعتراض      1      10\n",
              "118194  خامه رديئه تتمزق بسرعه مقاس صغير جدا يناسب الن...      1      62\n",
              "108125  اتوا انصار اسقاط الولايه جحر دفاعا الحريه المز...      1      82\n",
              "160341               محتاجه حد يكون بايع حياته عشان يبتدي      1      36\n",
              "115636                    احلل ليوم القيامه نهبت نص حلالي      1      31\n",
              "130465   ماكنت عارف معاير الاختيار اكرمنا بسكوتك بالله...      1      94\n",
              "171709  شعر النصر الهلال متصدر تكلمني الامارات عمان سو...      1      71\n",
              "170238            عاجلمقتل واصابه شخصا ب تفجير سيطره بابل      1      39"
            ]
          },
          "metadata": {
            "tags": []
          },
          "execution_count": 92
        }
      ]
    },
    {
      "cell_type": "code",
      "metadata": {
        "id": "T0FmndoG1_4o"
      },
      "source": [
        "positive=ST_df[ST_df['label']==2]"
      ],
      "execution_count": null,
      "outputs": []
    },
    {
      "cell_type": "code",
      "metadata": {
        "id": "RDqeU9Kc1_4p",
        "outputId": "645ad737-574a-47f3-b35c-89abb5aa45ea"
      },
      "source": [
        "positive"
      ],
      "execution_count": null,
      "outputs": [
        {
          "output_type": "execute_result",
          "data": {
            "text/html": [
              "<div>\n",
              "<style scoped>\n",
              "    .dataframe tbody tr th:only-of-type {\n",
              "        vertical-align: middle;\n",
              "    }\n",
              "\n",
              "    .dataframe tbody tr th {\n",
              "        vertical-align: top;\n",
              "    }\n",
              "\n",
              "    .dataframe thead th {\n",
              "        text-align: right;\n",
              "    }\n",
              "</style>\n",
              "<table border=\"1\" class=\"dataframe\">\n",
              "  <thead>\n",
              "    <tr style=\"text-align: right;\">\n",
              "      <th></th>\n",
              "      <th>final</th>\n",
              "      <th>label</th>\n",
              "      <th>length</th>\n",
              "    </tr>\n",
              "  </thead>\n",
              "  <tbody>\n",
              "    <tr>\n",
              "      <td>75753</td>\n",
              "      <td>كتاب رائع جدا افدني شخصيا جدا وصحح عندي مفام م...</td>\n",
              "      <td>2</td>\n",
              "      <td>105</td>\n",
              "    </tr>\n",
              "    <tr>\n",
              "      <td>74856</td>\n",
              "      <td>قراتها اعوام ربما قدر براعه التصوير لكل شخصيه ...</td>\n",
              "      <td>2</td>\n",
              "      <td>92</td>\n",
              "    </tr>\n",
              "    <tr>\n",
              "      <td>35957</td>\n",
              "      <td>فخامه الرئيس عبد الفتاح السيسي اعلنها للجميع م...</td>\n",
              "      <td>2</td>\n",
              "      <td>158</td>\n",
              "    </tr>\n",
              "    <tr>\n",
              "      <td>47331</td>\n",
              "      <td>ناس باقصي ضميري محله ناس الغلا واحترامي غالين ...</td>\n",
              "      <td>2</td>\n",
              "      <td>80</td>\n",
              "    </tr>\n",
              "    <tr>\n",
              "      <td>55660</td>\n",
              "      <td>الناس يمشون ع نياتهمم امشي ع رجلي مساكم</td>\n",
              "      <td>2</td>\n",
              "      <td>40</td>\n",
              "    </tr>\n",
              "    <tr>\n",
              "      <td>44898</td>\n",
              "      <td>بالصبر تفتح ابواب السعاده وبالشكر تدوم النعم و...</td>\n",
              "      <td>2</td>\n",
              "      <td>124</td>\n",
              "    </tr>\n",
              "    <tr>\n",
              "      <td>97513</td>\n",
              "      <td>احي الشاعر العراقي المناضل كنت الكويت تنشر لاف...</td>\n",
              "      <td>2</td>\n",
              "      <td>143</td>\n",
              "    </tr>\n",
              "    <tr>\n",
              "      <td>49053</td>\n",
              "      <td>معكم الذيبه فرح</td>\n",
              "      <td>2</td>\n",
              "      <td>15</td>\n",
              "    </tr>\n",
              "    <tr>\n",
              "      <td>32292</td>\n",
              "      <td>مطعم فوندا المطاعم زلت ارجع زيارتي الاولي قبل ...</td>\n",
              "      <td>2</td>\n",
              "      <td>795</td>\n",
              "    </tr>\n",
              "    <tr>\n",
              "      <td>12157</td>\n",
              "      <td>الراحه النفسيه والهدوء والجوده بفندق البارون ا...</td>\n",
              "      <td>2</td>\n",
              "      <td>446</td>\n",
              "    </tr>\n",
              "    <tr>\n",
              "      <td>87780</td>\n",
              "      <td>امتع الكتب قراتها لانيس منصور ياخذنا لرحله ممت...</td>\n",
              "      <td>2</td>\n",
              "      <td>63</td>\n",
              "    </tr>\n",
              "    <tr>\n",
              "      <td>19978</td>\n",
              "      <td>السلعه ممتازه ومطابقه للمواصفات انصح الجميع بت...</td>\n",
              "      <td>2</td>\n",
              "      <td>84</td>\n",
              "    </tr>\n",
              "    <tr>\n",
              "      <td>51554</td>\n",
              "      <td>حسابات تميزه بتفاعل بعضهم للعطاء قامه وفاء معر...</td>\n",
              "      <td>2</td>\n",
              "      <td>61</td>\n",
              "    </tr>\n",
              "    <tr>\n",
              "      <td>90277</td>\n",
              "      <td>روعه وعجبني المزيج المتكامل اللغه العربيه الفص...</td>\n",
              "      <td>2</td>\n",
              "      <td>342</td>\n",
              "    </tr>\n",
              "    <tr>\n",
              "      <td>26065</td>\n",
              "      <td>المطعم الصدمه مره ممكن يكون حلو جلساته حلوه وا...</td>\n",
              "      <td>2</td>\n",
              "      <td>99</td>\n",
              "    </tr>\n",
              "    <tr>\n",
              "      <td>4480</td>\n",
              "      <td>ال سي دبي ثلاثه ليالي للتوقف دبي الكثير الوقت...</td>\n",
              "      <td>2</td>\n",
              "      <td>1075</td>\n",
              "    </tr>\n",
              "    <tr>\n",
              "      <td>101684</td>\n",
              "      <td>العبقري الجنوبي اجمل وابدع ماقرات تصالح البكاء...</td>\n",
              "      <td>2</td>\n",
              "      <td>179</td>\n",
              "    </tr>\n",
              "    <tr>\n",
              "      <td>3826</td>\n",
              "      <td>مريح استقبال رائع الغرف مريحه والاسره خدمه الا...</td>\n",
              "      <td>2</td>\n",
              "      <td>212</td>\n",
              "    </tr>\n",
              "    <tr>\n",
              "      <td>36609</td>\n",
              "      <td>شوفت محمد صلاح بيجري بسرعه ازاي الملعب اهالاست...</td>\n",
              "      <td>2</td>\n",
              "      <td>66</td>\n",
              "    </tr>\n",
              "    <tr>\n",
              "      <td>28306</td>\n",
              "      <td>المطعم جديد ديكوراته جميله اكلهم جيد ونظيف الخ...</td>\n",
              "      <td>2</td>\n",
              "      <td>343</td>\n",
              "    </tr>\n",
              "    <tr>\n",
              "      <td>47395</td>\n",
              "      <td>تمارين الصبح</td>\n",
              "      <td>2</td>\n",
              "      <td>12</td>\n",
              "    </tr>\n",
              "    <tr>\n",
              "      <td>41526</td>\n",
              "      <td>اللهم نبوء بنعمتك علينا ونبوء بذنبنا فاغفر يغف...</td>\n",
              "      <td>2</td>\n",
              "      <td>65</td>\n",
              "    </tr>\n",
              "    <tr>\n",
              "      <td>35402</td>\n",
              "      <td>النجمات يسرا الهام شاهين و ليلي علوي يهدون اغن...</td>\n",
              "      <td>2</td>\n",
              "      <td>107</td>\n",
              "    </tr>\n",
              "    <tr>\n",
              "      <td>6287</td>\n",
              "      <td>ممتاز افضل يميزه الموقع ويطل باب النساء ممتاز ...</td>\n",
              "      <td>2</td>\n",
              "      <td>193</td>\n",
              "    </tr>\n",
              "    <tr>\n",
              "      <td>82275</td>\n",
              "      <td>الثالثه مفضلتي ابكي قراتها ياسرني حب الاخوه جز...</td>\n",
              "      <td>2</td>\n",
              "      <td>74</td>\n",
              "    </tr>\n",
              "    <tr>\n",
              "      <td>85660</td>\n",
              "      <td>تعجز الكلمات وصفه جبران خليل استخدم اسلوب ينفذ...</td>\n",
              "      <td>2</td>\n",
              "      <td>450</td>\n",
              "    </tr>\n",
              "    <tr>\n",
              "      <td>51445</td>\n",
              "      <td>استودع الله امري كله دقه وجله الرجاء التكلان ا...</td>\n",
              "      <td>2</td>\n",
              "      <td>98</td>\n",
              "    </tr>\n",
              "    <tr>\n",
              "      <td>4114</td>\n",
              "      <td>فلورا بارك الفندق جميل وخدماته ممتازه واجوائه ...</td>\n",
              "      <td>2</td>\n",
              "      <td>231</td>\n",
              "    </tr>\n",
              "    <tr>\n",
              "      <td>19930</td>\n",
              "      <td>جوده جيده</td>\n",
              "      <td>2</td>\n",
              "      <td>9</td>\n",
              "    </tr>\n",
              "    <tr>\n",
              "      <td>16271</td>\n",
              "      <td>مش عارف مقنع الشعب انو كلنا لازم نحب المرسيدس ...</td>\n",
              "      <td>2</td>\n",
              "      <td>72</td>\n",
              "    </tr>\n",
              "    <tr>\n",
              "      <td>78231</td>\n",
              "      <td>احببت شخص غازي رحمه الله قراءه الكتاب رده ودفا...</td>\n",
              "      <td>2</td>\n",
              "      <td>148</td>\n",
              "    </tr>\n",
              "    <tr>\n",
              "      <td>31738</td>\n",
              "      <td>جربت نودلز بالجمبري وارد حبه طويله باللحم لذيذ...</td>\n",
              "      <td>2</td>\n",
              "      <td>112</td>\n",
              "    </tr>\n",
              "    <tr>\n",
              "      <td>41720</td>\n",
              "      <td>بالسلامه شاء الله تعالي</td>\n",
              "      <td>2</td>\n",
              "      <td>23</td>\n",
              "    </tr>\n",
              "    <tr>\n",
              "      <td>78640</td>\n",
              "      <td>فكرت كثيرا قبل اكتب المراجعه واضع تقيم الروايه...</td>\n",
              "      <td>2</td>\n",
              "      <td>992</td>\n",
              "    </tr>\n",
              "    <tr>\n",
              "      <td>84962</td>\n",
              "      <td>اول حاجه طبعا تعليقي لازم يكون سلوب السلس المم...</td>\n",
              "      <td>2</td>\n",
              "      <td>484</td>\n",
              "    </tr>\n",
              "    <tr>\n",
              "      <td>59620</td>\n",
              "      <td>كنت اضن الطيور تهاجر لكنت كتبت ريشه اشتقت</td>\n",
              "      <td>2</td>\n",
              "      <td>41</td>\n",
              "    </tr>\n",
              "    <tr>\n",
              "      <td>76803</td>\n",
              "      <td>صحيح تعبت كثيرا اتخيل المشاهد لصعوبه الالفاظ ا...</td>\n",
              "      <td>2</td>\n",
              "      <td>103</td>\n",
              "    </tr>\n",
              "    <tr>\n",
              "      <td>70701</td>\n",
              "      <td>جميله المواقف تعرض صاحب القصه وتعايشه معها ينق...</td>\n",
              "      <td>2</td>\n",
              "      <td>75</td>\n",
              "    </tr>\n",
              "    <tr>\n",
              "      <td>93126</td>\n",
              "      <td>انصح نفسي وجميع الفتيات قرائته وعيه اعلم مره ا...</td>\n",
              "      <td>2</td>\n",
              "      <td>101</td>\n",
              "    </tr>\n",
              "    <tr>\n",
              "      <td>61297</td>\n",
              "      <td>السحب الليله الايفون رتويت للمرفقه وطبق الشروط</td>\n",
              "      <td>2</td>\n",
              "      <td>46</td>\n",
              "    </tr>\n",
              "    <tr>\n",
              "      <td>29022</td>\n",
              "      <td>المطعم قريب مكان عملي وبيتي كنت اروحله اول عشا...</td>\n",
              "      <td>2</td>\n",
              "      <td>259</td>\n",
              "    </tr>\n",
              "    <tr>\n",
              "      <td>80434</td>\n",
              "      <td>تشبه سابقتها عدم وجود الكم الاحداث مجال للمقار...</td>\n",
              "      <td>2</td>\n",
              "      <td>234</td>\n",
              "    </tr>\n",
              "    <tr>\n",
              "      <td>90716</td>\n",
              "      <td>قرات الكثير سلسله المكتبه الخضراء ابان الطفوله...</td>\n",
              "      <td>2</td>\n",
              "      <td>56</td>\n",
              "    </tr>\n",
              "    <tr>\n",
              "      <td>103762</td>\n",
              "      <td>قراته زماان لااتذكر الكثير اعتقد مجموعه قصصيه ...</td>\n",
              "      <td>2</td>\n",
              "      <td>59</td>\n",
              "    </tr>\n",
              "    <tr>\n",
              "      <td>96778</td>\n",
              "      <td>قراته اول نشر لطبعته الاولي ثلاثه اعوام ورغم ك...</td>\n",
              "      <td>2</td>\n",
              "      <td>270</td>\n",
              "    </tr>\n",
              "    <tr>\n",
              "      <td>73932</td>\n",
              "      <td>كاتب مبدع ابحرت عباراته كثيرا يحمللك شواطيء تم...</td>\n",
              "      <td>2</td>\n",
              "      <td>63</td>\n",
              "    </tr>\n",
              "    <tr>\n",
              "      <td>28665</td>\n",
              "      <td>كيكرز الدجاج وجبتي المفضله عشر سنوات سبايسي يا...</td>\n",
              "      <td>2</td>\n",
              "      <td>58</td>\n",
              "    </tr>\n",
              "    <tr>\n",
              "      <td>7752</td>\n",
              "      <td>موقع جدا مميز لقد اقمت لوحدي بشهر ابريل استمتع...</td>\n",
              "      <td>2</td>\n",
              "      <td>251</td>\n",
              "    </tr>\n",
              "    <tr>\n",
              "      <td>95117</td>\n",
              "      <td>الكتاب نفس فكره كتاب صناعه الذكاء الكثيره الال...</td>\n",
              "      <td>2</td>\n",
              "      <td>107</td>\n",
              "    </tr>\n",
              "    <tr>\n",
              "      <td>95856</td>\n",
              "      <td>نصيحه قالها احمد العايدي كنت تعتبرها روايه فات...</td>\n",
              "      <td>2</td>\n",
              "      <td>469</td>\n",
              "    </tr>\n",
              "  </tbody>\n",
              "</table>\n",
              "</div>"
            ],
            "text/plain": [
              "                                                    final  label  length\n",
              "75753   كتاب رائع جدا افدني شخصيا جدا وصحح عندي مفام م...      2     105\n",
              "74856   قراتها اعوام ربما قدر براعه التصوير لكل شخصيه ...      2      92\n",
              "35957   فخامه الرئيس عبد الفتاح السيسي اعلنها للجميع م...      2     158\n",
              "47331   ناس باقصي ضميري محله ناس الغلا واحترامي غالين ...      2      80\n",
              "55660            الناس يمشون ع نياتهمم امشي ع رجلي مساكم       2      40\n",
              "44898   بالصبر تفتح ابواب السعاده وبالشكر تدوم النعم و...      2     124\n",
              "97513   احي الشاعر العراقي المناضل كنت الكويت تنشر لاف...      2     143\n",
              "49053                                     معكم الذيبه فرح      2      15\n",
              "32292   مطعم فوندا المطاعم زلت ارجع زيارتي الاولي قبل ...      2     795\n",
              "12157   الراحه النفسيه والهدوء والجوده بفندق البارون ا...      2     446\n",
              "87780   امتع الكتب قراتها لانيس منصور ياخذنا لرحله ممت...      2      63\n",
              "19978   السلعه ممتازه ومطابقه للمواصفات انصح الجميع بت...      2      84\n",
              "51554   حسابات تميزه بتفاعل بعضهم للعطاء قامه وفاء معر...      2      61\n",
              "90277   روعه وعجبني المزيج المتكامل اللغه العربيه الفص...      2     342\n",
              "26065   المطعم الصدمه مره ممكن يكون حلو جلساته حلوه وا...      2      99\n",
              "4480     ال سي دبي ثلاثه ليالي للتوقف دبي الكثير الوقت...      2    1075\n",
              "101684  العبقري الجنوبي اجمل وابدع ماقرات تصالح البكاء...      2     179\n",
              "3826    مريح استقبال رائع الغرف مريحه والاسره خدمه الا...      2     212\n",
              "36609   شوفت محمد صلاح بيجري بسرعه ازاي الملعب اهالاست...      2      66\n",
              "28306   المطعم جديد ديكوراته جميله اكلهم جيد ونظيف الخ...      2     343\n",
              "47395                                        تمارين الصبح      2      12\n",
              "41526   اللهم نبوء بنعمتك علينا ونبوء بذنبنا فاغفر يغف...      2      65\n",
              "35402   النجمات يسرا الهام شاهين و ليلي علوي يهدون اغن...      2     107\n",
              "6287    ممتاز افضل يميزه الموقع ويطل باب النساء ممتاز ...      2     193\n",
              "82275   الثالثه مفضلتي ابكي قراتها ياسرني حب الاخوه جز...      2      74\n",
              "85660   تعجز الكلمات وصفه جبران خليل استخدم اسلوب ينفذ...      2     450\n",
              "51445   استودع الله امري كله دقه وجله الرجاء التكلان ا...      2      98\n",
              "4114    فلورا بارك الفندق جميل وخدماته ممتازه واجوائه ...      2     231\n",
              "19930                                           جوده جيده      2       9\n",
              "16271   مش عارف مقنع الشعب انو كلنا لازم نحب المرسيدس ...      2      72\n",
              "78231   احببت شخص غازي رحمه الله قراءه الكتاب رده ودفا...      2     148\n",
              "31738   جربت نودلز بالجمبري وارد حبه طويله باللحم لذيذ...      2     112\n",
              "41720                             بالسلامه شاء الله تعالي      2      23\n",
              "78640   فكرت كثيرا قبل اكتب المراجعه واضع تقيم الروايه...      2     992\n",
              "84962   اول حاجه طبعا تعليقي لازم يكون سلوب السلس المم...      2     484\n",
              "59620           كنت اضن الطيور تهاجر لكنت كتبت ريشه اشتقت      2      41\n",
              "76803   صحيح تعبت كثيرا اتخيل المشاهد لصعوبه الالفاظ ا...      2     103\n",
              "70701   جميله المواقف تعرض صاحب القصه وتعايشه معها ينق...      2      75\n",
              "93126   انصح نفسي وجميع الفتيات قرائته وعيه اعلم مره ا...      2     101\n",
              "61297      السحب الليله الايفون رتويت للمرفقه وطبق الشروط      2      46\n",
              "29022   المطعم قريب مكان عملي وبيتي كنت اروحله اول عشا...      2     259\n",
              "80434   تشبه سابقتها عدم وجود الكم الاحداث مجال للمقار...      2     234\n",
              "90716   قرات الكثير سلسله المكتبه الخضراء ابان الطفوله...      2      56\n",
              "103762  قراته زماان لااتذكر الكثير اعتقد مجموعه قصصيه ...      2      59\n",
              "96778   قراته اول نشر لطبعته الاولي ثلاثه اعوام ورغم ك...      2     270\n",
              "73932   كاتب مبدع ابحرت عباراته كثيرا يحمللك شواطيء تم...      2      63\n",
              "28665   كيكرز الدجاج وجبتي المفضله عشر سنوات سبايسي يا...      2      58\n",
              "7752    موقع جدا مميز لقد اقمت لوحدي بشهر ابريل استمتع...      2     251\n",
              "95117   الكتاب نفس فكره كتاب صناعه الذكاء الكثيره الال...      2     107\n",
              "95856   نصيحه قالها احمد العايدي كنت تعتبرها روايه فات...      2     469"
            ]
          },
          "metadata": {
            "tags": []
          },
          "execution_count": 94
        }
      ]
    },
    {
      "cell_type": "markdown",
      "metadata": {
        "id": "r6LMO2SK1_4p"
      },
      "source": [
        "# TASK #3: PLOT THE WORDCLOUD"
      ]
    },
    {
      "cell_type": "code",
      "metadata": {
        "id": "gPBOCIbxCCKE"
      },
      "source": [
        "sentences=ST_df['final'].tolist()"
      ],
      "execution_count": null,
      "outputs": []
    },
    {
      "cell_type": "code",
      "metadata": {
        "id": "4V3vfaX9Cbgr",
        "outputId": "76702e83-b1ba-4fbc-c7f6-aeeb4d8ddea6"
      },
      "source": [
        "sentences"
      ],
      "execution_count": null,
      "outputs": [
        {
          "output_type": "execute_result",
          "data": {
            "text/plain": [
              "['السلام عليكم نقلنا كفاله العامل صاحب اقامه رقم و يضهر ابشر',\n",
              " ' عندي امتحان باطنه وماقدرتش م اخلصها هدخل ع الدكتور احكيله حكايه احمد كمال ونضاله بجد شدتني جداا وماقدرتش  اخلصها بالنسبه لتجربه كاتب لاول مره احلي الحاجات اللي قريتها هوه مشروع كاتب ممتاز رد الفعل تراب الماس اقدر اقول نجح د بجدراه قعد اول صفحه يوصف وصف ملوش معني اسلوبه ف الكتابه يخليك برده تنسي انك عديت ال صفحه اصلا',\n",
              " 'كتاب رائع جدا افدني شخصيا جدا وصحح عندي مفام منهان القراءه هوايه  منهج حياه افكار الكتاب رائعه ومفيده جدا',\n",
              " 'م سيء للغايه جراند ميدويست للشقق الفندقيه فندق بر دبي عادي جدا يتم تغير ملاءات السرير يوم والبطانيات ت قديمه جدا وتجعلك تهرش بالليل واضطررنا لطلب خدمه الغرف لتغير الملاءات ايام وت الاسره مقلقه وتصدر الكثير الضوضاء الحركه بالليل ت الارائك الموجوده الغرفه قذره للغايه يمه و علينا نضع ملاءه للجلوس عليها وت تصلح للجلوس عليها وت مريحه جدا و علينا نطلب خدمه الغرف عده مرات لطلب اشياء بسيطه مثل لفات المرحاض ومناشف نظيفه لانها يتم وضعها دائما عندما تم تنظيف الغرف و لدينا غساله تعمل ايضا وتعمل عده ساعات توقف ورغم شكوانا مرات عديده يتم يبديلها و حمام السباحه العلوي خطر لوجود العديد البلاط المتشقق حول حمام السباحه وبعضها يتحرك وحوافها حاده جرحت قدم طفلتي اثناء لعبها الفندق يستحق السعر اردت تقيمه فساصنفه كفندق نجمه واحده',\n",
              " 'ارشيف اصدارات المركز العلاقات المصريه الاسرائيليه ثوره يناير',\n",
              " 'قراتها اعوام ربما قدر براعه التصوير لكل شخصيه وتوافق الاحداث بالغ الكاتب التعبيرات ضير عدمها',\n",
              " 'تنشر الفساد الدعوه ممنهجه لافساد المجتمع و سلخه القيم و الفضيله تعطيل الهيئه الاختلاط بالوظائف قياده المراه للسياره دخول النساء للملاعب نشر الدياثه و زنا المحارم بالاعلام مصارعه شبه عاريه بحضور النساء السماح للجامعيات بالخروج وقت',\n",
              " 'فخامه الرئيس عبد الفتاح السيسي اعلنها للجميع منتدي شباب العالم بانه سيترشح للانتخابات القادمه شاء الله اشوفكم نوفمبر القادم المنتدي يعني السيسي رئيسي قصف جبهه',\n",
              " 'ناس باقصي ضميري محله ناس الغلا واحترامي غالين عندي و الغلا نمله وصباح الخير قولو',\n",
              " ' عندك ادخل واختار جهاز بعقد يمكن يعطونك',\n",
              " 'لماذا يتاخر تصحيح الخطا يختفي الاختفاء الجهل بالحقيقه الكسل الفكري و الضعف الخلقي مجموعه المقالات القصيره يجاوب الشيخ محمد الغزالي الاسئله ويعلق يقع بالعالم الاسلامي يقع شدني الكتاب طريقه الكتابه تعكس الحسره حال المسلمين الايام يدل مدي غيره الشيخ الغزالي الدين الاسلامي اعجبتني صراحه الكاتب الشديده والمؤلمه عجب الكتاب منع النشر لمده طويله اننا نتعلم',\n",
              " 'الناس يمشون ع نياتهمم امشي ع رجلي مساكم ',\n",
              " 'قال الله تعالي لموسي وهارون عليهما السلام اجيبت دعوتكما',\n",
              " 'بالصبر تفتح ابواب السعاده وبالشكر تدوم النعم وبذكر الله تطمئن القلوب جعلنا الله واياكم الذاكرين الشاكرين الصابرين صباح الخير',\n",
              " 'البنوك السعوديه باي حق يالراجحي تسحب القسط الان مؤسسه النقد يحق رفع شكوي',\n",
              " 'احي الشاعر العراقي المناضل كنت الكويت تنشر لافتاتك بجانب اخو ناجي العلي وكلاكما تكملان لافتاتك الذهن و خواطرك معبره يكتفي اللسان بترديد لافتاتك',\n",
              " 'احرق القصه تستحق القراءه لمن يريد متابعه عقليات ومراحل تطور وتخبط فكر فتاه ناضجه  كنت يسهل استفزازه تبحث عمل روائي ادبي ناضج تبحث شخصيات تمثلها فتيات مثاليات ملائكه يرتكبن اخطاء تقراها وابحث كتيبات الوعظ استطع اكمال قرائتها ل صدرت لني كن',\n",
              " 'معكم الذيبه فرح',\n",
              " 'مطعم فوندا المطاعم زلت ارجع زيارتي الاولي قبل سنه اطباقه مكسيكيه اصيله حسب شهاده زملاء العمل الامريكان تربوا العادات المكسيكيه مكان المطعم قريب كورنيش الخبر امام الواجهه البحريه لكنه شارع خلفي ضيق لكنك بالعاده تجد صعوبه الحصول المواقف جلسته وديكوره جيده الجو مكتوم قليلا ودائما تشعر بضيقه اول دخولك العماله جيده لكنها تحيط الزبون بالاهتمام الكافي يقدم المطعم طبق ناتشوز وصلصه حمراء حاره كطبق ضيافه اردت تختصر مجموعه الاطباق طبق واحد تجرب طبق فوندا سوبريما الطبق لفائف لحم ودجاج وتاكو واحده بالاضافه كوره رز وكوره فول الطبق شامل و لذيذ يوجد المطعم كبق السيزلر طبق شهي جدا بالاضافه الهمبرجر باس بشكل عام اطباق المطعم ممتازه ولذيذه عنده مشكله الاحيان المحافظه الجوده معظم الاحيان شيء تمام الاحيان يختل الطعم الاطباق وخصوصا لفائف الذره والناتشوز فستجد طعم بائت تقيمي بسبب عدم تمكنه الحفاظ الجوده مره',\n",
              " 'الراحه النفسيه والهدوء والجوده بفندق البارون الدخول الاول فندق البارون تشعر بالراحه النفسيه التامه حدث معي يوم سفر وصولي فندق البارون فتم الاستقبال الوجه الامثل بمعني ادق الوجه المثاليه العليا الاستقبال الضيافه الانتقال الغرف كانت بالنسبه غرفه كماليات ممتازه كنت افتقد تصفح مواقع الانترنت الغرفه التراس يمكنك التصفح بحريه تامه وبالنسبه لجوده الماكولات والمشروبات فبمتاز فندق البارون بامهر الشيفات يقدمون اكبر والذ تشكيله ماكولات شكرا فندق البارون',\n",
              " 'امتع الكتب قراتها لانيس منصور ياخذنا لرحله ممتعه لثقافات الشعوب',\n",
              " 'الاتحاد يتوج بطلا للدوري الاتحاد مهدد بالهبوط رايت الدهر مختلفا يدور حزنا يدو',\n",
              " 'السلعه ممتازه ومطابقه للمواصفات انصح الجميع بتجربتها سرعه توصيل الطلب سهله الاستخدام',\n",
              " 'حسابات تميزه بتفاعل بعضهم للعطاء قامه وفاء معرفتهم شرف منهم ن',\n",
              " ' تعرف استراليا بالكنغر والكوالا فا تعرف ايضا باكلاتها مثل الفيجي مايت الافطار والتم تام كشوكلاته والرد روستر كوجبه فرديه عائليه كالبيك مكه وجده لاهل السعوديه يشتهر المطعم الاسترالي ٪ بوجبات الدجاج المشوي والبطاطا المهروس البازلا ويشتهر ايضا بالبطاطس المقلي العريض والمتعرج البطاطس مستويه تماما يعتبرها البعض سلبيه واعتبرها ميزه خصوصا بهارتهم الحمراء الغريبه يبدوا فلفل احمر مطحون ايضا وجبه البحريات قطع ربيان مقليه بطريقه مميزه ولديهم ايضا المشويات البورتغاليه انسي سندويشات التشكن راب والبرجرز المطعم يعتبر يعتبر المطاعم السريعه وطلبات السيارات فجلساته الداخليه مثل جلسات ماكدونالز وهنقري جاك برقركنج فرع باستراليا اسعاره مناسبه ومقاربه للمطاعم السريعه المشهوره ومنتشر جميع دوله استراليا وخصوصا المطارات',\n",
              " 'رجعنا الصداره شاءالله تنتهي الصداره',\n",
              " 'روعه وعجبني المزيج المتكامل اللغه العربيه الفصحي وروعه التشبيهات واللغه العاميه السلسه الرو شويه تشبيهات دا بجد مشوفتش كدا قبل كدا برنس احمد مراد وعجبتني الحبكه الدراميه اللي كنت اتوقع حاجه يحصل عكسها صحيح كنت بتنرفز كدا ف نفس الوقت كنت مستمتعه جدا الاحداث مش ماشيه هوايا دايما اللي يجذب الباه ويخليي الواحد عاوز يعرف هيحصل كدا الاخر مفيش كدا',\n",
              " 'المطعم الصدمه مره ممكن يكون حلو جلساته حلوه والطاقم فلبيني يالله الجنه شديتوا حيلكم وجبتوا شيف صاحي',\n",
              " ' ال سي دبي ثلاثه ليالي للتوقف دبي الكثير الوقت للتخطيط لرحل كنت ابحث م يشعرني بامان ثي مسافره لوحدها و المضيفون شانهم يساعدوني معرفه الاشياء الممتعه القليله للقيام جئت الم المناسب ت الغرفه كبيره و نظيفه جدا وجبات الافطار ت لذيذه بكثير كنت اتوقع عصير طازج قهوه اللبن الرائب عجه البيض المخصصه حبوب الافطار افضل شيء القيلا السابعه و الاربعون الخدمه الشخصيه خلال زيار ت انسي خارج البلده زوجها توماس مساعدا و بوسعه ليضمن اقامه طيبه اعطاني افكار الجوله سمح باستخدام الهاتف اتصل بسيارات الاجره وجه الخرائط مضيف رائع عندما علم بان مي التالي للزياره كوشي الهند اعطاني اسم ابن عمه و رقم هاتفه سكن حال واجهتني مشاكل للروعه الحقيقه جعلني الم اشعر بالعنايه و قيمه رائعه و خاصه بالنسبه لمدينه مكلفه مثل دبي تقع لا سبعه و اربعون بالقرب المطار الامر حقا مريحا ركوي سياره الاجره لمده عشره دقائق و انها حي سكني هاديء و وسط عمل جميع دبي يكن مشكله باصطياد سيارات الاجره و الوصول البلده بسرعه يمكن ايضا استخدام المترو ه منطقه وقوف بالقرب المنزل المترو نظيفا و سهل الاستخدام لذلك عملي مجرد شيء تكون علم النصيحه الاخيره اطبع الخريطه موقع لا سبعه و اربعون سيساعد سائق سياره الاجره بالعثور الم بسهوله',\n",
              " 'العبقري الجنوبي اجمل وابدع ماقرات تصالح البكاء يدي زرقاء اليمامه طفلتها بكائيه ليليه كلمات سبارتاكوس الاخيره الارض والجرح ينفتح الموت اللوحات مذكرات المتنبي الورقه الاخيره الجنوبي',\n",
              " 'جيدي بتس سرقوا نص ملابسه',\n",
              " 'وجبه برقر بطاطس وبيبسي مطعم البيك ب ريالات',\n",
              " 'اخيرا خرجت ام بدور البهجه ف صفحه وللاسف ملقتش الاكتئاب والاكتئاب والاكتئاب والاكتئاب مشكلتي بعيش ي الاحداث كها بتحصل حقيقي وبعيش شخصيه ف الرو وبحط نفسي مكها ودا كله بيجي حالتي النفسه المهم باب الخروج الضمير والصدق والاخلاص دنيا بقي الكذب الاساس وعدام الضمير وحطاط الاخلاق يبقي الطبيعي نعيش اللي عشينه دا ثورات وغضب و فوضي و الاخر حروب المصرين وبعضهم عش المصالح بقرا مكنش ادامي المثل المقوله بتاعه الكرسي بيغير وللاسف دا بيعمي مش بيغير احنا فعلا ممكن نعيش الهم دا لحد والله اعلم حصل كدا المهم بالنسبه للرو  اعلق حاجه بالشكل دا دي ماخدتش نجوم مين اخد اكيد تفاصيل هتحصل ف البلد جي بالي احداث الرو واظن فعلا احنا ماشين الاتجاه دا والله يقدر اللي ك بيهون عليا كميه الاكتئاب دي بقي النصح اللي ك بيديها ليحيي خلاص سنين وتجارب فعلا مش كلام واعظ والسلام وكم حبه لنور وجودها اصلا الرو ك بيهون كميه الاكتئاب دي واللي وصلتله الاخر بعيد السياسه الس دا تركيبه غريبه كدا محدش يقدر يفهمه يقدر يتوقع رد فعله كنت عارفه وحافظه صم ك كتاب مفتوح ادامك فاهتلاقي جزء مستخبي محدش يعرفه غيره',\n",
              " 'اعداء الامه حيتجننوا شنب الشيخ خالد الجندي انك خالفت السنه النبويه الحليق رفقا بالقوارير وربنا',\n",
              " 'مريح استقبال رائع الغرف مريحه والاسره خدمه الانترنت قويه الفندق الفطور لذيذ العصائر قربه سوق واقف يعني حوالي دقائق مشي المواقف ترابيه فرق الغرف المطله البحر المدينه نوعا الغرف صغيره لان الفندق بعيد قليلا الكورنيش',\n",
              " 'السلام عليكم اقدر اصرف شيك باسمي بطاقه الاحوال منتهيه',\n",
              " 'شوفت محمد صلاح بيجري بسرعه ازاي الملعب اهالاستاذ بيجري المنهج اسرع',\n",
              " ' عندي قولي واقول',\n",
              " 'المطعم جديد ديكوراته جميله اكلهم جيد ونظيف الخدمه مميزه مشي مو مره الباقي تمام جربت عندهم البرياني باللحم مره لذيذ ودجاج كاري طعمه جيد السلطه عاديه مافيها صوص خضار مقطعه بدون ملح  شي عندك الطله الملح والخل وزيت زيتون تحط كيفك والمشي عندهم نصيحه تجربوها مره مو لذيذه ناحيه البرياني والدامات والعيش تمام كده لاتاخذو شي ثاني  احد جربه قبلكم وعجبه',\n",
              " 'كلين للتنحيف والرشاقه متابعه دوريه خلال مده الكورس خبراء تغذيه رشاقه حي',\n",
              " 'يعقل سعر شقه مساحه م برنامج سكني مدينه جيزان بسعر الف ريال',\n",
              " 'تمارين الصبح',\n",
              " 'روايه عجيبه صفحه تتاكد نهايه حد لخيال ماركيز الكثيف المتشابك بجموحه وسحره الحياه ماكوندو المدينه الوقع الظريف تبدا الصفر تاخذ الحياه الاجتماعيه والاقتصاديه و السياسه والثقافيه طريقها التطور والنمو نسق رائع ومشوق اول السلاله ال بوينديا مربوط الشجره والاخير يلتهمه النمل تكشف النبؤات تختصر الروايه بكل مافيها حياه وعزله دامت قرن لسلاله تتكرر تحققت الاسطوره القديمه بوليد يحمل ذنب خنزير',\n",
              " 'بجد بيشد ل جزء كام صفحه كده بحس توهت و اقراها ت ببطء شويه عش اراجع التفاصيل  عندي قناعه ماستوعبتوش كليه و هاقراه ت قريب و صادق تخيل وصله لو الحقيقه المحزنه نفسي مايبقاش يوتيبيا',\n",
              " 'الشيء الوحيد وصلوا للعالميه المسيار تري كانوا يشجعون ريال مدريد ضد النصر',\n",
              " 'حرام',\n",
              " 'حافه الذاكره طيات الماضي تغرد ذكريات يصعب علينا نسيانها مررنا حدوثها اعواما ذكريات مؤلمه',\n",
              " 'السويد ايطاليا هدف دي روسي مرماه تصفيات كاس العالم',\n",
              " 'اللهم نبوء بنعمتك علينا ونبوء بذنبنا فاغفر يغفر الذنوب صباح الخير',\n",
              " 'انتهائك قراءه الكتاب ستخرج بمشاعر متضاربه كليا',\n",
              " 'الداده دودي بقت مامي مافيش حاجه تمنع الاقتباس تدوير القصه والتغير وتقديمها بشكل مختلف وجديد الابقاء الخط الرئيسي والتيمه الاساسيه للفيلم العكس تماما ده بيبقي دافع قوي لمشاهده روئ وافكار مختلفه تقدر تحدد معاها التاثيرات الدراميه المختلفه يتم تحريف القصه بشكل هزلي ومستفز سبيل تقديم صوره لايت ممكن نقف وندور الاسباب الحقيقه اللي دفعت بمؤلف ومخرج قدر الحرفيه والتميز لتقديم مثل العمل واعتقد المؤلف خالد جلال مؤلف فيلم الانسه مامي اتوجه ليه السؤال ده مش ح يعرف يجاوب الاقل اجابته ح تبقي مشوهه ومقترنه بان مافيش حاجه تمنع الاقتباس زي قولنا قبل كدا سلمنا بالامر الواقع وبحكايه الاقتباس ح نلاقي قصه الفيلم ماخوذه الفيلم الاجنبي رجل العائله للممثل نيكولاس كيدج عام ح نشوف التغير شخصيات العمل الرئيسيه فبدل بطل العمل اللي بتقوم قصه الفيلم رجل حنشوف تحول لسيده وده مش مشكله نهائيا تكون المشاهد الغير عقلانيه بنخلينا نرجع تاني نسال وندور فمثلا اغلب السيدات تتمني تصبح يكون لديها اطفال جزمنا بان السيدات تعير لذلك الحلم اهتمام حنلاقي باب تاني اتفتح ازاي تقدم فيلم عائلي موجه الاخص للاسره والاطفال وتقدم المواقف المرفوضه فنيا اللي بنسعي اننا نحاربها زي الاغاني الشعبيه الهابطه والحركات اللي بتشير معاني مقبوله تحدثنا الاداء التمثيلي اذكر الكثير خاصه ياسمين عبدالعزيز تقدم جديد يذكر وادائها مفتعل ومشابه للشخصيه قدمتها بفيلم الداده دودي الكثير الحركات وتعبيرات الوجه دور الممثل حسن الرداد الممكن الاشاده بمحاولته للبس عباءه الكوميديا بالاضافه ادائه مقبولا الفيلم يختلف كثيرا نفس نوعيه الافلام قدمتها ياسمين عبدالعزيز مؤخرا',\n",
              " 'النجمات يسرا الهام شاهين و ليلي علوي يهدون اغنيه ياولا للكابتن محمد صلاح برنامج صالون انوشكا اليسراويه جروب',\n",
              " 'ممتاز افضل يميزه الموقع ويطل باب النساء ممتاز جدا للعوائل يعيبه السعر مبالغ جدا اللفت ضيق ولازم تنطر وقت رديت الصلاه خاصه صلاه الجمعه لاتوجد فخامه الاثاث نظيف لكنه قديم والمنظر بشكل عام جيد جدا',\n",
              " 'الثالثه مفضلتي ابكي قراتها ياسرني حب الاخوه جزئي المفضل قاموا بحمايه اختهم',\n",
              " 'تعجز الكلمات وصفه جبران خليل استخدم اسلوب ينفذ الروح ليعطيك خلاصه و خيرات خبراته الحياه الكتاب عصاره فكر و خلاصه تجارب منهج حياه وضعه جبران خليل جبران ببراعه و بلاغه تفوق الوصف سطور معدوده و نقله للعربيه د ثروت عكاشه ببلاغه و اسلوب عميق التاثير المعني نهائيا استمتعت بقراءه النص بالانجليزيه و النظر اعرفه معاني الترجمه الموازيه الممتازه لابد قراءه الكتاب الراقي الرائع تحديث قراءه بعضا رمل و زبد اريد اضافه مختلف تماما النبي الاسلوب ابسط و اوضح كثيرا',\n",
              " 'استودع الله امري كله دقه وجله الرجاء التكلان اللهم اسالك تياسير تعقبها تباشير يارب بشرني يسر خاطري',\n",
              " 'فلورا بارك الفندق جميل وخدماته ممتازه واجوائه عائليه وموقعه ممتاز بقرب ديره ستي سنتر الطاقم ودود وخدوم الغرف واسعه ونظيفه تشعر بوجودك فندق خمس نجوم لديهم مواصلات يوميه للمولات والاماكن السياحيه افطار الصباح متنوع ويلبي جميع الاذواق',\n",
              " 'جوده جيده',\n",
              " 'مش عارف مقنع الشعب انو كلنا لازم نحب المرسيدس مش راكبها يعني نفسي اركبها',\n",
              " 'غلطت مره وقلت',\n",
              " 'احببت شخص غازي رحمه الله قراءه الكتاب رده ودفاعه نفسه رصانه الادب وجلال الهدوء حضره العقل سباب شتم انتقاص الكتاب يعرج الكثير الاحداث ومواقف الاختلاف',\n",
              " 'جربت نودلز بالجمبري وارد حبه طويله باللحم لذيذ اتوقع الطعم طبعا اخترته بدون صوص طريقه العلب والاكل حلوه جرب تندم',\n",
              " 'بالسلامه شاء الله تعالي',\n",
              " 'فكرت كثيرا قبل اكتب المراجعه واضع تقيم الروايه لانها تستحق اعمالا عقليا نتيجه الاسلوب الفني والرسائل القيميه تحملها الروايه رمزيه اولها اخرها تكونت خمسه فصول استمر رمز الدين فصل يتحرك ترك صراع الدين والعلم الفصل الخامس اثر بشكل مباشر حياه الناس واصابهم خواء وفراغ وصل لرؤيه الاشباح واحلام السكر المجمل تدور الروايه حول الصراع البشري الدائم قوي الخير المطلق والشر المطلق الرمز الماخوذ قصص الانبياء نصل للفصل الاخير اجمل رمزيات الروايه صراع الدين والعلم انتهي المطلق ودخلنا معمعه النسبيات صار الحق موزعا وظهر الشر الناس انفسهم ادعي التدين يحرف الدين شجع العلم ونزع القيم الاخلاقيه صار شرا الناس كتبت المراجعه ثلاث مرات اقتنع الان لانها تجذبني الشرح اريد اشرح شيئا اتدخل سيقرؤها اريد ايضا اجعلها تبدو روايه سطحيه قوه خير وشر فقط رائعه واسلوب نجيب مذهل لدرجه انك التقطت الرمز فصل وعرفت نهايه الفصل تتوقف القراءه قلم سيال ورشيق اشعر بالملل معه واستطيع قراءه الروايه اؤكد براءته اتهم بعدها اجده يحط قدر الدين وا حدث الروايه شيئا يقصده اظنه يحتاج مجهودا كبيرا له شخص يحاكمك بمرجعه ويسل سيفا يقبل راي',\n",
              " 'اول حاجه طبعا تعليقي لازم يكون سلوب السلس الممتع اللي فعلا باخذك القراءه بالنسبه للمضون العبقري الطيب الصالح بيتكلم حاجه واضحه جدا و الصراع الحداثه و صاله و اصلا العلاقه بينهم عنيفه جدا و علش كدا شايف العنف و الشراسه اللي اغلبنا حس بيها اثناء القراءه ما تجد الصراع ف الروايه و و جهه نظري ده نجاح كبير جدا و اعطيه النقطه الخامسه علش النهايه اخر صفحتين قال ه عاوز يعيش علش يستحق يعيش اجله مقتنعتش خالص شخصيا زي دي تقول كلام زي ده ل اصلا ده واحد عايش طول حياته متغرب الروايه المجمل رائعه',\n",
              " 'فيدرر سيكون دبي نهايه العام لذلك واقعيا يمكن يلعب مبادله خصوصا ها تنتهي اول مباراه ل',\n",
              " 'كنت اضن الطيور تهاجر لكنت كتبت ريشه اشتقت',\n",
              " 'اهداف مصر وغانا شيكابالا يسجل تصفيات كاس العالم',\n",
              " ' ضد عمل وقياده المراه اللهم رد عبدك محمد بن نايف ونا ضد قياده المراه حنا ولد نايف',\n",
              " 'صحيح تعبت كثيرا اتخيل المشاهد لصعوبه الالفاظ المعربه يبقي التشويق والاسلوب الرائع لدان براون طاغيا الكل',\n",
              " 'السنه النبويه قل قبل نومك باسمك ربي وضعت جنبي ارفعه امسكت نفسي فارحمها ارسلتها فاحفظها تحفظ عبادك الصالحين',\n",
              " 'جميله المواقف تعرض صاحب القصه وتعايشه معها ينقص الكاتب الاسلوب النحوي الجيد',\n",
              " 'نفسي اعرف كيفيه قراءه الكتاب ممكن حد يفيدني سمحتم',\n",
              " 'وش بقي راحت امي صحيح ماقدر اناديج يايمه يوم الله يرحمج ويرحم موتي المسلمين',\n",
              " 'الامور تهون والمرء يستحيل ينسي اوجعه فقط نصير اقوي لشيء لاننا الغالب نملك خيارا اخر',\n",
              " 'هوب اعتراض',\n",
              " 'تبالغ مختلف لانه ذكي وجريء وطفولته وحياته تشبهلنا وماعنده شي يخسره صح تذكرت ليش حذفته لانه مره بيتهاو',\n",
              " 'انصح نفسي وجميع الفتيات قرائته وعيه اعلم مره اعدت قرائته لكني اجد نفسي كثيرا امس الحاجه لاعاده قرائته',\n",
              " 'السحب الليله الايفون رتويت للمرفقه وطبق الشروط',\n",
              " 'السلام عليكم صحيح اغلاق البناء الذاتي نهايه شهر مارس',\n",
              " 'مهو قتال جماعه اقسم بالله ليفاي شقه شق دقيقه وين القتال بالموضوع',\n",
              " 'الان القائد العام للقوات المسلحه العربيه الليبيه المشير خليفه بلقاسم حفتر وامر غرفه عمليات الكرامه اللواء',\n",
              " 'خامه رديئه تتمزق بسرعه مقاس صغير جدا يناسب الناس البالغين ابدا',\n",
              " 'المطعم قريب مكان عملي وبيتي كنت اروحله اول عشان الكوفي والحلا والمشروبات صديقاتي الحين تغير المنيو حقهم وصار طعم اكلهم افضل بكثير اضافو شي حلو للصغار بيزا يسويها الطفل بنفسه يجيبون المكونات والعجينه يسويها يحطونها بالفرن سعرها ب ريال شامله المشروب وطعمها لذيذ',\n",
              " 'تشبه سابقتها عدم وجود الكم الاحداث مجال للمقارنه يطرح تساؤلات عميقه و فلسفيه احيا احببت ارافق شخصيه روايه اهم مراحل حياتها اصل معها ايضا لهذه المرحله النزاع الفكري استطاع تركي يستعيد اعجابي بالثلاثيه الجزء بعدما كنت فقدت معظمه الشميسي',\n",
              " 'قرات الكثير سلسله المكتبه الخضراء ابان الطفوله يااه ايام',\n",
              " 'قراته زماان لااتذكر الكثير اعتقد مجموعه قصصيه للعضه والعبره',\n",
              " 'قراته اول نشر لطبعته الاولي ثلاثه اعوام ورغم كوني اعتزم العنوان النسيان انني اجدني الان بحاجه لتكراره كتاب وجب يتواجد مكاتبكن اناث اصفه ب وقود معنوي وذخيره الالهام لذروه التواقيت الصعبه وبغض الطرف جيء نصوص الدعاء الافكار تتنافي مبادئي يحوي منهجا ينتفع يحتذي بافكاره ساده',\n",
              " 'اتوا انصار اسقاط الولايه جحر دفاعا الحريه المزعومه حسابات وهميه وحسابات مغرر للاسف',\n",
              " 'محتاجه حد يكون بايع حياته عشان يبتدي',\n",
              " 'كاتب مبدع ابحرت عباراته كثيرا يحمللك شواطيء تمر عليها مخيلتك قط',\n",
              " 'احلل ليوم القيامه نهبت نص حلالي',\n",
              " ' ماكنت عارف معاير الاختيار اكرمنا بسكوتك بالله وش سوا السومه تصفيات كاس العالم دوري ابطال اسيا',\n",
              " 'شعر النصر الهلال متصدر تكلمني الامارات عمان سوريا غرد بالخير رتويت دعاء',\n",
              " 'كيكرز الدجاج وجبتي المفضله عشر سنوات سبايسي ياحبيبي سبايسي',\n",
              " 'ايجابيات و سلبيات سيتيزين ايكو درايف رجاليه \\u202b انالوج بعقارب ساعه رياضيه',\n",
              " 'موقع جدا مميز لقد اقمت لوحدي بشهر ابريل استمتعت كثيرا موقعه جذبني كثيرا واطلالته رائعه الغرف صغيره والافطار مميز الانترنت مجاني توفر موقف سياره جيد طاقم الفندق متعاون ومرحب اشكر اخبرني بالفندق يصلح لشخصين الفندق مبني فتره قديمه جدا والاضائه جيده كفايه',\n",
              " 'الكتاب نفس فكره كتاب صناعه الذكاء الكثيره الالغاز والمسائل تحدي لجميع قدرات العقل البشريه المختلفه كتاب جيد',\n",
              " 'نصيحه قالها احمد العايدي كنت تعتبرها روايه فاتركها شكرته صدقه اقرا الروايه ل شعرت تجليات ادبيه فعلا روايه اعجبني الجمل الادبيه المستمده التامل الحياه وشعرت اريد التوقف عندها وتذوقها مرارا خرجت بصراحه قراءه العمل وجدت الوصف مضكا وخفيفا وبعضه ثقيلا ومقززا وبعضه متعبا وممزقا تاتي اخر صفحه فتجعلني اقراها مرات ومرات افهمها فزادت تشتتي كنت احاول جمعه نسيت اقول بدايه صفحه كانت تشعرني بتقليد لاسلوب احمد خالد توفيق محمد سليمان عبد الملك مماجعلني اشعر الاسلوب مسخ اساليب اخري',\n",
              " 'عاجلمقتل واصابه شخصا ب تفجير سيطره بابل']"
            ]
          },
          "metadata": {
            "tags": []
          },
          "execution_count": 97
        }
      ]
    },
    {
      "cell_type": "code",
      "metadata": {
        "colab": {
          "base_uri": "https://localhost:8080/",
          "height": 54
        },
        "id": "YjHQTPniCdmO",
        "outputId": "8921b977-399c-4c60-cd10-3d2ed50c3167"
      },
      "source": [
        "len(sentences)"
      ],
      "execution_count": null,
      "outputs": [
        {
          "output_type": "execute_result",
          "data": {
            "text/plain": [
              "100"
            ]
          },
          "metadata": {
            "tags": []
          },
          "execution_count": 98
        }
      ]
    },
    {
      "cell_type": "code",
      "metadata": {
        "id": "sAilrZRd1_4r"
      },
      "source": [
        "sentences_as_one_string=\" \".join(sentences)"
      ],
      "execution_count": null,
      "outputs": []
    },
    {
      "cell_type": "code",
      "metadata": {
        "id": "ygvm9M_p1_4s",
        "outputId": "91d9a999-c904-4a4a-ea23-3b71f0f4daab"
      },
      "source": [
        "sentences_as_one_string"
      ],
      "execution_count": null,
      "outputs": [
        {
          "output_type": "execute_result",
          "data": {
            "text/plain": [
              "'السلام عليكم نقلنا كفاله العامل صاحب اقامه رقم و يضهر ابشر  عندي امتحان باطنه وماقدرتش م اخلصها هدخل ع الدكتور احكيله حكايه احمد كمال ونضاله بجد شدتني جداا وماقدرتش  اخلصها بالنسبه لتجربه كاتب لاول مره احلي الحاجات اللي قريتها هوه مشروع كاتب ممتاز رد الفعل تراب الماس اقدر اقول نجح د بجدراه قعد اول صفحه يوصف وصف ملوش معني اسلوبه ف الكتابه يخليك برده تنسي انك عديت ال صفحه اصلا كتاب رائع جدا افدني شخصيا جدا وصحح عندي مفام منهان القراءه هوايه  منهج حياه افكار الكتاب رائعه ومفيده جدا م سيء للغايه جراند ميدويست للشقق الفندقيه فندق بر دبي عادي جدا يتم تغير ملاءات السرير يوم والبطانيات ت قديمه جدا وتجعلك تهرش بالليل واضطررنا لطلب خدمه الغرف لتغير الملاءات ايام وت الاسره مقلقه وتصدر الكثير الضوضاء الحركه بالليل ت الارائك الموجوده الغرفه قذره للغايه يمه و علينا نضع ملاءه للجلوس عليها وت تصلح للجلوس عليها وت مريحه جدا و علينا نطلب خدمه الغرف عده مرات لطلب اشياء بسيطه مثل لفات المرحاض ومناشف نظيفه لانها يتم وضعها دائما عندما تم تنظيف الغرف و لدينا غساله تعمل ايضا وتعمل عده ساعات توقف ورغم شكوانا مرات عديده يتم يبديلها و حمام السباحه العلوي خطر لوجود العديد البلاط المتشقق حول حمام السباحه وبعضها يتحرك وحوافها حاده جرحت قدم طفلتي اثناء لعبها الفندق يستحق السعر اردت تقيمه فساصنفه كفندق نجمه واحده ارشيف اصدارات المركز العلاقات المصريه الاسرائيليه ثوره يناير قراتها اعوام ربما قدر براعه التصوير لكل شخصيه وتوافق الاحداث بالغ الكاتب التعبيرات ضير عدمها تنشر الفساد الدعوه ممنهجه لافساد المجتمع و سلخه القيم و الفضيله تعطيل الهيئه الاختلاط بالوظائف قياده المراه للسياره دخول النساء للملاعب نشر الدياثه و زنا المحارم بالاعلام مصارعه شبه عاريه بحضور النساء السماح للجامعيات بالخروج وقت فخامه الرئيس عبد الفتاح السيسي اعلنها للجميع منتدي شباب العالم بانه سيترشح للانتخابات القادمه شاء الله اشوفكم نوفمبر القادم المنتدي يعني السيسي رئيسي قصف جبهه ناس باقصي ضميري محله ناس الغلا واحترامي غالين عندي و الغلا نمله وصباح الخير قولو  عندك ادخل واختار جهاز بعقد يمكن يعطونك لماذا يتاخر تصحيح الخطا يختفي الاختفاء الجهل بالحقيقه الكسل الفكري و الضعف الخلقي مجموعه المقالات القصيره يجاوب الشيخ محمد الغزالي الاسئله ويعلق يقع بالعالم الاسلامي يقع شدني الكتاب طريقه الكتابه تعكس الحسره حال المسلمين الايام يدل مدي غيره الشيخ الغزالي الدين الاسلامي اعجبتني صراحه الكاتب الشديده والمؤلمه عجب الكتاب منع النشر لمده طويله اننا نتعلم الناس يمشون ع نياتهمم امشي ع رجلي مساكم  قال الله تعالي لموسي وهارون عليهما السلام اجيبت دعوتكما بالصبر تفتح ابواب السعاده وبالشكر تدوم النعم وبذكر الله تطمئن القلوب جعلنا الله واياكم الذاكرين الشاكرين الصابرين صباح الخير البنوك السعوديه باي حق يالراجحي تسحب القسط الان مؤسسه النقد يحق رفع شكوي احي الشاعر العراقي المناضل كنت الكويت تنشر لافتاتك بجانب اخو ناجي العلي وكلاكما تكملان لافتاتك الذهن و خواطرك معبره يكتفي اللسان بترديد لافتاتك احرق القصه تستحق القراءه لمن يريد متابعه عقليات ومراحل تطور وتخبط فكر فتاه ناضجه  كنت يسهل استفزازه تبحث عمل روائي ادبي ناضج تبحث شخصيات تمثلها فتيات مثاليات ملائكه يرتكبن اخطاء تقراها وابحث كتيبات الوعظ استطع اكمال قرائتها ل صدرت لني كن معكم الذيبه فرح مطعم فوندا المطاعم زلت ارجع زيارتي الاولي قبل سنه اطباقه مكسيكيه اصيله حسب شهاده زملاء العمل الامريكان تربوا العادات المكسيكيه مكان المطعم قريب كورنيش الخبر امام الواجهه البحريه لكنه شارع خلفي ضيق لكنك بالعاده تجد صعوبه الحصول المواقف جلسته وديكوره جيده الجو مكتوم قليلا ودائما تشعر بضيقه اول دخولك العماله جيده لكنها تحيط الزبون بالاهتمام الكافي يقدم المطعم طبق ناتشوز وصلصه حمراء حاره كطبق ضيافه اردت تختصر مجموعه الاطباق طبق واحد تجرب طبق فوندا سوبريما الطبق لفائف لحم ودجاج وتاكو واحده بالاضافه كوره رز وكوره فول الطبق شامل و لذيذ يوجد المطعم كبق السيزلر طبق شهي جدا بالاضافه الهمبرجر باس بشكل عام اطباق المطعم ممتازه ولذيذه عنده مشكله الاحيان المحافظه الجوده معظم الاحيان شيء تمام الاحيان يختل الطعم الاطباق وخصوصا لفائف الذره والناتشوز فستجد طعم بائت تقيمي بسبب عدم تمكنه الحفاظ الجوده مره الراحه النفسيه والهدوء والجوده بفندق البارون الدخول الاول فندق البارون تشعر بالراحه النفسيه التامه حدث معي يوم سفر وصولي فندق البارون فتم الاستقبال الوجه الامثل بمعني ادق الوجه المثاليه العليا الاستقبال الضيافه الانتقال الغرف كانت بالنسبه غرفه كماليات ممتازه كنت افتقد تصفح مواقع الانترنت الغرفه التراس يمكنك التصفح بحريه تامه وبالنسبه لجوده الماكولات والمشروبات فبمتاز فندق البارون بامهر الشيفات يقدمون اكبر والذ تشكيله ماكولات شكرا فندق البارون امتع الكتب قراتها لانيس منصور ياخذنا لرحله ممتعه لثقافات الشعوب الاتحاد يتوج بطلا للدوري الاتحاد مهدد بالهبوط رايت الدهر مختلفا يدور حزنا يدو السلعه ممتازه ومطابقه للمواصفات انصح الجميع بتجربتها سرعه توصيل الطلب سهله الاستخدام حسابات تميزه بتفاعل بعضهم للعطاء قامه وفاء معرفتهم شرف منهم ن  تعرف استراليا بالكنغر والكوالا فا تعرف ايضا باكلاتها مثل الفيجي مايت الافطار والتم تام كشوكلاته والرد روستر كوجبه فرديه عائليه كالبيك مكه وجده لاهل السعوديه يشتهر المطعم الاسترالي ٪ بوجبات الدجاج المشوي والبطاطا المهروس البازلا ويشتهر ايضا بالبطاطس المقلي العريض والمتعرج البطاطس مستويه تماما يعتبرها البعض سلبيه واعتبرها ميزه خصوصا بهارتهم الحمراء الغريبه يبدوا فلفل احمر مطحون ايضا وجبه البحريات قطع ربيان مقليه بطريقه مميزه ولديهم ايضا المشويات البورتغاليه انسي سندويشات التشكن راب والبرجرز المطعم يعتبر يعتبر المطاعم السريعه وطلبات السيارات فجلساته الداخليه مثل جلسات ماكدونالز وهنقري جاك برقركنج فرع باستراليا اسعاره مناسبه ومقاربه للمطاعم السريعه المشهوره ومنتشر جميع دوله استراليا وخصوصا المطارات رجعنا الصداره شاءالله تنتهي الصداره روعه وعجبني المزيج المتكامل اللغه العربيه الفصحي وروعه التشبيهات واللغه العاميه السلسه الرو شويه تشبيهات دا بجد مشوفتش كدا قبل كدا برنس احمد مراد وعجبتني الحبكه الدراميه اللي كنت اتوقع حاجه يحصل عكسها صحيح كنت بتنرفز كدا ف نفس الوقت كنت مستمتعه جدا الاحداث مش ماشيه هوايا دايما اللي يجذب الباه ويخليي الواحد عاوز يعرف هيحصل كدا الاخر مفيش كدا المطعم الصدمه مره ممكن يكون حلو جلساته حلوه والطاقم فلبيني يالله الجنه شديتوا حيلكم وجبتوا شيف صاحي  ال سي دبي ثلاثه ليالي للتوقف دبي الكثير الوقت للتخطيط لرحل كنت ابحث م يشعرني بامان ثي مسافره لوحدها و المضيفون شانهم يساعدوني معرفه الاشياء الممتعه القليله للقيام جئت الم المناسب ت الغرفه كبيره و نظيفه جدا وجبات الافطار ت لذيذه بكثير كنت اتوقع عصير طازج قهوه اللبن الرائب عجه البيض المخصصه حبوب الافطار افضل شيء القيلا السابعه و الاربعون الخدمه الشخصيه خلال زيار ت انسي خارج البلده زوجها توماس مساعدا و بوسعه ليضمن اقامه طيبه اعطاني افكار الجوله سمح باستخدام الهاتف اتصل بسيارات الاجره وجه الخرائط مضيف رائع عندما علم بان مي التالي للزياره كوشي الهند اعطاني اسم ابن عمه و رقم هاتفه سكن حال واجهتني مشاكل للروعه الحقيقه جعلني الم اشعر بالعنايه و قيمه رائعه و خاصه بالنسبه لمدينه مكلفه مثل دبي تقع لا سبعه و اربعون بالقرب المطار الامر حقا مريحا ركوي سياره الاجره لمده عشره دقائق و انها حي سكني هاديء و وسط عمل جميع دبي يكن مشكله باصطياد سيارات الاجره و الوصول البلده بسرعه يمكن ايضا استخدام المترو ه منطقه وقوف بالقرب المنزل المترو نظيفا و سهل الاستخدام لذلك عملي مجرد شيء تكون علم النصيحه الاخيره اطبع الخريطه موقع لا سبعه و اربعون سيساعد سائق سياره الاجره بالعثور الم بسهوله العبقري الجنوبي اجمل وابدع ماقرات تصالح البكاء يدي زرقاء اليمامه طفلتها بكائيه ليليه كلمات سبارتاكوس الاخيره الارض والجرح ينفتح الموت اللوحات مذكرات المتنبي الورقه الاخيره الجنوبي جيدي بتس سرقوا نص ملابسه وجبه برقر بطاطس وبيبسي مطعم البيك ب ريالات اخيرا خرجت ام بدور البهجه ف صفحه وللاسف ملقتش الاكتئاب والاكتئاب والاكتئاب والاكتئاب مشكلتي بعيش ي الاحداث كها بتحصل حقيقي وبعيش شخصيه ف الرو وبحط نفسي مكها ودا كله بيجي حالتي النفسه المهم باب الخروج الضمير والصدق والاخلاص دنيا بقي الكذب الاساس وعدام الضمير وحطاط الاخلاق يبقي الطبيعي نعيش اللي عشينه دا ثورات وغضب و فوضي و الاخر حروب المصرين وبعضهم عش المصالح بقرا مكنش ادامي المثل المقوله بتاعه الكرسي بيغير وللاسف دا بيعمي مش بيغير احنا فعلا ممكن نعيش الهم دا لحد والله اعلم حصل كدا المهم بالنسبه للرو  اعلق حاجه بالشكل دا دي ماخدتش نجوم مين اخد اكيد تفاصيل هتحصل ف البلد جي بالي احداث الرو واظن فعلا احنا ماشين الاتجاه دا والله يقدر اللي ك بيهون عليا كميه الاكتئاب دي بقي النصح اللي ك بيديها ليحيي خلاص سنين وتجارب فعلا مش كلام واعظ والسلام وكم حبه لنور وجودها اصلا الرو ك بيهون كميه الاكتئاب دي واللي وصلتله الاخر بعيد السياسه الس دا تركيبه غريبه كدا محدش يقدر يفهمه يقدر يتوقع رد فعله كنت عارفه وحافظه صم ك كتاب مفتوح ادامك فاهتلاقي جزء مستخبي محدش يعرفه غيره اعداء الامه حيتجننوا شنب الشيخ خالد الجندي انك خالفت السنه النبويه الحليق رفقا بالقوارير وربنا مريح استقبال رائع الغرف مريحه والاسره خدمه الانترنت قويه الفندق الفطور لذيذ العصائر قربه سوق واقف يعني حوالي دقائق مشي المواقف ترابيه فرق الغرف المطله البحر المدينه نوعا الغرف صغيره لان الفندق بعيد قليلا الكورنيش السلام عليكم اقدر اصرف شيك باسمي بطاقه الاحوال منتهيه شوفت محمد صلاح بيجري بسرعه ازاي الملعب اهالاستاذ بيجري المنهج اسرع  عندي قولي واقول المطعم جديد ديكوراته جميله اكلهم جيد ونظيف الخدمه مميزه مشي مو مره الباقي تمام جربت عندهم البرياني باللحم مره لذيذ ودجاج كاري طعمه جيد السلطه عاديه مافيها صوص خضار مقطعه بدون ملح  شي عندك الطله الملح والخل وزيت زيتون تحط كيفك والمشي عندهم نصيحه تجربوها مره مو لذيذه ناحيه البرياني والدامات والعيش تمام كده لاتاخذو شي ثاني  احد جربه قبلكم وعجبه كلين للتنحيف والرشاقه متابعه دوريه خلال مده الكورس خبراء تغذيه رشاقه حي يعقل سعر شقه مساحه م برنامج سكني مدينه جيزان بسعر الف ريال تمارين الصبح روايه عجيبه صفحه تتاكد نهايه حد لخيال ماركيز الكثيف المتشابك بجموحه وسحره الحياه ماكوندو المدينه الوقع الظريف تبدا الصفر تاخذ الحياه الاجتماعيه والاقتصاديه و السياسه والثقافيه طريقها التطور والنمو نسق رائع ومشوق اول السلاله ال بوينديا مربوط الشجره والاخير يلتهمه النمل تكشف النبؤات تختصر الروايه بكل مافيها حياه وعزله دامت قرن لسلاله تتكرر تحققت الاسطوره القديمه بوليد يحمل ذنب خنزير بجد بيشد ل جزء كام صفحه كده بحس توهت و اقراها ت ببطء شويه عش اراجع التفاصيل  عندي قناعه ماستوعبتوش كليه و هاقراه ت قريب و صادق تخيل وصله لو الحقيقه المحزنه نفسي مايبقاش يوتيبيا الشيء الوحيد وصلوا للعالميه المسيار تري كانوا يشجعون ريال مدريد ضد النصر حرام حافه الذاكره طيات الماضي تغرد ذكريات يصعب علينا نسيانها مررنا حدوثها اعواما ذكريات مؤلمه السويد ايطاليا هدف دي روسي مرماه تصفيات كاس العالم اللهم نبوء بنعمتك علينا ونبوء بذنبنا فاغفر يغفر الذنوب صباح الخير انتهائك قراءه الكتاب ستخرج بمشاعر متضاربه كليا الداده دودي بقت مامي مافيش حاجه تمنع الاقتباس تدوير القصه والتغير وتقديمها بشكل مختلف وجديد الابقاء الخط الرئيسي والتيمه الاساسيه للفيلم العكس تماما ده بيبقي دافع قوي لمشاهده روئ وافكار مختلفه تقدر تحدد معاها التاثيرات الدراميه المختلفه يتم تحريف القصه بشكل هزلي ومستفز سبيل تقديم صوره لايت ممكن نقف وندور الاسباب الحقيقه اللي دفعت بمؤلف ومخرج قدر الحرفيه والتميز لتقديم مثل العمل واعتقد المؤلف خالد جلال مؤلف فيلم الانسه مامي اتوجه ليه السؤال ده مش ح يعرف يجاوب الاقل اجابته ح تبقي مشوهه ومقترنه بان مافيش حاجه تمنع الاقتباس زي قولنا قبل كدا سلمنا بالامر الواقع وبحكايه الاقتباس ح نلاقي قصه الفيلم ماخوذه الفيلم الاجنبي رجل العائله للممثل نيكولاس كيدج عام ح نشوف التغير شخصيات العمل الرئيسيه فبدل بطل العمل اللي بتقوم قصه الفيلم رجل حنشوف تحول لسيده وده مش مشكله نهائيا تكون المشاهد الغير عقلانيه بنخلينا نرجع تاني نسال وندور فمثلا اغلب السيدات تتمني تصبح يكون لديها اطفال جزمنا بان السيدات تعير لذلك الحلم اهتمام حنلاقي باب تاني اتفتح ازاي تقدم فيلم عائلي موجه الاخص للاسره والاطفال وتقدم المواقف المرفوضه فنيا اللي بنسعي اننا نحاربها زي الاغاني الشعبيه الهابطه والحركات اللي بتشير معاني مقبوله تحدثنا الاداء التمثيلي اذكر الكثير خاصه ياسمين عبدالعزيز تقدم جديد يذكر وادائها مفتعل ومشابه للشخصيه قدمتها بفيلم الداده دودي الكثير الحركات وتعبيرات الوجه دور الممثل حسن الرداد الممكن الاشاده بمحاولته للبس عباءه الكوميديا بالاضافه ادائه مقبولا الفيلم يختلف كثيرا نفس نوعيه الافلام قدمتها ياسمين عبدالعزيز مؤخرا النجمات يسرا الهام شاهين و ليلي علوي يهدون اغنيه ياولا للكابتن محمد صلاح برنامج صالون انوشكا اليسراويه جروب ممتاز افضل يميزه الموقع ويطل باب النساء ممتاز جدا للعوائل يعيبه السعر مبالغ جدا اللفت ضيق ولازم تنطر وقت رديت الصلاه خاصه صلاه الجمعه لاتوجد فخامه الاثاث نظيف لكنه قديم والمنظر بشكل عام جيد جدا الثالثه مفضلتي ابكي قراتها ياسرني حب الاخوه جزئي المفضل قاموا بحمايه اختهم تعجز الكلمات وصفه جبران خليل استخدم اسلوب ينفذ الروح ليعطيك خلاصه و خيرات خبراته الحياه الكتاب عصاره فكر و خلاصه تجارب منهج حياه وضعه جبران خليل جبران ببراعه و بلاغه تفوق الوصف سطور معدوده و نقله للعربيه د ثروت عكاشه ببلاغه و اسلوب عميق التاثير المعني نهائيا استمتعت بقراءه النص بالانجليزيه و النظر اعرفه معاني الترجمه الموازيه الممتازه لابد قراءه الكتاب الراقي الرائع تحديث قراءه بعضا رمل و زبد اريد اضافه مختلف تماما النبي الاسلوب ابسط و اوضح كثيرا استودع الله امري كله دقه وجله الرجاء التكلان اللهم اسالك تياسير تعقبها تباشير يارب بشرني يسر خاطري فلورا بارك الفندق جميل وخدماته ممتازه واجوائه عائليه وموقعه ممتاز بقرب ديره ستي سنتر الطاقم ودود وخدوم الغرف واسعه ونظيفه تشعر بوجودك فندق خمس نجوم لديهم مواصلات يوميه للمولات والاماكن السياحيه افطار الصباح متنوع ويلبي جميع الاذواق جوده جيده مش عارف مقنع الشعب انو كلنا لازم نحب المرسيدس مش راكبها يعني نفسي اركبها غلطت مره وقلت احببت شخص غازي رحمه الله قراءه الكتاب رده ودفاعه نفسه رصانه الادب وجلال الهدوء حضره العقل سباب شتم انتقاص الكتاب يعرج الكثير الاحداث ومواقف الاختلاف جربت نودلز بالجمبري وارد حبه طويله باللحم لذيذ اتوقع الطعم طبعا اخترته بدون صوص طريقه العلب والاكل حلوه جرب تندم بالسلامه شاء الله تعالي فكرت كثيرا قبل اكتب المراجعه واضع تقيم الروايه لانها تستحق اعمالا عقليا نتيجه الاسلوب الفني والرسائل القيميه تحملها الروايه رمزيه اولها اخرها تكونت خمسه فصول استمر رمز الدين فصل يتحرك ترك صراع الدين والعلم الفصل الخامس اثر بشكل مباشر حياه الناس واصابهم خواء وفراغ وصل لرؤيه الاشباح واحلام السكر المجمل تدور الروايه حول الصراع البشري الدائم قوي الخير المطلق والشر المطلق الرمز الماخوذ قصص الانبياء نصل للفصل الاخير اجمل رمزيات الروايه صراع الدين والعلم انتهي المطلق ودخلنا معمعه النسبيات صار الحق موزعا وظهر الشر الناس انفسهم ادعي التدين يحرف الدين شجع العلم ونزع القيم الاخلاقيه صار شرا الناس كتبت المراجعه ثلاث مرات اقتنع الان لانها تجذبني الشرح اريد اشرح شيئا اتدخل سيقرؤها اريد ايضا اجعلها تبدو روايه سطحيه قوه خير وشر فقط رائعه واسلوب نجيب مذهل لدرجه انك التقطت الرمز فصل وعرفت نهايه الفصل تتوقف القراءه قلم سيال ورشيق اشعر بالملل معه واستطيع قراءه الروايه اؤكد براءته اتهم بعدها اجده يحط قدر الدين وا حدث الروايه شيئا يقصده اظنه يحتاج مجهودا كبيرا له شخص يحاكمك بمرجعه ويسل سيفا يقبل راي اول حاجه طبعا تعليقي لازم يكون سلوب السلس الممتع اللي فعلا باخذك القراءه بالنسبه للمضون العبقري الطيب الصالح بيتكلم حاجه واضحه جدا و الصراع الحداثه و صاله و اصلا العلاقه بينهم عنيفه جدا و علش كدا شايف العنف و الشراسه اللي اغلبنا حس بيها اثناء القراءه ما تجد الصراع ف الروايه و و جهه نظري ده نجاح كبير جدا و اعطيه النقطه الخامسه علش النهايه اخر صفحتين قال ه عاوز يعيش علش يستحق يعيش اجله مقتنعتش خالص شخصيا زي دي تقول كلام زي ده ل اصلا ده واحد عايش طول حياته متغرب الروايه المجمل رائعه فيدرر سيكون دبي نهايه العام لذلك واقعيا يمكن يلعب مبادله خصوصا ها تنتهي اول مباراه ل كنت اضن الطيور تهاجر لكنت كتبت ريشه اشتقت اهداف مصر وغانا شيكابالا يسجل تصفيات كاس العالم  ضد عمل وقياده المراه اللهم رد عبدك محمد بن نايف ونا ضد قياده المراه حنا ولد نايف صحيح تعبت كثيرا اتخيل المشاهد لصعوبه الالفاظ المعربه يبقي التشويق والاسلوب الرائع لدان براون طاغيا الكل السنه النبويه قل قبل نومك باسمك ربي وضعت جنبي ارفعه امسكت نفسي فارحمها ارسلتها فاحفظها تحفظ عبادك الصالحين جميله المواقف تعرض صاحب القصه وتعايشه معها ينقص الكاتب الاسلوب النحوي الجيد نفسي اعرف كيفيه قراءه الكتاب ممكن حد يفيدني سمحتم وش بقي راحت امي صحيح ماقدر اناديج يايمه يوم الله يرحمج ويرحم موتي المسلمين الامور تهون والمرء يستحيل ينسي اوجعه فقط نصير اقوي لشيء لاننا الغالب نملك خيارا اخر هوب اعتراض تبالغ مختلف لانه ذكي وجريء وطفولته وحياته تشبهلنا وماعنده شي يخسره صح تذكرت ليش حذفته لانه مره بيتهاو انصح نفسي وجميع الفتيات قرائته وعيه اعلم مره اعدت قرائته لكني اجد نفسي كثيرا امس الحاجه لاعاده قرائته السحب الليله الايفون رتويت للمرفقه وطبق الشروط السلام عليكم صحيح اغلاق البناء الذاتي نهايه شهر مارس مهو قتال جماعه اقسم بالله ليفاي شقه شق دقيقه وين القتال بالموضوع الان القائد العام للقوات المسلحه العربيه الليبيه المشير خليفه بلقاسم حفتر وامر غرفه عمليات الكرامه اللواء خامه رديئه تتمزق بسرعه مقاس صغير جدا يناسب الناس البالغين ابدا المطعم قريب مكان عملي وبيتي كنت اروحله اول عشان الكوفي والحلا والمشروبات صديقاتي الحين تغير المنيو حقهم وصار طعم اكلهم افضل بكثير اضافو شي حلو للصغار بيزا يسويها الطفل بنفسه يجيبون المكونات والعجينه يسويها يحطونها بالفرن سعرها ب ريال شامله المشروب وطعمها لذيذ تشبه سابقتها عدم وجود الكم الاحداث مجال للمقارنه يطرح تساؤلات عميقه و فلسفيه احيا احببت ارافق شخصيه روايه اهم مراحل حياتها اصل معها ايضا لهذه المرحله النزاع الفكري استطاع تركي يستعيد اعجابي بالثلاثيه الجزء بعدما كنت فقدت معظمه الشميسي قرات الكثير سلسله المكتبه الخضراء ابان الطفوله يااه ايام قراته زماان لااتذكر الكثير اعتقد مجموعه قصصيه للعضه والعبره قراته اول نشر لطبعته الاولي ثلاثه اعوام ورغم كوني اعتزم العنوان النسيان انني اجدني الان بحاجه لتكراره كتاب وجب يتواجد مكاتبكن اناث اصفه ب وقود معنوي وذخيره الالهام لذروه التواقيت الصعبه وبغض الطرف جيء نصوص الدعاء الافكار تتنافي مبادئي يحوي منهجا ينتفع يحتذي بافكاره ساده اتوا انصار اسقاط الولايه جحر دفاعا الحريه المزعومه حسابات وهميه وحسابات مغرر للاسف محتاجه حد يكون بايع حياته عشان يبتدي كاتب مبدع ابحرت عباراته كثيرا يحمللك شواطيء تمر عليها مخيلتك قط احلل ليوم القيامه نهبت نص حلالي  ماكنت عارف معاير الاختيار اكرمنا بسكوتك بالله وش سوا السومه تصفيات كاس العالم دوري ابطال اسيا شعر النصر الهلال متصدر تكلمني الامارات عمان سوريا غرد بالخير رتويت دعاء كيكرز الدجاج وجبتي المفضله عشر سنوات سبايسي ياحبيبي سبايسي ايجابيات و سلبيات سيتيزين ايكو درايف رجاليه \\u202b انالوج بعقارب ساعه رياضيه موقع جدا مميز لقد اقمت لوحدي بشهر ابريل استمتعت كثيرا موقعه جذبني كثيرا واطلالته رائعه الغرف صغيره والافطار مميز الانترنت مجاني توفر موقف سياره جيد طاقم الفندق متعاون ومرحب اشكر اخبرني بالفندق يصلح لشخصين الفندق مبني فتره قديمه جدا والاضائه جيده كفايه الكتاب نفس فكره كتاب صناعه الذكاء الكثيره الالغاز والمسائل تحدي لجميع قدرات العقل البشريه المختلفه كتاب جيد نصيحه قالها احمد العايدي كنت تعتبرها روايه فاتركها شكرته صدقه اقرا الروايه ل شعرت تجليات ادبيه فعلا روايه اعجبني الجمل الادبيه المستمده التامل الحياه وشعرت اريد التوقف عندها وتذوقها مرارا خرجت بصراحه قراءه العمل وجدت الوصف مضكا وخفيفا وبعضه ثقيلا ومقززا وبعضه متعبا وممزقا تاتي اخر صفحه فتجعلني اقراها مرات ومرات افهمها فزادت تشتتي كنت احاول جمعه نسيت اقول بدايه صفحه كانت تشعرني بتقليد لاسلوب احمد خالد توفيق محمد سليمان عبد الملك مماجعلني اشعر الاسلوب مسخ اساليب اخري عاجلمقتل واصابه شخصا ب تفجير سيطره بابل'"
            ]
          },
          "metadata": {
            "tags": []
          },
          "execution_count": 100
        }
      ]
    },
    {
      "cell_type": "code",
      "metadata": {
        "id": "Miz3ZKJb1_4s"
      },
      "source": [
        "t=sentences_as_one_string"
      ],
      "execution_count": null,
      "outputs": []
    },
    {
      "cell_type": "code",
      "metadata": {
        "colab": {
          "base_uri": "https://localhost:8080/",
          "height": 626
        },
        "id": "2GVjDXBFCK7_",
        "outputId": "5c866692-0432-4ed1-d22c-f48fff53e231"
      },
      "source": [
        "import os\n",
        "!pip install python-bidi\n",
        "!pip install arabic_reshaper\n",
        "import arabic_reshaper\n",
        "from bidi.algorithm import get_display\n",
        "import codecs \n",
        "!pip install WordCloud\n",
        "from wordcloud import WordCloud\n",
        "#f=codecs.open('val_labr.csv','r','utf-8')#read the whole text \n",
        "text=arabic_reshaper.reshape(t) \n",
        "#make the text readable for non arabic liabiry \n",
        "text=get_display(text)\n",
        "wordcloud=WordCloud(font_path='fonts/arabtype.ttf').generate(text)\n",
        "plt.figure(figsize=(20,20))\n",
        "\n",
        "plt.imshow(wordcloud,interpolation= \"bilinear\")\n",
        "plt.show()"
      ],
      "execution_count": null,
      "outputs": [
        {
          "output_type": "stream",
          "text": [
            "Requirement already satisfied: python-bidi in c:\\users\\sayne.elec.store\\anaconda3\\lib\\site-packages (0.4.2)\n",
            "Requirement already satisfied: six in c:\\users\\sayne.elec.store\\appdata\\roaming\\python\\python37\\site-packages (from python-bidi) (1.14.0)\n",
            "Requirement already satisfied: arabic_reshaper in c:\\users\\sayne.elec.store\\anaconda3\\lib\\site-packages (2.1.3)\n",
            "Requirement already satisfied: setuptools in c:\\users\\sayne.elec.store\\anaconda3\\lib\\site-packages (from arabic_reshaper) (41.4.0)\n",
            "Requirement already satisfied: future in c:\\users\\sayne.elec.store\\anaconda3\\lib\\site-packages (from arabic_reshaper) (0.17.1)\n",
            "Requirement already satisfied: WordCloud in c:\\users\\sayne.elec.store\\anaconda3\\lib\\site-packages (1.8.1)\n",
            "Requirement already satisfied: matplotlib in c:\\users\\sayne.elec.store\\anaconda3\\lib\\site-packages (from WordCloud) (3.1.1)\n",
            "Requirement already satisfied: numpy>=1.6.1 in c:\\users\\sayne.elec.store\\anaconda3\\lib\\site-packages (from WordCloud) (1.16.5)\n",
            "Requirement already satisfied: pillow in c:\\users\\sayne.elec.store\\anaconda3\\lib\\site-packages (from WordCloud) (6.2.0)\n",
            "Requirement already satisfied: cycler>=0.10 in c:\\users\\sayne.elec.store\\anaconda3\\lib\\site-packages (from matplotlib->WordCloud) (0.10.0)\n",
            "Requirement already satisfied: kiwisolver>=1.0.1 in c:\\users\\sayne.elec.store\\anaconda3\\lib\\site-packages (from matplotlib->WordCloud) (1.1.0)\n",
            "Requirement already satisfied: pyparsing!=2.0.4,!=2.1.2,!=2.1.6,>=2.0.1 in c:\\users\\sayne.elec.store\\anaconda3\\lib\\site-packages (from matplotlib->WordCloud) (2.4.2)\n",
            "Requirement already satisfied: python-dateutil>=2.1 in c:\\users\\sayne.elec.store\\appdata\\roaming\\python\\python37\\site-packages (from matplotlib->WordCloud) (2.8.1)\n",
            "Requirement already satisfied: six in c:\\users\\sayne.elec.store\\appdata\\roaming\\python\\python37\\site-packages (from cycler>=0.10->matplotlib->WordCloud) (1.14.0)\n",
            "Requirement already satisfied: setuptools in c:\\users\\sayne.elec.store\\anaconda3\\lib\\site-packages (from kiwisolver>=1.0.1->matplotlib->WordCloud) (41.4.0)\n"
          ],
          "name": "stdout"
        },
        {
          "output_type": "display_data",
          "data": {
            "image/png": "[encoded data removed]",
            "text/plain": [
              "<Figure size 1440x1440 with 1 Axes>"
            ]
          },
          "metadata": {
            "tags": []
          }
        }
      ]
    },
    {
      "cell_type": "markdown",
      "metadata": {
        "id": "Y0GmpAjG3GiH"
      },
      "source": [
        "# TASK #4: PERFORM DATA CLEANING - REMOVE PUNCTUATION FROM TEXT"
      ]
    },
    {
      "cell_type": "code",
      "metadata": {
        "colab": {
          "base_uri": "https://localhost:8080/",
          "height": 34
        },
        "id": "fMoyni7vLnBj",
        "outputId": "a53ff402-92e0-4909-afdd-f6fe7f96eec3"
      },
      "source": [
        "import string\n",
        "string.punctuation"
      ],
      "execution_count": null,
      "outputs": [
        {
          "output_type": "execute_result",
          "data": {
            "text/plain": [
              "'!\"#$%&\\'()*+,-./:;<=>?@[\\\\]^_`{|}~'"
            ]
          },
          "metadata": {
            "tags": []
          },
          "execution_count": 107
        }
      ]
    },
    {
      "cell_type": "code",
      "metadata": {
        "id": "6fXNKTwHPIBN"
      },
      "source": [
        "\n",
        "Test = 'Good morning beautiful people :)...I am having fun learning Machine learning and AI!!'"
      ],
      "execution_count": null,
      "outputs": []
    },
    {
      "cell_type": "code",
      "metadata": {
        "id": "_2EewIUSPIHJ"
      },
      "source": [
        "test_punc_removed=[char for char in Test if char not in string.punctuation]"
      ],
      "execution_count": null,
      "outputs": []
    },
    {
      "cell_type": "code",
      "metadata": {
        "id": "WTiAxMgB1_4v",
        "outputId": "02936f36-ba70-45e7-a4be-c2421bda1149"
      },
      "source": [
        "test_punc_removed"
      ],
      "execution_count": null,
      "outputs": [
        {
          "output_type": "execute_result",
          "data": {
            "text/plain": [
              "['G',\n",
              " 'o',\n",
              " 'o',\n",
              " 'd',\n",
              " ' ',\n",
              " 'm',\n",
              " 'o',\n",
              " 'r',\n",
              " 'n',\n",
              " 'i',\n",
              " 'n',\n",
              " 'g',\n",
              " ' ',\n",
              " 'b',\n",
              " 'e',\n",
              " 'a',\n",
              " 'u',\n",
              " 't',\n",
              " 'i',\n",
              " 'f',\n",
              " 'u',\n",
              " 'l',\n",
              " ' ',\n",
              " 'p',\n",
              " 'e',\n",
              " 'o',\n",
              " 'p',\n",
              " 'l',\n",
              " 'e',\n",
              " ' ',\n",
              " 'I',\n",
              " ' ',\n",
              " 'a',\n",
              " 'm',\n",
              " ' ',\n",
              " 'h',\n",
              " 'a',\n",
              " 'v',\n",
              " 'i',\n",
              " 'n',\n",
              " 'g',\n",
              " ' ',\n",
              " 'f',\n",
              " 'u',\n",
              " 'n',\n",
              " ' ',\n",
              " 'l',\n",
              " 'e',\n",
              " 'a',\n",
              " 'r',\n",
              " 'n',\n",
              " 'i',\n",
              " 'n',\n",
              " 'g',\n",
              " ' ',\n",
              " 'M',\n",
              " 'a',\n",
              " 'c',\n",
              " 'h',\n",
              " 'i',\n",
              " 'n',\n",
              " 'e',\n",
              " ' ',\n",
              " 'l',\n",
              " 'e',\n",
              " 'a',\n",
              " 'r',\n",
              " 'n',\n",
              " 'i',\n",
              " 'n',\n",
              " 'g',\n",
              " ' ',\n",
              " 'a',\n",
              " 'n',\n",
              " 'd',\n",
              " ' ',\n",
              " 'A',\n",
              " 'I']"
            ]
          },
          "metadata": {
            "tags": []
          },
          "execution_count": 110
        }
      ]
    },
    {
      "cell_type": "code",
      "metadata": {
        "colab": {
          "base_uri": "https://localhost:8080/",
          "height": 34
        },
        "id": "EMWeHpqNPIJ4",
        "outputId": "eba46aa3-a3b9-4a1e-b1b4-416204e45aba"
      },
      "source": [
        "# Join the characters again to form the string.\n",
        "Test_punc_removed_join =''.join(test_punc_removed)\n",
        "Test_punc_removed_join"
      ],
      "execution_count": null,
      "outputs": [
        {
          "output_type": "execute_result",
          "data": {
            "text/plain": [
              "'Good morning beautiful people I am having fun learning Machine learning and AI'"
            ]
          },
          "metadata": {
            "tags": []
          },
          "execution_count": 111
        }
      ]
    },
    {
      "cell_type": "markdown",
      "metadata": {
        "id": "er6FsdTb1_4w"
      },
      "source": [
        "MINI CHALLENGE #5: \n",
        "- Remove punctuations using a different method\n"
      ]
    },
    {
      "cell_type": "code",
      "metadata": {
        "id": "KqS9nRug1_4w",
        "outputId": "dd953381-47d8-44e4-c971-900ce05a9313"
      },
      "source": [
        "Test_punc_removed =[]\n",
        "for char in Test:\n",
        "    if char not in string.punctuation:\n",
        "        Test_punc_removed.append(char)\n",
        "Test_punc_removed_join=''.join(Test_punc_removed)\n",
        "Test_punc_removed_join"
      ],
      "execution_count": null,
      "outputs": [
        {
          "output_type": "execute_result",
          "data": {
            "text/plain": [
              "'Good morning beautiful people I am having fun learning Machine learning and AI'"
            ]
          },
          "metadata": {
            "tags": []
          },
          "execution_count": 112
        }
      ]
    },
    {
      "cell_type": "markdown",
      "metadata": {
        "id": "78wsji1HPWW3"
      },
      "source": [
        "# TASK 6: PERFORM DATA CLEANING - REMOVE STOPWORDS"
      ]
    },
    {
      "cell_type": "code",
      "metadata": {
        "colab": {
          "base_uri": "https://localhost:8080/",
          "height": 67
        },
        "id": "g-R51U7HQhJx",
        "outputId": "447538a3-1d15-48fb-c381-61a1a259a00a"
      },
      "source": [
        "import nltk # Natural Language tool kit \n",
        "\n",
        "nltk.download('stopwords')"
      ],
      "execution_count": null,
      "outputs": [
        {
          "output_type": "stream",
          "text": [
            "[nltk_data] Downloading package stopwords to\n",
            "[nltk_data]     C:\\Users\\sayne.elec.store\\AppData\\Roaming\\nltk_data...\n",
            "[nltk_data]   Package stopwords is already up-to-date!\n"
          ],
          "name": "stderr"
        },
        {
          "output_type": "execute_result",
          "data": {
            "text/plain": [
              "True"
            ]
          },
          "metadata": {
            "tags": []
          },
          "execution_count": 113
        }
      ]
    },
    {
      "cell_type": "code",
      "metadata": {
        "colab": {
          "base_uri": "https://localhost:8080/",
          "height": 1000
        },
        "id": "Afteb9uNPZht",
        "outputId": "63f54f75-af41-4d58-fd9d-6235f0d5d2b6"
      },
      "source": [
        "# You have to download stopwords Package to execute this command\n",
        "from nltk.corpus import stopwords\n",
        "stopwords.words('Arabic')"
      ],
      "execution_count": null,
      "outputs": [
        {
          "output_type": "execute_result",
          "data": {
            "text/plain": [
              "['إذ',\n",
              " 'إذا',\n",
              " 'إذما',\n",
              " 'إذن',\n",
              " 'أف',\n",
              " 'أقل',\n",
              " 'أكثر',\n",
              " 'ألا',\n",
              " 'إلا',\n",
              " 'التي',\n",
              " 'الذي',\n",
              " 'الذين',\n",
              " 'اللاتي',\n",
              " 'اللائي',\n",
              " 'اللتان',\n",
              " 'اللتيا',\n",
              " 'اللتين',\n",
              " 'اللذان',\n",
              " 'اللذين',\n",
              " 'اللواتي',\n",
              " 'إلى',\n",
              " 'إليك',\n",
              " 'إليكم',\n",
              " 'إليكما',\n",
              " 'إليكن',\n",
              " 'أم',\n",
              " 'أما',\n",
              " 'أما',\n",
              " 'إما',\n",
              " 'أن',\n",
              " 'إن',\n",
              " 'إنا',\n",
              " 'أنا',\n",
              " 'أنت',\n",
              " 'أنتم',\n",
              " 'أنتما',\n",
              " 'أنتن',\n",
              " 'إنما',\n",
              " 'إنه',\n",
              " 'أنى',\n",
              " 'أنى',\n",
              " 'آه',\n",
              " 'آها',\n",
              " 'أو',\n",
              " 'أولاء',\n",
              " 'أولئك',\n",
              " 'أوه',\n",
              " 'آي',\n",
              " 'أي',\n",
              " 'أيها',\n",
              " 'إي',\n",
              " 'أين',\n",
              " 'أين',\n",
              " 'أينما',\n",
              " 'إيه',\n",
              " 'بخ',\n",
              " 'بس',\n",
              " 'بعد',\n",
              " 'بعض',\n",
              " 'بك',\n",
              " 'بكم',\n",
              " 'بكم',\n",
              " 'بكما',\n",
              " 'بكن',\n",
              " 'بل',\n",
              " 'بلى',\n",
              " 'بما',\n",
              " 'بماذا',\n",
              " 'بمن',\n",
              " 'بنا',\n",
              " 'به',\n",
              " 'بها',\n",
              " 'بهم',\n",
              " 'بهما',\n",
              " 'بهن',\n",
              " 'بي',\n",
              " 'بين',\n",
              " 'بيد',\n",
              " 'تلك',\n",
              " 'تلكم',\n",
              " 'تلكما',\n",
              " 'ته',\n",
              " 'تي',\n",
              " 'تين',\n",
              " 'تينك',\n",
              " 'ثم',\n",
              " 'ثمة',\n",
              " 'حاشا',\n",
              " 'حبذا',\n",
              " 'حتى',\n",
              " 'حيث',\n",
              " 'حيثما',\n",
              " 'حين',\n",
              " 'خلا',\n",
              " 'دون',\n",
              " 'ذا',\n",
              " 'ذات',\n",
              " 'ذاك',\n",
              " 'ذان',\n",
              " 'ذانك',\n",
              " 'ذلك',\n",
              " 'ذلكم',\n",
              " 'ذلكما',\n",
              " 'ذلكن',\n",
              " 'ذه',\n",
              " 'ذو',\n",
              " 'ذوا',\n",
              " 'ذواتا',\n",
              " 'ذواتي',\n",
              " 'ذي',\n",
              " 'ذين',\n",
              " 'ذينك',\n",
              " 'ريث',\n",
              " 'سوف',\n",
              " 'سوى',\n",
              " 'شتان',\n",
              " 'عدا',\n",
              " 'عسى',\n",
              " 'عل',\n",
              " 'على',\n",
              " 'عليك',\n",
              " 'عليه',\n",
              " 'عما',\n",
              " 'عن',\n",
              " 'عند',\n",
              " 'غير',\n",
              " 'فإذا',\n",
              " 'فإن',\n",
              " 'فلا',\n",
              " 'فمن',\n",
              " 'في',\n",
              " 'فيم',\n",
              " 'فيما',\n",
              " 'فيه',\n",
              " 'فيها',\n",
              " 'قد',\n",
              " 'كأن',\n",
              " 'كأنما',\n",
              " 'كأي',\n",
              " 'كأين',\n",
              " 'كذا',\n",
              " 'كذلك',\n",
              " 'كل',\n",
              " 'كلا',\n",
              " 'كلاهما',\n",
              " 'كلتا',\n",
              " 'كلما',\n",
              " 'كليكما',\n",
              " 'كليهما',\n",
              " 'كم',\n",
              " 'كم',\n",
              " 'كما',\n",
              " 'كي',\n",
              " 'كيت',\n",
              " 'كيف',\n",
              " 'كيفما',\n",
              " 'لا',\n",
              " 'لاسيما',\n",
              " 'لدى',\n",
              " 'لست',\n",
              " 'لستم',\n",
              " 'لستما',\n",
              " 'لستن',\n",
              " 'لسن',\n",
              " 'لسنا',\n",
              " 'لعل',\n",
              " 'لك',\n",
              " 'لكم',\n",
              " 'لكما',\n",
              " 'لكن',\n",
              " 'لكنما',\n",
              " 'لكي',\n",
              " 'لكيلا',\n",
              " 'لم',\n",
              " 'لما',\n",
              " 'لن',\n",
              " 'لنا',\n",
              " 'له',\n",
              " 'لها',\n",
              " 'لهم',\n",
              " 'لهما',\n",
              " 'لهن',\n",
              " 'لو',\n",
              " 'لولا',\n",
              " 'لوما',\n",
              " 'لي',\n",
              " 'لئن',\n",
              " 'ليت',\n",
              " 'ليس',\n",
              " 'ليسا',\n",
              " 'ليست',\n",
              " 'ليستا',\n",
              " 'ليسوا',\n",
              " 'ما',\n",
              " 'ماذا',\n",
              " 'متى',\n",
              " 'مذ',\n",
              " 'مع',\n",
              " 'مما',\n",
              " 'ممن',\n",
              " 'من',\n",
              " 'منه',\n",
              " 'منها',\n",
              " 'منذ',\n",
              " 'مه',\n",
              " 'مهما',\n",
              " 'نحن',\n",
              " 'نحو',\n",
              " 'نعم',\n",
              " 'ها',\n",
              " 'هاتان',\n",
              " 'هاته',\n",
              " 'هاتي',\n",
              " 'هاتين',\n",
              " 'هاك',\n",
              " 'هاهنا',\n",
              " 'هذا',\n",
              " 'هذان',\n",
              " 'هذه',\n",
              " 'هذي',\n",
              " 'هذين',\n",
              " 'هكذا',\n",
              " 'هل',\n",
              " 'هلا',\n",
              " 'هم',\n",
              " 'هما',\n",
              " 'هن',\n",
              " 'هنا',\n",
              " 'هناك',\n",
              " 'هنالك',\n",
              " 'هو',\n",
              " 'هؤلاء',\n",
              " 'هي',\n",
              " 'هيا',\n",
              " 'هيت',\n",
              " 'هيهات',\n",
              " 'والذي',\n",
              " 'والذين',\n",
              " 'وإذ',\n",
              " 'وإذا',\n",
              " 'وإن',\n",
              " 'ولا',\n",
              " 'ولكن',\n",
              " 'ولو',\n",
              " 'وما',\n",
              " 'ومن',\n",
              " 'وهو',\n",
              " 'يا']"
            ]
          },
          "metadata": {
            "tags": []
          },
          "execution_count": 114
        }
      ]
    },
    {
      "cell_type": "code",
      "metadata": {
        "id": "VIAdiVf_PZkE"
      },
      "source": [
        "Test_punc_removed_join_clean =[ word for word in t.split() if word.lower() not in stopwords.words('Arabic')]"
      ],
      "execution_count": null,
      "outputs": []
    },
    {
      "cell_type": "code",
      "metadata": {
        "id": "gSqs9YbYPZ6D",
        "outputId": "79bd5fd3-f2ed-4611-d583-8c3fd75bc13d"
      },
      "source": [
        "Test_punc_removed_join_clean = ''.join(t)\n",
        "Test_punc_removed_join_clean"
      ],
      "execution_count": null,
      "outputs": [
        {
          "output_type": "execute_result",
          "data": {
            "text/plain": [
              "'السلام عليكم نقلنا كفاله العامل صاحب اقامه رقم و يضهر ابشر  عندي امتحان باطنه وماقدرتش م اخلصها هدخل ع الدكتور احكيله حكايه احمد كمال ونضاله بجد شدتني جداا وماقدرتش  اخلصها بالنسبه لتجربه كاتب لاول مره احلي الحاجات اللي قريتها هوه مشروع كاتب ممتاز رد الفعل تراب الماس اقدر اقول نجح د بجدراه قعد اول صفحه يوصف وصف ملوش معني اسلوبه ف الكتابه يخليك برده تنسي انك عديت ال صفحه اصلا كتاب رائع جدا افدني شخصيا جدا وصحح عندي مفام منهان القراءه هوايه  منهج حياه افكار الكتاب رائعه ومفيده جدا م سيء للغايه جراند ميدويست للشقق الفندقيه فندق بر دبي عادي جدا يتم تغير ملاءات السرير يوم والبطانيات ت قديمه جدا وتجعلك تهرش بالليل واضطررنا لطلب خدمه الغرف لتغير الملاءات ايام وت الاسره مقلقه وتصدر الكثير الضوضاء الحركه بالليل ت الارائك الموجوده الغرفه قذره للغايه يمه و علينا نضع ملاءه للجلوس عليها وت تصلح للجلوس عليها وت مريحه جدا و علينا نطلب خدمه الغرف عده مرات لطلب اشياء بسيطه مثل لفات المرحاض ومناشف نظيفه لانها يتم وضعها دائما عندما تم تنظيف الغرف و لدينا غساله تعمل ايضا وتعمل عده ساعات توقف ورغم شكوانا مرات عديده يتم يبديلها و حمام السباحه العلوي خطر لوجود العديد البلاط المتشقق حول حمام السباحه وبعضها يتحرك وحوافها حاده جرحت قدم طفلتي اثناء لعبها الفندق يستحق السعر اردت تقيمه فساصنفه كفندق نجمه واحده ارشيف اصدارات المركز العلاقات المصريه الاسرائيليه ثوره يناير قراتها اعوام ربما قدر براعه التصوير لكل شخصيه وتوافق الاحداث بالغ الكاتب التعبيرات ضير عدمها تنشر الفساد الدعوه ممنهجه لافساد المجتمع و سلخه القيم و الفضيله تعطيل الهيئه الاختلاط بالوظائف قياده المراه للسياره دخول النساء للملاعب نشر الدياثه و زنا المحارم بالاعلام مصارعه شبه عاريه بحضور النساء السماح للجامعيات بالخروج وقت فخامه الرئيس عبد الفتاح السيسي اعلنها للجميع منتدي شباب العالم بانه سيترشح للانتخابات القادمه شاء الله اشوفكم نوفمبر القادم المنتدي يعني السيسي رئيسي قصف جبهه ناس باقصي ضميري محله ناس الغلا واحترامي غالين عندي و الغلا نمله وصباح الخير قولو  عندك ادخل واختار جهاز بعقد يمكن يعطونك لماذا يتاخر تصحيح الخطا يختفي الاختفاء الجهل بالحقيقه الكسل الفكري و الضعف الخلقي مجموعه المقالات القصيره يجاوب الشيخ محمد الغزالي الاسئله ويعلق يقع بالعالم الاسلامي يقع شدني الكتاب طريقه الكتابه تعكس الحسره حال المسلمين الايام يدل مدي غيره الشيخ الغزالي الدين الاسلامي اعجبتني صراحه الكاتب الشديده والمؤلمه عجب الكتاب منع النشر لمده طويله اننا نتعلم الناس يمشون ع نياتهمم امشي ع رجلي مساكم  قال الله تعالي لموسي وهارون عليهما السلام اجيبت دعوتكما بالصبر تفتح ابواب السعاده وبالشكر تدوم النعم وبذكر الله تطمئن القلوب جعلنا الله واياكم الذاكرين الشاكرين الصابرين صباح الخير البنوك السعوديه باي حق يالراجحي تسحب القسط الان مؤسسه النقد يحق رفع شكوي احي الشاعر العراقي المناضل كنت الكويت تنشر لافتاتك بجانب اخو ناجي العلي وكلاكما تكملان لافتاتك الذهن و خواطرك معبره يكتفي اللسان بترديد لافتاتك احرق القصه تستحق القراءه لمن يريد متابعه عقليات ومراحل تطور وتخبط فكر فتاه ناضجه  كنت يسهل استفزازه تبحث عمل روائي ادبي ناضج تبحث شخصيات تمثلها فتيات مثاليات ملائكه يرتكبن اخطاء تقراها وابحث كتيبات الوعظ استطع اكمال قرائتها ل صدرت لني كن معكم الذيبه فرح مطعم فوندا المطاعم زلت ارجع زيارتي الاولي قبل سنه اطباقه مكسيكيه اصيله حسب شهاده زملاء العمل الامريكان تربوا العادات المكسيكيه مكان المطعم قريب كورنيش الخبر امام الواجهه البحريه لكنه شارع خلفي ضيق لكنك بالعاده تجد صعوبه الحصول المواقف جلسته وديكوره جيده الجو مكتوم قليلا ودائما تشعر بضيقه اول دخولك العماله جيده لكنها تحيط الزبون بالاهتمام الكافي يقدم المطعم طبق ناتشوز وصلصه حمراء حاره كطبق ضيافه اردت تختصر مجموعه الاطباق طبق واحد تجرب طبق فوندا سوبريما الطبق لفائف لحم ودجاج وتاكو واحده بالاضافه كوره رز وكوره فول الطبق شامل و لذيذ يوجد المطعم كبق السيزلر طبق شهي جدا بالاضافه الهمبرجر باس بشكل عام اطباق المطعم ممتازه ولذيذه عنده مشكله الاحيان المحافظه الجوده معظم الاحيان شيء تمام الاحيان يختل الطعم الاطباق وخصوصا لفائف الذره والناتشوز فستجد طعم بائت تقيمي بسبب عدم تمكنه الحفاظ الجوده مره الراحه النفسيه والهدوء والجوده بفندق البارون الدخول الاول فندق البارون تشعر بالراحه النفسيه التامه حدث معي يوم سفر وصولي فندق البارون فتم الاستقبال الوجه الامثل بمعني ادق الوجه المثاليه العليا الاستقبال الضيافه الانتقال الغرف كانت بالنسبه غرفه كماليات ممتازه كنت افتقد تصفح مواقع الانترنت الغرفه التراس يمكنك التصفح بحريه تامه وبالنسبه لجوده الماكولات والمشروبات فبمتاز فندق البارون بامهر الشيفات يقدمون اكبر والذ تشكيله ماكولات شكرا فندق البارون امتع الكتب قراتها لانيس منصور ياخذنا لرحله ممتعه لثقافات الشعوب الاتحاد يتوج بطلا للدوري الاتحاد مهدد بالهبوط رايت الدهر مختلفا يدور حزنا يدو السلعه ممتازه ومطابقه للمواصفات انصح الجميع بتجربتها سرعه توصيل الطلب سهله الاستخدام حسابات تميزه بتفاعل بعضهم للعطاء قامه وفاء معرفتهم شرف منهم ن  تعرف استراليا بالكنغر والكوالا فا تعرف ايضا باكلاتها مثل الفيجي مايت الافطار والتم تام كشوكلاته والرد روستر كوجبه فرديه عائليه كالبيك مكه وجده لاهل السعوديه يشتهر المطعم الاسترالي ٪ بوجبات الدجاج المشوي والبطاطا المهروس البازلا ويشتهر ايضا بالبطاطس المقلي العريض والمتعرج البطاطس مستويه تماما يعتبرها البعض سلبيه واعتبرها ميزه خصوصا بهارتهم الحمراء الغريبه يبدوا فلفل احمر مطحون ايضا وجبه البحريات قطع ربيان مقليه بطريقه مميزه ولديهم ايضا المشويات البورتغاليه انسي سندويشات التشكن راب والبرجرز المطعم يعتبر يعتبر المطاعم السريعه وطلبات السيارات فجلساته الداخليه مثل جلسات ماكدونالز وهنقري جاك برقركنج فرع باستراليا اسعاره مناسبه ومقاربه للمطاعم السريعه المشهوره ومنتشر جميع دوله استراليا وخصوصا المطارات رجعنا الصداره شاءالله تنتهي الصداره روعه وعجبني المزيج المتكامل اللغه العربيه الفصحي وروعه التشبيهات واللغه العاميه السلسه الرو شويه تشبيهات دا بجد مشوفتش كدا قبل كدا برنس احمد مراد وعجبتني الحبكه الدراميه اللي كنت اتوقع حاجه يحصل عكسها صحيح كنت بتنرفز كدا ف نفس الوقت كنت مستمتعه جدا الاحداث مش ماشيه هوايا دايما اللي يجذب الباه ويخليي الواحد عاوز يعرف هيحصل كدا الاخر مفيش كدا المطعم الصدمه مره ممكن يكون حلو جلساته حلوه والطاقم فلبيني يالله الجنه شديتوا حيلكم وجبتوا شيف صاحي  ال سي دبي ثلاثه ليالي للتوقف دبي الكثير الوقت للتخطيط لرحل كنت ابحث م يشعرني بامان ثي مسافره لوحدها و المضيفون شانهم يساعدوني معرفه الاشياء الممتعه القليله للقيام جئت الم المناسب ت الغرفه كبيره و نظيفه جدا وجبات الافطار ت لذيذه بكثير كنت اتوقع عصير طازج قهوه اللبن الرائب عجه البيض المخصصه حبوب الافطار افضل شيء القيلا السابعه و الاربعون الخدمه الشخصيه خلال زيار ت انسي خارج البلده زوجها توماس مساعدا و بوسعه ليضمن اقامه طيبه اعطاني افكار الجوله سمح باستخدام الهاتف اتصل بسيارات الاجره وجه الخرائط مضيف رائع عندما علم بان مي التالي للزياره كوشي الهند اعطاني اسم ابن عمه و رقم هاتفه سكن حال واجهتني مشاكل للروعه الحقيقه جعلني الم اشعر بالعنايه و قيمه رائعه و خاصه بالنسبه لمدينه مكلفه مثل دبي تقع لا سبعه و اربعون بالقرب المطار الامر حقا مريحا ركوي سياره الاجره لمده عشره دقائق و انها حي سكني هاديء و وسط عمل جميع دبي يكن مشكله باصطياد سيارات الاجره و الوصول البلده بسرعه يمكن ايضا استخدام المترو ه منطقه وقوف بالقرب المنزل المترو نظيفا و سهل الاستخدام لذلك عملي مجرد شيء تكون علم النصيحه الاخيره اطبع الخريطه موقع لا سبعه و اربعون سيساعد سائق سياره الاجره بالعثور الم بسهوله العبقري الجنوبي اجمل وابدع ماقرات تصالح البكاء يدي زرقاء اليمامه طفلتها بكائيه ليليه كلمات سبارتاكوس الاخيره الارض والجرح ينفتح الموت اللوحات مذكرات المتنبي الورقه الاخيره الجنوبي جيدي بتس سرقوا نص ملابسه وجبه برقر بطاطس وبيبسي مطعم البيك ب ريالات اخيرا خرجت ام بدور البهجه ف صفحه وللاسف ملقتش الاكتئاب والاكتئاب والاكتئاب والاكتئاب مشكلتي بعيش ي الاحداث كها بتحصل حقيقي وبعيش شخصيه ف الرو وبحط نفسي مكها ودا كله بيجي حالتي النفسه المهم باب الخروج الضمير والصدق والاخلاص دنيا بقي الكذب الاساس وعدام الضمير وحطاط الاخلاق يبقي الطبيعي نعيش اللي عشينه دا ثورات وغضب و فوضي و الاخر حروب المصرين وبعضهم عش المصالح بقرا مكنش ادامي المثل المقوله بتاعه الكرسي بيغير وللاسف دا بيعمي مش بيغير احنا فعلا ممكن نعيش الهم دا لحد والله اعلم حصل كدا المهم بالنسبه للرو  اعلق حاجه بالشكل دا دي ماخدتش نجوم مين اخد اكيد تفاصيل هتحصل ف البلد جي بالي احداث الرو واظن فعلا احنا ماشين الاتجاه دا والله يقدر اللي ك بيهون عليا كميه الاكتئاب دي بقي النصح اللي ك بيديها ليحيي خلاص سنين وتجارب فعلا مش كلام واعظ والسلام وكم حبه لنور وجودها اصلا الرو ك بيهون كميه الاكتئاب دي واللي وصلتله الاخر بعيد السياسه الس دا تركيبه غريبه كدا محدش يقدر يفهمه يقدر يتوقع رد فعله كنت عارفه وحافظه صم ك كتاب مفتوح ادامك فاهتلاقي جزء مستخبي محدش يعرفه غيره اعداء الامه حيتجننوا شنب الشيخ خالد الجندي انك خالفت السنه النبويه الحليق رفقا بالقوارير وربنا مريح استقبال رائع الغرف مريحه والاسره خدمه الانترنت قويه الفندق الفطور لذيذ العصائر قربه سوق واقف يعني حوالي دقائق مشي المواقف ترابيه فرق الغرف المطله البحر المدينه نوعا الغرف صغيره لان الفندق بعيد قليلا الكورنيش السلام عليكم اقدر اصرف شيك باسمي بطاقه الاحوال منتهيه شوفت محمد صلاح بيجري بسرعه ازاي الملعب اهالاستاذ بيجري المنهج اسرع  عندي قولي واقول المطعم جديد ديكوراته جميله اكلهم جيد ونظيف الخدمه مميزه مشي مو مره الباقي تمام جربت عندهم البرياني باللحم مره لذيذ ودجاج كاري طعمه جيد السلطه عاديه مافيها صوص خضار مقطعه بدون ملح  شي عندك الطله الملح والخل وزيت زيتون تحط كيفك والمشي عندهم نصيحه تجربوها مره مو لذيذه ناحيه البرياني والدامات والعيش تمام كده لاتاخذو شي ثاني  احد جربه قبلكم وعجبه كلين للتنحيف والرشاقه متابعه دوريه خلال مده الكورس خبراء تغذيه رشاقه حي يعقل سعر شقه مساحه م برنامج سكني مدينه جيزان بسعر الف ريال تمارين الصبح روايه عجيبه صفحه تتاكد نهايه حد لخيال ماركيز الكثيف المتشابك بجموحه وسحره الحياه ماكوندو المدينه الوقع الظريف تبدا الصفر تاخذ الحياه الاجتماعيه والاقتصاديه و السياسه والثقافيه طريقها التطور والنمو نسق رائع ومشوق اول السلاله ال بوينديا مربوط الشجره والاخير يلتهمه النمل تكشف النبؤات تختصر الروايه بكل مافيها حياه وعزله دامت قرن لسلاله تتكرر تحققت الاسطوره القديمه بوليد يحمل ذنب خنزير بجد بيشد ل جزء كام صفحه كده بحس توهت و اقراها ت ببطء شويه عش اراجع التفاصيل  عندي قناعه ماستوعبتوش كليه و هاقراه ت قريب و صادق تخيل وصله لو الحقيقه المحزنه نفسي مايبقاش يوتيبيا الشيء الوحيد وصلوا للعالميه المسيار تري كانوا يشجعون ريال مدريد ضد النصر حرام حافه الذاكره طيات الماضي تغرد ذكريات يصعب علينا نسيانها مررنا حدوثها اعواما ذكريات مؤلمه السويد ايطاليا هدف دي روسي مرماه تصفيات كاس العالم اللهم نبوء بنعمتك علينا ونبوء بذنبنا فاغفر يغفر الذنوب صباح الخير انتهائك قراءه الكتاب ستخرج بمشاعر متضاربه كليا الداده دودي بقت مامي مافيش حاجه تمنع الاقتباس تدوير القصه والتغير وتقديمها بشكل مختلف وجديد الابقاء الخط الرئيسي والتيمه الاساسيه للفيلم العكس تماما ده بيبقي دافع قوي لمشاهده روئ وافكار مختلفه تقدر تحدد معاها التاثيرات الدراميه المختلفه يتم تحريف القصه بشكل هزلي ومستفز سبيل تقديم صوره لايت ممكن نقف وندور الاسباب الحقيقه اللي دفعت بمؤلف ومخرج قدر الحرفيه والتميز لتقديم مثل العمل واعتقد المؤلف خالد جلال مؤلف فيلم الانسه مامي اتوجه ليه السؤال ده مش ح يعرف يجاوب الاقل اجابته ح تبقي مشوهه ومقترنه بان مافيش حاجه تمنع الاقتباس زي قولنا قبل كدا سلمنا بالامر الواقع وبحكايه الاقتباس ح نلاقي قصه الفيلم ماخوذه الفيلم الاجنبي رجل العائله للممثل نيكولاس كيدج عام ح نشوف التغير شخصيات العمل الرئيسيه فبدل بطل العمل اللي بتقوم قصه الفيلم رجل حنشوف تحول لسيده وده مش مشكله نهائيا تكون المشاهد الغير عقلانيه بنخلينا نرجع تاني نسال وندور فمثلا اغلب السيدات تتمني تصبح يكون لديها اطفال جزمنا بان السيدات تعير لذلك الحلم اهتمام حنلاقي باب تاني اتفتح ازاي تقدم فيلم عائلي موجه الاخص للاسره والاطفال وتقدم المواقف المرفوضه فنيا اللي بنسعي اننا نحاربها زي الاغاني الشعبيه الهابطه والحركات اللي بتشير معاني مقبوله تحدثنا الاداء التمثيلي اذكر الكثير خاصه ياسمين عبدالعزيز تقدم جديد يذكر وادائها مفتعل ومشابه للشخصيه قدمتها بفيلم الداده دودي الكثير الحركات وتعبيرات الوجه دور الممثل حسن الرداد الممكن الاشاده بمحاولته للبس عباءه الكوميديا بالاضافه ادائه مقبولا الفيلم يختلف كثيرا نفس نوعيه الافلام قدمتها ياسمين عبدالعزيز مؤخرا النجمات يسرا الهام شاهين و ليلي علوي يهدون اغنيه ياولا للكابتن محمد صلاح برنامج صالون انوشكا اليسراويه جروب ممتاز افضل يميزه الموقع ويطل باب النساء ممتاز جدا للعوائل يعيبه السعر مبالغ جدا اللفت ضيق ولازم تنطر وقت رديت الصلاه خاصه صلاه الجمعه لاتوجد فخامه الاثاث نظيف لكنه قديم والمنظر بشكل عام جيد جدا الثالثه مفضلتي ابكي قراتها ياسرني حب الاخوه جزئي المفضل قاموا بحمايه اختهم تعجز الكلمات وصفه جبران خليل استخدم اسلوب ينفذ الروح ليعطيك خلاصه و خيرات خبراته الحياه الكتاب عصاره فكر و خلاصه تجارب منهج حياه وضعه جبران خليل جبران ببراعه و بلاغه تفوق الوصف سطور معدوده و نقله للعربيه د ثروت عكاشه ببلاغه و اسلوب عميق التاثير المعني نهائيا استمتعت بقراءه النص بالانجليزيه و النظر اعرفه معاني الترجمه الموازيه الممتازه لابد قراءه الكتاب الراقي الرائع تحديث قراءه بعضا رمل و زبد اريد اضافه مختلف تماما النبي الاسلوب ابسط و اوضح كثيرا استودع الله امري كله دقه وجله الرجاء التكلان اللهم اسالك تياسير تعقبها تباشير يارب بشرني يسر خاطري فلورا بارك الفندق جميل وخدماته ممتازه واجوائه عائليه وموقعه ممتاز بقرب ديره ستي سنتر الطاقم ودود وخدوم الغرف واسعه ونظيفه تشعر بوجودك فندق خمس نجوم لديهم مواصلات يوميه للمولات والاماكن السياحيه افطار الصباح متنوع ويلبي جميع الاذواق جوده جيده مش عارف مقنع الشعب انو كلنا لازم نحب المرسيدس مش راكبها يعني نفسي اركبها غلطت مره وقلت احببت شخص غازي رحمه الله قراءه الكتاب رده ودفاعه نفسه رصانه الادب وجلال الهدوء حضره العقل سباب شتم انتقاص الكتاب يعرج الكثير الاحداث ومواقف الاختلاف جربت نودلز بالجمبري وارد حبه طويله باللحم لذيذ اتوقع الطعم طبعا اخترته بدون صوص طريقه العلب والاكل حلوه جرب تندم بالسلامه شاء الله تعالي فكرت كثيرا قبل اكتب المراجعه واضع تقيم الروايه لانها تستحق اعمالا عقليا نتيجه الاسلوب الفني والرسائل القيميه تحملها الروايه رمزيه اولها اخرها تكونت خمسه فصول استمر رمز الدين فصل يتحرك ترك صراع الدين والعلم الفصل الخامس اثر بشكل مباشر حياه الناس واصابهم خواء وفراغ وصل لرؤيه الاشباح واحلام السكر المجمل تدور الروايه حول الصراع البشري الدائم قوي الخير المطلق والشر المطلق الرمز الماخوذ قصص الانبياء نصل للفصل الاخير اجمل رمزيات الروايه صراع الدين والعلم انتهي المطلق ودخلنا معمعه النسبيات صار الحق موزعا وظهر الشر الناس انفسهم ادعي التدين يحرف الدين شجع العلم ونزع القيم الاخلاقيه صار شرا الناس كتبت المراجعه ثلاث مرات اقتنع الان لانها تجذبني الشرح اريد اشرح شيئا اتدخل سيقرؤها اريد ايضا اجعلها تبدو روايه سطحيه قوه خير وشر فقط رائعه واسلوب نجيب مذهل لدرجه انك التقطت الرمز فصل وعرفت نهايه الفصل تتوقف القراءه قلم سيال ورشيق اشعر بالملل معه واستطيع قراءه الروايه اؤكد براءته اتهم بعدها اجده يحط قدر الدين وا حدث الروايه شيئا يقصده اظنه يحتاج مجهودا كبيرا له شخص يحاكمك بمرجعه ويسل سيفا يقبل راي اول حاجه طبعا تعليقي لازم يكون سلوب السلس الممتع اللي فعلا باخذك القراءه بالنسبه للمضون العبقري الطيب الصالح بيتكلم حاجه واضحه جدا و الصراع الحداثه و صاله و اصلا العلاقه بينهم عنيفه جدا و علش كدا شايف العنف و الشراسه اللي اغلبنا حس بيها اثناء القراءه ما تجد الصراع ف الروايه و و جهه نظري ده نجاح كبير جدا و اعطيه النقطه الخامسه علش النهايه اخر صفحتين قال ه عاوز يعيش علش يستحق يعيش اجله مقتنعتش خالص شخصيا زي دي تقول كلام زي ده ل اصلا ده واحد عايش طول حياته متغرب الروايه المجمل رائعه فيدرر سيكون دبي نهايه العام لذلك واقعيا يمكن يلعب مبادله خصوصا ها تنتهي اول مباراه ل كنت اضن الطيور تهاجر لكنت كتبت ريشه اشتقت اهداف مصر وغانا شيكابالا يسجل تصفيات كاس العالم  ضد عمل وقياده المراه اللهم رد عبدك محمد بن نايف ونا ضد قياده المراه حنا ولد نايف صحيح تعبت كثيرا اتخيل المشاهد لصعوبه الالفاظ المعربه يبقي التشويق والاسلوب الرائع لدان براون طاغيا الكل السنه النبويه قل قبل نومك باسمك ربي وضعت جنبي ارفعه امسكت نفسي فارحمها ارسلتها فاحفظها تحفظ عبادك الصالحين جميله المواقف تعرض صاحب القصه وتعايشه معها ينقص الكاتب الاسلوب النحوي الجيد نفسي اعرف كيفيه قراءه الكتاب ممكن حد يفيدني سمحتم وش بقي راحت امي صحيح ماقدر اناديج يايمه يوم الله يرحمج ويرحم موتي المسلمين الامور تهون والمرء يستحيل ينسي اوجعه فقط نصير اقوي لشيء لاننا الغالب نملك خيارا اخر هوب اعتراض تبالغ مختلف لانه ذكي وجريء وطفولته وحياته تشبهلنا وماعنده شي يخسره صح تذكرت ليش حذفته لانه مره بيتهاو انصح نفسي وجميع الفتيات قرائته وعيه اعلم مره اعدت قرائته لكني اجد نفسي كثيرا امس الحاجه لاعاده قرائته السحب الليله الايفون رتويت للمرفقه وطبق الشروط السلام عليكم صحيح اغلاق البناء الذاتي نهايه شهر مارس مهو قتال جماعه اقسم بالله ليفاي شقه شق دقيقه وين القتال بالموضوع الان القائد العام للقوات المسلحه العربيه الليبيه المشير خليفه بلقاسم حفتر وامر غرفه عمليات الكرامه اللواء خامه رديئه تتمزق بسرعه مقاس صغير جدا يناسب الناس البالغين ابدا المطعم قريب مكان عملي وبيتي كنت اروحله اول عشان الكوفي والحلا والمشروبات صديقاتي الحين تغير المنيو حقهم وصار طعم اكلهم افضل بكثير اضافو شي حلو للصغار بيزا يسويها الطفل بنفسه يجيبون المكونات والعجينه يسويها يحطونها بالفرن سعرها ب ريال شامله المشروب وطعمها لذيذ تشبه سابقتها عدم وجود الكم الاحداث مجال للمقارنه يطرح تساؤلات عميقه و فلسفيه احيا احببت ارافق شخصيه روايه اهم مراحل حياتها اصل معها ايضا لهذه المرحله النزاع الفكري استطاع تركي يستعيد اعجابي بالثلاثيه الجزء بعدما كنت فقدت معظمه الشميسي قرات الكثير سلسله المكتبه الخضراء ابان الطفوله يااه ايام قراته زماان لااتذكر الكثير اعتقد مجموعه قصصيه للعضه والعبره قراته اول نشر لطبعته الاولي ثلاثه اعوام ورغم كوني اعتزم العنوان النسيان انني اجدني الان بحاجه لتكراره كتاب وجب يتواجد مكاتبكن اناث اصفه ب وقود معنوي وذخيره الالهام لذروه التواقيت الصعبه وبغض الطرف جيء نصوص الدعاء الافكار تتنافي مبادئي يحوي منهجا ينتفع يحتذي بافكاره ساده اتوا انصار اسقاط الولايه جحر دفاعا الحريه المزعومه حسابات وهميه وحسابات مغرر للاسف محتاجه حد يكون بايع حياته عشان يبتدي كاتب مبدع ابحرت عباراته كثيرا يحمللك شواطيء تمر عليها مخيلتك قط احلل ليوم القيامه نهبت نص حلالي  ماكنت عارف معاير الاختيار اكرمنا بسكوتك بالله وش سوا السومه تصفيات كاس العالم دوري ابطال اسيا شعر النصر الهلال متصدر تكلمني الامارات عمان سوريا غرد بالخير رتويت دعاء كيكرز الدجاج وجبتي المفضله عشر سنوات سبايسي ياحبيبي سبايسي ايجابيات و سلبيات سيتيزين ايكو درايف رجاليه \\u202b انالوج بعقارب ساعه رياضيه موقع جدا مميز لقد اقمت لوحدي بشهر ابريل استمتعت كثيرا موقعه جذبني كثيرا واطلالته رائعه الغرف صغيره والافطار مميز الانترنت مجاني توفر موقف سياره جيد طاقم الفندق متعاون ومرحب اشكر اخبرني بالفندق يصلح لشخصين الفندق مبني فتره قديمه جدا والاضائه جيده كفايه الكتاب نفس فكره كتاب صناعه الذكاء الكثيره الالغاز والمسائل تحدي لجميع قدرات العقل البشريه المختلفه كتاب جيد نصيحه قالها احمد العايدي كنت تعتبرها روايه فاتركها شكرته صدقه اقرا الروايه ل شعرت تجليات ادبيه فعلا روايه اعجبني الجمل الادبيه المستمده التامل الحياه وشعرت اريد التوقف عندها وتذوقها مرارا خرجت بصراحه قراءه العمل وجدت الوصف مضكا وخفيفا وبعضه ثقيلا ومقززا وبعضه متعبا وممزقا تاتي اخر صفحه فتجعلني اقراها مرات ومرات افهمها فزادت تشتتي كنت احاول جمعه نسيت اقول بدايه صفحه كانت تشعرني بتقليد لاسلوب احمد خالد توفيق محمد سليمان عبد الملك مماجعلني اشعر الاسلوب مسخ اساليب اخري عاجلمقتل واصابه شخصا ب تفجير سيطره بابل'"
            ]
          },
          "metadata": {
            "tags": []
          },
          "execution_count": 117
        }
      ]
    },
    {
      "cell_type": "code",
      "metadata": {
        "colab": {
          "base_uri": "https://localhost:8080/",
          "height": 34
        },
        "id": "KPlPakMxPfQJ",
        "outputId": "0d12712b-5e4b-46fc-d8c7-4b7404261ef8"
      },
      "source": [
        "Test_punc_removed_join_clean # Only bimportant (no so common) words are right"
      ],
      "execution_count": null,
      "outputs": [
        {
          "output_type": "execute_result",
          "data": {
            "text/plain": [
              "'السلام عليكم نقلنا كفاله العامل صاحب اقامه رقم و يضهر ابشر  عندي امتحان باطنه وماقدرتش م اخلصها هدخل ع الدكتور احكيله حكايه احمد كمال ونضاله بجد شدتني جداا وماقدرتش  اخلصها بالنسبه لتجربه كاتب لاول مره احلي الحاجات اللي قريتها هوه مشروع كاتب ممتاز رد الفعل تراب الماس اقدر اقول نجح د بجدراه قعد اول صفحه يوصف وصف ملوش معني اسلوبه ف الكتابه يخليك برده تنسي انك عديت ال صفحه اصلا كتاب رائع جدا افدني شخصيا جدا وصحح عندي مفام منهان القراءه هوايه  منهج حياه افكار الكتاب رائعه ومفيده جدا م سيء للغايه جراند ميدويست للشقق الفندقيه فندق بر دبي عادي جدا يتم تغير ملاءات السرير يوم والبطانيات ت قديمه جدا وتجعلك تهرش بالليل واضطررنا لطلب خدمه الغرف لتغير الملاءات ايام وت الاسره مقلقه وتصدر الكثير الضوضاء الحركه بالليل ت الارائك الموجوده الغرفه قذره للغايه يمه و علينا نضع ملاءه للجلوس عليها وت تصلح للجلوس عليها وت مريحه جدا و علينا نطلب خدمه الغرف عده مرات لطلب اشياء بسيطه مثل لفات المرحاض ومناشف نظيفه لانها يتم وضعها دائما عندما تم تنظيف الغرف و لدينا غساله تعمل ايضا وتعمل عده ساعات توقف ورغم شكوانا مرات عديده يتم يبديلها و حمام السباحه العلوي خطر لوجود العديد البلاط المتشقق حول حمام السباحه وبعضها يتحرك وحوافها حاده جرحت قدم طفلتي اثناء لعبها الفندق يستحق السعر اردت تقيمه فساصنفه كفندق نجمه واحده ارشيف اصدارات المركز العلاقات المصريه الاسرائيليه ثوره يناير قراتها اعوام ربما قدر براعه التصوير لكل شخصيه وتوافق الاحداث بالغ الكاتب التعبيرات ضير عدمها تنشر الفساد الدعوه ممنهجه لافساد المجتمع و سلخه القيم و الفضيله تعطيل الهيئه الاختلاط بالوظائف قياده المراه للسياره دخول النساء للملاعب نشر الدياثه و زنا المحارم بالاعلام مصارعه شبه عاريه بحضور النساء السماح للجامعيات بالخروج وقت فخامه الرئيس عبد الفتاح السيسي اعلنها للجميع منتدي شباب العالم بانه سيترشح للانتخابات القادمه شاء الله اشوفكم نوفمبر القادم المنتدي يعني السيسي رئيسي قصف جبهه ناس باقصي ضميري محله ناس الغلا واحترامي غالين عندي و الغلا نمله وصباح الخير قولو  عندك ادخل واختار جهاز بعقد يمكن يعطونك لماذا يتاخر تصحيح الخطا يختفي الاختفاء الجهل بالحقيقه الكسل الفكري و الضعف الخلقي مجموعه المقالات القصيره يجاوب الشيخ محمد الغزالي الاسئله ويعلق يقع بالعالم الاسلامي يقع شدني الكتاب طريقه الكتابه تعكس الحسره حال المسلمين الايام يدل مدي غيره الشيخ الغزالي الدين الاسلامي اعجبتني صراحه الكاتب الشديده والمؤلمه عجب الكتاب منع النشر لمده طويله اننا نتعلم الناس يمشون ع نياتهمم امشي ع رجلي مساكم  قال الله تعالي لموسي وهارون عليهما السلام اجيبت دعوتكما بالصبر تفتح ابواب السعاده وبالشكر تدوم النعم وبذكر الله تطمئن القلوب جعلنا الله واياكم الذاكرين الشاكرين الصابرين صباح الخير البنوك السعوديه باي حق يالراجحي تسحب القسط الان مؤسسه النقد يحق رفع شكوي احي الشاعر العراقي المناضل كنت الكويت تنشر لافتاتك بجانب اخو ناجي العلي وكلاكما تكملان لافتاتك الذهن و خواطرك معبره يكتفي اللسان بترديد لافتاتك احرق القصه تستحق القراءه لمن يريد متابعه عقليات ومراحل تطور وتخبط فكر فتاه ناضجه  كنت يسهل استفزازه تبحث عمل روائي ادبي ناضج تبحث شخصيات تمثلها فتيات مثاليات ملائكه يرتكبن اخطاء تقراها وابحث كتيبات الوعظ استطع اكمال قرائتها ل صدرت لني كن معكم الذيبه فرح مطعم فوندا المطاعم زلت ارجع زيارتي الاولي قبل سنه اطباقه مكسيكيه اصيله حسب شهاده زملاء العمل الامريكان تربوا العادات المكسيكيه مكان المطعم قريب كورنيش الخبر امام الواجهه البحريه لكنه شارع خلفي ضيق لكنك بالعاده تجد صعوبه الحصول المواقف جلسته وديكوره جيده الجو مكتوم قليلا ودائما تشعر بضيقه اول دخولك العماله جيده لكنها تحيط الزبون بالاهتمام الكافي يقدم المطعم طبق ناتشوز وصلصه حمراء حاره كطبق ضيافه اردت تختصر مجموعه الاطباق طبق واحد تجرب طبق فوندا سوبريما الطبق لفائف لحم ودجاج وتاكو واحده بالاضافه كوره رز وكوره فول الطبق شامل و لذيذ يوجد المطعم كبق السيزلر طبق شهي جدا بالاضافه الهمبرجر باس بشكل عام اطباق المطعم ممتازه ولذيذه عنده مشكله الاحيان المحافظه الجوده معظم الاحيان شيء تمام الاحيان يختل الطعم الاطباق وخصوصا لفائف الذره والناتشوز فستجد طعم بائت تقيمي بسبب عدم تمكنه الحفاظ الجوده مره الراحه النفسيه والهدوء والجوده بفندق البارون الدخول الاول فندق البارون تشعر بالراحه النفسيه التامه حدث معي يوم سفر وصولي فندق البارون فتم الاستقبال الوجه الامثل بمعني ادق الوجه المثاليه العليا الاستقبال الضيافه الانتقال الغرف كانت بالنسبه غرفه كماليات ممتازه كنت افتقد تصفح مواقع الانترنت الغرفه التراس يمكنك التصفح بحريه تامه وبالنسبه لجوده الماكولات والمشروبات فبمتاز فندق البارون بامهر الشيفات يقدمون اكبر والذ تشكيله ماكولات شكرا فندق البارون امتع الكتب قراتها لانيس منصور ياخذنا لرحله ممتعه لثقافات الشعوب الاتحاد يتوج بطلا للدوري الاتحاد مهدد بالهبوط رايت الدهر مختلفا يدور حزنا يدو السلعه ممتازه ومطابقه للمواصفات انصح الجميع بتجربتها سرعه توصيل الطلب سهله الاستخدام حسابات تميزه بتفاعل بعضهم للعطاء قامه وفاء معرفتهم شرف منهم ن  تعرف استراليا بالكنغر والكوالا فا تعرف ايضا باكلاتها مثل الفيجي مايت الافطار والتم تام كشوكلاته والرد روستر كوجبه فرديه عائليه كالبيك مكه وجده لاهل السعوديه يشتهر المطعم الاسترالي ٪ بوجبات الدجاج المشوي والبطاطا المهروس البازلا ويشتهر ايضا بالبطاطس المقلي العريض والمتعرج البطاطس مستويه تماما يعتبرها البعض سلبيه واعتبرها ميزه خصوصا بهارتهم الحمراء الغريبه يبدوا فلفل احمر مطحون ايضا وجبه البحريات قطع ربيان مقليه بطريقه مميزه ولديهم ايضا المشويات البورتغاليه انسي سندويشات التشكن راب والبرجرز المطعم يعتبر يعتبر المطاعم السريعه وطلبات السيارات فجلساته الداخليه مثل جلسات ماكدونالز وهنقري جاك برقركنج فرع باستراليا اسعاره مناسبه ومقاربه للمطاعم السريعه المشهوره ومنتشر جميع دوله استراليا وخصوصا المطارات رجعنا الصداره شاءالله تنتهي الصداره روعه وعجبني المزيج المتكامل اللغه العربيه الفصحي وروعه التشبيهات واللغه العاميه السلسه الرو شويه تشبيهات دا بجد مشوفتش كدا قبل كدا برنس احمد مراد وعجبتني الحبكه الدراميه اللي كنت اتوقع حاجه يحصل عكسها صحيح كنت بتنرفز كدا ف نفس الوقت كنت مستمتعه جدا الاحداث مش ماشيه هوايا دايما اللي يجذب الباه ويخليي الواحد عاوز يعرف هيحصل كدا الاخر مفيش كدا المطعم الصدمه مره ممكن يكون حلو جلساته حلوه والطاقم فلبيني يالله الجنه شديتوا حيلكم وجبتوا شيف صاحي  ال سي دبي ثلاثه ليالي للتوقف دبي الكثير الوقت للتخطيط لرحل كنت ابحث م يشعرني بامان ثي مسافره لوحدها و المضيفون شانهم يساعدوني معرفه الاشياء الممتعه القليله للقيام جئت الم المناسب ت الغرفه كبيره و نظيفه جدا وجبات الافطار ت لذيذه بكثير كنت اتوقع عصير طازج قهوه اللبن الرائب عجه البيض المخصصه حبوب الافطار افضل شيء القيلا السابعه و الاربعون الخدمه الشخصيه خلال زيار ت انسي خارج البلده زوجها توماس مساعدا و بوسعه ليضمن اقامه طيبه اعطاني افكار الجوله سمح باستخدام الهاتف اتصل بسيارات الاجره وجه الخرائط مضيف رائع عندما علم بان مي التالي للزياره كوشي الهند اعطاني اسم ابن عمه و رقم هاتفه سكن حال واجهتني مشاكل للروعه الحقيقه جعلني الم اشعر بالعنايه و قيمه رائعه و خاصه بالنسبه لمدينه مكلفه مثل دبي تقع لا سبعه و اربعون بالقرب المطار الامر حقا مريحا ركوي سياره الاجره لمده عشره دقائق و انها حي سكني هاديء و وسط عمل جميع دبي يكن مشكله باصطياد سيارات الاجره و الوصول البلده بسرعه يمكن ايضا استخدام المترو ه منطقه وقوف بالقرب المنزل المترو نظيفا و سهل الاستخدام لذلك عملي مجرد شيء تكون علم النصيحه الاخيره اطبع الخريطه موقع لا سبعه و اربعون سيساعد سائق سياره الاجره بالعثور الم بسهوله العبقري الجنوبي اجمل وابدع ماقرات تصالح البكاء يدي زرقاء اليمامه طفلتها بكائيه ليليه كلمات سبارتاكوس الاخيره الارض والجرح ينفتح الموت اللوحات مذكرات المتنبي الورقه الاخيره الجنوبي جيدي بتس سرقوا نص ملابسه وجبه برقر بطاطس وبيبسي مطعم البيك ب ريالات اخيرا خرجت ام بدور البهجه ف صفحه وللاسف ملقتش الاكتئاب والاكتئاب والاكتئاب والاكتئاب مشكلتي بعيش ي الاحداث كها بتحصل حقيقي وبعيش شخصيه ف الرو وبحط نفسي مكها ودا كله بيجي حالتي النفسه المهم باب الخروج الضمير والصدق والاخلاص دنيا بقي الكذب الاساس وعدام الضمير وحطاط الاخلاق يبقي الطبيعي نعيش اللي عشينه دا ثورات وغضب و فوضي و الاخر حروب المصرين وبعضهم عش المصالح بقرا مكنش ادامي المثل المقوله بتاعه الكرسي بيغير وللاسف دا بيعمي مش بيغير احنا فعلا ممكن نعيش الهم دا لحد والله اعلم حصل كدا المهم بالنسبه للرو  اعلق حاجه بالشكل دا دي ماخدتش نجوم مين اخد اكيد تفاصيل هتحصل ف البلد جي بالي احداث الرو واظن فعلا احنا ماشين الاتجاه دا والله يقدر اللي ك بيهون عليا كميه الاكتئاب دي بقي النصح اللي ك بيديها ليحيي خلاص سنين وتجارب فعلا مش كلام واعظ والسلام وكم حبه لنور وجودها اصلا الرو ك بيهون كميه الاكتئاب دي واللي وصلتله الاخر بعيد السياسه الس دا تركيبه غريبه كدا محدش يقدر يفهمه يقدر يتوقع رد فعله كنت عارفه وحافظه صم ك كتاب مفتوح ادامك فاهتلاقي جزء مستخبي محدش يعرفه غيره اعداء الامه حيتجننوا شنب الشيخ خالد الجندي انك خالفت السنه النبويه الحليق رفقا بالقوارير وربنا مريح استقبال رائع الغرف مريحه والاسره خدمه الانترنت قويه الفندق الفطور لذيذ العصائر قربه سوق واقف يعني حوالي دقائق مشي المواقف ترابيه فرق الغرف المطله البحر المدينه نوعا الغرف صغيره لان الفندق بعيد قليلا الكورنيش السلام عليكم اقدر اصرف شيك باسمي بطاقه الاحوال منتهيه شوفت محمد صلاح بيجري بسرعه ازاي الملعب اهالاستاذ بيجري المنهج اسرع  عندي قولي واقول المطعم جديد ديكوراته جميله اكلهم جيد ونظيف الخدمه مميزه مشي مو مره الباقي تمام جربت عندهم البرياني باللحم مره لذيذ ودجاج كاري طعمه جيد السلطه عاديه مافيها صوص خضار مقطعه بدون ملح  شي عندك الطله الملح والخل وزيت زيتون تحط كيفك والمشي عندهم نصيحه تجربوها مره مو لذيذه ناحيه البرياني والدامات والعيش تمام كده لاتاخذو شي ثاني  احد جربه قبلكم وعجبه كلين للتنحيف والرشاقه متابعه دوريه خلال مده الكورس خبراء تغذيه رشاقه حي يعقل سعر شقه مساحه م برنامج سكني مدينه جيزان بسعر الف ريال تمارين الصبح روايه عجيبه صفحه تتاكد نهايه حد لخيال ماركيز الكثيف المتشابك بجموحه وسحره الحياه ماكوندو المدينه الوقع الظريف تبدا الصفر تاخذ الحياه الاجتماعيه والاقتصاديه و السياسه والثقافيه طريقها التطور والنمو نسق رائع ومشوق اول السلاله ال بوينديا مربوط الشجره والاخير يلتهمه النمل تكشف النبؤات تختصر الروايه بكل مافيها حياه وعزله دامت قرن لسلاله تتكرر تحققت الاسطوره القديمه بوليد يحمل ذنب خنزير بجد بيشد ل جزء كام صفحه كده بحس توهت و اقراها ت ببطء شويه عش اراجع التفاصيل  عندي قناعه ماستوعبتوش كليه و هاقراه ت قريب و صادق تخيل وصله لو الحقيقه المحزنه نفسي مايبقاش يوتيبيا الشيء الوحيد وصلوا للعالميه المسيار تري كانوا يشجعون ريال مدريد ضد النصر حرام حافه الذاكره طيات الماضي تغرد ذكريات يصعب علينا نسيانها مررنا حدوثها اعواما ذكريات مؤلمه السويد ايطاليا هدف دي روسي مرماه تصفيات كاس العالم اللهم نبوء بنعمتك علينا ونبوء بذنبنا فاغفر يغفر الذنوب صباح الخير انتهائك قراءه الكتاب ستخرج بمشاعر متضاربه كليا الداده دودي بقت مامي مافيش حاجه تمنع الاقتباس تدوير القصه والتغير وتقديمها بشكل مختلف وجديد الابقاء الخط الرئيسي والتيمه الاساسيه للفيلم العكس تماما ده بيبقي دافع قوي لمشاهده روئ وافكار مختلفه تقدر تحدد معاها التاثيرات الدراميه المختلفه يتم تحريف القصه بشكل هزلي ومستفز سبيل تقديم صوره لايت ممكن نقف وندور الاسباب الحقيقه اللي دفعت بمؤلف ومخرج قدر الحرفيه والتميز لتقديم مثل العمل واعتقد المؤلف خالد جلال مؤلف فيلم الانسه مامي اتوجه ليه السؤال ده مش ح يعرف يجاوب الاقل اجابته ح تبقي مشوهه ومقترنه بان مافيش حاجه تمنع الاقتباس زي قولنا قبل كدا سلمنا بالامر الواقع وبحكايه الاقتباس ح نلاقي قصه الفيلم ماخوذه الفيلم الاجنبي رجل العائله للممثل نيكولاس كيدج عام ح نشوف التغير شخصيات العمل الرئيسيه فبدل بطل العمل اللي بتقوم قصه الفيلم رجل حنشوف تحول لسيده وده مش مشكله نهائيا تكون المشاهد الغير عقلانيه بنخلينا نرجع تاني نسال وندور فمثلا اغلب السيدات تتمني تصبح يكون لديها اطفال جزمنا بان السيدات تعير لذلك الحلم اهتمام حنلاقي باب تاني اتفتح ازاي تقدم فيلم عائلي موجه الاخص للاسره والاطفال وتقدم المواقف المرفوضه فنيا اللي بنسعي اننا نحاربها زي الاغاني الشعبيه الهابطه والحركات اللي بتشير معاني مقبوله تحدثنا الاداء التمثيلي اذكر الكثير خاصه ياسمين عبدالعزيز تقدم جديد يذكر وادائها مفتعل ومشابه للشخصيه قدمتها بفيلم الداده دودي الكثير الحركات وتعبيرات الوجه دور الممثل حسن الرداد الممكن الاشاده بمحاولته للبس عباءه الكوميديا بالاضافه ادائه مقبولا الفيلم يختلف كثيرا نفس نوعيه الافلام قدمتها ياسمين عبدالعزيز مؤخرا النجمات يسرا الهام شاهين و ليلي علوي يهدون اغنيه ياولا للكابتن محمد صلاح برنامج صالون انوشكا اليسراويه جروب ممتاز افضل يميزه الموقع ويطل باب النساء ممتاز جدا للعوائل يعيبه السعر مبالغ جدا اللفت ضيق ولازم تنطر وقت رديت الصلاه خاصه صلاه الجمعه لاتوجد فخامه الاثاث نظيف لكنه قديم والمنظر بشكل عام جيد جدا الثالثه مفضلتي ابكي قراتها ياسرني حب الاخوه جزئي المفضل قاموا بحمايه اختهم تعجز الكلمات وصفه جبران خليل استخدم اسلوب ينفذ الروح ليعطيك خلاصه و خيرات خبراته الحياه الكتاب عصاره فكر و خلاصه تجارب منهج حياه وضعه جبران خليل جبران ببراعه و بلاغه تفوق الوصف سطور معدوده و نقله للعربيه د ثروت عكاشه ببلاغه و اسلوب عميق التاثير المعني نهائيا استمتعت بقراءه النص بالانجليزيه و النظر اعرفه معاني الترجمه الموازيه الممتازه لابد قراءه الكتاب الراقي الرائع تحديث قراءه بعضا رمل و زبد اريد اضافه مختلف تماما النبي الاسلوب ابسط و اوضح كثيرا استودع الله امري كله دقه وجله الرجاء التكلان اللهم اسالك تياسير تعقبها تباشير يارب بشرني يسر خاطري فلورا بارك الفندق جميل وخدماته ممتازه واجوائه عائليه وموقعه ممتاز بقرب ديره ستي سنتر الطاقم ودود وخدوم الغرف واسعه ونظيفه تشعر بوجودك فندق خمس نجوم لديهم مواصلات يوميه للمولات والاماكن السياحيه افطار الصباح متنوع ويلبي جميع الاذواق جوده جيده مش عارف مقنع الشعب انو كلنا لازم نحب المرسيدس مش راكبها يعني نفسي اركبها غلطت مره وقلت احببت شخص غازي رحمه الله قراءه الكتاب رده ودفاعه نفسه رصانه الادب وجلال الهدوء حضره العقل سباب شتم انتقاص الكتاب يعرج الكثير الاحداث ومواقف الاختلاف جربت نودلز بالجمبري وارد حبه طويله باللحم لذيذ اتوقع الطعم طبعا اخترته بدون صوص طريقه العلب والاكل حلوه جرب تندم بالسلامه شاء الله تعالي فكرت كثيرا قبل اكتب المراجعه واضع تقيم الروايه لانها تستحق اعمالا عقليا نتيجه الاسلوب الفني والرسائل القيميه تحملها الروايه رمزيه اولها اخرها تكونت خمسه فصول استمر رمز الدين فصل يتحرك ترك صراع الدين والعلم الفصل الخامس اثر بشكل مباشر حياه الناس واصابهم خواء وفراغ وصل لرؤيه الاشباح واحلام السكر المجمل تدور الروايه حول الصراع البشري الدائم قوي الخير المطلق والشر المطلق الرمز الماخوذ قصص الانبياء نصل للفصل الاخير اجمل رمزيات الروايه صراع الدين والعلم انتهي المطلق ودخلنا معمعه النسبيات صار الحق موزعا وظهر الشر الناس انفسهم ادعي التدين يحرف الدين شجع العلم ونزع القيم الاخلاقيه صار شرا الناس كتبت المراجعه ثلاث مرات اقتنع الان لانها تجذبني الشرح اريد اشرح شيئا اتدخل سيقرؤها اريد ايضا اجعلها تبدو روايه سطحيه قوه خير وشر فقط رائعه واسلوب نجيب مذهل لدرجه انك التقطت الرمز فصل وعرفت نهايه الفصل تتوقف القراءه قلم سيال ورشيق اشعر بالملل معه واستطيع قراءه الروايه اؤكد براءته اتهم بعدها اجده يحط قدر الدين وا حدث الروايه شيئا يقصده اظنه يحتاج مجهودا كبيرا له شخص يحاكمك بمرجعه ويسل سيفا يقبل راي اول حاجه طبعا تعليقي لازم يكون سلوب السلس الممتع اللي فعلا باخذك القراءه بالنسبه للمضون العبقري الطيب الصالح بيتكلم حاجه واضحه جدا و الصراع الحداثه و صاله و اصلا العلاقه بينهم عنيفه جدا و علش كدا شايف العنف و الشراسه اللي اغلبنا حس بيها اثناء القراءه ما تجد الصراع ف الروايه و و جهه نظري ده نجاح كبير جدا و اعطيه النقطه الخامسه علش النهايه اخر صفحتين قال ه عاوز يعيش علش يستحق يعيش اجله مقتنعتش خالص شخصيا زي دي تقول كلام زي ده ل اصلا ده واحد عايش طول حياته متغرب الروايه المجمل رائعه فيدرر سيكون دبي نهايه العام لذلك واقعيا يمكن يلعب مبادله خصوصا ها تنتهي اول مباراه ل كنت اضن الطيور تهاجر لكنت كتبت ريشه اشتقت اهداف مصر وغانا شيكابالا يسجل تصفيات كاس العالم  ضد عمل وقياده المراه اللهم رد عبدك محمد بن نايف ونا ضد قياده المراه حنا ولد نايف صحيح تعبت كثيرا اتخيل المشاهد لصعوبه الالفاظ المعربه يبقي التشويق والاسلوب الرائع لدان براون طاغيا الكل السنه النبويه قل قبل نومك باسمك ربي وضعت جنبي ارفعه امسكت نفسي فارحمها ارسلتها فاحفظها تحفظ عبادك الصالحين جميله المواقف تعرض صاحب القصه وتعايشه معها ينقص الكاتب الاسلوب النحوي الجيد نفسي اعرف كيفيه قراءه الكتاب ممكن حد يفيدني سمحتم وش بقي راحت امي صحيح ماقدر اناديج يايمه يوم الله يرحمج ويرحم موتي المسلمين الامور تهون والمرء يستحيل ينسي اوجعه فقط نصير اقوي لشيء لاننا الغالب نملك خيارا اخر هوب اعتراض تبالغ مختلف لانه ذكي وجريء وطفولته وحياته تشبهلنا وماعنده شي يخسره صح تذكرت ليش حذفته لانه مره بيتهاو انصح نفسي وجميع الفتيات قرائته وعيه اعلم مره اعدت قرائته لكني اجد نفسي كثيرا امس الحاجه لاعاده قرائته السحب الليله الايفون رتويت للمرفقه وطبق الشروط السلام عليكم صحيح اغلاق البناء الذاتي نهايه شهر مارس مهو قتال جماعه اقسم بالله ليفاي شقه شق دقيقه وين القتال بالموضوع الان القائد العام للقوات المسلحه العربيه الليبيه المشير خليفه بلقاسم حفتر وامر غرفه عمليات الكرامه اللواء خامه رديئه تتمزق بسرعه مقاس صغير جدا يناسب الناس البالغين ابدا المطعم قريب مكان عملي وبيتي كنت اروحله اول عشان الكوفي والحلا والمشروبات صديقاتي الحين تغير المنيو حقهم وصار طعم اكلهم افضل بكثير اضافو شي حلو للصغار بيزا يسويها الطفل بنفسه يجيبون المكونات والعجينه يسويها يحطونها بالفرن سعرها ب ريال شامله المشروب وطعمها لذيذ تشبه سابقتها عدم وجود الكم الاحداث مجال للمقارنه يطرح تساؤلات عميقه و فلسفيه احيا احببت ارافق شخصيه روايه اهم مراحل حياتها اصل معها ايضا لهذه المرحله النزاع الفكري استطاع تركي يستعيد اعجابي بالثلاثيه الجزء بعدما كنت فقدت معظمه الشميسي قرات الكثير سلسله المكتبه الخضراء ابان الطفوله يااه ايام قراته زماان لااتذكر الكثير اعتقد مجموعه قصصيه للعضه والعبره قراته اول نشر لطبعته الاولي ثلاثه اعوام ورغم كوني اعتزم العنوان النسيان انني اجدني الان بحاجه لتكراره كتاب وجب يتواجد مكاتبكن اناث اصفه ب وقود معنوي وذخيره الالهام لذروه التواقيت الصعبه وبغض الطرف جيء نصوص الدعاء الافكار تتنافي مبادئي يحوي منهجا ينتفع يحتذي بافكاره ساده اتوا انصار اسقاط الولايه جحر دفاعا الحريه المزعومه حسابات وهميه وحسابات مغرر للاسف محتاجه حد يكون بايع حياته عشان يبتدي كاتب مبدع ابحرت عباراته كثيرا يحمللك شواطيء تمر عليها مخيلتك قط احلل ليوم القيامه نهبت نص حلالي  ماكنت عارف معاير الاختيار اكرمنا بسكوتك بالله وش سوا السومه تصفيات كاس العالم دوري ابطال اسيا شعر النصر الهلال متصدر تكلمني الامارات عمان سوريا غرد بالخير رتويت دعاء كيكرز الدجاج وجبتي المفضله عشر سنوات سبايسي ياحبيبي سبايسي ايجابيات و سلبيات سيتيزين ايكو درايف رجاليه \\u202b انالوج بعقارب ساعه رياضيه موقع جدا مميز لقد اقمت لوحدي بشهر ابريل استمتعت كثيرا موقعه جذبني كثيرا واطلالته رائعه الغرف صغيره والافطار مميز الانترنت مجاني توفر موقف سياره جيد طاقم الفندق متعاون ومرحب اشكر اخبرني بالفندق يصلح لشخصين الفندق مبني فتره قديمه جدا والاضائه جيده كفايه الكتاب نفس فكره كتاب صناعه الذكاء الكثيره الالغاز والمسائل تحدي لجميع قدرات العقل البشريه المختلفه كتاب جيد نصيحه قالها احمد العايدي كنت تعتبرها روايه فاتركها شكرته صدقه اقرا الروايه ل شعرت تجليات ادبيه فعلا روايه اعجبني الجمل الادبيه المستمده التامل الحياه وشعرت اريد التوقف عندها وتذوقها مرارا خرجت بصراحه قراءه العمل وجدت الوصف مضكا وخفيفا وبعضه ثقيلا ومقززا وبعضه متعبا وممزقا تاتي اخر صفحه فتجعلني اقراها مرات ومرات افهمها فزادت تشتتي كنت احاول جمعه نسيت اقول بدايه صفحه كانت تشعرني بتقليد لاسلوب احمد خالد توفيق محمد سليمان عبد الملك مماجعلني اشعر الاسلوب مسخ اساليب اخري عاجلمقتل واصابه شخصا ب تفجير سيطره بابل'"
            ]
          },
          "metadata": {
            "tags": []
          },
          "execution_count": 118
        }
      ]
    },
    {
      "cell_type": "code",
      "metadata": {
        "id": "EELw5lvP1_40",
        "outputId": "66c3a84d-7e87-43e5-e471-57d5aeabbd50"
      },
      "source": [
        "#Test_punc_removed =[]\n",
        "#for char in t :\n",
        "   # if char not in stopwords.words('Arabic'):\n",
        "   #     Test_punc_removed.append(char)\n",
        "#Test_punc_removed_join"
      ],
      "execution_count": null,
      "outputs": [
        {
          "output_type": "execute_result",
          "data": {
            "text/plain": [
              "'Good morning beautiful people I am having fun learning Machine learning and AI'"
            ]
          },
          "metadata": {
            "tags": []
          },
          "execution_count": 119
        }
      ]
    },
    {
      "cell_type": "markdown",
      "metadata": {
        "id": "8pmwMi5S1_41"
      },
      "source": [
        "MINI CHALLENGE #6: \n",
        "- For the following text, create a pipeline to remove punctuations followed by removing stopwords"
      ]
    },
    {
      "cell_type": "code",
      "metadata": {
        "collapsed": true,
        "id": "3aPk-w2WPfYI"
      },
      "source": [
        "#mini_challenge = 'Here is a mini challenge, that will teach you how to remove stopwords and punctuations!'"
      ],
      "execution_count": null,
      "outputs": []
    },
    {
      "cell_type": "code",
      "metadata": {
        "id": "bVu4O0md1_42",
        "outputId": "63dfe10f-fc12-4e39-86bc-7493f9dcba09"
      },
      "source": [
        "t"
      ],
      "execution_count": null,
      "outputs": [
        {
          "output_type": "execute_result",
          "data": {
            "text/plain": [
              "'السلام عليكم نقلنا كفاله العامل صاحب اقامه رقم و يضهر ابشر  عندي امتحان باطنه وماقدرتش م اخلصها هدخل ع الدكتور احكيله حكايه احمد كمال ونضاله بجد شدتني جداا وماقدرتش  اخلصها بالنسبه لتجربه كاتب لاول مره احلي الحاجات اللي قريتها هوه مشروع كاتب ممتاز رد الفعل تراب الماس اقدر اقول نجح د بجدراه قعد اول صفحه يوصف وصف ملوش معني اسلوبه ف الكتابه يخليك برده تنسي انك عديت ال صفحه اصلا كتاب رائع جدا افدني شخصيا جدا وصحح عندي مفام منهان القراءه هوايه  منهج حياه افكار الكتاب رائعه ومفيده جدا م سيء للغايه جراند ميدويست للشقق الفندقيه فندق بر دبي عادي جدا يتم تغير ملاءات السرير يوم والبطانيات ت قديمه جدا وتجعلك تهرش بالليل واضطررنا لطلب خدمه الغرف لتغير الملاءات ايام وت الاسره مقلقه وتصدر الكثير الضوضاء الحركه بالليل ت الارائك الموجوده الغرفه قذره للغايه يمه و علينا نضع ملاءه للجلوس عليها وت تصلح للجلوس عليها وت مريحه جدا و علينا نطلب خدمه الغرف عده مرات لطلب اشياء بسيطه مثل لفات المرحاض ومناشف نظيفه لانها يتم وضعها دائما عندما تم تنظيف الغرف و لدينا غساله تعمل ايضا وتعمل عده ساعات توقف ورغم شكوانا مرات عديده يتم يبديلها و حمام السباحه العلوي خطر لوجود العديد البلاط المتشقق حول حمام السباحه وبعضها يتحرك وحوافها حاده جرحت قدم طفلتي اثناء لعبها الفندق يستحق السعر اردت تقيمه فساصنفه كفندق نجمه واحده ارشيف اصدارات المركز العلاقات المصريه الاسرائيليه ثوره يناير قراتها اعوام ربما قدر براعه التصوير لكل شخصيه وتوافق الاحداث بالغ الكاتب التعبيرات ضير عدمها تنشر الفساد الدعوه ممنهجه لافساد المجتمع و سلخه القيم و الفضيله تعطيل الهيئه الاختلاط بالوظائف قياده المراه للسياره دخول النساء للملاعب نشر الدياثه و زنا المحارم بالاعلام مصارعه شبه عاريه بحضور النساء السماح للجامعيات بالخروج وقت فخامه الرئيس عبد الفتاح السيسي اعلنها للجميع منتدي شباب العالم بانه سيترشح للانتخابات القادمه شاء الله اشوفكم نوفمبر القادم المنتدي يعني السيسي رئيسي قصف جبهه ناس باقصي ضميري محله ناس الغلا واحترامي غالين عندي و الغلا نمله وصباح الخير قولو  عندك ادخل واختار جهاز بعقد يمكن يعطونك لماذا يتاخر تصحيح الخطا يختفي الاختفاء الجهل بالحقيقه الكسل الفكري و الضعف الخلقي مجموعه المقالات القصيره يجاوب الشيخ محمد الغزالي الاسئله ويعلق يقع بالعالم الاسلامي يقع شدني الكتاب طريقه الكتابه تعكس الحسره حال المسلمين الايام يدل مدي غيره الشيخ الغزالي الدين الاسلامي اعجبتني صراحه الكاتب الشديده والمؤلمه عجب الكتاب منع النشر لمده طويله اننا نتعلم الناس يمشون ع نياتهمم امشي ع رجلي مساكم  قال الله تعالي لموسي وهارون عليهما السلام اجيبت دعوتكما بالصبر تفتح ابواب السعاده وبالشكر تدوم النعم وبذكر الله تطمئن القلوب جعلنا الله واياكم الذاكرين الشاكرين الصابرين صباح الخير البنوك السعوديه باي حق يالراجحي تسحب القسط الان مؤسسه النقد يحق رفع شكوي احي الشاعر العراقي المناضل كنت الكويت تنشر لافتاتك بجانب اخو ناجي العلي وكلاكما تكملان لافتاتك الذهن و خواطرك معبره يكتفي اللسان بترديد لافتاتك احرق القصه تستحق القراءه لمن يريد متابعه عقليات ومراحل تطور وتخبط فكر فتاه ناضجه  كنت يسهل استفزازه تبحث عمل روائي ادبي ناضج تبحث شخصيات تمثلها فتيات مثاليات ملائكه يرتكبن اخطاء تقراها وابحث كتيبات الوعظ استطع اكمال قرائتها ل صدرت لني كن معكم الذيبه فرح مطعم فوندا المطاعم زلت ارجع زيارتي الاولي قبل سنه اطباقه مكسيكيه اصيله حسب شهاده زملاء العمل الامريكان تربوا العادات المكسيكيه مكان المطعم قريب كورنيش الخبر امام الواجهه البحريه لكنه شارع خلفي ضيق لكنك بالعاده تجد صعوبه الحصول المواقف جلسته وديكوره جيده الجو مكتوم قليلا ودائما تشعر بضيقه اول دخولك العماله جيده لكنها تحيط الزبون بالاهتمام الكافي يقدم المطعم طبق ناتشوز وصلصه حمراء حاره كطبق ضيافه اردت تختصر مجموعه الاطباق طبق واحد تجرب طبق فوندا سوبريما الطبق لفائف لحم ودجاج وتاكو واحده بالاضافه كوره رز وكوره فول الطبق شامل و لذيذ يوجد المطعم كبق السيزلر طبق شهي جدا بالاضافه الهمبرجر باس بشكل عام اطباق المطعم ممتازه ولذيذه عنده مشكله الاحيان المحافظه الجوده معظم الاحيان شيء تمام الاحيان يختل الطعم الاطباق وخصوصا لفائف الذره والناتشوز فستجد طعم بائت تقيمي بسبب عدم تمكنه الحفاظ الجوده مره الراحه النفسيه والهدوء والجوده بفندق البارون الدخول الاول فندق البارون تشعر بالراحه النفسيه التامه حدث معي يوم سفر وصولي فندق البارون فتم الاستقبال الوجه الامثل بمعني ادق الوجه المثاليه العليا الاستقبال الضيافه الانتقال الغرف كانت بالنسبه غرفه كماليات ممتازه كنت افتقد تصفح مواقع الانترنت الغرفه التراس يمكنك التصفح بحريه تامه وبالنسبه لجوده الماكولات والمشروبات فبمتاز فندق البارون بامهر الشيفات يقدمون اكبر والذ تشكيله ماكولات شكرا فندق البارون امتع الكتب قراتها لانيس منصور ياخذنا لرحله ممتعه لثقافات الشعوب الاتحاد يتوج بطلا للدوري الاتحاد مهدد بالهبوط رايت الدهر مختلفا يدور حزنا يدو السلعه ممتازه ومطابقه للمواصفات انصح الجميع بتجربتها سرعه توصيل الطلب سهله الاستخدام حسابات تميزه بتفاعل بعضهم للعطاء قامه وفاء معرفتهم شرف منهم ن  تعرف استراليا بالكنغر والكوالا فا تعرف ايضا باكلاتها مثل الفيجي مايت الافطار والتم تام كشوكلاته والرد روستر كوجبه فرديه عائليه كالبيك مكه وجده لاهل السعوديه يشتهر المطعم الاسترالي ٪ بوجبات الدجاج المشوي والبطاطا المهروس البازلا ويشتهر ايضا بالبطاطس المقلي العريض والمتعرج البطاطس مستويه تماما يعتبرها البعض سلبيه واعتبرها ميزه خصوصا بهارتهم الحمراء الغريبه يبدوا فلفل احمر مطحون ايضا وجبه البحريات قطع ربيان مقليه بطريقه مميزه ولديهم ايضا المشويات البورتغاليه انسي سندويشات التشكن راب والبرجرز المطعم يعتبر يعتبر المطاعم السريعه وطلبات السيارات فجلساته الداخليه مثل جلسات ماكدونالز وهنقري جاك برقركنج فرع باستراليا اسعاره مناسبه ومقاربه للمطاعم السريعه المشهوره ومنتشر جميع دوله استراليا وخصوصا المطارات رجعنا الصداره شاءالله تنتهي الصداره روعه وعجبني المزيج المتكامل اللغه العربيه الفصحي وروعه التشبيهات واللغه العاميه السلسه الرو شويه تشبيهات دا بجد مشوفتش كدا قبل كدا برنس احمد مراد وعجبتني الحبكه الدراميه اللي كنت اتوقع حاجه يحصل عكسها صحيح كنت بتنرفز كدا ف نفس الوقت كنت مستمتعه جدا الاحداث مش ماشيه هوايا دايما اللي يجذب الباه ويخليي الواحد عاوز يعرف هيحصل كدا الاخر مفيش كدا المطعم الصدمه مره ممكن يكون حلو جلساته حلوه والطاقم فلبيني يالله الجنه شديتوا حيلكم وجبتوا شيف صاحي  ال سي دبي ثلاثه ليالي للتوقف دبي الكثير الوقت للتخطيط لرحل كنت ابحث م يشعرني بامان ثي مسافره لوحدها و المضيفون شانهم يساعدوني معرفه الاشياء الممتعه القليله للقيام جئت الم المناسب ت الغرفه كبيره و نظيفه جدا وجبات الافطار ت لذيذه بكثير كنت اتوقع عصير طازج قهوه اللبن الرائب عجه البيض المخصصه حبوب الافطار افضل شيء القيلا السابعه و الاربعون الخدمه الشخصيه خلال زيار ت انسي خارج البلده زوجها توماس مساعدا و بوسعه ليضمن اقامه طيبه اعطاني افكار الجوله سمح باستخدام الهاتف اتصل بسيارات الاجره وجه الخرائط مضيف رائع عندما علم بان مي التالي للزياره كوشي الهند اعطاني اسم ابن عمه و رقم هاتفه سكن حال واجهتني مشاكل للروعه الحقيقه جعلني الم اشعر بالعنايه و قيمه رائعه و خاصه بالنسبه لمدينه مكلفه مثل دبي تقع لا سبعه و اربعون بالقرب المطار الامر حقا مريحا ركوي سياره الاجره لمده عشره دقائق و انها حي سكني هاديء و وسط عمل جميع دبي يكن مشكله باصطياد سيارات الاجره و الوصول البلده بسرعه يمكن ايضا استخدام المترو ه منطقه وقوف بالقرب المنزل المترو نظيفا و سهل الاستخدام لذلك عملي مجرد شيء تكون علم النصيحه الاخيره اطبع الخريطه موقع لا سبعه و اربعون سيساعد سائق سياره الاجره بالعثور الم بسهوله العبقري الجنوبي اجمل وابدع ماقرات تصالح البكاء يدي زرقاء اليمامه طفلتها بكائيه ليليه كلمات سبارتاكوس الاخيره الارض والجرح ينفتح الموت اللوحات مذكرات المتنبي الورقه الاخيره الجنوبي جيدي بتس سرقوا نص ملابسه وجبه برقر بطاطس وبيبسي مطعم البيك ب ريالات اخيرا خرجت ام بدور البهجه ف صفحه وللاسف ملقتش الاكتئاب والاكتئاب والاكتئاب والاكتئاب مشكلتي بعيش ي الاحداث كها بتحصل حقيقي وبعيش شخصيه ف الرو وبحط نفسي مكها ودا كله بيجي حالتي النفسه المهم باب الخروج الضمير والصدق والاخلاص دنيا بقي الكذب الاساس وعدام الضمير وحطاط الاخلاق يبقي الطبيعي نعيش اللي عشينه دا ثورات وغضب و فوضي و الاخر حروب المصرين وبعضهم عش المصالح بقرا مكنش ادامي المثل المقوله بتاعه الكرسي بيغير وللاسف دا بيعمي مش بيغير احنا فعلا ممكن نعيش الهم دا لحد والله اعلم حصل كدا المهم بالنسبه للرو  اعلق حاجه بالشكل دا دي ماخدتش نجوم مين اخد اكيد تفاصيل هتحصل ف البلد جي بالي احداث الرو واظن فعلا احنا ماشين الاتجاه دا والله يقدر اللي ك بيهون عليا كميه الاكتئاب دي بقي النصح اللي ك بيديها ليحيي خلاص سنين وتجارب فعلا مش كلام واعظ والسلام وكم حبه لنور وجودها اصلا الرو ك بيهون كميه الاكتئاب دي واللي وصلتله الاخر بعيد السياسه الس دا تركيبه غريبه كدا محدش يقدر يفهمه يقدر يتوقع رد فعله كنت عارفه وحافظه صم ك كتاب مفتوح ادامك فاهتلاقي جزء مستخبي محدش يعرفه غيره اعداء الامه حيتجننوا شنب الشيخ خالد الجندي انك خالفت السنه النبويه الحليق رفقا بالقوارير وربنا مريح استقبال رائع الغرف مريحه والاسره خدمه الانترنت قويه الفندق الفطور لذيذ العصائر قربه سوق واقف يعني حوالي دقائق مشي المواقف ترابيه فرق الغرف المطله البحر المدينه نوعا الغرف صغيره لان الفندق بعيد قليلا الكورنيش السلام عليكم اقدر اصرف شيك باسمي بطاقه الاحوال منتهيه شوفت محمد صلاح بيجري بسرعه ازاي الملعب اهالاستاذ بيجري المنهج اسرع  عندي قولي واقول المطعم جديد ديكوراته جميله اكلهم جيد ونظيف الخدمه مميزه مشي مو مره الباقي تمام جربت عندهم البرياني باللحم مره لذيذ ودجاج كاري طعمه جيد السلطه عاديه مافيها صوص خضار مقطعه بدون ملح  شي عندك الطله الملح والخل وزيت زيتون تحط كيفك والمشي عندهم نصيحه تجربوها مره مو لذيذه ناحيه البرياني والدامات والعيش تمام كده لاتاخذو شي ثاني  احد جربه قبلكم وعجبه كلين للتنحيف والرشاقه متابعه دوريه خلال مده الكورس خبراء تغذيه رشاقه حي يعقل سعر شقه مساحه م برنامج سكني مدينه جيزان بسعر الف ريال تمارين الصبح روايه عجيبه صفحه تتاكد نهايه حد لخيال ماركيز الكثيف المتشابك بجموحه وسحره الحياه ماكوندو المدينه الوقع الظريف تبدا الصفر تاخذ الحياه الاجتماعيه والاقتصاديه و السياسه والثقافيه طريقها التطور والنمو نسق رائع ومشوق اول السلاله ال بوينديا مربوط الشجره والاخير يلتهمه النمل تكشف النبؤات تختصر الروايه بكل مافيها حياه وعزله دامت قرن لسلاله تتكرر تحققت الاسطوره القديمه بوليد يحمل ذنب خنزير بجد بيشد ل جزء كام صفحه كده بحس توهت و اقراها ت ببطء شويه عش اراجع التفاصيل  عندي قناعه ماستوعبتوش كليه و هاقراه ت قريب و صادق تخيل وصله لو الحقيقه المحزنه نفسي مايبقاش يوتيبيا الشيء الوحيد وصلوا للعالميه المسيار تري كانوا يشجعون ريال مدريد ضد النصر حرام حافه الذاكره طيات الماضي تغرد ذكريات يصعب علينا نسيانها مررنا حدوثها اعواما ذكريات مؤلمه السويد ايطاليا هدف دي روسي مرماه تصفيات كاس العالم اللهم نبوء بنعمتك علينا ونبوء بذنبنا فاغفر يغفر الذنوب صباح الخير انتهائك قراءه الكتاب ستخرج بمشاعر متضاربه كليا الداده دودي بقت مامي مافيش حاجه تمنع الاقتباس تدوير القصه والتغير وتقديمها بشكل مختلف وجديد الابقاء الخط الرئيسي والتيمه الاساسيه للفيلم العكس تماما ده بيبقي دافع قوي لمشاهده روئ وافكار مختلفه تقدر تحدد معاها التاثيرات الدراميه المختلفه يتم تحريف القصه بشكل هزلي ومستفز سبيل تقديم صوره لايت ممكن نقف وندور الاسباب الحقيقه اللي دفعت بمؤلف ومخرج قدر الحرفيه والتميز لتقديم مثل العمل واعتقد المؤلف خالد جلال مؤلف فيلم الانسه مامي اتوجه ليه السؤال ده مش ح يعرف يجاوب الاقل اجابته ح تبقي مشوهه ومقترنه بان مافيش حاجه تمنع الاقتباس زي قولنا قبل كدا سلمنا بالامر الواقع وبحكايه الاقتباس ح نلاقي قصه الفيلم ماخوذه الفيلم الاجنبي رجل العائله للممثل نيكولاس كيدج عام ح نشوف التغير شخصيات العمل الرئيسيه فبدل بطل العمل اللي بتقوم قصه الفيلم رجل حنشوف تحول لسيده وده مش مشكله نهائيا تكون المشاهد الغير عقلانيه بنخلينا نرجع تاني نسال وندور فمثلا اغلب السيدات تتمني تصبح يكون لديها اطفال جزمنا بان السيدات تعير لذلك الحلم اهتمام حنلاقي باب تاني اتفتح ازاي تقدم فيلم عائلي موجه الاخص للاسره والاطفال وتقدم المواقف المرفوضه فنيا اللي بنسعي اننا نحاربها زي الاغاني الشعبيه الهابطه والحركات اللي بتشير معاني مقبوله تحدثنا الاداء التمثيلي اذكر الكثير خاصه ياسمين عبدالعزيز تقدم جديد يذكر وادائها مفتعل ومشابه للشخصيه قدمتها بفيلم الداده دودي الكثير الحركات وتعبيرات الوجه دور الممثل حسن الرداد الممكن الاشاده بمحاولته للبس عباءه الكوميديا بالاضافه ادائه مقبولا الفيلم يختلف كثيرا نفس نوعيه الافلام قدمتها ياسمين عبدالعزيز مؤخرا النجمات يسرا الهام شاهين و ليلي علوي يهدون اغنيه ياولا للكابتن محمد صلاح برنامج صالون انوشكا اليسراويه جروب ممتاز افضل يميزه الموقع ويطل باب النساء ممتاز جدا للعوائل يعيبه السعر مبالغ جدا اللفت ضيق ولازم تنطر وقت رديت الصلاه خاصه صلاه الجمعه لاتوجد فخامه الاثاث نظيف لكنه قديم والمنظر بشكل عام جيد جدا الثالثه مفضلتي ابكي قراتها ياسرني حب الاخوه جزئي المفضل قاموا بحمايه اختهم تعجز الكلمات وصفه جبران خليل استخدم اسلوب ينفذ الروح ليعطيك خلاصه و خيرات خبراته الحياه الكتاب عصاره فكر و خلاصه تجارب منهج حياه وضعه جبران خليل جبران ببراعه و بلاغه تفوق الوصف سطور معدوده و نقله للعربيه د ثروت عكاشه ببلاغه و اسلوب عميق التاثير المعني نهائيا استمتعت بقراءه النص بالانجليزيه و النظر اعرفه معاني الترجمه الموازيه الممتازه لابد قراءه الكتاب الراقي الرائع تحديث قراءه بعضا رمل و زبد اريد اضافه مختلف تماما النبي الاسلوب ابسط و اوضح كثيرا استودع الله امري كله دقه وجله الرجاء التكلان اللهم اسالك تياسير تعقبها تباشير يارب بشرني يسر خاطري فلورا بارك الفندق جميل وخدماته ممتازه واجوائه عائليه وموقعه ممتاز بقرب ديره ستي سنتر الطاقم ودود وخدوم الغرف واسعه ونظيفه تشعر بوجودك فندق خمس نجوم لديهم مواصلات يوميه للمولات والاماكن السياحيه افطار الصباح متنوع ويلبي جميع الاذواق جوده جيده مش عارف مقنع الشعب انو كلنا لازم نحب المرسيدس مش راكبها يعني نفسي اركبها غلطت مره وقلت احببت شخص غازي رحمه الله قراءه الكتاب رده ودفاعه نفسه رصانه الادب وجلال الهدوء حضره العقل سباب شتم انتقاص الكتاب يعرج الكثير الاحداث ومواقف الاختلاف جربت نودلز بالجمبري وارد حبه طويله باللحم لذيذ اتوقع الطعم طبعا اخترته بدون صوص طريقه العلب والاكل حلوه جرب تندم بالسلامه شاء الله تعالي فكرت كثيرا قبل اكتب المراجعه واضع تقيم الروايه لانها تستحق اعمالا عقليا نتيجه الاسلوب الفني والرسائل القيميه تحملها الروايه رمزيه اولها اخرها تكونت خمسه فصول استمر رمز الدين فصل يتحرك ترك صراع الدين والعلم الفصل الخامس اثر بشكل مباشر حياه الناس واصابهم خواء وفراغ وصل لرؤيه الاشباح واحلام السكر المجمل تدور الروايه حول الصراع البشري الدائم قوي الخير المطلق والشر المطلق الرمز الماخوذ قصص الانبياء نصل للفصل الاخير اجمل رمزيات الروايه صراع الدين والعلم انتهي المطلق ودخلنا معمعه النسبيات صار الحق موزعا وظهر الشر الناس انفسهم ادعي التدين يحرف الدين شجع العلم ونزع القيم الاخلاقيه صار شرا الناس كتبت المراجعه ثلاث مرات اقتنع الان لانها تجذبني الشرح اريد اشرح شيئا اتدخل سيقرؤها اريد ايضا اجعلها تبدو روايه سطحيه قوه خير وشر فقط رائعه واسلوب نجيب مذهل لدرجه انك التقطت الرمز فصل وعرفت نهايه الفصل تتوقف القراءه قلم سيال ورشيق اشعر بالملل معه واستطيع قراءه الروايه اؤكد براءته اتهم بعدها اجده يحط قدر الدين وا حدث الروايه شيئا يقصده اظنه يحتاج مجهودا كبيرا له شخص يحاكمك بمرجعه ويسل سيفا يقبل راي اول حاجه طبعا تعليقي لازم يكون سلوب السلس الممتع اللي فعلا باخذك القراءه بالنسبه للمضون العبقري الطيب الصالح بيتكلم حاجه واضحه جدا و الصراع الحداثه و صاله و اصلا العلاقه بينهم عنيفه جدا و علش كدا شايف العنف و الشراسه اللي اغلبنا حس بيها اثناء القراءه ما تجد الصراع ف الروايه و و جهه نظري ده نجاح كبير جدا و اعطيه النقطه الخامسه علش النهايه اخر صفحتين قال ه عاوز يعيش علش يستحق يعيش اجله مقتنعتش خالص شخصيا زي دي تقول كلام زي ده ل اصلا ده واحد عايش طول حياته متغرب الروايه المجمل رائعه فيدرر سيكون دبي نهايه العام لذلك واقعيا يمكن يلعب مبادله خصوصا ها تنتهي اول مباراه ل كنت اضن الطيور تهاجر لكنت كتبت ريشه اشتقت اهداف مصر وغانا شيكابالا يسجل تصفيات كاس العالم  ضد عمل وقياده المراه اللهم رد عبدك محمد بن نايف ونا ضد قياده المراه حنا ولد نايف صحيح تعبت كثيرا اتخيل المشاهد لصعوبه الالفاظ المعربه يبقي التشويق والاسلوب الرائع لدان براون طاغيا الكل السنه النبويه قل قبل نومك باسمك ربي وضعت جنبي ارفعه امسكت نفسي فارحمها ارسلتها فاحفظها تحفظ عبادك الصالحين جميله المواقف تعرض صاحب القصه وتعايشه معها ينقص الكاتب الاسلوب النحوي الجيد نفسي اعرف كيفيه قراءه الكتاب ممكن حد يفيدني سمحتم وش بقي راحت امي صحيح ماقدر اناديج يايمه يوم الله يرحمج ويرحم موتي المسلمين الامور تهون والمرء يستحيل ينسي اوجعه فقط نصير اقوي لشيء لاننا الغالب نملك خيارا اخر هوب اعتراض تبالغ مختلف لانه ذكي وجريء وطفولته وحياته تشبهلنا وماعنده شي يخسره صح تذكرت ليش حذفته لانه مره بيتهاو انصح نفسي وجميع الفتيات قرائته وعيه اعلم مره اعدت قرائته لكني اجد نفسي كثيرا امس الحاجه لاعاده قرائته السحب الليله الايفون رتويت للمرفقه وطبق الشروط السلام عليكم صحيح اغلاق البناء الذاتي نهايه شهر مارس مهو قتال جماعه اقسم بالله ليفاي شقه شق دقيقه وين القتال بالموضوع الان القائد العام للقوات المسلحه العربيه الليبيه المشير خليفه بلقاسم حفتر وامر غرفه عمليات الكرامه اللواء خامه رديئه تتمزق بسرعه مقاس صغير جدا يناسب الناس البالغين ابدا المطعم قريب مكان عملي وبيتي كنت اروحله اول عشان الكوفي والحلا والمشروبات صديقاتي الحين تغير المنيو حقهم وصار طعم اكلهم افضل بكثير اضافو شي حلو للصغار بيزا يسويها الطفل بنفسه يجيبون المكونات والعجينه يسويها يحطونها بالفرن سعرها ب ريال شامله المشروب وطعمها لذيذ تشبه سابقتها عدم وجود الكم الاحداث مجال للمقارنه يطرح تساؤلات عميقه و فلسفيه احيا احببت ارافق شخصيه روايه اهم مراحل حياتها اصل معها ايضا لهذه المرحله النزاع الفكري استطاع تركي يستعيد اعجابي بالثلاثيه الجزء بعدما كنت فقدت معظمه الشميسي قرات الكثير سلسله المكتبه الخضراء ابان الطفوله يااه ايام قراته زماان لااتذكر الكثير اعتقد مجموعه قصصيه للعضه والعبره قراته اول نشر لطبعته الاولي ثلاثه اعوام ورغم كوني اعتزم العنوان النسيان انني اجدني الان بحاجه لتكراره كتاب وجب يتواجد مكاتبكن اناث اصفه ب وقود معنوي وذخيره الالهام لذروه التواقيت الصعبه وبغض الطرف جيء نصوص الدعاء الافكار تتنافي مبادئي يحوي منهجا ينتفع يحتذي بافكاره ساده اتوا انصار اسقاط الولايه جحر دفاعا الحريه المزعومه حسابات وهميه وحسابات مغرر للاسف محتاجه حد يكون بايع حياته عشان يبتدي كاتب مبدع ابحرت عباراته كثيرا يحمللك شواطيء تمر عليها مخيلتك قط احلل ليوم القيامه نهبت نص حلالي  ماكنت عارف معاير الاختيار اكرمنا بسكوتك بالله وش سوا السومه تصفيات كاس العالم دوري ابطال اسيا شعر النصر الهلال متصدر تكلمني الامارات عمان سوريا غرد بالخير رتويت دعاء كيكرز الدجاج وجبتي المفضله عشر سنوات سبايسي ياحبيبي سبايسي ايجابيات و سلبيات سيتيزين ايكو درايف رجاليه \\u202b انالوج بعقارب ساعه رياضيه موقع جدا مميز لقد اقمت لوحدي بشهر ابريل استمتعت كثيرا موقعه جذبني كثيرا واطلالته رائعه الغرف صغيره والافطار مميز الانترنت مجاني توفر موقف سياره جيد طاقم الفندق متعاون ومرحب اشكر اخبرني بالفندق يصلح لشخصين الفندق مبني فتره قديمه جدا والاضائه جيده كفايه الكتاب نفس فكره كتاب صناعه الذكاء الكثيره الالغاز والمسائل تحدي لجميع قدرات العقل البشريه المختلفه كتاب جيد نصيحه قالها احمد العايدي كنت تعتبرها روايه فاتركها شكرته صدقه اقرا الروايه ل شعرت تجليات ادبيه فعلا روايه اعجبني الجمل الادبيه المستمده التامل الحياه وشعرت اريد التوقف عندها وتذوقها مرارا خرجت بصراحه قراءه العمل وجدت الوصف مضكا وخفيفا وبعضه ثقيلا ومقززا وبعضه متعبا وممزقا تاتي اخر صفحه فتجعلني اقراها مرات ومرات افهمها فزادت تشتتي كنت احاول جمعه نسيت اقول بدايه صفحه كانت تشعرني بتقليد لاسلوب احمد خالد توفيق محمد سليمان عبد الملك مماجعلني اشعر الاسلوب مسخ اساليب اخري عاجلمقتل واصابه شخصا ب تفجير سيطره بابل'"
            ]
          },
          "metadata": {
            "tags": []
          },
          "execution_count": 120
        }
      ]
    },
    {
      "cell_type": "code",
      "metadata": {
        "id": "QWXE2ojXQ6F9"
      },
      "source": [
        "challege = [ char     for char in t  if char not in string.punctuation ]\n",
        "challenge = ''.join(challege)\n",
        "challenge = [  word for word in challenge.split() if word.lower() not in stopwords.words('Arabic')  ] "
      ],
      "execution_count": null,
      "outputs": []
    },
    {
      "cell_type": "code",
      "metadata": {
        "id": "_HmiH7IS1_43",
        "outputId": "343fb177-6ead-4a1e-f939-6031410730af"
      },
      "source": [
        "challenge"
      ],
      "execution_count": null,
      "outputs": [
        {
          "output_type": "execute_result",
          "data": {
            "text/plain": [
              "['السلام',\n",
              " 'عليكم',\n",
              " 'نقلنا',\n",
              " 'كفاله',\n",
              " 'العامل',\n",
              " 'صاحب',\n",
              " 'اقامه',\n",
              " 'رقم',\n",
              " 'و',\n",
              " 'يضهر',\n",
              " 'ابشر',\n",
              " 'عندي',\n",
              " 'امتحان',\n",
              " 'باطنه',\n",
              " 'وماقدرتش',\n",
              " 'م',\n",
              " 'اخلصها',\n",
              " 'هدخل',\n",
              " 'ع',\n",
              " 'الدكتور',\n",
              " 'احكيله',\n",
              " 'حكايه',\n",
              " 'احمد',\n",
              " 'كمال',\n",
              " 'ونضاله',\n",
              " 'بجد',\n",
              " 'شدتني',\n",
              " 'جداا',\n",
              " 'وماقدرتش',\n",
              " 'اخلصها',\n",
              " 'بالنسبه',\n",
              " 'لتجربه',\n",
              " 'كاتب',\n",
              " 'لاول',\n",
              " 'مره',\n",
              " 'احلي',\n",
              " 'الحاجات',\n",
              " 'اللي',\n",
              " 'قريتها',\n",
              " 'هوه',\n",
              " 'مشروع',\n",
              " 'كاتب',\n",
              " 'ممتاز',\n",
              " 'رد',\n",
              " 'الفعل',\n",
              " 'تراب',\n",
              " 'الماس',\n",
              " 'اقدر',\n",
              " 'اقول',\n",
              " 'نجح',\n",
              " 'د',\n",
              " 'بجدراه',\n",
              " 'قعد',\n",
              " 'اول',\n",
              " 'صفحه',\n",
              " 'يوصف',\n",
              " 'وصف',\n",
              " 'ملوش',\n",
              " 'معني',\n",
              " 'اسلوبه',\n",
              " 'ف',\n",
              " 'الكتابه',\n",
              " 'يخليك',\n",
              " 'برده',\n",
              " 'تنسي',\n",
              " 'انك',\n",
              " 'عديت',\n",
              " 'ال',\n",
              " 'صفحه',\n",
              " 'اصلا',\n",
              " 'كتاب',\n",
              " 'رائع',\n",
              " 'جدا',\n",
              " 'افدني',\n",
              " 'شخصيا',\n",
              " 'جدا',\n",
              " 'وصحح',\n",
              " 'عندي',\n",
              " 'مفام',\n",
              " 'منهان',\n",
              " 'القراءه',\n",
              " 'هوايه',\n",
              " 'منهج',\n",
              " 'حياه',\n",
              " 'افكار',\n",
              " 'الكتاب',\n",
              " 'رائعه',\n",
              " 'ومفيده',\n",
              " 'جدا',\n",
              " 'م',\n",
              " 'سيء',\n",
              " 'للغايه',\n",
              " 'جراند',\n",
              " 'ميدويست',\n",
              " 'للشقق',\n",
              " 'الفندقيه',\n",
              " 'فندق',\n",
              " 'بر',\n",
              " 'دبي',\n",
              " 'عادي',\n",
              " 'جدا',\n",
              " 'يتم',\n",
              " 'تغير',\n",
              " 'ملاءات',\n",
              " 'السرير',\n",
              " 'يوم',\n",
              " 'والبطانيات',\n",
              " 'ت',\n",
              " 'قديمه',\n",
              " 'جدا',\n",
              " 'وتجعلك',\n",
              " 'تهرش',\n",
              " 'بالليل',\n",
              " 'واضطررنا',\n",
              " 'لطلب',\n",
              " 'خدمه',\n",
              " 'الغرف',\n",
              " 'لتغير',\n",
              " 'الملاءات',\n",
              " 'ايام',\n",
              " 'وت',\n",
              " 'الاسره',\n",
              " 'مقلقه',\n",
              " 'وتصدر',\n",
              " 'الكثير',\n",
              " 'الضوضاء',\n",
              " 'الحركه',\n",
              " 'بالليل',\n",
              " 'ت',\n",
              " 'الارائك',\n",
              " 'الموجوده',\n",
              " 'الغرفه',\n",
              " 'قذره',\n",
              " 'للغايه',\n",
              " 'يمه',\n",
              " 'و',\n",
              " 'علينا',\n",
              " 'نضع',\n",
              " 'ملاءه',\n",
              " 'للجلوس',\n",
              " 'عليها',\n",
              " 'وت',\n",
              " 'تصلح',\n",
              " 'للجلوس',\n",
              " 'عليها',\n",
              " 'وت',\n",
              " 'مريحه',\n",
              " 'جدا',\n",
              " 'و',\n",
              " 'علينا',\n",
              " 'نطلب',\n",
              " 'خدمه',\n",
              " 'الغرف',\n",
              " 'عده',\n",
              " 'مرات',\n",
              " 'لطلب',\n",
              " 'اشياء',\n",
              " 'بسيطه',\n",
              " 'مثل',\n",
              " 'لفات',\n",
              " 'المرحاض',\n",
              " 'ومناشف',\n",
              " 'نظيفه',\n",
              " 'لانها',\n",
              " 'يتم',\n",
              " 'وضعها',\n",
              " 'دائما',\n",
              " 'عندما',\n",
              " 'تم',\n",
              " 'تنظيف',\n",
              " 'الغرف',\n",
              " 'و',\n",
              " 'لدينا',\n",
              " 'غساله',\n",
              " 'تعمل',\n",
              " 'ايضا',\n",
              " 'وتعمل',\n",
              " 'عده',\n",
              " 'ساعات',\n",
              " 'توقف',\n",
              " 'ورغم',\n",
              " 'شكوانا',\n",
              " 'مرات',\n",
              " 'عديده',\n",
              " 'يتم',\n",
              " 'يبديلها',\n",
              " 'و',\n",
              " 'حمام',\n",
              " 'السباحه',\n",
              " 'العلوي',\n",
              " 'خطر',\n",
              " 'لوجود',\n",
              " 'العديد',\n",
              " 'البلاط',\n",
              " 'المتشقق',\n",
              " 'حول',\n",
              " 'حمام',\n",
              " 'السباحه',\n",
              " 'وبعضها',\n",
              " 'يتحرك',\n",
              " 'وحوافها',\n",
              " 'حاده',\n",
              " 'جرحت',\n",
              " 'قدم',\n",
              " 'طفلتي',\n",
              " 'اثناء',\n",
              " 'لعبها',\n",
              " 'الفندق',\n",
              " 'يستحق',\n",
              " 'السعر',\n",
              " 'اردت',\n",
              " 'تقيمه',\n",
              " 'فساصنفه',\n",
              " 'كفندق',\n",
              " 'نجمه',\n",
              " 'واحده',\n",
              " 'ارشيف',\n",
              " 'اصدارات',\n",
              " 'المركز',\n",
              " 'العلاقات',\n",
              " 'المصريه',\n",
              " 'الاسرائيليه',\n",
              " 'ثوره',\n",
              " 'يناير',\n",
              " 'قراتها',\n",
              " 'اعوام',\n",
              " 'ربما',\n",
              " 'قدر',\n",
              " 'براعه',\n",
              " 'التصوير',\n",
              " 'لكل',\n",
              " 'شخصيه',\n",
              " 'وتوافق',\n",
              " 'الاحداث',\n",
              " 'بالغ',\n",
              " 'الكاتب',\n",
              " 'التعبيرات',\n",
              " 'ضير',\n",
              " 'عدمها',\n",
              " 'تنشر',\n",
              " 'الفساد',\n",
              " 'الدعوه',\n",
              " 'ممنهجه',\n",
              " 'لافساد',\n",
              " 'المجتمع',\n",
              " 'و',\n",
              " 'سلخه',\n",
              " 'القيم',\n",
              " 'و',\n",
              " 'الفضيله',\n",
              " 'تعطيل',\n",
              " 'الهيئه',\n",
              " 'الاختلاط',\n",
              " 'بالوظائف',\n",
              " 'قياده',\n",
              " 'المراه',\n",
              " 'للسياره',\n",
              " 'دخول',\n",
              " 'النساء',\n",
              " 'للملاعب',\n",
              " 'نشر',\n",
              " 'الدياثه',\n",
              " 'و',\n",
              " 'زنا',\n",
              " 'المحارم',\n",
              " 'بالاعلام',\n",
              " 'مصارعه',\n",
              " 'شبه',\n",
              " 'عاريه',\n",
              " 'بحضور',\n",
              " 'النساء',\n",
              " 'السماح',\n",
              " 'للجامعيات',\n",
              " 'بالخروج',\n",
              " 'وقت',\n",
              " 'فخامه',\n",
              " 'الرئيس',\n",
              " 'عبد',\n",
              " 'الفتاح',\n",
              " 'السيسي',\n",
              " 'اعلنها',\n",
              " 'للجميع',\n",
              " 'منتدي',\n",
              " 'شباب',\n",
              " 'العالم',\n",
              " 'بانه',\n",
              " 'سيترشح',\n",
              " 'للانتخابات',\n",
              " 'القادمه',\n",
              " 'شاء',\n",
              " 'الله',\n",
              " 'اشوفكم',\n",
              " 'نوفمبر',\n",
              " 'القادم',\n",
              " 'المنتدي',\n",
              " 'يعني',\n",
              " 'السيسي',\n",
              " 'رئيسي',\n",
              " 'قصف',\n",
              " 'جبهه',\n",
              " 'ناس',\n",
              " 'باقصي',\n",
              " 'ضميري',\n",
              " 'محله',\n",
              " 'ناس',\n",
              " 'الغلا',\n",
              " 'واحترامي',\n",
              " 'غالين',\n",
              " 'عندي',\n",
              " 'و',\n",
              " 'الغلا',\n",
              " 'نمله',\n",
              " 'وصباح',\n",
              " 'الخير',\n",
              " 'قولو',\n",
              " 'عندك',\n",
              " 'ادخل',\n",
              " 'واختار',\n",
              " 'جهاز',\n",
              " 'بعقد',\n",
              " 'يمكن',\n",
              " 'يعطونك',\n",
              " 'لماذا',\n",
              " 'يتاخر',\n",
              " 'تصحيح',\n",
              " 'الخطا',\n",
              " 'يختفي',\n",
              " 'الاختفاء',\n",
              " 'الجهل',\n",
              " 'بالحقيقه',\n",
              " 'الكسل',\n",
              " 'الفكري',\n",
              " 'و',\n",
              " 'الضعف',\n",
              " 'الخلقي',\n",
              " 'مجموعه',\n",
              " 'المقالات',\n",
              " 'القصيره',\n",
              " 'يجاوب',\n",
              " 'الشيخ',\n",
              " 'محمد',\n",
              " 'الغزالي',\n",
              " 'الاسئله',\n",
              " 'ويعلق',\n",
              " 'يقع',\n",
              " 'بالعالم',\n",
              " 'الاسلامي',\n",
              " 'يقع',\n",
              " 'شدني',\n",
              " 'الكتاب',\n",
              " 'طريقه',\n",
              " 'الكتابه',\n",
              " 'تعكس',\n",
              " 'الحسره',\n",
              " 'حال',\n",
              " 'المسلمين',\n",
              " 'الايام',\n",
              " 'يدل',\n",
              " 'مدي',\n",
              " 'غيره',\n",
              " 'الشيخ',\n",
              " 'الغزالي',\n",
              " 'الدين',\n",
              " 'الاسلامي',\n",
              " 'اعجبتني',\n",
              " 'صراحه',\n",
              " 'الكاتب',\n",
              " 'الشديده',\n",
              " 'والمؤلمه',\n",
              " 'عجب',\n",
              " 'الكتاب',\n",
              " 'منع',\n",
              " 'النشر',\n",
              " 'لمده',\n",
              " 'طويله',\n",
              " 'اننا',\n",
              " 'نتعلم',\n",
              " 'الناس',\n",
              " 'يمشون',\n",
              " 'ع',\n",
              " 'نياتهمم',\n",
              " 'امشي',\n",
              " 'ع',\n",
              " 'رجلي',\n",
              " 'مساكم',\n",
              " 'قال',\n",
              " 'الله',\n",
              " 'تعالي',\n",
              " 'لموسي',\n",
              " 'وهارون',\n",
              " 'عليهما',\n",
              " 'السلام',\n",
              " 'اجيبت',\n",
              " 'دعوتكما',\n",
              " 'بالصبر',\n",
              " 'تفتح',\n",
              " 'ابواب',\n",
              " 'السعاده',\n",
              " 'وبالشكر',\n",
              " 'تدوم',\n",
              " 'النعم',\n",
              " 'وبذكر',\n",
              " 'الله',\n",
              " 'تطمئن',\n",
              " 'القلوب',\n",
              " 'جعلنا',\n",
              " 'الله',\n",
              " 'واياكم',\n",
              " 'الذاكرين',\n",
              " 'الشاكرين',\n",
              " 'الصابرين',\n",
              " 'صباح',\n",
              " 'الخير',\n",
              " 'البنوك',\n",
              " 'السعوديه',\n",
              " 'باي',\n",
              " 'حق',\n",
              " 'يالراجحي',\n",
              " 'تسحب',\n",
              " 'القسط',\n",
              " 'الان',\n",
              " 'مؤسسه',\n",
              " 'النقد',\n",
              " 'يحق',\n",
              " 'رفع',\n",
              " 'شكوي',\n",
              " 'احي',\n",
              " 'الشاعر',\n",
              " 'العراقي',\n",
              " 'المناضل',\n",
              " 'كنت',\n",
              " 'الكويت',\n",
              " 'تنشر',\n",
              " 'لافتاتك',\n",
              " 'بجانب',\n",
              " 'اخو',\n",
              " 'ناجي',\n",
              " 'العلي',\n",
              " 'وكلاكما',\n",
              " 'تكملان',\n",
              " 'لافتاتك',\n",
              " 'الذهن',\n",
              " 'و',\n",
              " 'خواطرك',\n",
              " 'معبره',\n",
              " 'يكتفي',\n",
              " 'اللسان',\n",
              " 'بترديد',\n",
              " 'لافتاتك',\n",
              " 'احرق',\n",
              " 'القصه',\n",
              " 'تستحق',\n",
              " 'القراءه',\n",
              " 'لمن',\n",
              " 'يريد',\n",
              " 'متابعه',\n",
              " 'عقليات',\n",
              " 'ومراحل',\n",
              " 'تطور',\n",
              " 'وتخبط',\n",
              " 'فكر',\n",
              " 'فتاه',\n",
              " 'ناضجه',\n",
              " 'كنت',\n",
              " 'يسهل',\n",
              " 'استفزازه',\n",
              " 'تبحث',\n",
              " 'عمل',\n",
              " 'روائي',\n",
              " 'ادبي',\n",
              " 'ناضج',\n",
              " 'تبحث',\n",
              " 'شخصيات',\n",
              " 'تمثلها',\n",
              " 'فتيات',\n",
              " 'مثاليات',\n",
              " 'ملائكه',\n",
              " 'يرتكبن',\n",
              " 'اخطاء',\n",
              " 'تقراها',\n",
              " 'وابحث',\n",
              " 'كتيبات',\n",
              " 'الوعظ',\n",
              " 'استطع',\n",
              " 'اكمال',\n",
              " 'قرائتها',\n",
              " 'ل',\n",
              " 'صدرت',\n",
              " 'لني',\n",
              " 'كن',\n",
              " 'معكم',\n",
              " 'الذيبه',\n",
              " 'فرح',\n",
              " 'مطعم',\n",
              " 'فوندا',\n",
              " 'المطاعم',\n",
              " 'زلت',\n",
              " 'ارجع',\n",
              " 'زيارتي',\n",
              " 'الاولي',\n",
              " 'قبل',\n",
              " 'سنه',\n",
              " 'اطباقه',\n",
              " 'مكسيكيه',\n",
              " 'اصيله',\n",
              " 'حسب',\n",
              " 'شهاده',\n",
              " 'زملاء',\n",
              " 'العمل',\n",
              " 'الامريكان',\n",
              " 'تربوا',\n",
              " 'العادات',\n",
              " 'المكسيكيه',\n",
              " 'مكان',\n",
              " 'المطعم',\n",
              " 'قريب',\n",
              " 'كورنيش',\n",
              " 'الخبر',\n",
              " 'امام',\n",
              " 'الواجهه',\n",
              " 'البحريه',\n",
              " 'لكنه',\n",
              " 'شارع',\n",
              " 'خلفي',\n",
              " 'ضيق',\n",
              " 'لكنك',\n",
              " 'بالعاده',\n",
              " 'تجد',\n",
              " 'صعوبه',\n",
              " 'الحصول',\n",
              " 'المواقف',\n",
              " 'جلسته',\n",
              " 'وديكوره',\n",
              " 'جيده',\n",
              " 'الجو',\n",
              " 'مكتوم',\n",
              " 'قليلا',\n",
              " 'ودائما',\n",
              " 'تشعر',\n",
              " 'بضيقه',\n",
              " 'اول',\n",
              " 'دخولك',\n",
              " 'العماله',\n",
              " 'جيده',\n",
              " 'لكنها',\n",
              " 'تحيط',\n",
              " 'الزبون',\n",
              " 'بالاهتمام',\n",
              " 'الكافي',\n",
              " 'يقدم',\n",
              " 'المطعم',\n",
              " 'طبق',\n",
              " 'ناتشوز',\n",
              " 'وصلصه',\n",
              " 'حمراء',\n",
              " 'حاره',\n",
              " 'كطبق',\n",
              " 'ضيافه',\n",
              " 'اردت',\n",
              " 'تختصر',\n",
              " 'مجموعه',\n",
              " 'الاطباق',\n",
              " 'طبق',\n",
              " 'واحد',\n",
              " 'تجرب',\n",
              " 'طبق',\n",
              " 'فوندا',\n",
              " 'سوبريما',\n",
              " 'الطبق',\n",
              " 'لفائف',\n",
              " 'لحم',\n",
              " 'ودجاج',\n",
              " 'وتاكو',\n",
              " 'واحده',\n",
              " 'بالاضافه',\n",
              " 'كوره',\n",
              " 'رز',\n",
              " 'وكوره',\n",
              " 'فول',\n",
              " 'الطبق',\n",
              " 'شامل',\n",
              " 'و',\n",
              " 'لذيذ',\n",
              " 'يوجد',\n",
              " 'المطعم',\n",
              " 'كبق',\n",
              " 'السيزلر',\n",
              " 'طبق',\n",
              " 'شهي',\n",
              " 'جدا',\n",
              " 'بالاضافه',\n",
              " 'الهمبرجر',\n",
              " 'باس',\n",
              " 'بشكل',\n",
              " 'عام',\n",
              " 'اطباق',\n",
              " 'المطعم',\n",
              " 'ممتازه',\n",
              " 'ولذيذه',\n",
              " 'عنده',\n",
              " 'مشكله',\n",
              " 'الاحيان',\n",
              " 'المحافظه',\n",
              " 'الجوده',\n",
              " 'معظم',\n",
              " 'الاحيان',\n",
              " 'شيء',\n",
              " 'تمام',\n",
              " 'الاحيان',\n",
              " 'يختل',\n",
              " 'الطعم',\n",
              " 'الاطباق',\n",
              " 'وخصوصا',\n",
              " 'لفائف',\n",
              " 'الذره',\n",
              " 'والناتشوز',\n",
              " 'فستجد',\n",
              " 'طعم',\n",
              " 'بائت',\n",
              " 'تقيمي',\n",
              " 'بسبب',\n",
              " 'عدم',\n",
              " 'تمكنه',\n",
              " 'الحفاظ',\n",
              " 'الجوده',\n",
              " 'مره',\n",
              " 'الراحه',\n",
              " 'النفسيه',\n",
              " 'والهدوء',\n",
              " 'والجوده',\n",
              " 'بفندق',\n",
              " 'البارون',\n",
              " 'الدخول',\n",
              " 'الاول',\n",
              " 'فندق',\n",
              " 'البارون',\n",
              " 'تشعر',\n",
              " 'بالراحه',\n",
              " 'النفسيه',\n",
              " 'التامه',\n",
              " 'حدث',\n",
              " 'معي',\n",
              " 'يوم',\n",
              " 'سفر',\n",
              " 'وصولي',\n",
              " 'فندق',\n",
              " 'البارون',\n",
              " 'فتم',\n",
              " 'الاستقبال',\n",
              " 'الوجه',\n",
              " 'الامثل',\n",
              " 'بمعني',\n",
              " 'ادق',\n",
              " 'الوجه',\n",
              " 'المثاليه',\n",
              " 'العليا',\n",
              " 'الاستقبال',\n",
              " 'الضيافه',\n",
              " 'الانتقال',\n",
              " 'الغرف',\n",
              " 'كانت',\n",
              " 'بالنسبه',\n",
              " 'غرفه',\n",
              " 'كماليات',\n",
              " 'ممتازه',\n",
              " 'كنت',\n",
              " 'افتقد',\n",
              " 'تصفح',\n",
              " 'مواقع',\n",
              " 'الانترنت',\n",
              " 'الغرفه',\n",
              " 'التراس',\n",
              " 'يمكنك',\n",
              " 'التصفح',\n",
              " 'بحريه',\n",
              " 'تامه',\n",
              " 'وبالنسبه',\n",
              " 'لجوده',\n",
              " 'الماكولات',\n",
              " 'والمشروبات',\n",
              " 'فبمتاز',\n",
              " 'فندق',\n",
              " 'البارون',\n",
              " 'بامهر',\n",
              " 'الشيفات',\n",
              " 'يقدمون',\n",
              " 'اكبر',\n",
              " 'والذ',\n",
              " 'تشكيله',\n",
              " 'ماكولات',\n",
              " 'شكرا',\n",
              " 'فندق',\n",
              " 'البارون',\n",
              " 'امتع',\n",
              " 'الكتب',\n",
              " 'قراتها',\n",
              " 'لانيس',\n",
              " 'منصور',\n",
              " 'ياخذنا',\n",
              " 'لرحله',\n",
              " 'ممتعه',\n",
              " 'لثقافات',\n",
              " 'الشعوب',\n",
              " 'الاتحاد',\n",
              " 'يتوج',\n",
              " 'بطلا',\n",
              " 'للدوري',\n",
              " 'الاتحاد',\n",
              " 'مهدد',\n",
              " 'بالهبوط',\n",
              " 'رايت',\n",
              " 'الدهر',\n",
              " 'مختلفا',\n",
              " 'يدور',\n",
              " 'حزنا',\n",
              " 'يدو',\n",
              " 'السلعه',\n",
              " 'ممتازه',\n",
              " 'ومطابقه',\n",
              " 'للمواصفات',\n",
              " 'انصح',\n",
              " 'الجميع',\n",
              " 'بتجربتها',\n",
              " 'سرعه',\n",
              " 'توصيل',\n",
              " 'الطلب',\n",
              " 'سهله',\n",
              " 'الاستخدام',\n",
              " 'حسابات',\n",
              " 'تميزه',\n",
              " 'بتفاعل',\n",
              " 'بعضهم',\n",
              " 'للعطاء',\n",
              " 'قامه',\n",
              " 'وفاء',\n",
              " 'معرفتهم',\n",
              " 'شرف',\n",
              " 'منهم',\n",
              " 'ن',\n",
              " 'تعرف',\n",
              " 'استراليا',\n",
              " 'بالكنغر',\n",
              " 'والكوالا',\n",
              " 'فا',\n",
              " 'تعرف',\n",
              " 'ايضا',\n",
              " 'باكلاتها',\n",
              " 'مثل',\n",
              " 'الفيجي',\n",
              " 'مايت',\n",
              " 'الافطار',\n",
              " 'والتم',\n",
              " 'تام',\n",
              " 'كشوكلاته',\n",
              " 'والرد',\n",
              " 'روستر',\n",
              " 'كوجبه',\n",
              " 'فرديه',\n",
              " 'عائليه',\n",
              " 'كالبيك',\n",
              " 'مكه',\n",
              " 'وجده',\n",
              " 'لاهل',\n",
              " 'السعوديه',\n",
              " 'يشتهر',\n",
              " 'المطعم',\n",
              " 'الاسترالي',\n",
              " '٪',\n",
              " 'بوجبات',\n",
              " 'الدجاج',\n",
              " 'المشوي',\n",
              " 'والبطاطا',\n",
              " 'المهروس',\n",
              " 'البازلا',\n",
              " 'ويشتهر',\n",
              " 'ايضا',\n",
              " 'بالبطاطس',\n",
              " 'المقلي',\n",
              " 'العريض',\n",
              " 'والمتعرج',\n",
              " 'البطاطس',\n",
              " 'مستويه',\n",
              " 'تماما',\n",
              " 'يعتبرها',\n",
              " 'البعض',\n",
              " 'سلبيه',\n",
              " 'واعتبرها',\n",
              " 'ميزه',\n",
              " 'خصوصا',\n",
              " 'بهارتهم',\n",
              " 'الحمراء',\n",
              " 'الغريبه',\n",
              " 'يبدوا',\n",
              " 'فلفل',\n",
              " 'احمر',\n",
              " 'مطحون',\n",
              " 'ايضا',\n",
              " 'وجبه',\n",
              " 'البحريات',\n",
              " 'قطع',\n",
              " 'ربيان',\n",
              " 'مقليه',\n",
              " 'بطريقه',\n",
              " 'مميزه',\n",
              " 'ولديهم',\n",
              " 'ايضا',\n",
              " 'المشويات',\n",
              " 'البورتغاليه',\n",
              " 'انسي',\n",
              " 'سندويشات',\n",
              " 'التشكن',\n",
              " 'راب',\n",
              " 'والبرجرز',\n",
              " 'المطعم',\n",
              " 'يعتبر',\n",
              " 'يعتبر',\n",
              " 'المطاعم',\n",
              " 'السريعه',\n",
              " 'وطلبات',\n",
              " 'السيارات',\n",
              " 'فجلساته',\n",
              " 'الداخليه',\n",
              " 'مثل',\n",
              " 'جلسات',\n",
              " 'ماكدونالز',\n",
              " 'وهنقري',\n",
              " 'جاك',\n",
              " 'برقركنج',\n",
              " 'فرع',\n",
              " 'باستراليا',\n",
              " 'اسعاره',\n",
              " 'مناسبه',\n",
              " 'ومقاربه',\n",
              " 'للمطاعم',\n",
              " 'السريعه',\n",
              " 'المشهوره',\n",
              " 'ومنتشر',\n",
              " 'جميع',\n",
              " 'دوله',\n",
              " 'استراليا',\n",
              " 'وخصوصا',\n",
              " 'المطارات',\n",
              " 'رجعنا',\n",
              " 'الصداره',\n",
              " 'شاءالله',\n",
              " 'تنتهي',\n",
              " 'الصداره',\n",
              " 'روعه',\n",
              " 'وعجبني',\n",
              " 'المزيج',\n",
              " 'المتكامل',\n",
              " 'اللغه',\n",
              " 'العربيه',\n",
              " 'الفصحي',\n",
              " 'وروعه',\n",
              " 'التشبيهات',\n",
              " 'واللغه',\n",
              " 'العاميه',\n",
              " 'السلسه',\n",
              " 'الرو',\n",
              " 'شويه',\n",
              " 'تشبيهات',\n",
              " 'دا',\n",
              " 'بجد',\n",
              " 'مشوفتش',\n",
              " 'كدا',\n",
              " 'قبل',\n",
              " 'كدا',\n",
              " 'برنس',\n",
              " 'احمد',\n",
              " 'مراد',\n",
              " 'وعجبتني',\n",
              " 'الحبكه',\n",
              " 'الدراميه',\n",
              " 'اللي',\n",
              " 'كنت',\n",
              " 'اتوقع',\n",
              " 'حاجه',\n",
              " 'يحصل',\n",
              " 'عكسها',\n",
              " 'صحيح',\n",
              " 'كنت',\n",
              " 'بتنرفز',\n",
              " 'كدا',\n",
              " 'ف',\n",
              " 'نفس',\n",
              " 'الوقت',\n",
              " 'كنت',\n",
              " 'مستمتعه',\n",
              " 'جدا',\n",
              " 'الاحداث',\n",
              " 'مش',\n",
              " 'ماشيه',\n",
              " 'هوايا',\n",
              " 'دايما',\n",
              " 'اللي',\n",
              " 'يجذب',\n",
              " 'الباه',\n",
              " 'ويخليي',\n",
              " 'الواحد',\n",
              " 'عاوز',\n",
              " 'يعرف',\n",
              " 'هيحصل',\n",
              " 'كدا',\n",
              " 'الاخر',\n",
              " 'مفيش',\n",
              " 'كدا',\n",
              " 'المطعم',\n",
              " 'الصدمه',\n",
              " 'مره',\n",
              " 'ممكن',\n",
              " 'يكون',\n",
              " 'حلو',\n",
              " 'جلساته',\n",
              " 'حلوه',\n",
              " 'والطاقم',\n",
              " 'فلبيني',\n",
              " 'يالله',\n",
              " 'الجنه',\n",
              " 'شديتوا',\n",
              " 'حيلكم',\n",
              " 'وجبتوا',\n",
              " 'شيف',\n",
              " 'صاحي',\n",
              " 'ال',\n",
              " 'سي',\n",
              " 'دبي',\n",
              " 'ثلاثه',\n",
              " 'ليالي',\n",
              " 'للتوقف',\n",
              " 'دبي',\n",
              " 'الكثير',\n",
              " 'الوقت',\n",
              " 'للتخطيط',\n",
              " 'لرحل',\n",
              " 'كنت',\n",
              " 'ابحث',\n",
              " 'م',\n",
              " 'يشعرني',\n",
              " 'بامان',\n",
              " 'ثي',\n",
              " 'مسافره',\n",
              " 'لوحدها',\n",
              " 'و',\n",
              " 'المضيفون',\n",
              " 'شانهم',\n",
              " 'يساعدوني',\n",
              " 'معرفه',\n",
              " 'الاشياء',\n",
              " 'الممتعه',\n",
              " 'القليله',\n",
              " 'للقيام',\n",
              " 'جئت',\n",
              " 'الم',\n",
              " 'المناسب',\n",
              " 'ت',\n",
              " 'الغرفه',\n",
              " 'كبيره',\n",
              " 'و',\n",
              " 'نظيفه',\n",
              " 'جدا',\n",
              " 'وجبات',\n",
              " 'الافطار',\n",
              " 'ت',\n",
              " 'لذيذه',\n",
              " 'بكثير',\n",
              " 'كنت',\n",
              " 'اتوقع',\n",
              " 'عصير',\n",
              " 'طازج',\n",
              " 'قهوه',\n",
              " 'اللبن',\n",
              " 'الرائب',\n",
              " 'عجه',\n",
              " 'البيض',\n",
              " 'المخصصه',\n",
              " 'حبوب',\n",
              " 'الافطار',\n",
              " 'افضل',\n",
              " 'شيء',\n",
              " 'القيلا',\n",
              " 'السابعه',\n",
              " 'و',\n",
              " 'الاربعون',\n",
              " 'الخدمه',\n",
              " 'الشخصيه',\n",
              " 'خلال',\n",
              " 'زيار',\n",
              " 'ت',\n",
              " 'انسي',\n",
              " 'خارج',\n",
              " 'البلده',\n",
              " 'زوجها',\n",
              " 'توماس',\n",
              " 'مساعدا',\n",
              " 'و',\n",
              " 'بوسعه',\n",
              " 'ليضمن',\n",
              " 'اقامه',\n",
              " 'طيبه',\n",
              " ...]"
            ]
          },
          "metadata": {
            "tags": []
          },
          "execution_count": 122
        }
      ]
    },
    {
      "cell_type": "markdown",
      "metadata": {
        "id": "7Kxb4M0pRBkU"
      },
      "source": [
        "# TASK 7: PERFORM COUNT VECTORIZATION (TOKENIZATION)"
      ]
    },
    {
      "cell_type": "markdown",
      "metadata": {
        "id": "JP6nFRoa1_43"
      },
      "source": [
        "![image.png](attachment:image.png)"
      ]
    },
    {
      "cell_type": "code",
      "metadata": {
        "collapsed": true,
        "id": "bRstHzLkRMxA"
      },
      "source": [
        "'''from sklearn.feature_extraction.text import CountVectorizer\n",
        "sample_data = ['This is the first paper.','This document is the second paper.','And this is the third one.','Is this the first paper?']\n",
        "vectorizer = CountVectorizer()\n",
        "X = vectorizer.fit_transform(sample_data)'''\n"
      ],
      "execution_count": null,
      "outputs": []
    },
    {
      "cell_type": "code",
      "metadata": {
        "collapsed": true,
        "id": "jV12YZDC1_44",
        "outputId": "7961c8de-3a5b-4d38-82d5-31c91828a5ce"
      },
      "source": [
        "#print (vectorizer.get_feature_names())"
      ],
      "execution_count": null,
      "outputs": [
        {
          "output_type": "stream",
          "text": [
            "['and', 'document', 'first', 'is', 'one', 'paper', 'second', 'the', 'third', 'this']\n"
          ],
          "name": "stdout"
        }
      ]
    },
    {
      "cell_type": "code",
      "metadata": {
        "collapsed": true,
        "id": "6cZFry2e1_45",
        "outputId": "e2fc48cb-4ba8-4866-851d-fc17d6471a0e"
      },
      "source": [
        "#print(X.toarray())"
      ],
      "execution_count": null,
      "outputs": [
        {
          "output_type": "stream",
          "text": [
            "[[0 0 1 1 0 1 0 1 0 1]\n",
            " [0 1 0 1 0 1 1 1 0 1]\n",
            " [1 0 0 1 1 0 0 1 1 1]\n",
            " [0 0 1 1 0 1 0 1 0 1]]\n"
          ],
          "name": "stdout"
        }
      ]
    },
    {
      "cell_type": "markdown",
      "metadata": {
        "id": "2geMzGITbZPJ"
      },
      "source": [
        "### TASK #7: CREATE A PIPELINE TO REMOVE PUNCTUATIONS, STOPWORDS AND PERFORM COUNT VECTORIZATION"
      ]
    },
    {
      "cell_type": "code",
      "metadata": {
        "id": "WHJnbIDeSmlm"
      },
      "source": [
        "# Let's define a pipeline to clean up all the messages \n",
        "# The pipeline performs the following: (1) remove punctuation, (2) remove stopwords\n",
        "\n",
        "def message_cleaning(message):\n",
        "    Test_punc_removed = [char for char in message if char not in string.punctuation]\n",
        "    Test_punc_removed_join = ''.join(Test_punc_removed)\n",
        "    Test_punc_removed_join_clean = [word for word in Test_punc_removed_join.split() if word.lower() not in stopwords.words('Arabic')]\n",
        "    return Test_punc_removed_join_clean"
      ],
      "execution_count": null,
      "outputs": []
    },
    {
      "cell_type": "code",
      "metadata": {
        "id": "TxAYpIXXSmoZ"
      },
      "source": [
        "# Let's test the newly added function\n",
        "ST_df_clean = ST_df['final'].apply(message_cleaning)"
      ],
      "execution_count": null,
      "outputs": []
    },
    {
      "cell_type": "code",
      "metadata": {
        "colab": {
          "base_uri": "https://localhost:8080/",
          "height": 34
        },
        "id": "DXnYj4Q8SmrH",
        "outputId": "689c9dc9-4871-48d8-88df-40d02ff51e58"
      },
      "source": [
        "print(ST_df_clean) # show the cleaned up version"
      ],
      "execution_count": null,
      "outputs": [
        {
          "output_type": "stream",
          "text": [
            "182886    [السلام, عليكم, نقلنا, كفاله, العامل, صاحب, اق...\n",
            "221012    [عندي, امتحان, باطنه, وماقدرتش, م, اخلصها, هدخ...\n",
            "75753     [كتاب, رائع, جدا, افدني, شخصيا, جدا, وصحح, عند...\n",
            "109839    [م, سيء, للغايه, جراند, ميدويست, للشقق, الفندق...\n",
            "205203    [ارشيف, اصدارات, المركز, العلاقات, المصريه, ال...\n",
            "                                ...                        \n",
            "197437    [ايجابيات, و, سلبيات, سيتيزين, ايكو, درايف, رج...\n",
            "7752      [موقع, جدا, مميز, لقد, اقمت, لوحدي, بشهر, ابري...\n",
            "95117     [الكتاب, نفس, فكره, كتاب, صناعه, الذكاء, الكثي...\n",
            "95856     [نصيحه, قالها, احمد, العايدي, كنت, تعتبرها, رو...\n",
            "170238      [عاجلمقتل, واصابه, شخصا, ب, تفجير, سيطره, بابل]\n",
            "Name: final, Length: 100, dtype: object\n"
          ],
          "name": "stdout"
        }
      ]
    },
    {
      "cell_type": "code",
      "metadata": {
        "id": "SF6G9tcX1_47",
        "outputId": "0dda0d96-8edc-4d2e-d59e-f21679ec08d4"
      },
      "source": [
        "print(ST_df_clean[7752])"
      ],
      "execution_count": null,
      "outputs": [
        {
          "output_type": "stream",
          "text": [
            "['موقع', 'جدا', 'مميز', 'لقد', 'اقمت', 'لوحدي', 'بشهر', 'ابريل', 'استمتعت', 'كثيرا', 'موقعه', 'جذبني', 'كثيرا', 'واطلالته', 'رائعه', 'الغرف', 'صغيره', 'والافطار', 'مميز', 'الانترنت', 'مجاني', 'توفر', 'موقف', 'سياره', 'جيد', 'طاقم', 'الفندق', 'متعاون', 'ومرحب', 'اشكر', 'اخبرني', 'بالفندق', 'يصلح', 'لشخصين', 'الفندق', 'مبني', 'فتره', 'قديمه', 'جدا', 'والاضائه', 'جيده', 'كفايه']\n"
          ],
          "name": "stdout"
        }
      ]
    },
    {
      "cell_type": "code",
      "metadata": {
        "colab": {
          "base_uri": "https://localhost:8080/",
          "height": 34
        },
        "id": "ygy78EHZTGTD",
        "outputId": "c65088d4-80b3-49de-85f1-e16e28e51f3c"
      },
      "source": [
        "print(ST_df['final'][7752]) # show the original version"
      ],
      "execution_count": null,
      "outputs": [
        {
          "output_type": "stream",
          "text": [
            "موقع جدا مميز لقد اقمت لوحدي بشهر ابريل استمتعت كثيرا موقعه جذبني كثيرا واطلالته رائعه الغرف صغيره والافطار مميز الانترنت مجاني توفر موقف سياره جيد طاقم الفندق متعاون ومرحب اشكر اخبرني بالفندق يصلح لشخصين الفندق مبني فتره قديمه جدا والاضائه جيده كفايه\n"
          ],
          "name": "stdout"
        }
      ]
    },
    {
      "cell_type": "code",
      "metadata": {
        "id": "0oZBSWUVTGV9"
      },
      "source": [
        "from sklearn.feature_extraction.text import CountVectorizer\n",
        "# Define the cleaning pipeline we defined earlier\n",
        "vectorizer = CountVectorizer(analyzer = message_cleaning)\n",
        "ST_df_countvectorizer =CountVectorizer(analyzer = message_cleaning, dtype = 'uint8').fit_transform(ST_df['final']).toarray() \n"
      ],
      "execution_count": null,
      "outputs": []
    },
    {
      "cell_type": "code",
      "metadata": {
        "id": "i8JOB5XZ1_49",
        "outputId": "7f07889a-f899-45c7-90cf-843cf98be7f7"
      },
      "source": [
        "ST_df_countvectorizer.shape"
      ],
      "execution_count": null,
      "outputs": [
        {
          "output_type": "execute_result",
          "data": {
            "text/plain": [
              "(100, 2198)"
            ]
          },
          "metadata": {
            "tags": []
          },
          "execution_count": 133
        }
      ]
    },
    {
      "cell_type": "code",
      "metadata": {
        "id": "TraeavZM1_4-",
        "outputId": "45f69b8c-2da9-415f-bba8-d3f62a93266b"
      },
      "source": [
        "ST_df_countvectorizer"
      ],
      "execution_count": null,
      "outputs": [
        {
          "output_type": "execute_result",
          "data": {
            "text/plain": [
              "array([[0, 0, 0, ..., 0, 0, 0],\n",
              "       [0, 0, 0, ..., 0, 0, 0],\n",
              "       [0, 0, 0, ..., 0, 0, 0],\n",
              "       ...,\n",
              "       [0, 0, 0, ..., 0, 0, 0],\n",
              "       [0, 0, 0, ..., 0, 0, 0],\n",
              "       [0, 0, 0, ..., 0, 0, 0]], dtype=uint8)"
            ]
          },
          "metadata": {
            "tags": []
          },
          "execution_count": 135
        }
      ]
    },
    {
      "cell_type": "code",
      "metadata": {
        "id": "UjQ6A1iKTcSu"
      },
      "source": [
        "#print(vectorizer.get_feature_names())\n"
      ],
      "execution_count": null,
      "outputs": []
    },
    {
      "cell_type": "code",
      "metadata": {
        "id": "CQGFCZiKT06W",
        "outputId": "12018c5d-698f-4bed-dbad-d3a9fb12a967"
      },
      "source": [
        "print(ST_df_countvectorizer)  "
      ],
      "execution_count": null,
      "outputs": [
        {
          "output_type": "stream",
          "text": [
            "[[0 0 0 ... 0 0 0]\n",
            " [0 0 0 ... 0 0 0]\n",
            " [0 0 0 ... 0 0 0]\n",
            " ...\n",
            " [0 0 0 ... 0 0 0]\n",
            " [0 0 0 ... 0 0 0]\n",
            " [0 0 0 ... 0 0 0]]\n"
          ],
          "name": "stdout"
        }
      ]
    },
    {
      "cell_type": "code",
      "metadata": {
        "id": "Ajna6zStUH8j",
        "outputId": "6bf457f1-fc50-4614-f85b-bdd132ff485a"
      },
      "source": [
        "ST_df_countvectorizer.shape"
      ],
      "execution_count": null,
      "outputs": [
        {
          "output_type": "execute_result",
          "data": {
            "text/plain": [
              "(100, 2198)"
            ]
          },
          "metadata": {
            "tags": []
          },
          "execution_count": 139
        }
      ]
    },
    {
      "cell_type": "code",
      "metadata": {
        "id": "HdsbGToxFCP9"
      },
      "source": [
        "#tweets = pd.ST_df(ST_df_countvectorizer.toarray())\n"
      ],
      "execution_count": null,
      "outputs": []
    },
    {
      "cell_type": "code",
      "metadata": {
        "id": "-Y5f8HWWFglY"
      },
      "source": [
        "X = ST_df_countvectorizer\n"
      ],
      "execution_count": null,
      "outputs": []
    },
    {
      "cell_type": "code",
      "metadata": {
        "id": "RgxKnJOcFids",
        "outputId": "c427a9e1-4c79-4db2-a174-2d5a3c82ab31"
      },
      "source": [
        "X"
      ],
      "execution_count": null,
      "outputs": [
        {
          "output_type": "execute_result",
          "data": {
            "text/plain": [
              "array([[0, 0, 0, ..., 0, 0, 0],\n",
              "       [0, 0, 0, ..., 0, 0, 0],\n",
              "       [0, 0, 0, ..., 0, 0, 0],\n",
              "       ...,\n",
              "       [0, 0, 0, ..., 0, 0, 0],\n",
              "       [0, 0, 0, ..., 0, 0, 0],\n",
              "       [0, 0, 0, ..., 0, 0, 0]], dtype=uint8)"
            ]
          },
          "metadata": {
            "tags": []
          },
          "execution_count": 143
        }
      ]
    },
    {
      "cell_type": "code",
      "metadata": {
        "id": "0TQZtuY5FnhP"
      },
      "source": [
        "y = ST_df['label']"
      ],
      "execution_count": null,
      "outputs": []
    },
    {
      "cell_type": "code",
      "metadata": {
        "id": "VQnRbJ0N1_5C",
        "outputId": "f9d2bc24-fc5d-491d-dfb4-a18eeaea3272"
      },
      "source": [
        "y"
      ],
      "execution_count": null,
      "outputs": [
        {
          "output_type": "execute_result",
          "data": {
            "text/plain": [
              "182886    0\n",
              "221012    0\n",
              "75753     2\n",
              "109839    1\n",
              "205203    0\n",
              "         ..\n",
              "197437    0\n",
              "7752      2\n",
              "95117     2\n",
              "95856     2\n",
              "170238    1\n",
              "Name: label, Length: 100, dtype: int64"
            ]
          },
          "metadata": {
            "tags": []
          },
          "execution_count": 145
        }
      ]
    },
    {
      "cell_type": "markdown",
      "metadata": {
        "id": "kyKsQmFUeqaL"
      },
      "source": [
        "# TASK #8: UNDERSTAND THE THEORY AND INTUITION BEHIND NAIVE BAYES"
      ]
    },
    {
      "cell_type": "markdown",
      "metadata": {
        "id": "D23pD-hE1_5C"
      },
      "source": [
        "![image.png](attachment:image.png)"
      ]
    },
    {
      "cell_type": "markdown",
      "metadata": {
        "id": "IUhihMgW1_5D"
      },
      "source": [
        "![image.png](attachment:image.png)"
      ]
    },
    {
      "cell_type": "markdown",
      "metadata": {
        "id": "X3tLff7S1_5D"
      },
      "source": [
        "![image.png](attachment:image.png)"
      ]
    },
    {
      "cell_type": "markdown",
      "metadata": {
        "id": "51fRYukz1_5E"
      },
      "source": [
        "![image.png](attachment:image.png)"
      ]
    },
    {
      "cell_type": "markdown",
      "metadata": {
        "id": "W5HAR8vr1_5E"
      },
      "source": [
        "![image.png](attachment:image.png)"
      ]
    },
    {
      "cell_type": "markdown",
      "metadata": {
        "id": "MKY95mtX1_5E"
      },
      "source": [
        "![image.png](attachment:image.png)"
      ]
    },
    {
      "cell_type": "markdown",
      "metadata": {
        "id": "JUPtZQa-1_5F"
      },
      "source": [
        "MINI CHALLENGE #8"
      ]
    },
    {
      "cell_type": "markdown",
      "metadata": {
        "id": "3RB8TUT41_5F"
      },
      "source": [
        "![image.png](attachment:image.png)"
      ]
    },
    {
      "cell_type": "markdown",
      "metadata": {
        "id": "jIVxZdZ1USAz"
      },
      "source": [
        "# TASK #10: TRAIN A NAIVE BAYES CLASSIFIER MODEL"
      ]
    },
    {
      "cell_type": "code",
      "metadata": {
        "id": "uUclD-muUhvW",
        "outputId": "a4e80b24-c4fd-4e88-ffb3-c65c6778300f"
      },
      "source": [
        "X.shape"
      ],
      "execution_count": null,
      "outputs": [
        {
          "output_type": "execute_result",
          "data": {
            "text/plain": [
              "(100, 2198)"
            ]
          },
          "metadata": {
            "tags": []
          },
          "execution_count": 146
        }
      ]
    },
    {
      "cell_type": "code",
      "metadata": {
        "id": "XowpfEecUnJz",
        "outputId": "79ae06cc-5c1e-4bf6-fbee-e38ea765c851"
      },
      "source": [
        "y.shape"
      ],
      "execution_count": null,
      "outputs": [
        {
          "output_type": "execute_result",
          "data": {
            "text/plain": [
              "(100,)"
            ]
          },
          "metadata": {
            "tags": []
          },
          "execution_count": 147
        }
      ]
    },
    {
      "cell_type": "code",
      "metadata": {
        "id": "V7M9V4QAUnOM"
      },
      "source": [
        "from sklearn.model_selection import train_test_split\n",
        "X_train, X_test, y_train, y_test = train_test_split(X, y, test_size = 0.2)"
      ],
      "execution_count": null,
      "outputs": []
    },
    {
      "cell_type": "code",
      "metadata": {
        "id": "sdiBOX1xUnMo",
        "outputId": "4bcd6a63-c35e-43e0-c142-002be70bc550"
      },
      "source": [
        "from sklearn.naive_bayes import MultinomialNB\n",
        "\n",
        "NB_classifier = MultinomialNB()\n",
        "NB_classifier.fit(X_train, y_train)"
      ],
      "execution_count": null,
      "outputs": [
        {
          "output_type": "execute_result",
          "data": {
            "text/plain": [
              "MultinomialNB(alpha=1.0, class_prior=None, fit_prior=True)"
            ]
          },
          "metadata": {
            "tags": []
          },
          "execution_count": 149
        }
      ]
    },
    {
      "cell_type": "markdown",
      "metadata": {
        "id": "uO-AtlgRVoVX"
      },
      "source": [
        "# TASK #11: ASSESS TRAINED MODEL PERFORMANCE  "
      ]
    },
    {
      "cell_type": "markdown",
      "metadata": {
        "id": "ZHZki9rC1_5I"
      },
      "source": [
        "![image.png](attachment:image.png)"
      ]
    },
    {
      "cell_type": "code",
      "metadata": {
        "id": "8CSu7xXdVyGI"
      },
      "source": [
        "from sklearn.metrics import classification_report, confusion_matrix"
      ],
      "execution_count": null,
      "outputs": []
    },
    {
      "cell_type": "code",
      "metadata": {
        "id": "4gSgbN3JVymd",
        "outputId": "ca8c3731-7674-4422-eb2d-66c7dcfad6a8"
      },
      "source": [
        "# Predicting the Test set results\n",
        "y_predict_test = NB_classifier.predict(X_test)\n",
        "cm = confusion_matrix(y_test, y_predict_test)\n",
        "sns.heatmap(cm, annot=True)"
      ],
      "execution_count": null,
      "outputs": [
        {
          "output_type": "execute_result",
          "data": {
            "text/plain": [
              "<matplotlib.axes._subplots.AxesSubplot at 0x2188a57f408>"
            ]
          },
          "metadata": {
            "tags": []
          },
          "execution_count": 154
        },
        {
          "output_type": "display_data",
          "data": {
            "image/png": "[encoded data removed]",
            "text/plain": [
              "<Figure size 576x504 with 2 Axes>"
            ]
          },
          "metadata": {
            "tags": []
          }
        }
      ]
    },
    {
      "cell_type": "code",
      "metadata": {
        "id": "l2sReJpmV8CK",
        "outputId": "a326a59b-f4be-4f37-80ea-b6c4507ccca3"
      },
      "source": [
        "print(classification_report(y_test, y_predict_test))"
      ],
      "execution_count": null,
      "outputs": [
        {
          "output_type": "stream",
          "text": [
            "              precision    recall  f1-score   support\n",
            "\n",
            "           0       0.25      0.75      0.38         4\n",
            "           1       0.00      0.00      0.00         4\n",
            "           2       0.50      0.17      0.25        12\n",
            "\n",
            "    accuracy                           0.25        20\n",
            "   macro avg       0.25      0.31      0.21        20\n",
            "weighted avg       0.35      0.25      0.23        20\n",
            "\n"
          ],
          "name": "stdout"
        }
      ]
    },
    {
      "cell_type": "markdown",
      "metadata": {
        "id": "Ak_cNz0A1_5K"
      },
      "source": [
        "![image.png](attachment:image.png)"
      ]
    }
  ]
}