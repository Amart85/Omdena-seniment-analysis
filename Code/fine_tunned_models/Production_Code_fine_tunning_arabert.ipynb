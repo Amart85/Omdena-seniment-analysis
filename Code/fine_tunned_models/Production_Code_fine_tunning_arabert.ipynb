{
  "nbformat": 4,
  "nbformat_minor": 0,
  "metadata": {
    "accelerator": "GPU",
    "colab": {
      "name": "Production_Code_fine_tunning_arabert.ipynb",
      "provenance": [],
      "collapsed_sections": []
    },
    "kernelspec": {
      "display_name": "Python 3",
      "name": "python3"
    },
    "language_info": {
      "name": "python"
    },
    "widgets": {
      "application/vnd.jupyter.widget-state+json": {
        "8062a85752ec4f5090a527d27963cd1c": {
          "model_module": "@jupyter-widgets/controls",
          "model_name": "HBoxModel",
          "state": {
            "_view_name": "HBoxView",
            "_dom_classes": [],
            "_model_name": "HBoxModel",
            "_view_module": "@jupyter-widgets/controls",
            "_model_module_version": "1.5.0",
            "_view_count": null,
            "_view_module_version": "1.5.0",
            "box_style": "",
            "layout": "IPY_MODEL_652701b09236468ba81bae3d32d4a520",
            "_model_module": "@jupyter-widgets/controls",
            "children": [
              "IPY_MODEL_b13c8a14a85741f0a7f3d7df0465bbc7",
              "IPY_MODEL_c072bc07c5bd437ebfe2bf3061c957b6"
            ]
          }
        },
        "652701b09236468ba81bae3d32d4a520": {
          "model_module": "@jupyter-widgets/base",
          "model_name": "LayoutModel",
          "state": {
            "_view_name": "LayoutView",
            "grid_template_rows": null,
            "right": null,
            "justify_content": null,
            "_view_module": "@jupyter-widgets/base",
            "overflow": null,
            "_model_module_version": "1.2.0",
            "_view_count": null,
            "flex_flow": null,
            "width": null,
            "min_width": null,
            "border": null,
            "align_items": null,
            "bottom": null,
            "_model_module": "@jupyter-widgets/base",
            "top": null,
            "grid_column": null,
            "overflow_y": null,
            "overflow_x": null,
            "grid_auto_flow": null,
            "grid_area": null,
            "grid_template_columns": null,
            "flex": null,
            "_model_name": "LayoutModel",
            "justify_items": null,
            "grid_row": null,
            "max_height": null,
            "align_content": null,
            "visibility": null,
            "align_self": null,
            "height": null,
            "min_height": null,
            "padding": null,
            "grid_auto_rows": null,
            "grid_gap": null,
            "max_width": null,
            "order": null,
            "_view_module_version": "1.2.0",
            "grid_template_areas": null,
            "object_position": null,
            "object_fit": null,
            "grid_auto_columns": null,
            "margin": null,
            "display": null,
            "left": null
          }
        },
        "b13c8a14a85741f0a7f3d7df0465bbc7": {
          "model_module": "@jupyter-widgets/controls",
          "model_name": "FloatProgressModel",
          "state": {
            "_view_name": "ProgressView",
            "style": "IPY_MODEL_f37e5ca7d92f409b9fb86fc279ef4083",
            "_dom_classes": [],
            "description": "Downloading: 100%",
            "_model_name": "FloatProgressModel",
            "bar_style": "success",
            "max": 384,
            "_view_module": "@jupyter-widgets/controls",
            "_model_module_version": "1.5.0",
            "value": 384,
            "_view_count": null,
            "_view_module_version": "1.5.0",
            "orientation": "horizontal",
            "min": 0,
            "description_tooltip": null,
            "_model_module": "@jupyter-widgets/controls",
            "layout": "IPY_MODEL_e455ec106eff4a21bf61542331ab1d74"
          }
        },
        "c072bc07c5bd437ebfe2bf3061c957b6": {
          "model_module": "@jupyter-widgets/controls",
          "model_name": "HTMLModel",
          "state": {
            "_view_name": "HTMLView",
            "style": "IPY_MODEL_47b3298e338c40d8864ac02c83bbbf56",
            "_dom_classes": [],
            "description": "",
            "_model_name": "HTMLModel",
            "placeholder": "​",
            "_view_module": "@jupyter-widgets/controls",
            "_model_module_version": "1.5.0",
            "value": " 384/384 [00:38&lt;00:00, 9.86B/s]",
            "_view_count": null,
            "_view_module_version": "1.5.0",
            "description_tooltip": null,
            "_model_module": "@jupyter-widgets/controls",
            "layout": "IPY_MODEL_7546007a35e24aaab49b6866effbbc3d"
          }
        },
        "f37e5ca7d92f409b9fb86fc279ef4083": {
          "model_module": "@jupyter-widgets/controls",
          "model_name": "ProgressStyleModel",
          "state": {
            "_view_name": "StyleView",
            "_model_name": "ProgressStyleModel",
            "description_width": "initial",
            "_view_module": "@jupyter-widgets/base",
            "_model_module_version": "1.5.0",
            "_view_count": null,
            "_view_module_version": "1.2.0",
            "bar_color": null,
            "_model_module": "@jupyter-widgets/controls"
          }
        },
        "e455ec106eff4a21bf61542331ab1d74": {
          "model_module": "@jupyter-widgets/base",
          "model_name": "LayoutModel",
          "state": {
            "_view_name": "LayoutView",
            "grid_template_rows": null,
            "right": null,
            "justify_content": null,
            "_view_module": "@jupyter-widgets/base",
            "overflow": null,
            "_model_module_version": "1.2.0",
            "_view_count": null,
            "flex_flow": null,
            "width": null,
            "min_width": null,
            "border": null,
            "align_items": null,
            "bottom": null,
            "_model_module": "@jupyter-widgets/base",
            "top": null,
            "grid_column": null,
            "overflow_y": null,
            "overflow_x": null,
            "grid_auto_flow": null,
            "grid_area": null,
            "grid_template_columns": null,
            "flex": null,
            "_model_name": "LayoutModel",
            "justify_items": null,
            "grid_row": null,
            "max_height": null,
            "align_content": null,
            "visibility": null,
            "align_self": null,
            "height": null,
            "min_height": null,
            "padding": null,
            "grid_auto_rows": null,
            "grid_gap": null,
            "max_width": null,
            "order": null,
            "_view_module_version": "1.2.0",
            "grid_template_areas": null,
            "object_position": null,
            "object_fit": null,
            "grid_auto_columns": null,
            "margin": null,
            "display": null,
            "left": null
          }
        },
        "47b3298e338c40d8864ac02c83bbbf56": {
          "model_module": "@jupyter-widgets/controls",
          "model_name": "DescriptionStyleModel",
          "state": {
            "_view_name": "StyleView",
            "_model_name": "DescriptionStyleModel",
            "description_width": "",
            "_view_module": "@jupyter-widgets/base",
            "_model_module_version": "1.5.0",
            "_view_count": null,
            "_view_module_version": "1.2.0",
            "_model_module": "@jupyter-widgets/controls"
          }
        },
        "7546007a35e24aaab49b6866effbbc3d": {
          "model_module": "@jupyter-widgets/base",
          "model_name": "LayoutModel",
          "state": {
            "_view_name": "LayoutView",
            "grid_template_rows": null,
            "right": null,
            "justify_content": null,
            "_view_module": "@jupyter-widgets/base",
            "overflow": null,
            "_model_module_version": "1.2.0",
            "_view_count": null,
            "flex_flow": null,
            "width": null,
            "min_width": null,
            "border": null,
            "align_items": null,
            "bottom": null,
            "_model_module": "@jupyter-widgets/base",
            "top": null,
            "grid_column": null,
            "overflow_y": null,
            "overflow_x": null,
            "grid_auto_flow": null,
            "grid_area": null,
            "grid_template_columns": null,
            "flex": null,
            "_model_name": "LayoutModel",
            "justify_items": null,
            "grid_row": null,
            "max_height": null,
            "align_content": null,
            "visibility": null,
            "align_self": null,
            "height": null,
            "min_height": null,
            "padding": null,
            "grid_auto_rows": null,
            "grid_gap": null,
            "max_width": null,
            "order": null,
            "_view_module_version": "1.2.0",
            "grid_template_areas": null,
            "object_position": null,
            "object_fit": null,
            "grid_auto_columns": null,
            "margin": null,
            "display": null,
            "left": null
          }
        },
        "1021c7d9a2d24742b3ed1622143097fb": {
          "model_module": "@jupyter-widgets/controls",
          "model_name": "HBoxModel",
          "state": {
            "_view_name": "HBoxView",
            "_dom_classes": [],
            "_model_name": "HBoxModel",
            "_view_module": "@jupyter-widgets/controls",
            "_model_module_version": "1.5.0",
            "_view_count": null,
            "_view_module_version": "1.5.0",
            "box_style": "",
            "layout": "IPY_MODEL_76777f0514274c048ef4655c6fac298d",
            "_model_module": "@jupyter-widgets/controls",
            "children": [
              "IPY_MODEL_ff9ddee373814f71b9bb6a7f842f7d6e",
              "IPY_MODEL_bfec78476d9745fea2b7058a6b59d42f"
            ]
          }
        },
        "76777f0514274c048ef4655c6fac298d": {
          "model_module": "@jupyter-widgets/base",
          "model_name": "LayoutModel",
          "state": {
            "_view_name": "LayoutView",
            "grid_template_rows": null,
            "right": null,
            "justify_content": null,
            "_view_module": "@jupyter-widgets/base",
            "overflow": null,
            "_model_module_version": "1.2.0",
            "_view_count": null,
            "flex_flow": null,
            "width": null,
            "min_width": null,
            "border": null,
            "align_items": null,
            "bottom": null,
            "_model_module": "@jupyter-widgets/base",
            "top": null,
            "grid_column": null,
            "overflow_y": null,
            "overflow_x": null,
            "grid_auto_flow": null,
            "grid_area": null,
            "grid_template_columns": null,
            "flex": null,
            "_model_name": "LayoutModel",
            "justify_items": null,
            "grid_row": null,
            "max_height": null,
            "align_content": null,
            "visibility": null,
            "align_self": null,
            "height": null,
            "min_height": null,
            "padding": null,
            "grid_auto_rows": null,
            "grid_gap": null,
            "max_width": null,
            "order": null,
            "_view_module_version": "1.2.0",
            "grid_template_areas": null,
            "object_position": null,
            "object_fit": null,
            "grid_auto_columns": null,
            "margin": null,
            "display": null,
            "left": null
          }
        },
        "ff9ddee373814f71b9bb6a7f842f7d6e": {
          "model_module": "@jupyter-widgets/controls",
          "model_name": "FloatProgressModel",
          "state": {
            "_view_name": "ProgressView",
            "style": "IPY_MODEL_676bfb4538cf423ea77378ef043354b6",
            "_dom_classes": [],
            "description": "Downloading: 100%",
            "_model_name": "FloatProgressModel",
            "bar_style": "success",
            "max": 824793,
            "_view_module": "@jupyter-widgets/controls",
            "_model_module_version": "1.5.0",
            "value": 824793,
            "_view_count": null,
            "_view_module_version": "1.5.0",
            "orientation": "horizontal",
            "min": 0,
            "description_tooltip": null,
            "_model_module": "@jupyter-widgets/controls",
            "layout": "IPY_MODEL_455df47da93248f6acb876306fc654bc"
          }
        },
        "bfec78476d9745fea2b7058a6b59d42f": {
          "model_module": "@jupyter-widgets/controls",
          "model_name": "HTMLModel",
          "state": {
            "_view_name": "HTMLView",
            "style": "IPY_MODEL_79b1e894c1634673a380142325458da2",
            "_dom_classes": [],
            "description": "",
            "_model_name": "HTMLModel",
            "placeholder": "​",
            "_view_module": "@jupyter-widgets/controls",
            "_model_module_version": "1.5.0",
            "value": " 825k/825k [00:00&lt;00:00, 1.02MB/s]",
            "_view_count": null,
            "_view_module_version": "1.5.0",
            "description_tooltip": null,
            "_model_module": "@jupyter-widgets/controls",
            "layout": "IPY_MODEL_185781e08875433bafc911fcc2fd5e8c"
          }
        },
        "676bfb4538cf423ea77378ef043354b6": {
          "model_module": "@jupyter-widgets/controls",
          "model_name": "ProgressStyleModel",
          "state": {
            "_view_name": "StyleView",
            "_model_name": "ProgressStyleModel",
            "description_width": "initial",
            "_view_module": "@jupyter-widgets/base",
            "_model_module_version": "1.5.0",
            "_view_count": null,
            "_view_module_version": "1.2.0",
            "bar_color": null,
            "_model_module": "@jupyter-widgets/controls"
          }
        },
        "455df47da93248f6acb876306fc654bc": {
          "model_module": "@jupyter-widgets/base",
          "model_name": "LayoutModel",
          "state": {
            "_view_name": "LayoutView",
            "grid_template_rows": null,
            "right": null,
            "justify_content": null,
            "_view_module": "@jupyter-widgets/base",
            "overflow": null,
            "_model_module_version": "1.2.0",
            "_view_count": null,
            "flex_flow": null,
            "width": null,
            "min_width": null,
            "border": null,
            "align_items": null,
            "bottom": null,
            "_model_module": "@jupyter-widgets/base",
            "top": null,
            "grid_column": null,
            "overflow_y": null,
            "overflow_x": null,
            "grid_auto_flow": null,
            "grid_area": null,
            "grid_template_columns": null,
            "flex": null,
            "_model_name": "LayoutModel",
            "justify_items": null,
            "grid_row": null,
            "max_height": null,
            "align_content": null,
            "visibility": null,
            "align_self": null,
            "height": null,
            "min_height": null,
            "padding": null,
            "grid_auto_rows": null,
            "grid_gap": null,
            "max_width": null,
            "order": null,
            "_view_module_version": "1.2.0",
            "grid_template_areas": null,
            "object_position": null,
            "object_fit": null,
            "grid_auto_columns": null,
            "margin": null,
            "display": null,
            "left": null
          }
        },
        "79b1e894c1634673a380142325458da2": {
          "model_module": "@jupyter-widgets/controls",
          "model_name": "DescriptionStyleModel",
          "state": {
            "_view_name": "StyleView",
            "_model_name": "DescriptionStyleModel",
            "description_width": "",
            "_view_module": "@jupyter-widgets/base",
            "_model_module_version": "1.5.0",
            "_view_count": null,
            "_view_module_version": "1.2.0",
            "_model_module": "@jupyter-widgets/controls"
          }
        },
        "185781e08875433bafc911fcc2fd5e8c": {
          "model_module": "@jupyter-widgets/base",
          "model_name": "LayoutModel",
          "state": {
            "_view_name": "LayoutView",
            "grid_template_rows": null,
            "right": null,
            "justify_content": null,
            "_view_module": "@jupyter-widgets/base",
            "overflow": null,
            "_model_module_version": "1.2.0",
            "_view_count": null,
            "flex_flow": null,
            "width": null,
            "min_width": null,
            "border": null,
            "align_items": null,
            "bottom": null,
            "_model_module": "@jupyter-widgets/base",
            "top": null,
            "grid_column": null,
            "overflow_y": null,
            "overflow_x": null,
            "grid_auto_flow": null,
            "grid_area": null,
            "grid_template_columns": null,
            "flex": null,
            "_model_name": "LayoutModel",
            "justify_items": null,
            "grid_row": null,
            "max_height": null,
            "align_content": null,
            "visibility": null,
            "align_self": null,
            "height": null,
            "min_height": null,
            "padding": null,
            "grid_auto_rows": null,
            "grid_gap": null,
            "max_width": null,
            "order": null,
            "_view_module_version": "1.2.0",
            "grid_template_areas": null,
            "object_position": null,
            "object_fit": null,
            "grid_auto_columns": null,
            "margin": null,
            "display": null,
            "left": null
          }
        },
        "c9ccc31dba3e4297a8c8b4097156c2ff": {
          "model_module": "@jupyter-widgets/controls",
          "model_name": "HBoxModel",
          "state": {
            "_view_name": "HBoxView",
            "_dom_classes": [],
            "_model_name": "HBoxModel",
            "_view_module": "@jupyter-widgets/controls",
            "_model_module_version": "1.5.0",
            "_view_count": null,
            "_view_module_version": "1.5.0",
            "box_style": "",
            "layout": "IPY_MODEL_55e256257df943f2b35f2ac9cd2e600c",
            "_model_module": "@jupyter-widgets/controls",
            "children": [
              "IPY_MODEL_d175ae3dc92d4f6ea9ef14421a1851d4",
              "IPY_MODEL_6858d4f8acda400ca2baba2eb6cc26db"
            ]
          }
        },
        "55e256257df943f2b35f2ac9cd2e600c": {
          "model_module": "@jupyter-widgets/base",
          "model_name": "LayoutModel",
          "state": {
            "_view_name": "LayoutView",
            "grid_template_rows": null,
            "right": null,
            "justify_content": null,
            "_view_module": "@jupyter-widgets/base",
            "overflow": null,
            "_model_module_version": "1.2.0",
            "_view_count": null,
            "flex_flow": null,
            "width": null,
            "min_width": null,
            "border": null,
            "align_items": null,
            "bottom": null,
            "_model_module": "@jupyter-widgets/base",
            "top": null,
            "grid_column": null,
            "overflow_y": null,
            "overflow_x": null,
            "grid_auto_flow": null,
            "grid_area": null,
            "grid_template_columns": null,
            "flex": null,
            "_model_name": "LayoutModel",
            "justify_items": null,
            "grid_row": null,
            "max_height": null,
            "align_content": null,
            "visibility": null,
            "align_self": null,
            "height": null,
            "min_height": null,
            "padding": null,
            "grid_auto_rows": null,
            "grid_gap": null,
            "max_width": null,
            "order": null,
            "_view_module_version": "1.2.0",
            "grid_template_areas": null,
            "object_position": null,
            "object_fit": null,
            "grid_auto_columns": null,
            "margin": null,
            "display": null,
            "left": null
          }
        },
        "d175ae3dc92d4f6ea9ef14421a1851d4": {
          "model_module": "@jupyter-widgets/controls",
          "model_name": "FloatProgressModel",
          "state": {
            "_view_name": "ProgressView",
            "style": "IPY_MODEL_902db6e9d9ca40ca971ff940c55ebca4",
            "_dom_classes": [],
            "description": "Downloading: 100%",
            "_model_name": "FloatProgressModel",
            "bar_style": "success",
            "max": 2642362,
            "_view_module": "@jupyter-widgets/controls",
            "_model_module_version": "1.5.0",
            "value": 2642362,
            "_view_count": null,
            "_view_module_version": "1.5.0",
            "orientation": "horizontal",
            "min": 0,
            "description_tooltip": null,
            "_model_module": "@jupyter-widgets/controls",
            "layout": "IPY_MODEL_34ff97d6207c4bf29a76a0e350c9b522"
          }
        },
        "6858d4f8acda400ca2baba2eb6cc26db": {
          "model_module": "@jupyter-widgets/controls",
          "model_name": "HTMLModel",
          "state": {
            "_view_name": "HTMLView",
            "style": "IPY_MODEL_ad7421fa44714ee0a85ff9a895272f33",
            "_dom_classes": [],
            "description": "",
            "_model_name": "HTMLModel",
            "placeholder": "​",
            "_view_module": "@jupyter-widgets/controls",
            "_model_module_version": "1.5.0",
            "value": " 2.64M/2.64M [00:37&lt;00:00, 70.5kB/s]",
            "_view_count": null,
            "_view_module_version": "1.5.0",
            "description_tooltip": null,
            "_model_module": "@jupyter-widgets/controls",
            "layout": "IPY_MODEL_a322fa76044e46cc9f64aeaf97fa0162"
          }
        },
        "902db6e9d9ca40ca971ff940c55ebca4": {
          "model_module": "@jupyter-widgets/controls",
          "model_name": "ProgressStyleModel",
          "state": {
            "_view_name": "StyleView",
            "_model_name": "ProgressStyleModel",
            "description_width": "initial",
            "_view_module": "@jupyter-widgets/base",
            "_model_module_version": "1.5.0",
            "_view_count": null,
            "_view_module_version": "1.2.0",
            "bar_color": null,
            "_model_module": "@jupyter-widgets/controls"
          }
        },
        "34ff97d6207c4bf29a76a0e350c9b522": {
          "model_module": "@jupyter-widgets/base",
          "model_name": "LayoutModel",
          "state": {
            "_view_name": "LayoutView",
            "grid_template_rows": null,
            "right": null,
            "justify_content": null,
            "_view_module": "@jupyter-widgets/base",
            "overflow": null,
            "_model_module_version": "1.2.0",
            "_view_count": null,
            "flex_flow": null,
            "width": null,
            "min_width": null,
            "border": null,
            "align_items": null,
            "bottom": null,
            "_model_module": "@jupyter-widgets/base",
            "top": null,
            "grid_column": null,
            "overflow_y": null,
            "overflow_x": null,
            "grid_auto_flow": null,
            "grid_area": null,
            "grid_template_columns": null,
            "flex": null,
            "_model_name": "LayoutModel",
            "justify_items": null,
            "grid_row": null,
            "max_height": null,
            "align_content": null,
            "visibility": null,
            "align_self": null,
            "height": null,
            "min_height": null,
            "padding": null,
            "grid_auto_rows": null,
            "grid_gap": null,
            "max_width": null,
            "order": null,
            "_view_module_version": "1.2.0",
            "grid_template_areas": null,
            "object_position": null,
            "object_fit": null,
            "grid_auto_columns": null,
            "margin": null,
            "display": null,
            "left": null
          }
        },
        "ad7421fa44714ee0a85ff9a895272f33": {
          "model_module": "@jupyter-widgets/controls",
          "model_name": "DescriptionStyleModel",
          "state": {
            "_view_name": "StyleView",
            "_model_name": "DescriptionStyleModel",
            "description_width": "",
            "_view_module": "@jupyter-widgets/base",
            "_model_module_version": "1.5.0",
            "_view_count": null,
            "_view_module_version": "1.2.0",
            "_model_module": "@jupyter-widgets/controls"
          }
        },
        "a322fa76044e46cc9f64aeaf97fa0162": {
          "model_module": "@jupyter-widgets/base",
          "model_name": "LayoutModel",
          "state": {
            "_view_name": "LayoutView",
            "grid_template_rows": null,
            "right": null,
            "justify_content": null,
            "_view_module": "@jupyter-widgets/base",
            "overflow": null,
            "_model_module_version": "1.2.0",
            "_view_count": null,
            "flex_flow": null,
            "width": null,
            "min_width": null,
            "border": null,
            "align_items": null,
            "bottom": null,
            "_model_module": "@jupyter-widgets/base",
            "top": null,
            "grid_column": null,
            "overflow_y": null,
            "overflow_x": null,
            "grid_auto_flow": null,
            "grid_area": null,
            "grid_template_columns": null,
            "flex": null,
            "_model_name": "LayoutModel",
            "justify_items": null,
            "grid_row": null,
            "max_height": null,
            "align_content": null,
            "visibility": null,
            "align_self": null,
            "height": null,
            "min_height": null,
            "padding": null,
            "grid_auto_rows": null,
            "grid_gap": null,
            "max_width": null,
            "order": null,
            "_view_module_version": "1.2.0",
            "grid_template_areas": null,
            "object_position": null,
            "object_fit": null,
            "grid_auto_columns": null,
            "margin": null,
            "display": null,
            "left": null
          }
        },
        "3e6b1ca241c343f2be5337bfad8e0ede": {
          "model_module": "@jupyter-widgets/controls",
          "model_name": "HBoxModel",
          "state": {
            "_view_name": "HBoxView",
            "_dom_classes": [],
            "_model_name": "HBoxModel",
            "_view_module": "@jupyter-widgets/controls",
            "_model_module_version": "1.5.0",
            "_view_count": null,
            "_view_module_version": "1.5.0",
            "box_style": "",
            "layout": "IPY_MODEL_f4ffd287d8c1453da1d07b0338e884dd",
            "_model_module": "@jupyter-widgets/controls",
            "children": [
              "IPY_MODEL_2d9168de6b0d4343ab0ee955c7b194bf",
              "IPY_MODEL_4f653fec2e6f4129baf38078358a2acd"
            ]
          }
        },
        "f4ffd287d8c1453da1d07b0338e884dd": {
          "model_module": "@jupyter-widgets/base",
          "model_name": "LayoutModel",
          "state": {
            "_view_name": "LayoutView",
            "grid_template_rows": null,
            "right": null,
            "justify_content": null,
            "_view_module": "@jupyter-widgets/base",
            "overflow": null,
            "_model_module_version": "1.2.0",
            "_view_count": null,
            "flex_flow": null,
            "width": null,
            "min_width": null,
            "border": null,
            "align_items": null,
            "bottom": null,
            "_model_module": "@jupyter-widgets/base",
            "top": null,
            "grid_column": null,
            "overflow_y": null,
            "overflow_x": null,
            "grid_auto_flow": null,
            "grid_area": null,
            "grid_template_columns": null,
            "flex": null,
            "_model_name": "LayoutModel",
            "justify_items": null,
            "grid_row": null,
            "max_height": null,
            "align_content": null,
            "visibility": null,
            "align_self": null,
            "height": null,
            "min_height": null,
            "padding": null,
            "grid_auto_rows": null,
            "grid_gap": null,
            "max_width": null,
            "order": null,
            "_view_module_version": "1.2.0",
            "grid_template_areas": null,
            "object_position": null,
            "object_fit": null,
            "grid_auto_columns": null,
            "margin": null,
            "display": null,
            "left": null
          }
        },
        "2d9168de6b0d4343ab0ee955c7b194bf": {
          "model_module": "@jupyter-widgets/controls",
          "model_name": "FloatProgressModel",
          "state": {
            "_view_name": "ProgressView",
            "style": "IPY_MODEL_48c3feecea344891a665c5d3b440cd05",
            "_dom_classes": [],
            "description": "Downloading: 100%",
            "_model_name": "FloatProgressModel",
            "bar_style": "success",
            "max": 112,
            "_view_module": "@jupyter-widgets/controls",
            "_model_module_version": "1.5.0",
            "value": 112,
            "_view_count": null,
            "_view_module_version": "1.5.0",
            "orientation": "horizontal",
            "min": 0,
            "description_tooltip": null,
            "_model_module": "@jupyter-widgets/controls",
            "layout": "IPY_MODEL_095cc9ac780b4314a370fb5fb3298bfb"
          }
        },
        "4f653fec2e6f4129baf38078358a2acd": {
          "model_module": "@jupyter-widgets/controls",
          "model_name": "HTMLModel",
          "state": {
            "_view_name": "HTMLView",
            "style": "IPY_MODEL_3dc6a6b72be1429faf17956b8289c440",
            "_dom_classes": [],
            "description": "",
            "_model_name": "HTMLModel",
            "placeholder": "​",
            "_view_module": "@jupyter-widgets/controls",
            "_model_module_version": "1.5.0",
            "value": " 112/112 [00:01&lt;00:00, 110B/s]",
            "_view_count": null,
            "_view_module_version": "1.5.0",
            "description_tooltip": null,
            "_model_module": "@jupyter-widgets/controls",
            "layout": "IPY_MODEL_80adb8315c2449cd9bf109097567ba4a"
          }
        },
        "48c3feecea344891a665c5d3b440cd05": {
          "model_module": "@jupyter-widgets/controls",
          "model_name": "ProgressStyleModel",
          "state": {
            "_view_name": "StyleView",
            "_model_name": "ProgressStyleModel",
            "description_width": "initial",
            "_view_module": "@jupyter-widgets/base",
            "_model_module_version": "1.5.0",
            "_view_count": null,
            "_view_module_version": "1.2.0",
            "bar_color": null,
            "_model_module": "@jupyter-widgets/controls"
          }
        },
        "095cc9ac780b4314a370fb5fb3298bfb": {
          "model_module": "@jupyter-widgets/base",
          "model_name": "LayoutModel",
          "state": {
            "_view_name": "LayoutView",
            "grid_template_rows": null,
            "right": null,
            "justify_content": null,
            "_view_module": "@jupyter-widgets/base",
            "overflow": null,
            "_model_module_version": "1.2.0",
            "_view_count": null,
            "flex_flow": null,
            "width": null,
            "min_width": null,
            "border": null,
            "align_items": null,
            "bottom": null,
            "_model_module": "@jupyter-widgets/base",
            "top": null,
            "grid_column": null,
            "overflow_y": null,
            "overflow_x": null,
            "grid_auto_flow": null,
            "grid_area": null,
            "grid_template_columns": null,
            "flex": null,
            "_model_name": "LayoutModel",
            "justify_items": null,
            "grid_row": null,
            "max_height": null,
            "align_content": null,
            "visibility": null,
            "align_self": null,
            "height": null,
            "min_height": null,
            "padding": null,
            "grid_auto_rows": null,
            "grid_gap": null,
            "max_width": null,
            "order": null,
            "_view_module_version": "1.2.0",
            "grid_template_areas": null,
            "object_position": null,
            "object_fit": null,
            "grid_auto_columns": null,
            "margin": null,
            "display": null,
            "left": null
          }
        },
        "3dc6a6b72be1429faf17956b8289c440": {
          "model_module": "@jupyter-widgets/controls",
          "model_name": "DescriptionStyleModel",
          "state": {
            "_view_name": "StyleView",
            "_model_name": "DescriptionStyleModel",
            "description_width": "",
            "_view_module": "@jupyter-widgets/base",
            "_model_module_version": "1.5.0",
            "_view_count": null,
            "_view_module_version": "1.2.0",
            "_model_module": "@jupyter-widgets/controls"
          }
        },
        "80adb8315c2449cd9bf109097567ba4a": {
          "model_module": "@jupyter-widgets/base",
          "model_name": "LayoutModel",
          "state": {
            "_view_name": "LayoutView",
            "grid_template_rows": null,
            "right": null,
            "justify_content": null,
            "_view_module": "@jupyter-widgets/base",
            "overflow": null,
            "_model_module_version": "1.2.0",
            "_view_count": null,
            "flex_flow": null,
            "width": null,
            "min_width": null,
            "border": null,
            "align_items": null,
            "bottom": null,
            "_model_module": "@jupyter-widgets/base",
            "top": null,
            "grid_column": null,
            "overflow_y": null,
            "overflow_x": null,
            "grid_auto_flow": null,
            "grid_area": null,
            "grid_template_columns": null,
            "flex": null,
            "_model_name": "LayoutModel",
            "justify_items": null,
            "grid_row": null,
            "max_height": null,
            "align_content": null,
            "visibility": null,
            "align_self": null,
            "height": null,
            "min_height": null,
            "padding": null,
            "grid_auto_rows": null,
            "grid_gap": null,
            "max_width": null,
            "order": null,
            "_view_module_version": "1.2.0",
            "grid_template_areas": null,
            "object_position": null,
            "object_fit": null,
            "grid_auto_columns": null,
            "margin": null,
            "display": null,
            "left": null
          }
        },
        "e2009e8a3b2345eca6abe680bc16ec77": {
          "model_module": "@jupyter-widgets/controls",
          "model_name": "HBoxModel",
          "state": {
            "_view_name": "HBoxView",
            "_dom_classes": [],
            "_model_name": "HBoxModel",
            "_view_module": "@jupyter-widgets/controls",
            "_model_module_version": "1.5.0",
            "_view_count": null,
            "_view_module_version": "1.5.0",
            "box_style": "",
            "layout": "IPY_MODEL_5436e444251c475da4324366bf5f0c09",
            "_model_module": "@jupyter-widgets/controls",
            "children": [
              "IPY_MODEL_2895073f47f1490fb1713189f8f25d11",
              "IPY_MODEL_83942f10a0cd41518a78f570571ec616"
            ]
          }
        },
        "5436e444251c475da4324366bf5f0c09": {
          "model_module": "@jupyter-widgets/base",
          "model_name": "LayoutModel",
          "state": {
            "_view_name": "LayoutView",
            "grid_template_rows": null,
            "right": null,
            "justify_content": null,
            "_view_module": "@jupyter-widgets/base",
            "overflow": null,
            "_model_module_version": "1.2.0",
            "_view_count": null,
            "flex_flow": null,
            "width": null,
            "min_width": null,
            "border": null,
            "align_items": null,
            "bottom": null,
            "_model_module": "@jupyter-widgets/base",
            "top": null,
            "grid_column": null,
            "overflow_y": null,
            "overflow_x": null,
            "grid_auto_flow": null,
            "grid_area": null,
            "grid_template_columns": null,
            "flex": null,
            "_model_name": "LayoutModel",
            "justify_items": null,
            "grid_row": null,
            "max_height": null,
            "align_content": null,
            "visibility": null,
            "align_self": null,
            "height": null,
            "min_height": null,
            "padding": null,
            "grid_auto_rows": null,
            "grid_gap": null,
            "max_width": null,
            "order": null,
            "_view_module_version": "1.2.0",
            "grid_template_areas": null,
            "object_position": null,
            "object_fit": null,
            "grid_auto_columns": null,
            "margin": null,
            "display": null,
            "left": null
          }
        },
        "2895073f47f1490fb1713189f8f25d11": {
          "model_module": "@jupyter-widgets/controls",
          "model_name": "FloatProgressModel",
          "state": {
            "_view_name": "ProgressView",
            "style": "IPY_MODEL_4457872c95504d6c93c36a78d7f12fde",
            "_dom_classes": [],
            "description": "Downloading: 100%",
            "_model_name": "FloatProgressModel",
            "bar_style": "success",
            "max": 381,
            "_view_module": "@jupyter-widgets/controls",
            "_model_module_version": "1.5.0",
            "value": 381,
            "_view_count": null,
            "_view_module_version": "1.5.0",
            "orientation": "horizontal",
            "min": 0,
            "description_tooltip": null,
            "_model_module": "@jupyter-widgets/controls",
            "layout": "IPY_MODEL_b977ea0a853e48b3846cf3504dbb410d"
          }
        },
        "83942f10a0cd41518a78f570571ec616": {
          "model_module": "@jupyter-widgets/controls",
          "model_name": "HTMLModel",
          "state": {
            "_view_name": "HTMLView",
            "style": "IPY_MODEL_68d1ca130da34bd9ad281aa8f115f9f4",
            "_dom_classes": [],
            "description": "",
            "_model_name": "HTMLModel",
            "placeholder": "​",
            "_view_module": "@jupyter-widgets/controls",
            "_model_module_version": "1.5.0",
            "value": " 381/381 [00:00&lt;00:00, 942B/s]",
            "_view_count": null,
            "_view_module_version": "1.5.0",
            "description_tooltip": null,
            "_model_module": "@jupyter-widgets/controls",
            "layout": "IPY_MODEL_26c335eb17a84f30867521129740eac2"
          }
        },
        "4457872c95504d6c93c36a78d7f12fde": {
          "model_module": "@jupyter-widgets/controls",
          "model_name": "ProgressStyleModel",
          "state": {
            "_view_name": "StyleView",
            "_model_name": "ProgressStyleModel",
            "description_width": "initial",
            "_view_module": "@jupyter-widgets/base",
            "_model_module_version": "1.5.0",
            "_view_count": null,
            "_view_module_version": "1.2.0",
            "bar_color": null,
            "_model_module": "@jupyter-widgets/controls"
          }
        },
        "b977ea0a853e48b3846cf3504dbb410d": {
          "model_module": "@jupyter-widgets/base",
          "model_name": "LayoutModel",
          "state": {
            "_view_name": "LayoutView",
            "grid_template_rows": null,
            "right": null,
            "justify_content": null,
            "_view_module": "@jupyter-widgets/base",
            "overflow": null,
            "_model_module_version": "1.2.0",
            "_view_count": null,
            "flex_flow": null,
            "width": null,
            "min_width": null,
            "border": null,
            "align_items": null,
            "bottom": null,
            "_model_module": "@jupyter-widgets/base",
            "top": null,
            "grid_column": null,
            "overflow_y": null,
            "overflow_x": null,
            "grid_auto_flow": null,
            "grid_area": null,
            "grid_template_columns": null,
            "flex": null,
            "_model_name": "LayoutModel",
            "justify_items": null,
            "grid_row": null,
            "max_height": null,
            "align_content": null,
            "visibility": null,
            "align_self": null,
            "height": null,
            "min_height": null,
            "padding": null,
            "grid_auto_rows": null,
            "grid_gap": null,
            "max_width": null,
            "order": null,
            "_view_module_version": "1.2.0",
            "grid_template_areas": null,
            "object_position": null,
            "object_fit": null,
            "grid_auto_columns": null,
            "margin": null,
            "display": null,
            "left": null
          }
        },
        "68d1ca130da34bd9ad281aa8f115f9f4": {
          "model_module": "@jupyter-widgets/controls",
          "model_name": "DescriptionStyleModel",
          "state": {
            "_view_name": "StyleView",
            "_model_name": "DescriptionStyleModel",
            "description_width": "",
            "_view_module": "@jupyter-widgets/base",
            "_model_module_version": "1.5.0",
            "_view_count": null,
            "_view_module_version": "1.2.0",
            "_model_module": "@jupyter-widgets/controls"
          }
        },
        "26c335eb17a84f30867521129740eac2": {
          "model_module": "@jupyter-widgets/base",
          "model_name": "LayoutModel",
          "state": {
            "_view_name": "LayoutView",
            "grid_template_rows": null,
            "right": null,
            "justify_content": null,
            "_view_module": "@jupyter-widgets/base",
            "overflow": null,
            "_model_module_version": "1.2.0",
            "_view_count": null,
            "flex_flow": null,
            "width": null,
            "min_width": null,
            "border": null,
            "align_items": null,
            "bottom": null,
            "_model_module": "@jupyter-widgets/base",
            "top": null,
            "grid_column": null,
            "overflow_y": null,
            "overflow_x": null,
            "grid_auto_flow": null,
            "grid_area": null,
            "grid_template_columns": null,
            "flex": null,
            "_model_name": "LayoutModel",
            "justify_items": null,
            "grid_row": null,
            "max_height": null,
            "align_content": null,
            "visibility": null,
            "align_self": null,
            "height": null,
            "min_height": null,
            "padding": null,
            "grid_auto_rows": null,
            "grid_gap": null,
            "max_width": null,
            "order": null,
            "_view_module_version": "1.2.0",
            "grid_template_areas": null,
            "object_position": null,
            "object_fit": null,
            "grid_auto_columns": null,
            "margin": null,
            "display": null,
            "left": null
          }
        },
        "717616c01dce48f0b01a19431116e457": {
          "model_module": "@jupyter-widgets/controls",
          "model_name": "HBoxModel",
          "state": {
            "_view_name": "HBoxView",
            "_dom_classes": [],
            "_model_name": "HBoxModel",
            "_view_module": "@jupyter-widgets/controls",
            "_model_module_version": "1.5.0",
            "_view_count": null,
            "_view_module_version": "1.5.0",
            "box_style": "",
            "layout": "IPY_MODEL_345be0194ead43f8923dcb7cad121122",
            "_model_module": "@jupyter-widgets/controls",
            "children": [
              "IPY_MODEL_f4cb4f47fe074759935742a8c2a995c1",
              "IPY_MODEL_7d33fc14889c45f2bac642068f8e1d4d"
            ]
          }
        },
        "345be0194ead43f8923dcb7cad121122": {
          "model_module": "@jupyter-widgets/base",
          "model_name": "LayoutModel",
          "state": {
            "_view_name": "LayoutView",
            "grid_template_rows": null,
            "right": null,
            "justify_content": null,
            "_view_module": "@jupyter-widgets/base",
            "overflow": null,
            "_model_module_version": "1.2.0",
            "_view_count": null,
            "flex_flow": null,
            "width": null,
            "min_width": null,
            "border": null,
            "align_items": null,
            "bottom": null,
            "_model_module": "@jupyter-widgets/base",
            "top": null,
            "grid_column": null,
            "overflow_y": null,
            "overflow_x": null,
            "grid_auto_flow": null,
            "grid_area": null,
            "grid_template_columns": null,
            "flex": null,
            "_model_name": "LayoutModel",
            "justify_items": null,
            "grid_row": null,
            "max_height": null,
            "align_content": null,
            "visibility": null,
            "align_self": null,
            "height": null,
            "min_height": null,
            "padding": null,
            "grid_auto_rows": null,
            "grid_gap": null,
            "max_width": null,
            "order": null,
            "_view_module_version": "1.2.0",
            "grid_template_areas": null,
            "object_position": null,
            "object_fit": null,
            "grid_auto_columns": null,
            "margin": null,
            "display": null,
            "left": null
          }
        },
        "f4cb4f47fe074759935742a8c2a995c1": {
          "model_module": "@jupyter-widgets/controls",
          "model_name": "FloatProgressModel",
          "state": {
            "_view_name": "ProgressView",
            "style": "IPY_MODEL_e688ec094dab4dbaba98b624ecdb3954",
            "_dom_classes": [],
            "description": "Downloading: 100%",
            "_model_name": "FloatProgressModel",
            "bar_style": "success",
            "max": 543490667,
            "_view_module": "@jupyter-widgets/controls",
            "_model_module_version": "1.5.0",
            "value": 543490667,
            "_view_count": null,
            "_view_module_version": "1.5.0",
            "orientation": "horizontal",
            "min": 0,
            "description_tooltip": null,
            "_model_module": "@jupyter-widgets/controls",
            "layout": "IPY_MODEL_114ad785464b4df688dec63c59103cd6"
          }
        },
        "7d33fc14889c45f2bac642068f8e1d4d": {
          "model_module": "@jupyter-widgets/controls",
          "model_name": "HTMLModel",
          "state": {
            "_view_name": "HTMLView",
            "style": "IPY_MODEL_4c8c3dba82004fe28f9f9ccd48d99823",
            "_dom_classes": [],
            "description": "",
            "_model_name": "HTMLModel",
            "placeholder": "​",
            "_view_module": "@jupyter-widgets/controls",
            "_model_module_version": "1.5.0",
            "value": " 543M/543M [00:32&lt;00:00, 16.8MB/s]",
            "_view_count": null,
            "_view_module_version": "1.5.0",
            "description_tooltip": null,
            "_model_module": "@jupyter-widgets/controls",
            "layout": "IPY_MODEL_bd93ea459e554ff488c4808a259be466"
          }
        },
        "e688ec094dab4dbaba98b624ecdb3954": {
          "model_module": "@jupyter-widgets/controls",
          "model_name": "ProgressStyleModel",
          "state": {
            "_view_name": "StyleView",
            "_model_name": "ProgressStyleModel",
            "description_width": "initial",
            "_view_module": "@jupyter-widgets/base",
            "_model_module_version": "1.5.0",
            "_view_count": null,
            "_view_module_version": "1.2.0",
            "bar_color": null,
            "_model_module": "@jupyter-widgets/controls"
          }
        },
        "114ad785464b4df688dec63c59103cd6": {
          "model_module": "@jupyter-widgets/base",
          "model_name": "LayoutModel",
          "state": {
            "_view_name": "LayoutView",
            "grid_template_rows": null,
            "right": null,
            "justify_content": null,
            "_view_module": "@jupyter-widgets/base",
            "overflow": null,
            "_model_module_version": "1.2.0",
            "_view_count": null,
            "flex_flow": null,
            "width": null,
            "min_width": null,
            "border": null,
            "align_items": null,
            "bottom": null,
            "_model_module": "@jupyter-widgets/base",
            "top": null,
            "grid_column": null,
            "overflow_y": null,
            "overflow_x": null,
            "grid_auto_flow": null,
            "grid_area": null,
            "grid_template_columns": null,
            "flex": null,
            "_model_name": "LayoutModel",
            "justify_items": null,
            "grid_row": null,
            "max_height": null,
            "align_content": null,
            "visibility": null,
            "align_self": null,
            "height": null,
            "min_height": null,
            "padding": null,
            "grid_auto_rows": null,
            "grid_gap": null,
            "max_width": null,
            "order": null,
            "_view_module_version": "1.2.0",
            "grid_template_areas": null,
            "object_position": null,
            "object_fit": null,
            "grid_auto_columns": null,
            "margin": null,
            "display": null,
            "left": null
          }
        },
        "4c8c3dba82004fe28f9f9ccd48d99823": {
          "model_module": "@jupyter-widgets/controls",
          "model_name": "DescriptionStyleModel",
          "state": {
            "_view_name": "StyleView",
            "_model_name": "DescriptionStyleModel",
            "description_width": "",
            "_view_module": "@jupyter-widgets/base",
            "_model_module_version": "1.5.0",
            "_view_count": null,
            "_view_module_version": "1.2.0",
            "_model_module": "@jupyter-widgets/controls"
          }
        },
        "bd93ea459e554ff488c4808a259be466": {
          "model_module": "@jupyter-widgets/base",
          "model_name": "LayoutModel",
          "state": {
            "_view_name": "LayoutView",
            "grid_template_rows": null,
            "right": null,
            "justify_content": null,
            "_view_module": "@jupyter-widgets/base",
            "overflow": null,
            "_model_module_version": "1.2.0",
            "_view_count": null,
            "flex_flow": null,
            "width": null,
            "min_width": null,
            "border": null,
            "align_items": null,
            "bottom": null,
            "_model_module": "@jupyter-widgets/base",
            "top": null,
            "grid_column": null,
            "overflow_y": null,
            "overflow_x": null,
            "grid_auto_flow": null,
            "grid_area": null,
            "grid_template_columns": null,
            "flex": null,
            "_model_name": "LayoutModel",
            "justify_items": null,
            "grid_row": null,
            "max_height": null,
            "align_content": null,
            "visibility": null,
            "align_self": null,
            "height": null,
            "min_height": null,
            "padding": null,
            "grid_auto_rows": null,
            "grid_gap": null,
            "max_width": null,
            "order": null,
            "_view_module_version": "1.2.0",
            "grid_template_areas": null,
            "object_position": null,
            "object_fit": null,
            "grid_auto_columns": null,
            "margin": null,
            "display": null,
            "left": null
          }
        }
      }
    }
  },
  "cells": [
    {
      "cell_type": "code",
      "metadata": {
        "colab": {
          "base_uri": "https://localhost:8080/"
        },
        "id": "fdD8MmEtMYUv",
        "outputId": "6284d34e-947d-4beb-e5a5-007c8c03fd8a"
      },
      "source": [
        "!pip install optuna==2.3.0\n",
        "!pip install transformers==4.2.1\n",
        "!pip install farasapy\n",
        "!pip install pyarabic\n",
        "!git clone https://github.com/aub-mind/arabert"
      ],
      "execution_count": 1,
      "outputs": [
        {
          "output_type": "stream",
          "text": [
            "Collecting optuna==2.3.0\n",
            "\u001b[?25l  Downloading https://files.pythonhosted.org/packages/87/10/06b58f4120f26b603d905a594650440ea1fd74476b8b360dbf01e111469b/optuna-2.3.0.tar.gz (258kB)\n",
            "\r\u001b[K     |█▎                              | 10kB 16.0MB/s eta 0:00:01\r\u001b[K     |██▌                             | 20kB 23.4MB/s eta 0:00:01\r\u001b[K     |███▉                            | 30kB 24.6MB/s eta 0:00:01\r\u001b[K     |█████                           | 40kB 18.0MB/s eta 0:00:01\r\u001b[K     |██████▍                         | 51kB 9.5MB/s eta 0:00:01\r\u001b[K     |███████▋                        | 61kB 8.2MB/s eta 0:00:01\r\u001b[K     |████████▉                       | 71kB 9.3MB/s eta 0:00:01\r\u001b[K     |██████████▏                     | 81kB 10.1MB/s eta 0:00:01\r\u001b[K     |███████████▍                    | 92kB 10.8MB/s eta 0:00:01\r\u001b[K     |████████████▊                   | 102kB 8.9MB/s eta 0:00:01\r\u001b[K     |██████████████                  | 112kB 8.9MB/s eta 0:00:01\r\u001b[K     |███████████████▏                | 122kB 8.9MB/s eta 0:00:01\r\u001b[K     |████████████████▌               | 133kB 8.9MB/s eta 0:00:01\r\u001b[K     |█████████████████▊              | 143kB 8.9MB/s eta 0:00:01\r\u001b[K     |███████████████████             | 153kB 8.9MB/s eta 0:00:01\r\u001b[K     |████████████████████▎           | 163kB 8.9MB/s eta 0:00:01\r\u001b[K     |█████████████████████▌          | 174kB 8.9MB/s eta 0:00:01\r\u001b[K     |██████████████████████▉         | 184kB 8.9MB/s eta 0:00:01\r\u001b[K     |████████████████████████        | 194kB 8.9MB/s eta 0:00:01\r\u001b[K     |█████████████████████████▍      | 204kB 8.9MB/s eta 0:00:01\r\u001b[K     |██████████████████████████▋     | 215kB 8.9MB/s eta 0:00:01\r\u001b[K     |███████████████████████████▉    | 225kB 8.9MB/s eta 0:00:01\r\u001b[K     |█████████████████████████████▏  | 235kB 8.9MB/s eta 0:00:01\r\u001b[K     |██████████████████████████████▍ | 245kB 8.9MB/s eta 0:00:01\r\u001b[K     |███████████████████████████████▊| 256kB 8.9MB/s eta 0:00:01\r\u001b[K     |████████████████████████████████| 266kB 8.9MB/s \n",
            "\u001b[?25h  Installing build dependencies ... \u001b[?25l\u001b[?25hdone\n",
            "  Getting requirements to build wheel ... \u001b[?25l\u001b[?25hdone\n",
            "    Preparing wheel metadata ... \u001b[?25l\u001b[?25hdone\n",
            "Requirement already satisfied: scipy!=1.4.0 in /usr/local/lib/python3.7/dist-packages (from optuna==2.3.0) (1.4.1)\n",
            "Requirement already satisfied: sqlalchemy>=1.1.0 in /usr/local/lib/python3.7/dist-packages (from optuna==2.3.0) (1.4.18)\n",
            "Collecting cliff\n",
            "\u001b[?25l  Downloading https://files.pythonhosted.org/packages/87/11/aea1cacbd4cf8262809c4d6f95dcb3f2802594de1f51c5bd454d69bf15c5/cliff-3.8.0-py3-none-any.whl (80kB)\n",
            "\u001b[K     |████████████████████████████████| 81kB 10.2MB/s \n",
            "\u001b[?25hRequirement already satisfied: joblib in /usr/local/lib/python3.7/dist-packages (from optuna==2.3.0) (1.0.1)\n",
            "Collecting cmaes>=0.6.0\n",
            "  Downloading https://files.pythonhosted.org/packages/01/1f/43b01223a0366171f474320c6e966c39a11587287f098a5f09809b45e05f/cmaes-0.8.2-py3-none-any.whl\n",
            "Requirement already satisfied: tqdm in /usr/local/lib/python3.7/dist-packages (from optuna==2.3.0) (4.41.1)\n",
            "Collecting alembic\n",
            "\u001b[?25l  Downloading https://files.pythonhosted.org/packages/d5/80/ef186e599a57d0e4cb78fc76e0bfc2e6953fa9716b2a5cf2de0117ed8eb5/alembic-1.6.5-py2.py3-none-any.whl (164kB)\n",
            "\u001b[K     |████████████████████████████████| 174kB 26.9MB/s \n",
            "\u001b[?25hCollecting colorlog\n",
            "  Downloading https://files.pythonhosted.org/packages/32/e6/e9ddc6fa1104fda718338b341e4b3dc31cd8039ab29e52fc73b508515361/colorlog-5.0.1-py2.py3-none-any.whl\n",
            "Requirement already satisfied: packaging>=20.0 in /usr/local/lib/python3.7/dist-packages (from optuna==2.3.0) (20.9)\n",
            "Requirement already satisfied: numpy in /usr/local/lib/python3.7/dist-packages (from optuna==2.3.0) (1.19.5)\n",
            "Requirement already satisfied: importlib-metadata; python_version < \"3.8\" in /usr/local/lib/python3.7/dist-packages (from sqlalchemy>=1.1.0->optuna==2.3.0) (4.5.0)\n",
            "Requirement already satisfied: greenlet!=0.4.17; python_version >= \"3\" in /usr/local/lib/python3.7/dist-packages (from sqlalchemy>=1.1.0->optuna==2.3.0) (1.1.0)\n",
            "Requirement already satisfied: pyparsing>=2.1.0 in /usr/local/lib/python3.7/dist-packages (from cliff->optuna==2.3.0) (2.4.7)\n",
            "Collecting stevedore>=2.0.1\n",
            "\u001b[?25l  Downloading https://files.pythonhosted.org/packages/d4/49/b602307aeac3df3384ff1fcd05da9c0376c622a6c48bb5325f28ab165b57/stevedore-3.3.0-py3-none-any.whl (49kB)\n",
            "\u001b[K     |████████████████████████████████| 51kB 6.9MB/s \n",
            "\u001b[?25hRequirement already satisfied: PrettyTable>=0.7.2 in /usr/local/lib/python3.7/dist-packages (from cliff->optuna==2.3.0) (2.1.0)\n",
            "Collecting cmd2>=1.0.0\n",
            "\u001b[?25l  Downloading https://files.pythonhosted.org/packages/e3/6a/e929ec70ca05c5962f6541ef29fb9c207dd41f0f2333680fa39f44fa4357/cmd2-2.1.1-py3-none-any.whl (140kB)\n",
            "\u001b[K     |████████████████████████████████| 143kB 38.2MB/s \n",
            "\u001b[?25hRequirement already satisfied: PyYAML>=3.12 in /usr/local/lib/python3.7/dist-packages (from cliff->optuna==2.3.0) (3.13)\n",
            "Collecting pbr!=2.1.0,>=2.0.0\n",
            "\u001b[?25l  Downloading https://files.pythonhosted.org/packages/18/e0/1d4702dd81121d04a477c272d47ee5b6bc970d1a0990b11befa275c55cf2/pbr-5.6.0-py2.py3-none-any.whl (111kB)\n",
            "\u001b[K     |████████████████████████████████| 112kB 28.8MB/s \n",
            "\u001b[?25hCollecting python-editor>=0.3\n",
            "  Downloading https://files.pythonhosted.org/packages/c6/d3/201fc3abe391bbae6606e6f1d598c15d367033332bd54352b12f35513717/python_editor-1.0.4-py3-none-any.whl\n",
            "Collecting Mako\n",
            "\u001b[?25l  Downloading https://files.pythonhosted.org/packages/f3/54/dbc07fbb20865d3b78fdb7cf7fa713e2cba4f87f71100074ef2dc9f9d1f7/Mako-1.1.4-py2.py3-none-any.whl (75kB)\n",
            "\u001b[K     |████████████████████████████████| 81kB 9.7MB/s \n",
            "\u001b[?25hRequirement already satisfied: python-dateutil in /usr/local/lib/python3.7/dist-packages (from alembic->optuna==2.3.0) (2.8.1)\n",
            "Requirement already satisfied: typing-extensions>=3.6.4; python_version < \"3.8\" in /usr/local/lib/python3.7/dist-packages (from importlib-metadata; python_version < \"3.8\"->sqlalchemy>=1.1.0->optuna==2.3.0) (3.7.4.3)\n",
            "Requirement already satisfied: zipp>=0.5 in /usr/local/lib/python3.7/dist-packages (from importlib-metadata; python_version < \"3.8\"->sqlalchemy>=1.1.0->optuna==2.3.0) (3.4.1)\n",
            "Requirement already satisfied: wcwidth in /usr/local/lib/python3.7/dist-packages (from PrettyTable>=0.7.2->cliff->optuna==2.3.0) (0.2.5)\n",
            "Requirement already satisfied: attrs>=16.3.0 in /usr/local/lib/python3.7/dist-packages (from cmd2>=1.0.0->cliff->optuna==2.3.0) (21.2.0)\n",
            "Collecting colorama>=0.3.7\n",
            "  Downloading https://files.pythonhosted.org/packages/44/98/5b86278fbbf250d239ae0ecb724f8572af1c91f4a11edf4d36a206189440/colorama-0.4.4-py2.py3-none-any.whl\n",
            "Collecting pyperclip>=1.6\n",
            "  Downloading https://files.pythonhosted.org/packages/a7/2c/4c64579f847bd5d539803c8b909e54ba087a79d01bb3aba433a95879a6c5/pyperclip-1.8.2.tar.gz\n",
            "Requirement already satisfied: MarkupSafe>=0.9.2 in /usr/local/lib/python3.7/dist-packages (from Mako->alembic->optuna==2.3.0) (2.0.1)\n",
            "Requirement already satisfied: six>=1.5 in /usr/local/lib/python3.7/dist-packages (from python-dateutil->alembic->optuna==2.3.0) (1.15.0)\n",
            "Building wheels for collected packages: optuna\n",
            "  Building wheel for optuna (PEP 517) ... \u001b[?25l\u001b[?25hdone\n",
            "  Created wheel for optuna: filename=optuna-2.3.0-cp37-none-any.whl size=359773 sha256=6b3f52ff1b676a3d26e7be69727292764962b2aec892e6b67a17fa232d15526c\n",
            "  Stored in directory: /root/.cache/pip/wheels/fa/91/19/64b0ec6b964f89c0695a9dc6db6f851d0b54c5381a5c9cadfb\n",
            "Successfully built optuna\n",
            "Building wheels for collected packages: pyperclip\n",
            "  Building wheel for pyperclip (setup.py) ... \u001b[?25l\u001b[?25hdone\n",
            "  Created wheel for pyperclip: filename=pyperclip-1.8.2-cp37-none-any.whl size=11136 sha256=f49a7fad9980f8f03e9a8a8a16724a295237bf9fb53e6b20df1c943bec2667f1\n",
            "  Stored in directory: /root/.cache/pip/wheels/25/af/b8/3407109267803f4015e1ee2ff23be0c8c19ce4008665931ee1\n",
            "Successfully built pyperclip\n",
            "Installing collected packages: pbr, stevedore, colorama, pyperclip, cmd2, cliff, cmaes, python-editor, Mako, alembic, colorlog, optuna\n",
            "Successfully installed Mako-1.1.4 alembic-1.6.5 cliff-3.8.0 cmaes-0.8.2 cmd2-2.1.1 colorama-0.4.4 colorlog-5.0.1 optuna-2.3.0 pbr-5.6.0 pyperclip-1.8.2 python-editor-1.0.4 stevedore-3.3.0\n",
            "Collecting transformers==4.2.1\n",
            "\u001b[?25l  Downloading https://files.pythonhosted.org/packages/cd/40/866cbfac4601e0f74c7303d533a9c5d4a53858bd402e08e3e294dd271f25/transformers-4.2.1-py3-none-any.whl (1.8MB)\n",
            "\u001b[K     |████████████████████████████████| 1.8MB 8.4MB/s \n",
            "\u001b[?25hRequirement already satisfied: filelock in /usr/local/lib/python3.7/dist-packages (from transformers==4.2.1) (3.0.12)\n",
            "Requirement already satisfied: requests in /usr/local/lib/python3.7/dist-packages (from transformers==4.2.1) (2.23.0)\n",
            "Collecting sacremoses\n",
            "\u001b[?25l  Downloading https://files.pythonhosted.org/packages/75/ee/67241dc87f266093c533a2d4d3d69438e57d7a90abb216fa076e7d475d4a/sacremoses-0.0.45-py3-none-any.whl (895kB)\n",
            "\u001b[K     |████████████████████████████████| 901kB 42.9MB/s \n",
            "\u001b[?25hRequirement already satisfied: importlib-metadata; python_version < \"3.8\" in /usr/local/lib/python3.7/dist-packages (from transformers==4.2.1) (4.5.0)\n",
            "Requirement already satisfied: regex!=2019.12.17 in /usr/local/lib/python3.7/dist-packages (from transformers==4.2.1) (2019.12.20)\n",
            "Requirement already satisfied: tqdm>=4.27 in /usr/local/lib/python3.7/dist-packages (from transformers==4.2.1) (4.41.1)\n",
            "Requirement already satisfied: packaging in /usr/local/lib/python3.7/dist-packages (from transformers==4.2.1) (20.9)\n",
            "Collecting tokenizers==0.9.4\n",
            "\u001b[?25l  Downloading https://files.pythonhosted.org/packages/fb/36/59e4a62254c5fcb43894c6b0e9403ec6f4238cc2422a003ed2e6279a1784/tokenizers-0.9.4-cp37-cp37m-manylinux2010_x86_64.whl (2.9MB)\n",
            "\u001b[K     |████████████████████████████████| 2.9MB 40.0MB/s \n",
            "\u001b[?25hRequirement already satisfied: numpy in /usr/local/lib/python3.7/dist-packages (from transformers==4.2.1) (1.19.5)\n",
            "Requirement already satisfied: idna<3,>=2.5 in /usr/local/lib/python3.7/dist-packages (from requests->transformers==4.2.1) (2.10)\n",
            "Requirement already satisfied: chardet<4,>=3.0.2 in /usr/local/lib/python3.7/dist-packages (from requests->transformers==4.2.1) (3.0.4)\n",
            "Requirement already satisfied: urllib3!=1.25.0,!=1.25.1,<1.26,>=1.21.1 in /usr/local/lib/python3.7/dist-packages (from requests->transformers==4.2.1) (1.24.3)\n",
            "Requirement already satisfied: certifi>=2017.4.17 in /usr/local/lib/python3.7/dist-packages (from requests->transformers==4.2.1) (2021.5.30)\n",
            "Requirement already satisfied: six in /usr/local/lib/python3.7/dist-packages (from sacremoses->transformers==4.2.1) (1.15.0)\n",
            "Requirement already satisfied: joblib in /usr/local/lib/python3.7/dist-packages (from sacremoses->transformers==4.2.1) (1.0.1)\n",
            "Requirement already satisfied: click in /usr/local/lib/python3.7/dist-packages (from sacremoses->transformers==4.2.1) (7.1.2)\n",
            "Requirement already satisfied: zipp>=0.5 in /usr/local/lib/python3.7/dist-packages (from importlib-metadata; python_version < \"3.8\"->transformers==4.2.1) (3.4.1)\n",
            "Requirement already satisfied: typing-extensions>=3.6.4; python_version < \"3.8\" in /usr/local/lib/python3.7/dist-packages (from importlib-metadata; python_version < \"3.8\"->transformers==4.2.1) (3.7.4.3)\n",
            "Requirement already satisfied: pyparsing>=2.0.2 in /usr/local/lib/python3.7/dist-packages (from packaging->transformers==4.2.1) (2.4.7)\n",
            "Installing collected packages: sacremoses, tokenizers, transformers\n",
            "Successfully installed sacremoses-0.0.45 tokenizers-0.9.4 transformers-4.2.1\n",
            "Collecting farasapy\n",
            "  Downloading https://files.pythonhosted.org/packages/fb/69/39ead86569e95141eede67703a93585be8454a801b7aab93ad1a7f0a8375/farasapy-0.0.13-py3-none-any.whl\n",
            "Requirement already satisfied: tqdm in /usr/local/lib/python3.7/dist-packages (from farasapy) (4.41.1)\n",
            "Requirement already satisfied: requests in /usr/local/lib/python3.7/dist-packages (from farasapy) (2.23.0)\n",
            "Requirement already satisfied: urllib3!=1.25.0,!=1.25.1,<1.26,>=1.21.1 in /usr/local/lib/python3.7/dist-packages (from requests->farasapy) (1.24.3)\n",
            "Requirement already satisfied: chardet<4,>=3.0.2 in /usr/local/lib/python3.7/dist-packages (from requests->farasapy) (3.0.4)\n",
            "Requirement already satisfied: idna<3,>=2.5 in /usr/local/lib/python3.7/dist-packages (from requests->farasapy) (2.10)\n",
            "Requirement already satisfied: certifi>=2017.4.17 in /usr/local/lib/python3.7/dist-packages (from requests->farasapy) (2021.5.30)\n",
            "Installing collected packages: farasapy\n",
            "Successfully installed farasapy-0.0.13\n",
            "Collecting pyarabic\n",
            "\u001b[?25l  Downloading https://files.pythonhosted.org/packages/7b/e2/46728ec2f6fe14970de5c782346609f0636262c0941228f363710903aaa1/PyArabic-0.6.10.tar.gz (108kB)\n",
            "\u001b[K     |████████████████████████████████| 112kB 7.2MB/s \n",
            "\u001b[?25hBuilding wheels for collected packages: pyarabic\n",
            "  Building wheel for pyarabic (setup.py) ... \u001b[?25l\u001b[?25hdone\n",
            "  Created wheel for pyarabic: filename=PyArabic-0.6.10-cp37-none-any.whl size=113324 sha256=29dcb08b3bf5174508d45f1d730da2c5773deb3e72f613aff8d9536b9083ffdc\n",
            "  Stored in directory: /root/.cache/pip/wheels/10/b8/f5/b7c1a50e6efb83544844f165a9b134afe7292585465e29b61d\n",
            "Successfully built pyarabic\n",
            "Installing collected packages: pyarabic\n",
            "Successfully installed pyarabic-0.6.10\n",
            "Cloning into 'arabert'...\n",
            "remote: Enumerating objects: 530, done.\u001b[K\n",
            "remote: Counting objects: 100% (316/316), done.\u001b[K\n",
            "remote: Compressing objects: 100% (228/228), done.\u001b[K\n",
            "remote: Total 530 (delta 167), reused 226 (delta 82), pack-reused 214\u001b[K\n",
            "Receiving objects: 100% (530/530), 4.86 MiB | 9.97 MiB/s, done.\n",
            "Resolving deltas: 100% (290/290), done.\n"
          ],
          "name": "stdout"
        }
      ]
    },
    {
      "cell_type": "code",
      "metadata": {
        "id": "RFtDemzeXK_8"
      },
      "source": [
        "from arabert.preprocess import ArabertPreprocessor\n",
        "import numpy as np\n",
        "from sklearn.metrics import classification_report, accuracy_score, f1_score, confusion_matrix, precision_score , recall_score\n",
        "\n",
        "from transformers import AutoConfig, AutoModelForSequenceClassification, AutoTokenizer, BertTokenizer\n",
        "from transformers.data.processors import SingleSentenceClassificationProcessor\n",
        "from transformers import Trainer , TrainingArguments\n",
        "from transformers.trainer_utils import EvaluationStrategy\n",
        "from transformers.data.processors.utils import InputFeatures\n",
        "from torch.utils.data import Dataset\n",
        "from torch.utils.data import DataLoader\n",
        "from sklearn.utils import resample\n",
        "import logging\n",
        "import torch\n",
        "import optuna "
      ],
      "execution_count": 27,
      "outputs": []
    },
    {
      "cell_type": "code",
      "metadata": {
        "id": "7IYJ42tQ318w"
      },
      "source": [
        "# (1)load libraries \n",
        "import json, sys, regex\n",
        "import torch\n",
        "import torch.nn as nn\n",
        "from torch.utils.data import TensorDataset, DataLoader, RandomSampler, SequentialSampler\n",
        "from keras.preprocessing.sequence import pad_sequences\n",
        "from sklearn.model_selection import train_test_split\n",
        "from tqdm import tqdm, trange\n",
        "import pandas as pd\n",
        "import os\n",
        "import numpy as np\n",
        "from sklearn.metrics import accuracy_score, f1_score, recall_score, precision_score, classification_report, confusion_matrix\n",
        "##----------------------------------------------------\n",
        "import pandas as pd\n",
        "import numpy as np\n",
        "\n",
        "from tqdm import tqdm_notebook as tqdm\n",
        "from sklearn.model_selection import train_test_split\n",
        "##------------------------------------------------------\n",
        "import re"
      ],
      "execution_count": 3,
      "outputs": []
    },
    {
      "cell_type": "code",
      "metadata": {
        "id": "jM5aKhf4Mlfv"
      },
      "source": [
        "class Dataset:\n",
        "    def __init__(\n",
        "        self,\n",
        "        name,\n",
        "        train,\n",
        "        test,\n",
        "        label_list,\n",
        "    ):\n",
        "        self.name = name\n",
        "        self.train = train\n",
        "        self.test = test\n",
        "        self.label_list = label_list"
      ],
      "execution_count": 4,
      "outputs": []
    },
    {
      "cell_type": "code",
      "metadata": {
        "id": "uzA1zxZ7NE2l"
      },
      "source": [
        "class BERTDataset(Dataset):\n",
        "    def __init__(self, text, target, model_name, max_len, label_map):\n",
        "      super(BERTDataset).__init__()\n",
        "      self.text = text\n",
        "      self.target = target\n",
        "      self.tokenizer_name = model_name\n",
        "      self.tokenizer = AutoTokenizer.from_pretrained(model_name)\n",
        "      self.max_len = max_len\n",
        "      self.label_map = label_map\n",
        "      \n",
        "\n",
        "    def __len__(self):\n",
        "      return len(self.text)\n",
        "\n",
        "    def __getitem__(self,item):\n",
        "      text = str(self.text[item])\n",
        "      text = \" \".join(text.split())\n",
        "\n",
        "\n",
        "        \n",
        "      input_ids = self.tokenizer.encode(\n",
        "          text,\n",
        "          add_special_tokens=True,\n",
        "          max_length=self.max_len,\n",
        "          truncation='longest_first'\n",
        "      )     \n",
        "    \n",
        "      attention_mask = [1] * len(input_ids)\n",
        "\n",
        "      # Zero-pad up to the sequence length.\n",
        "      padding_length = self.max_len - len(input_ids)\n",
        "      input_ids = input_ids + ([self.tokenizer.pad_token_id] * padding_length)\n",
        "      attention_mask = attention_mask + ([0] * padding_length)    \n",
        "      \n",
        "      return InputFeatures(input_ids=input_ids, attention_mask=attention_mask, label=self.label_map[self.target[item]])"
      ],
      "execution_count": 5,
      "outputs": []
    },
    {
      "cell_type": "code",
      "metadata": {
        "id": "U-gw9eXUPAav"
      },
      "source": [
        "class BERTDatasetTest(Dataset):\n",
        "    def __init__(self, text, model_name, max_len, label_map):\n",
        "      super(BERTDataset).__init__()\n",
        "      self.text = text\n",
        "      self.tokenizer_name = model_name\n",
        "      self.tokenizer = AutoTokenizer.from_pretrained(model_name)\n",
        "      self.max_len = max_len\n",
        "      self.label_map = label_map\n",
        "      \n",
        "\n",
        "    def __len__(self):\n",
        "      return len(self.text)\n",
        "\n",
        "    def __getitem__(self,item):\n",
        "      text = str(self.text[item])\n",
        "      text = \" \".join(text.split())\n",
        "\n",
        "\n",
        "        \n",
        "      input_ids = self.tokenizer.encode(\n",
        "          text,\n",
        "          add_special_tokens=True,\n",
        "          max_length=self.max_len,\n",
        "          truncation='longest_first'\n",
        "      )     \n",
        "    \n",
        "      attention_mask = [1] * len(input_ids)\n",
        "\n",
        "      # Zero-pad up to the sequence length.\n",
        "      padding_length = self.max_len - len(input_ids)\n",
        "      input_ids = input_ids + ([self.tokenizer.pad_token_id] * padding_length)\n",
        "      attention_mask = attention_mask + ([0] * padding_length)    \n",
        "      \n",
        "      return InputFeatures(input_ids=input_ids, attention_mask=attention_mask)"
      ],
      "execution_count": 6,
      "outputs": []
    },
    {
      "cell_type": "code",
      "metadata": {
        "id": "BsddGpRf61WO"
      },
      "source": [
        "# MODEL_PATH_BEGIN_FINETUNE='/content/MARBERT_pytorch_verison'"
      ],
      "execution_count": null,
      "outputs": []
    },
    {
      "cell_type": "code",
      "metadata": {
        "colab": {
          "base_uri": "https://localhost:8080/"
        },
        "id": "NqtS9ym3c_RL",
        "outputId": "2326d669-44dd-48b3-b9db-c7670081b2e6"
      },
      "source": [
        "device = torch.device(\"cuda\" if torch.cuda.is_available() else \"cpu\")\n",
        "print (\"your device \", device)"
      ],
      "execution_count": 7,
      "outputs": [
        {
          "output_type": "stream",
          "text": [
            "your device  cuda\n"
          ],
          "name": "stdout"
        }
      ]
    },
    {
      "cell_type": "code",
      "metadata": {
        "id": "4ewzCNgb3-dS"
      },
      "source": [
        "class SentimentIdentificationArabert(object):\n",
        "  \"\"\"A class for finetunning, evaluating and running the sentiment classification on MARBERT model\n",
        "     After initializing an instance, you must\n",
        "    run the train method once before using it.\n",
        "    Args:\n",
        "        labels (:obj:`set` of :obj:`str`, optional): The set of sentiment labels\n",
        "            used in the training data in the main model.\n",
        "            If None, the default labels are used.\n",
        "            Defaults to None.\n",
        "\n",
        "        max_seq_length (:obj:`int`, optional): maximum sequence length for the model\n",
        "            \n",
        "            If None, the default max_seq_length are used.\n",
        "            Defaults to 256 .\n",
        "\n",
        "        num_epoch (:obj:`int`, optional): number of epoch used for training the model\n",
        "            \n",
        "            If None, the default num_epoch are used.\n",
        "            Defaults to 3 .\n",
        "\n",
        "        batch_size (:obj:`int`, optional):batch size used for training the model            \n",
        "            If None, the default batch_size are used.\n",
        "            Defaults to 16 .\n",
        "\n",
        "        lr (:obj:`int`, optional):initial learning rate used for training the model            \n",
        "            If None, the default lr are used.\n",
        "            Defaults to 5e-5 .\n",
        "        \n",
        "       \n",
        "    \"\"\"\n",
        "  def __init__(self, labels=None,max_seq_length=256,num_epoch=3,batch_size=16,lr=5e-5\n",
        "                 ):\n",
        "        if labels is None:\n",
        "            self.labels = _DEFAULT_LABELS\n",
        "        self._labels_sorted = sorted(labels)\n",
        "        self._is_trained = False\n",
        "        self.model_name='aubmindlab/bert-base-arabertv02'\n",
        "        self.task='classification'\n",
        "        self.num_epoch=num_epoch\n",
        "        self.batch_size=batch_size\n",
        "        self.max_seq_length=max_seq_length\n",
        "        self.lr=lr\n",
        "  def create_label2ind_file(self):\n",
        "\n",
        "    self.label_map = { v:index for index, v in enumerate(self._labels_sorted) }\n",
        "\n",
        "  def save_label2ind_file(self,path):\n",
        "    \"\"\"Save  the label 2 indexr on a given data set.\n",
        "      Args:\n",
        "          Path (:obj:`str`): Path where you want to save the feature vector .\n",
        "              \n",
        "          \n",
        "      \"\"\"\n",
        "    with open(path, 'w') as json_file:\n",
        "        json.dump(self.label_map, json_file)\n",
        "\n",
        "  def data_prepare_BERT(self,X_train,y_train):\n",
        "\n",
        "    train_dataset = BERTDataset(X_train.to_list(),y_train.to_list(),self.model_name,self.max_seq_length,self.label_map)\n",
        "    \n",
        "      \n",
        "    return train_dataset\n",
        "  def data_prepare_BERT_test(self,X_test):\n",
        "\n",
        "    test_dataset = BERTDatasetTest(X_test.to_list(),self.model_name,self.max_seq_length,self.label_map)\n",
        "    \n",
        "    return test_dataset\n",
        "\n",
        "  def model_init(self):\n",
        "    return AutoModelForSequenceClassification.from_pretrained(self.model_name, return_dict=True, num_labels=len(self.label_map))\n",
        "  \n",
        "  def compute_metrics(self,p):\n",
        "\n",
        "    #p should be of type EvalPrediction\n",
        "\n",
        "    preds = np.argmax(p.predictions, axis=1)\n",
        "    assert len(preds) == len(p.label_ids)\n",
        "    #print(classification_report(p.label_ids,preds))\n",
        "    #print(confusion_matrix(p.label_ids,preds))\n",
        "\n",
        "    macro_f1_pos_neg = f1_score(p.label_ids,preds,average='macro',labels=[0,1])\n",
        "    macro_f1 = f1_score(p.label_ids,preds,average='macro')\n",
        "    macro_precision = precision_score(p.label_ids,preds,average='macro')\n",
        "    macro_recall = recall_score(p.label_ids,preds,average='macro')\n",
        "    acc = accuracy_score(p.label_ids,preds)\n",
        "    return {\n",
        "        'macro_f1' : macro_f1,\n",
        "        'macro_f1_pos_neg' : macro_f1_pos_neg,  \n",
        "        'macro_precision': macro_precision,\n",
        "        'macro_recall': macro_recall,\n",
        "        'accuracy': acc\n",
        "    }\n",
        "\n",
        "  \n",
        "  def save_model(self,path):   \n",
        "    \"\"\"Save  the model on a given data set.\n",
        "        Args:\n",
        "            Path (:obj:`str`): Path where you want to save the model.\n",
        "               \n",
        "           \n",
        "        \"\"\"\n",
        "    self.trainer.save_model(path + '/')\n",
        "\n",
        "  def eval(self,X_eval,y_eval, data_set='DEV'):\n",
        "\n",
        "    \"\"\"Evaluate the trained model on a given data set.\n",
        "        Args:\n",
        "            X_eval (:obj:`np array or pandas series`, optional): loaded data for evaluation.\n",
        "\n",
        "            y_eval (:obj:`np array or pandas series`, optional): loaded labels for evaluation.\n",
        "\n",
        "            data_set (:obj:`str`, optional): Name of the provided data set to\n",
        "                use. This is ignored if data_path is not None. Can be either\n",
        "                'VALIDATION' or 'TEST'. Defaults to 'VALIDATION'.\n",
        "\n",
        "            batch_size (:obj:`int`, optional):batch size used for training the model            \n",
        "            If None, the default batch_size are used.\n",
        "            Defaults to 16 .\n",
        "        Returns:\n",
        "            :obj:`dict`: A dictionary mapping an evaluation metric to its\n",
        "            computed value. The metrics used are accuracy, f1_micro, f1_macro,\n",
        "            recall_micro, recall_macro, precision_micro and precision_macro.\n",
        "        \"\"\"\n",
        "    validation_inputs = self.data_prepare_BERT(X_eval,y_eval)\n",
        "    predictions=self.trainer.predict(validation_inputs)\n",
        "    all_pred=np.argmax(predictions[0],axis=1)\n",
        "    all_label= [self.label_map[i] for i in y_eval]    \n",
        "    accuracy = accuracy_score(all_label, all_pred)\n",
        "    macro_f1_pos_neg = f1_score(all_label, all_pred,average='macro',labels=[0,1])\n",
        "    f1score = f1_score(all_label, all_pred, average='macro') \n",
        "    recall = recall_score(all_label, all_pred, average='macro')\n",
        "    precision = precision_score(all_label, all_pred, average='macro')\n",
        "    # Get scores\n",
        "    scores = {\n",
        "        'Sentiment': {\n",
        "            'accuracy': accuracy,\n",
        "            'f1_macro': f1score,\n",
        "            'recall_macro': recall,\n",
        "            'precision_macro':precision\n",
        "        }\n",
        "    }\n",
        "    return scores\n",
        "\n",
        "  def predict(self,sentences):\n",
        "    \"\"\"Predict the sentiment  probability scores for a given list of\n",
        "        sentences.\n",
        "        Args:\n",
        "            sentences (:obj:`list` of :obj:`str`): The list of sentences.\n",
        "            output (:obj:`str`): The output label type. Possible values are\n",
        "                'postive', 'neagtive', 'neutral'.\n",
        "        Returns:\n",
        "            :obj:`list` of :obj:`sentIDPred`: A list of prediction results,\n",
        "            each corresponding to its respective sentence.\n",
        "        \"\"\"\n",
        "    if isinstance(sentences, str):\n",
        "      sentences=pd.Series(sentences)\n",
        "    validation_inputs = self.data_prepare_BERT_test(sentences)\n",
        "    predictions=self.trainer.predict(validation_inputs)\n",
        "    probabilities=predictions[0]\n",
        "    predicted = np.argmax(predictions[0],axis=1)   \n",
        "    result = collections.deque()\n",
        "    convert = lambda x: x     \n",
        "    for i in range(0,len(predicted)):\n",
        "      for j, val in enumerate(self.label_map):\n",
        "      \n",
        "        if j==predicted[i]:\n",
        "          result.append(convert(SentIDPred(val, probabilities[i])))\n",
        "          break\n",
        "\n",
        "        \n",
        "      \n",
        "    return list(result)    \n",
        "       \n",
        "\n",
        "         \n",
        "\n",
        "  def fine_tune(self,X_train,y_train,X_valid=None,y_valid=None):\n",
        "\n",
        "    \"\"\" fine tune MARBERT model.\n",
        "        Args:\n",
        "            X_train (:obj:`np array or pandas series`, optional): loaded training data.\n",
        "               \n",
        "            y_train (:obj:`np array or pandas series`, optional): loaded labels for training.\n",
        "\n",
        "            X_valid (:obj:`np array or pandas series`, optional): loaded validation data.\n",
        "               \n",
        "            y_valid (:obj:`np array or pandas series`, optional): loaded labels for validation.\n",
        "       \n",
        "        \"\"\"\n",
        "\n",
        "    self.create_label2ind_file()\n",
        "    if X_valid is None and y_valid is None:\n",
        "      msk = np.random.rand(len(X_train)) < 0.8\n",
        "      X_valid = X_train[~msk]\n",
        "      X_train = X_train[msk]\n",
        "      y_valid = y_train[~msk]\n",
        "      y_train = y_train[msk]\n",
        "    #-------------------------------------------------------\n",
        "    train_inputs = self.data_prepare_BERT(X_train,y_train)\n",
        "    validation_inputs = self.data_prepare_BERT(X_valid,y_valid)\n",
        "      \n",
        "    #-------------------------------------------------------\n",
        "    training_args = TrainingArguments(\"./train\")\n",
        "    training_args.evaluate_during_training = True\n",
        "    training_args.adam_epsilon = 1e-8\n",
        "    training_args.learning_rate = self.lr\n",
        "    training_args.fp16 = True\n",
        "    training_args.per_device_train_batch_size = self.batch_size\n",
        "    training_args.per_device_eval_batch_size = self.batch_size\n",
        "    training_args.gradient_accumulation_steps = 2\n",
        "    training_args.num_train_epochs= self.num_epoch\n",
        "    steps_per_epoch = (len(X_train)// (training_args.per_device_train_batch_size * training_args.gradient_accumulation_steps))\n",
        "    total_steps = steps_per_epoch * training_args.num_train_epochs\n",
        "    \n",
        "    #Warmup_ratio\n",
        "    warmup_ratio = 0.1\n",
        "    training_args.warmup_steps = total_steps*warmup_ratio # or you can set the warmup steps directly \n",
        "\n",
        "    training_args.evaluation_strategy = EvaluationStrategy.EPOCH\n",
        "    # training_args.logging_steps = 200\n",
        "    training_args.save_steps = 100000 #don't want to save any model, there is probably a better way to do this :)\n",
        "    training_args.seed = 42\n",
        "    training_args.disable_tqdm = False\n",
        "    training_args.lr_scheduler_type = 'cosine'\n",
        "\n",
        "    #-------------------------------------------------------\n",
        "    self.trainer = Trainer(\n",
        "    model = self.model_init(),\n",
        "    args = training_args,\n",
        "    train_dataset = train_inputs,\n",
        "    eval_dataset=validation_inputs,\n",
        "    compute_metrics=self.compute_metrics,\n",
        ")\n",
        "\n",
        "    #------------------------------------------\n",
        "    self.trainer.train()\n",
        "    \n",
        "    #---------------------------------------------------\n",
        "    \n",
        "\n",
        "\n",
        "\n"
      ],
      "execution_count": 57,
      "outputs": []
    },
    {
      "cell_type": "code",
      "metadata": {
        "id": "HbSE86REiRYt"
      },
      "source": [
        "import collections\n",
        "class SentIDPred(collections.namedtuple('SentimentPred', ['top', 'scores'])):\n",
        "    \"\"\"A named tuple containing sentiment ID prediction results.\n",
        "    Attributes:\n",
        "        top (:obj:`str`): The sentiment label with the highest score. See\n",
        "            :ref:`sentimentid_labels` for a list of output labels.\n",
        "        scores (:obj:`dict`): A dictionary mapping each sentiment label to it's\n",
        "            computed score.\n",
        "    \"\"\""
      ],
      "execution_count": 10,
      "outputs": []
    },
    {
      "cell_type": "code",
      "metadata": {
        "id": "sIqttStecsh7"
      },
      "source": [
        "class SentimentIdentificationArabertTPrediction(object):\n",
        "  \"\"\"A class for running a fine-tuned sentiment analysis model to predict\n",
        "    the sentiment of given sentences.\n",
        "\n",
        "\n",
        "    Args:\n",
        "        labels (:obj:`set` of :obj:`str`, optional): The set of dialect labels\n",
        "            used in the training data in the main model.\n",
        "            If None, the default labels are used.\n",
        "            Defaults to None.\n",
        "\n",
        "        training_model_path (:obj:`str`, optional): Path of training model to be used for inference,\n",
        "        If none, use defult model for this libaray\n",
        "\n",
        "        label2index (:obj:`str`, optional): Path of label 2 indexx file to be used for scoring,\n",
        "        If none, use defult model for this libaray\n",
        "\n",
        "        max_seq_length (:obj:`int`, optional): maximum sequence length for the model\n",
        "            \n",
        "            If None, the default max_seq_length are used.\n",
        "            Defaults to 256 .\n",
        "\n",
        "    \"\"\"\n",
        "  def __init__(self, labels=None,training_model_path=None,label2index=None,max_seq_length=256,\n",
        "                batch_size=16 ):\n",
        "        if labels is None:\n",
        "            self.labels = _DEFAULT_LABELS\n",
        "        self._labels_sorted = sorted(labels)\n",
        "        self.model_name='aubmindlab/bert-base-arabertv02'\n",
        "        self.task='classification'\n",
        "        self.batch_size=batch_size\n",
        "        self.max_seq_length=max_seq_length\n",
        "        if label2index is None:\n",
        "          self.label_map = json.load(open(LABEL_2_INDEX_PATH))\n",
        "        else:\n",
        "          self.label_map =  json.load(open(label2index))\n",
        "\n",
        "        if training_model_path is None:\n",
        "\n",
        "          self.trainer = Trainer(\n",
        "            model = self.model_init(MODEL_PATH_),\n",
        "            # args = training_args,\n",
        "            # train_dataset = train_dataset,\n",
        "            # eval_dataset=test_dataset,\n",
        "            compute_metrics=compute_metrics,\n",
        "        )\n",
        "          \n",
        "        else:\n",
        "           self.trainer = Trainer(\n",
        "            model = self.model_init(training_model_path),\n",
        "            # args = training_args,\n",
        "            # train_dataset = train_dataset,\n",
        "            # eval_dataset=test_dataset,\n",
        "            compute_metrics=self.compute_metrics,\n",
        "        )\n",
        "  def model_init(self,Path=None):\n",
        "    if Path is None:\n",
        "      return AutoModelForSequenceClassification.from_pretrained(self.model_name, return_dict=True, num_labels=len(self.label_map)) \n",
        "    else:\n",
        "      return AutoModelForSequenceClassification.from_pretrained(Path, return_dict=True, num_labels=len(self.label_map)) \n",
        "  def compute_metrics(self,p):\n",
        "\n",
        "    #p should be of type EvalPrediction\n",
        "\n",
        "    preds = np.argmax(p.predictions, axis=1)\n",
        "    assert len(preds) == len(p.label_ids)\n",
        "    #print(classification_report(p.label_ids,preds))\n",
        "    #print(confusion_matrix(p.label_ids,preds))\n",
        "\n",
        "    macro_f1_pos_neg = f1_score(p.label_ids,preds,average='macro',labels=[0,1])\n",
        "    macro_f1 = f1_score(p.label_ids,preds,average='macro')\n",
        "    macro_precision = precision_score(p.label_ids,preds,average='macro')\n",
        "    macro_recall = recall_score(p.label_ids,preds,average='macro')\n",
        "    acc = accuracy_score(p.label_ids,preds)\n",
        "    return {\n",
        "        'macro_f1' : macro_f1,\n",
        "        'macro_f1_pos_neg' : macro_f1_pos_neg,  \n",
        "        'macro_precision': macro_precision,\n",
        "        'macro_recall': macro_recall,\n",
        "        'accuracy': acc\n",
        "    }\n",
        "\n",
        "        \n",
        "  def data_prepare_BERT(self,X_train,y_train):\n",
        "\n",
        "    train_dataset = BERTDataset(X_train.to_list(),y_train.to_list(),self.model_name,self.max_seq_length,self.label_map)\n",
        "    \n",
        "      \n",
        "    return train_dataset\n",
        "  def data_prepare_BERT_test(self,X_test):\n",
        "\n",
        "    test_dataset = BERTDatasetTest(X_test.to_list(),self.model_name,self.max_seq_length,self.label_map)\n",
        "    \n",
        "    return test_dataset\n",
        "  def eval(self,X_eval,y_eval, data_set='DEV'):\n",
        "\n",
        "    \"\"\"Evaluate the trained model on a given data set.\n",
        "        Args:\n",
        "            X_eval (:obj:`np array or pandas series`, optional): loaded data for evaluation.\n",
        "\n",
        "            y_eval (:obj:`np array or pandas series`, optional): loaded labels for evaluation.\n",
        "\n",
        "            data_set (:obj:`str`, optional): Name of the provided data set to\n",
        "                use. This is ignored if data_path is not None. Can be either\n",
        "                'VALIDATION' or 'TEST'. Defaults to 'VALIDATION'.\n",
        "        Returns:\n",
        "            :obj:`dict`: A dictionary mapping an evaluation metric to its\n",
        "            computed value. The metrics used are accuracy, f1_micro, f1_macro,\n",
        "            recall_micro, recall_macro, precision_micro and precision_macro.\n",
        "        \"\"\"\n",
        "    validation_inputs = self.data_prepare_BERT(X_eval,y_eval)\n",
        "    predictions=self.trainer.predict(validation_inputs)\n",
        "    all_pred=np.argmax(predictions[0],axis=1)\n",
        "    all_label= [self.label_map[i] for i in y_eval]    \n",
        "    accuracy = accuracy_score(all_label, all_pred)\n",
        "    macro_f1_pos_neg = f1_score(all_label, all_pred,average='macro',labels=[0,1])\n",
        "    f1score = f1_score(all_label, all_pred, average='macro') \n",
        "    recall = recall_score(all_label, all_pred, average='macro')\n",
        "    precision = precision_score(all_label, all_pred, average='macro')\n",
        "    # Get scores\n",
        "    scores = {\n",
        "        'Sentiment': {\n",
        "            'accuracy': accuracy,\n",
        "            'f1_macro': f1score,\n",
        "            'recall_macro': recall,\n",
        "            'precision_macro':precision\n",
        "        }\n",
        "    }\n",
        "    return scores\n",
        "\n",
        "  def predict(self,sentences):\n",
        "    \"\"\"Predict the sentiment  probability scores for a given list of\n",
        "        sentences.\n",
        "        Args:\n",
        "            sentences (:obj:`list` of :obj:`str`): The list of sentences.\n",
        "            output (:obj:`str`): The output label type. Possible values are\n",
        "                'postive', 'neagtive', 'neutral'.\n",
        "        Returns:\n",
        "            :obj:`list` of :obj:`SentIDPred`: A list of prediction results,\n",
        "            each corresponding to its respective sentence.\n",
        "        \"\"\"\n",
        "    if isinstance(sentences, str):\n",
        "      sentences=pd.Series(sentences)\n",
        "    validation_inputs = self.data_prepare_BERT_test(sentences)\n",
        "    predictions=self.trainer.predict(validation_inputs)\n",
        "    probabilities=predictions[0]\n",
        "    predicted = np.argmax(predictions[0],axis=1)   \n",
        "    result = collections.deque()\n",
        "    convert = lambda x: x     \n",
        "    for i in range(0,len(predicted)):\n",
        "      for j, val in enumerate(self.label_map):\n",
        "      \n",
        "        if j==predicted[i]:\n",
        "          result.append(convert(SentIDPred(val, probabilities[i])))\n",
        "          break\n",
        "\n",
        "        \n",
        "      \n",
        "    return list(result)\n",
        "        \n"
      ],
      "execution_count": 54,
      "outputs": []
    },
    {
      "cell_type": "markdown",
      "metadata": {
        "id": "1rnbIM_hYN1a"
      },
      "source": [
        "# Testing Production code"
      ]
    },
    {
      "cell_type": "code",
      "metadata": {
        "id": "VoqGSsUzYNUI"
      },
      "source": [
        "df=pd.read_csv('/content/drive/MyDrive/Omdena_sentiment/Dataset/final_text.csv')"
      ],
      "execution_count": 13,
      "outputs": []
    },
    {
      "cell_type": "code",
      "metadata": {
        "id": "3QxVgIOPYdJr"
      },
      "source": [
        "msk = np.random.rand(len(df)) < 0.7\n",
        "train = df[msk]\n",
        "test = df[~msk]"
      ],
      "execution_count": 14,
      "outputs": []
    },
    {
      "cell_type": "code",
      "metadata": {
        "id": "Donm5w_VYe0p"
      },
      "source": [
        "msk = np.random.rand(len(train)) < 0.8\n",
        "train_new = train[msk]\n",
        "valid = train[~msk]\n"
      ],
      "execution_count": 15,
      "outputs": []
    },
    {
      "cell_type": "code",
      "metadata": {
        "id": "bJFtZwWsYg3d"
      },
      "source": [
        "labels_numeric=[0,1,2]"
      ],
      "execution_count": 16,
      "outputs": []
    },
    {
      "cell_type": "code",
      "metadata": {
        "colab": {
          "base_uri": "https://localhost:8080/"
        },
        "id": "GNEqmzbUYivv",
        "outputId": "4ce0635b-5bf9-40bb-c98f-22f40f8e74e8"
      },
      "source": [
        "train_new.dropna(inplace=True)"
      ],
      "execution_count": 17,
      "outputs": [
        {
          "output_type": "stream",
          "text": [
            "/usr/local/lib/python3.7/dist-packages/ipykernel_launcher.py:1: SettingWithCopyWarning: \n",
            "A value is trying to be set on a copy of a slice from a DataFrame\n",
            "\n",
            "See the caveats in the documentation: https://pandas.pydata.org/pandas-docs/stable/user_guide/indexing.html#returning-a-view-versus-a-copy\n",
            "  \"\"\"Entry point for launching an IPython kernel.\n"
          ],
          "name": "stderr"
        }
      ]
    },
    {
      "cell_type": "code",
      "metadata": {
        "colab": {
          "base_uri": "https://localhost:8080/"
        },
        "id": "8wfbdf1VYkVT",
        "outputId": "ef7cdba6-af31-4ced-dfb8-51cc1e956a08"
      },
      "source": [
        "test.dropna(inplace=True)"
      ],
      "execution_count": 18,
      "outputs": [
        {
          "output_type": "stream",
          "text": [
            "/usr/local/lib/python3.7/dist-packages/ipykernel_launcher.py:1: SettingWithCopyWarning: \n",
            "A value is trying to be set on a copy of a slice from a DataFrame\n",
            "\n",
            "See the caveats in the documentation: https://pandas.pydata.org/pandas-docs/stable/user_guide/indexing.html#returning-a-view-versus-a-copy\n",
            "  \"\"\"Entry point for launching an IPython kernel.\n"
          ],
          "name": "stderr"
        }
      ]
    },
    {
      "cell_type": "code",
      "metadata": {
        "colab": {
          "base_uri": "https://localhost:8080/"
        },
        "id": "5e7vZzyIYlha",
        "outputId": "df091925-216c-4c9d-8aac-e532bb8a7cc2"
      },
      "source": [
        "valid.dropna(inplace=True)"
      ],
      "execution_count": 19,
      "outputs": [
        {
          "output_type": "stream",
          "text": [
            "/usr/local/lib/python3.7/dist-packages/ipykernel_launcher.py:1: SettingWithCopyWarning: \n",
            "A value is trying to be set on a copy of a slice from a DataFrame\n",
            "\n",
            "See the caveats in the documentation: https://pandas.pydata.org/pandas-docs/stable/user_guide/indexing.html#returning-a-view-versus-a-copy\n",
            "  \"\"\"Entry point for launching an IPython kernel.\n"
          ],
          "name": "stderr"
        }
      ]
    },
    {
      "cell_type": "code",
      "metadata": {
        "id": "rdtYDdeLYnFR"
      },
      "source": [
        "Arabert_Sentiment_Classifier=SentimentIdentificationArabert(labels_numeric,num_epoch=1)"
      ],
      "execution_count": 25,
      "outputs": []
    },
    {
      "cell_type": "code",
      "metadata": {
        "colab": {
          "base_uri": "https://localhost:8080/",
          "height": 601,
          "referenced_widgets": [
            "8062a85752ec4f5090a527d27963cd1c",
            "652701b09236468ba81bae3d32d4a520",
            "b13c8a14a85741f0a7f3d7df0465bbc7",
            "c072bc07c5bd437ebfe2bf3061c957b6",
            "f37e5ca7d92f409b9fb86fc279ef4083",
            "e455ec106eff4a21bf61542331ab1d74",
            "47b3298e338c40d8864ac02c83bbbf56",
            "7546007a35e24aaab49b6866effbbc3d",
            "1021c7d9a2d24742b3ed1622143097fb",
            "76777f0514274c048ef4655c6fac298d",
            "ff9ddee373814f71b9bb6a7f842f7d6e",
            "bfec78476d9745fea2b7058a6b59d42f",
            "676bfb4538cf423ea77378ef043354b6",
            "455df47da93248f6acb876306fc654bc",
            "79b1e894c1634673a380142325458da2",
            "185781e08875433bafc911fcc2fd5e8c",
            "c9ccc31dba3e4297a8c8b4097156c2ff",
            "55e256257df943f2b35f2ac9cd2e600c",
            "d175ae3dc92d4f6ea9ef14421a1851d4",
            "6858d4f8acda400ca2baba2eb6cc26db",
            "902db6e9d9ca40ca971ff940c55ebca4",
            "34ff97d6207c4bf29a76a0e350c9b522",
            "ad7421fa44714ee0a85ff9a895272f33",
            "a322fa76044e46cc9f64aeaf97fa0162",
            "3e6b1ca241c343f2be5337bfad8e0ede",
            "f4ffd287d8c1453da1d07b0338e884dd",
            "2d9168de6b0d4343ab0ee955c7b194bf",
            "4f653fec2e6f4129baf38078358a2acd",
            "48c3feecea344891a665c5d3b440cd05",
            "095cc9ac780b4314a370fb5fb3298bfb",
            "3dc6a6b72be1429faf17956b8289c440",
            "80adb8315c2449cd9bf109097567ba4a",
            "e2009e8a3b2345eca6abe680bc16ec77",
            "5436e444251c475da4324366bf5f0c09",
            "2895073f47f1490fb1713189f8f25d11",
            "83942f10a0cd41518a78f570571ec616",
            "4457872c95504d6c93c36a78d7f12fde",
            "b977ea0a853e48b3846cf3504dbb410d",
            "68d1ca130da34bd9ad281aa8f115f9f4",
            "26c335eb17a84f30867521129740eac2",
            "717616c01dce48f0b01a19431116e457",
            "345be0194ead43f8923dcb7cad121122",
            "f4cb4f47fe074759935742a8c2a995c1",
            "7d33fc14889c45f2bac642068f8e1d4d",
            "e688ec094dab4dbaba98b624ecdb3954",
            "114ad785464b4df688dec63c59103cd6",
            "4c8c3dba82004fe28f9f9ccd48d99823",
            "bd93ea459e554ff488c4808a259be466"
          ]
        },
        "id": "MOq6WKPhZJVn",
        "outputId": "ead20b70-1b8a-4427-a30b-d4aeafe6b33c"
      },
      "source": [
        "Arabert_Sentiment_Classifier.fine_tune(train_new['final'],train_new['label'],valid['final'],valid['label'])"
      ],
      "execution_count": 28,
      "outputs": [
        {
          "output_type": "display_data",
          "data": {
            "application/vnd.jupyter.widget-view+json": {
              "model_id": "8062a85752ec4f5090a527d27963cd1c",
              "version_minor": 0,
              "version_major": 2
            },
            "text/plain": [
              "HBox(children=(FloatProgress(value=0.0, description='Downloading', max=384.0, style=ProgressStyle(description_…"
            ]
          },
          "metadata": {
            "tags": []
          }
        },
        {
          "output_type": "stream",
          "text": [
            "\n"
          ],
          "name": "stdout"
        },
        {
          "output_type": "display_data",
          "data": {
            "application/vnd.jupyter.widget-view+json": {
              "model_id": "1021c7d9a2d24742b3ed1622143097fb",
              "version_minor": 0,
              "version_major": 2
            },
            "text/plain": [
              "HBox(children=(FloatProgress(value=0.0, description='Downloading', max=824793.0, style=ProgressStyle(descripti…"
            ]
          },
          "metadata": {
            "tags": []
          }
        },
        {
          "output_type": "stream",
          "text": [
            "\n"
          ],
          "name": "stdout"
        },
        {
          "output_type": "display_data",
          "data": {
            "application/vnd.jupyter.widget-view+json": {
              "model_id": "c9ccc31dba3e4297a8c8b4097156c2ff",
              "version_minor": 0,
              "version_major": 2
            },
            "text/plain": [
              "HBox(children=(FloatProgress(value=0.0, description='Downloading', max=2642362.0, style=ProgressStyle(descript…"
            ]
          },
          "metadata": {
            "tags": []
          }
        },
        {
          "output_type": "stream",
          "text": [
            "\n"
          ],
          "name": "stdout"
        },
        {
          "output_type": "display_data",
          "data": {
            "application/vnd.jupyter.widget-view+json": {
              "model_id": "3e6b1ca241c343f2be5337bfad8e0ede",
              "version_minor": 0,
              "version_major": 2
            },
            "text/plain": [
              "HBox(children=(FloatProgress(value=0.0, description='Downloading', max=112.0, style=ProgressStyle(description_…"
            ]
          },
          "metadata": {
            "tags": []
          }
        },
        {
          "output_type": "stream",
          "text": [
            "\n"
          ],
          "name": "stdout"
        },
        {
          "output_type": "display_data",
          "data": {
            "application/vnd.jupyter.widget-view+json": {
              "model_id": "e2009e8a3b2345eca6abe680bc16ec77",
              "version_minor": 0,
              "version_major": 2
            },
            "text/plain": [
              "HBox(children=(FloatProgress(value=0.0, description='Downloading', max=381.0, style=ProgressStyle(description_…"
            ]
          },
          "metadata": {
            "tags": []
          }
        },
        {
          "output_type": "stream",
          "text": [
            "\n"
          ],
          "name": "stdout"
        },
        {
          "output_type": "display_data",
          "data": {
            "application/vnd.jupyter.widget-view+json": {
              "model_id": "717616c01dce48f0b01a19431116e457",
              "version_minor": 0,
              "version_major": 2
            },
            "text/plain": [
              "HBox(children=(FloatProgress(value=0.0, description='Downloading', max=543490667.0, style=ProgressStyle(descri…"
            ]
          },
          "metadata": {
            "tags": []
          }
        },
        {
          "output_type": "stream",
          "text": [
            "\n"
          ],
          "name": "stdout"
        },
        {
          "output_type": "stream",
          "text": [
            "Some weights of the model checkpoint at aubmindlab/bert-base-arabertv02 were not used when initializing BertForSequenceClassification: ['cls.predictions.bias', 'cls.predictions.transform.dense.weight', 'cls.predictions.transform.dense.bias', 'cls.predictions.transform.LayerNorm.weight', 'cls.predictions.transform.LayerNorm.bias', 'cls.predictions.decoder.weight', 'cls.predictions.decoder.bias', 'cls.seq_relationship.weight', 'cls.seq_relationship.bias']\n",
            "- This IS expected if you are initializing BertForSequenceClassification from the checkpoint of a model trained on another task or with another architecture (e.g. initializing a BertForSequenceClassification model from a BertForPreTraining model).\n",
            "- This IS NOT expected if you are initializing BertForSequenceClassification from the checkpoint of a model that you expect to be exactly identical (initializing a BertForSequenceClassification model from a BertForSequenceClassification model).\n",
            "Some weights of BertForSequenceClassification were not initialized from the model checkpoint at aubmindlab/bert-base-arabertv02 and are newly initialized: ['classifier.weight', 'classifier.bias']\n",
            "You should probably TRAIN this model on a down-stream task to be able to use it for predictions and inference.\n"
          ],
          "name": "stderr"
        },
        {
          "output_type": "display_data",
          "data": {
            "text/html": [
              "\n",
              "    <div>\n",
              "        <style>\n",
              "            /* Turns off some styling */\n",
              "            progress {\n",
              "                /* gets rid of default border in Firefox and Opera. */\n",
              "                border: none;\n",
              "                /* Needs to be in here for Safari polyfill so background images work as expected. */\n",
              "                background-size: auto;\n",
              "            }\n",
              "        </style>\n",
              "      \n",
              "      <progress value='4032' max='4032' style='width:300px; height:20px; vertical-align: middle;'></progress>\n",
              "      [4032/4032 42:09, Epoch 0/1]\n",
              "    </div>\n",
              "    <table border=\"1\" class=\"dataframe\">\n",
              "  <thead>\n",
              "    <tr style=\"text-align: left;\">\n",
              "      <th>Epoch</th>\n",
              "      <th>Training Loss</th>\n",
              "      <th>Validation Loss</th>\n",
              "      <th>Macro F1</th>\n",
              "      <th>Macro F1 Pos Neg</th>\n",
              "      <th>Macro Precision</th>\n",
              "      <th>Macro Recall</th>\n",
              "      <th>Accuracy</th>\n",
              "      <th>Runtime</th>\n",
              "      <th>Samples Per Second</th>\n",
              "    </tr>\n",
              "  </thead>\n",
              "  <tbody>\n",
              "    <tr>\n",
              "      <td>0</td>\n",
              "      <td>0.478900</td>\n",
              "      <td>0.467414</td>\n",
              "      <td>0.791301</td>\n",
              "      <td>0.754752</td>\n",
              "      <td>0.803287</td>\n",
              "      <td>0.785199</td>\n",
              "      <td>0.810261</td>\n",
              "      <td>217.082400</td>\n",
              "      <td>148.414000</td>\n",
              "    </tr>\n",
              "  </tbody>\n",
              "</table><p>"
            ],
            "text/plain": [
              "<IPython.core.display.HTML object>"
            ]
          },
          "metadata": {
            "tags": []
          }
        },
        {
          "output_type": "stream",
          "text": [
            "/usr/local/lib/python3.7/dist-packages/transformers/trainer.py:911: FutureWarning:\n",
            "\n",
            "Non-finite norm encountered in torch.nn.utils.clip_grad_norm_; continuing anyway. Note that the default behavior will change in a future release to error out if a non-finite total norm is encountered. At that point, setting error_if_nonfinite=false will be required to retain the old behavior.\n",
            "\n"
          ],
          "name": "stderr"
        }
      ]
    },
    {
      "cell_type": "code",
      "metadata": {
        "id": "VdJu69QgdmG2"
      },
      "source": [
        "MODEL_PATH_='/content/drive/MyDrive/Omdena_sentiment/Saved_models/Production/Arabert'\n",
        "LABEL_2_INDEX_PATH='/content/drive/MyDrive/Omdena_sentiment/Saved_models/Production/Arabert/_labels-dict.json'"
      ],
      "execution_count": 29,
      "outputs": []
    },
    {
      "cell_type": "code",
      "metadata": {
        "id": "dlBNNEMRkySB",
        "colab": {
          "base_uri": "https://localhost:8080/",
          "height": 292
        },
        "outputId": "3aa36ddf-daef-4e99-fde6-c83fbb5daffd"
      },
      "source": [
        "Arabert_Sentiment_Classifier.save_model(MODEL_PATH_)"
      ],
      "execution_count": 58,
      "outputs": [
        {
          "output_type": "error",
          "ename": "AttributeError",
          "evalue": "ignored",
          "traceback": [
            "\u001b[0;31m---------------------------------------------------------------------------\u001b[0m",
            "\u001b[0;31mAttributeError\u001b[0m                            Traceback (most recent call last)",
            "\u001b[0;32m<ipython-input-58-303e94757417>\u001b[0m in \u001b[0;36m<module>\u001b[0;34m()\u001b[0m\n\u001b[0;32m----> 1\u001b[0;31m \u001b[0mArabert_Sentiment_Classifier\u001b[0m\u001b[0;34m.\u001b[0m\u001b[0msave_model\u001b[0m\u001b[0;34m(\u001b[0m\u001b[0mMODEL_PATH_\u001b[0m\u001b[0;34m)\u001b[0m\u001b[0;34m\u001b[0m\u001b[0;34m\u001b[0m\u001b[0m\n\u001b[0m",
            "\u001b[0;32m<ipython-input-23-53417d7ad375>\u001b[0m in \u001b[0;36msave_model\u001b[0;34m(self, path)\u001b[0m\n\u001b[1;32m    100\u001b[0m \u001b[0;34m\u001b[0m\u001b[0m\n\u001b[1;32m    101\u001b[0m         \"\"\"\n\u001b[0;32m--> 102\u001b[0;31m     \u001b[0mself\u001b[0m\u001b[0;34m.\u001b[0m\u001b[0mmodel\u001b[0m\u001b[0;34m.\u001b[0m\u001b[0msave_model\u001b[0m\u001b[0;34m(\u001b[0m\u001b[0mpath\u001b[0m \u001b[0;34m+\u001b[0m \u001b[0;34m'/'\u001b[0m\u001b[0;34m)\u001b[0m\u001b[0;34m\u001b[0m\u001b[0;34m\u001b[0m\u001b[0m\n\u001b[0m\u001b[1;32m    103\u001b[0m \u001b[0;34m\u001b[0m\u001b[0m\n\u001b[1;32m    104\u001b[0m   \u001b[0;32mdef\u001b[0m \u001b[0meval\u001b[0m\u001b[0;34m(\u001b[0m\u001b[0mself\u001b[0m\u001b[0;34m,\u001b[0m\u001b[0mX_eval\u001b[0m\u001b[0;34m,\u001b[0m\u001b[0my_eval\u001b[0m\u001b[0;34m,\u001b[0m \u001b[0mdata_set\u001b[0m\u001b[0;34m=\u001b[0m\u001b[0;34m'DEV'\u001b[0m\u001b[0;34m)\u001b[0m\u001b[0;34m:\u001b[0m\u001b[0;34m\u001b[0m\u001b[0;34m\u001b[0m\u001b[0m\n",
            "\u001b[0;31mAttributeError\u001b[0m: 'SentimentIdentificationArabert' object has no attribute 'model'"
          ]
        }
      ]
    },
    {
      "cell_type": "code",
      "metadata": {
        "id": "w_HD_EB0v6j2"
      },
      "source": [
        "Arabert_Sentiment_Classifier.save_label2ind_file(LABEL_2_INDEX_PATH)"
      ],
      "execution_count": 32,
      "outputs": []
    },
    {
      "cell_type": "code",
      "metadata": {
        "colab": {
          "base_uri": "https://localhost:8080/",
          "height": 108
        },
        "id": "YLHeA_gWRexV",
        "outputId": "f26b5d17-a0ed-4ee4-e618-774eb59850dd"
      },
      "source": [
        "Arabert_Sentiment_Classifier.eval(test['final'],test['label'])"
      ],
      "execution_count": 33,
      "outputs": [
        {
          "output_type": "display_data",
          "data": {
            "text/html": [
              "\n",
              "    <div>\n",
              "        <style>\n",
              "            /* Turns off some styling */\n",
              "            progress {\n",
              "                /* gets rid of default border in Firefox and Opera. */\n",
              "                border: none;\n",
              "                /* Needs to be in here for Safari polyfill so background images work as expected. */\n",
              "                background-size: auto;\n",
              "            }\n",
              "        </style>\n",
              "      \n",
              "      <progress value='4294' max='4294' style='width:300px; height:20px; vertical-align: middle;'></progress>\n",
              "      [4294/4294 07:43]\n",
              "    </div>\n",
              "    "
            ],
            "text/plain": [
              "<IPython.core.display.HTML object>"
            ]
          },
          "metadata": {
            "tags": []
          }
        },
        {
          "output_type": "execute_result",
          "data": {
            "text/plain": [
              "{'Sentiment': {'accuracy': 0.809816308113301,\n",
              "  'f1_macro': 0.7905737024814462,\n",
              "  'precision_macro': 0.801834376084165,\n",
              "  'recall_macro': 0.7844118404432266}}"
            ]
          },
          "metadata": {
            "tags": []
          },
          "execution_count": 33
        }
      ]
    },
    {
      "cell_type": "code",
      "metadata": {
        "id": "cXJGuqCBbj9b"
      },
      "source": [
        "Marbert_predictor=SentimentIdentificationArabertTPrediction(labels=labels_numeric,training_model_path='/content/drive/MyDrive/Omdena_sentiment/Saved_models/Arabert_production/')"
      ],
      "execution_count": 55,
      "outputs": []
    },
    {
      "cell_type": "code",
      "metadata": {
        "colab": {
          "base_uri": "https://localhost:8080/",
          "height": 55
        },
        "id": "2co8dizqbNjz",
        "outputId": "54b863c8-21ef-401e-d80e-63e0922fbd4f"
      },
      "source": [
        "Marbert_predictor.predict('صفاء الهاشم سيده كويتيه المراه الوحيده حاليا مجلس الامه الكويتي مدافعه شرسه حقوق المراه وحق المواطن الكويتي وتمتلك عقليه اقتصاديه مميزه اختيرت ضمن سيده عربيه مؤsثره مجتمعها')"
      ],
      "execution_count": 56,
      "outputs": [
        {
          "output_type": "display_data",
          "data": {
            "text/html": [
              "\n",
              "    <div>\n",
              "        <style>\n",
              "            /* Turns off some styling */\n",
              "            progress {\n",
              "                /* gets rid of default border in Firefox and Opera. */\n",
              "                border: none;\n",
              "                /* Needs to be in here for Safari polyfill so background images work as expected. */\n",
              "                background-size: auto;\n",
              "            }\n",
              "        </style>\n",
              "      \n",
              "      <progress value='1' max='1' style='width:300px; height:20px; vertical-align: middle;'></progress>\n",
              "      [1/1 : < :]\n",
              "    </div>\n",
              "    "
            ],
            "text/plain": [
              "<IPython.core.display.HTML object>"
            ]
          },
          "metadata": {
            "tags": []
          }
        },
        {
          "output_type": "execute_result",
          "data": {
            "text/plain": [
              "[SentIDPred(top='2', scores=array([-1.3376832, -3.172239 ,  5.180456 ], dtype=float32))]"
            ]
          },
          "metadata": {
            "tags": []
          },
          "execution_count": 56
        }
      ]
    }
  ]
}