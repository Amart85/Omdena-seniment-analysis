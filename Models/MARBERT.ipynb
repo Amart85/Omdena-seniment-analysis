{
  "nbformat": 4,
  "nbformat_minor": 0,
  "metadata": {
    "kernelspec": {
      "display_name": "Python 3",
      "language": "python",
      "name": "python3"
    },
    "language_info": {
      "codemirror_mode": {
        "name": "ipython",
        "version": 3
      },
      "file_extension": ".py",
      "mimetype": "text/x-python",
      "name": "python",
      "nbconvert_exporter": "python",
      "pygments_lexer": "ipython3",
      "version": "3.6.3"
    },
    "colab": {
      "name": "MARBERT.ipynb",
      "provenance": [],
      "collapsed_sections": []
    },
    "accelerator": "GPU"
  },
  "cells": [
    {
      "cell_type": "markdown",
      "metadata": {
        "id": "JUiwkRv-XAkW"
      },
      "source": [
        "# Download MARBERT checkpoint"
      ]
    },
    {
      "cell_type": "code",
      "metadata": {
        "id": "_8wBRd5zXAkX",
        "colab": {
          "base_uri": "https://localhost:8080/"
        },
        "outputId": "610911de-c8af-4688-8073-433098dbfa91"
      },
      "source": [
        "!wget https://huggingface.co/UBC-NLP/MARBERT/resolve/main/MARBERT_pytorch_verison.tar.gz"
      ],
      "execution_count": 1,
      "outputs": [
        {
          "output_type": "stream",
          "text": [
            "--2021-05-29 11:31:57--  https://huggingface.co/UBC-NLP/MARBERT/resolve/main/MARBERT_pytorch_verison.tar.gz\n",
            "Resolving huggingface.co (huggingface.co)... 15.197.130.34\n",
            "Connecting to huggingface.co (huggingface.co)|15.197.130.34|:443... connected.\n",
            "HTTP request sent, awaiting response... 302 Found\n",
            "Location: https://cdn-lfs.huggingface.co/UBC-NLP/MARBERT/85bfec76f38cba4bc2e6cd02a959016de37ba93de4c850a7d175811dce4e8adc [following]\n",
            "--2021-05-29 11:31:58--  https://cdn-lfs.huggingface.co/UBC-NLP/MARBERT/85bfec76f38cba4bc2e6cd02a959016de37ba93de4c850a7d175811dce4e8adc\n",
            "Resolving cdn-lfs.huggingface.co (cdn-lfs.huggingface.co)... 13.225.149.72, 13.225.149.88, 13.225.149.58, ...\n",
            "Connecting to cdn-lfs.huggingface.co (cdn-lfs.huggingface.co)|13.225.149.72|:443... connected.\n",
            "HTTP request sent, awaiting response... 200 OK\n",
            "Length: 607066087 (579M) [application/x-gzip]\n",
            "Saving to: ‘MARBERT_pytorch_verison.tar.gz’\n",
            "\n",
            "MARBERT_pytorch_ver 100%[===================>] 578.94M  41.0MB/s    in 14s     \n",
            "\n",
            "2021-05-29 11:32:13 (40.0 MB/s) - ‘MARBERT_pytorch_verison.tar.gz’ saved [607066087/607066087]\n",
            "\n"
          ],
          "name": "stdout"
        }
      ]
    },
    {
      "cell_type": "code",
      "metadata": {
        "id": "9FYvgJevXAkY",
        "colab": {
          "base_uri": "https://localhost:8080/"
        },
        "outputId": "ccd85149-3ede-4ad8-a4de-552cf88bd958"
      },
      "source": [
        "!tar -xvf MARBERT_pytorch_verison.tar.gz"
      ],
      "execution_count": 2,
      "outputs": [
        {
          "output_type": "stream",
          "text": [
            "MARBERT_pytorch_verison/\n",
            "MARBERT_pytorch_verison/pytorch_model.bin\n",
            "MARBERT_pytorch_verison/config.json\n",
            "MARBERT_pytorch_verison/vocab.txt\n"
          ],
          "name": "stdout"
        }
      ]
    },
    {
      "cell_type": "code",
      "metadata": {
        "id": "C2pkLcyfXAka",
        "colab": {
          "base_uri": "https://localhost:8080/"
        },
        "outputId": "2352c328-e81b-4130-e1b1-b30d4563ad37"
      },
      "source": [
        "!pip install GPUtil pytorch_pretrained_bert==0.5.0 transformers==4.3.0"
      ],
      "execution_count": 1,
      "outputs": [
        {
          "output_type": "stream",
          "text": [
            "Requirement already satisfied: GPUtil in /usr/local/lib/python3.7/dist-packages (1.4.0)\n",
            "Collecting pytorch_pretrained_bert==0.5.0\n",
            "\u001b[?25l  Downloading https://files.pythonhosted.org/packages/3e/f6/bd094fb2cf6a3232fcb79bc4067e5322218ecc26170b4db94976fa805e30/pytorch_pretrained_bert-0.5.0-py3-none-any.whl (97kB)\n",
            "\u001b[K     |████████████████████████████████| 102kB 6.4MB/s \n",
            "\u001b[?25hCollecting transformers==4.3.0\n",
            "\u001b[?25l  Downloading https://files.pythonhosted.org/packages/5e/bb/61bf4a221150aff2756935d032a83f2e68976b050e8606d990a0f3054179/transformers-4.3.0-py3-none-any.whl (1.8MB)\n",
            "\u001b[K     |████████████████████████████████| 1.8MB 14.4MB/s \n",
            "\u001b[?25hRequirement already satisfied: numpy in /usr/local/lib/python3.7/dist-packages (from pytorch_pretrained_bert==0.5.0) (1.19.5)\n",
            "Requirement already satisfied: tqdm in /usr/local/lib/python3.7/dist-packages (from pytorch_pretrained_bert==0.5.0) (4.41.1)\n",
            "Requirement already satisfied: requests in /usr/local/lib/python3.7/dist-packages (from pytorch_pretrained_bert==0.5.0) (2.23.0)\n",
            "Requirement already satisfied: torch>=0.4.1 in /usr/local/lib/python3.7/dist-packages (from pytorch_pretrained_bert==0.5.0) (1.8.1+cu101)\n",
            "Requirement already satisfied: boto3 in /usr/local/lib/python3.7/dist-packages (from pytorch_pretrained_bert==0.5.0) (1.17.84)\n",
            "Requirement already satisfied: sacremoses in /usr/local/lib/python3.7/dist-packages (from transformers==4.3.0) (0.0.45)\n",
            "Requirement already satisfied: importlib-metadata; python_version < \"3.8\" in /usr/local/lib/python3.7/dist-packages (from transformers==4.3.0) (4.0.1)\n",
            "Requirement already satisfied: packaging in /usr/local/lib/python3.7/dist-packages (from transformers==4.3.0) (20.9)\n",
            "Requirement already satisfied: tokenizers<0.11,>=0.10.1 in /usr/local/lib/python3.7/dist-packages (from transformers==4.3.0) (0.10.3)\n",
            "Requirement already satisfied: filelock in /usr/local/lib/python3.7/dist-packages (from transformers==4.3.0) (3.0.12)\n",
            "Requirement already satisfied: regex!=2019.12.17 in /usr/local/lib/python3.7/dist-packages (from transformers==4.3.0) (2019.12.20)\n",
            "Requirement already satisfied: urllib3!=1.25.0,!=1.25.1,<1.26,>=1.21.1 in /usr/local/lib/python3.7/dist-packages (from requests->pytorch_pretrained_bert==0.5.0) (1.24.3)\n",
            "Requirement already satisfied: certifi>=2017.4.17 in /usr/local/lib/python3.7/dist-packages (from requests->pytorch_pretrained_bert==0.5.0) (2020.12.5)\n",
            "Requirement already satisfied: chardet<4,>=3.0.2 in /usr/local/lib/python3.7/dist-packages (from requests->pytorch_pretrained_bert==0.5.0) (3.0.4)\n",
            "Requirement already satisfied: idna<3,>=2.5 in /usr/local/lib/python3.7/dist-packages (from requests->pytorch_pretrained_bert==0.5.0) (2.10)\n",
            "Requirement already satisfied: typing-extensions in /usr/local/lib/python3.7/dist-packages (from torch>=0.4.1->pytorch_pretrained_bert==0.5.0) (3.7.4.3)\n",
            "Requirement already satisfied: botocore<1.21.0,>=1.20.84 in /usr/local/lib/python3.7/dist-packages (from boto3->pytorch_pretrained_bert==0.5.0) (1.20.84)\n",
            "Requirement already satisfied: jmespath<1.0.0,>=0.7.1 in /usr/local/lib/python3.7/dist-packages (from boto3->pytorch_pretrained_bert==0.5.0) (0.10.0)\n",
            "Requirement already satisfied: s3transfer<0.5.0,>=0.4.0 in /usr/local/lib/python3.7/dist-packages (from boto3->pytorch_pretrained_bert==0.5.0) (0.4.2)\n",
            "Requirement already satisfied: joblib in /usr/local/lib/python3.7/dist-packages (from sacremoses->transformers==4.3.0) (1.0.1)\n",
            "Requirement already satisfied: click in /usr/local/lib/python3.7/dist-packages (from sacremoses->transformers==4.3.0) (7.1.2)\n",
            "Requirement already satisfied: six in /usr/local/lib/python3.7/dist-packages (from sacremoses->transformers==4.3.0) (1.15.0)\n",
            "Requirement already satisfied: zipp>=0.5 in /usr/local/lib/python3.7/dist-packages (from importlib-metadata; python_version < \"3.8\"->transformers==4.3.0) (3.4.1)\n",
            "Requirement already satisfied: pyparsing>=2.0.2 in /usr/local/lib/python3.7/dist-packages (from packaging->transformers==4.3.0) (2.4.7)\n",
            "Requirement already satisfied: python-dateutil<3.0.0,>=2.1 in /usr/local/lib/python3.7/dist-packages (from botocore<1.21.0,>=1.20.84->boto3->pytorch_pretrained_bert==0.5.0) (2.8.1)\n",
            "Installing collected packages: pytorch-pretrained-bert, transformers\n",
            "  Found existing installation: pytorch-pretrained-bert 0.6.2\n",
            "    Uninstalling pytorch-pretrained-bert-0.6.2:\n",
            "      Successfully uninstalled pytorch-pretrained-bert-0.6.2\n",
            "  Found existing installation: transformers 4.6.1\n",
            "    Uninstalling transformers-4.6.1:\n",
            "      Successfully uninstalled transformers-4.6.1\n",
            "Successfully installed pytorch-pretrained-bert-0.5.0 transformers-4.3.0\n"
          ],
          "name": "stdout"
        }
      ]
    },
    {
      "cell_type": "code",
      "metadata": {
        "colab": {
          "base_uri": "https://localhost:8080/"
        },
        "id": "xgdLbPEQma7k",
        "outputId": "f3c79e0b-a865-489d-abf0-8adb1c675b42"
      },
      "source": [
        "from google.colab import drive\n",
        "drive.mount('/content/drive')\n",
        "import os\n",
        "os.chdir(\"/content/drive/\")"
      ],
      "execution_count": 2,
      "outputs": [
        {
          "output_type": "stream",
          "text": [
            "Drive already mounted at /content/drive; to attempt to forcibly remount, call drive.mount(\"/content/drive\", force_remount=True).\n"
          ],
          "name": "stdout"
        }
      ]
    },
    {
      "cell_type": "markdown",
      "metadata": {
        "id": "6xBm7opGXAkb"
      },
      "source": [
        "# Fine-tuning code"
      ]
    },
    {
      "cell_type": "code",
      "metadata": {
        "id": "9oOXwzeXXAkb",
        "colab": {
          "base_uri": "https://localhost:8080/"
        },
        "outputId": "3c128abf-7721-4daf-f8ce-d4949271b8ef"
      },
      "source": [
        "# (1)load libraries \n",
        "import json, sys, regex\n",
        "import torch\n",
        "import GPUtil\n",
        "import torch.nn as nn\n",
        "from torch.utils.data import TensorDataset, DataLoader, RandomSampler, SequentialSampler\n",
        "from keras.preprocessing.sequence import pad_sequences\n",
        "from sklearn.model_selection import train_test_split\n",
        "from pytorch_pretrained_bert import BertTokenizer, BertConfig, BertAdam, BertForSequenceClassification\n",
        "from tqdm import tqdm, trange\n",
        "import pandas as pd\n",
        "import os\n",
        "import numpy as np\n",
        "from sklearn.metrics import accuracy_score, f1_score, recall_score, precision_score, classification_report, confusion_matrix\n",
        "##----------------------------------------------------\n",
        "from transformers import *\n",
        "from transformers import XLMRobertaConfig\n",
        "from transformers import XLMRobertaModel\n",
        "from transformers import AutoTokenizer, AutoModelWithLMHead\n",
        "from transformers import XLMRobertaForSequenceClassification, XLMRobertaTokenizer, XLMRobertaModel\n",
        "from tokenizers import Tokenizer, models, pre_tokenizers, decoders, processors\n",
        "from transformers import AdamW, get_linear_schedule_with_warmup\n",
        "from transformers import AutoTokenizer, AutoModel\n"
      ],
      "execution_count": 3,
      "outputs": [
        {
          "output_type": "stream",
          "text": [
            "Better speed can be achieved with apex installed from https://www.github.com/nvidia/apex.\n"
          ],
          "name": "stdout"
        }
      ]
    },
    {
      "cell_type": "code",
      "metadata": {
        "id": "QnNrYLjBuLFN"
      },
      "source": [
        "import re"
      ],
      "execution_count": 4,
      "outputs": []
    },
    {
      "cell_type": "code",
      "metadata": {
        "id": "GQWKMrXPXAkc",
        "colab": {
          "base_uri": "https://localhost:8080/"
        },
        "outputId": "6e85f031-d543-4e5c-e006-da031bb055f4"
      },
      "source": [
        "device = torch.device(\"cuda\" if torch.cuda.is_available() else \"cpu\")\n",
        "print (\"your device \", device)"
      ],
      "execution_count": 5,
      "outputs": [
        {
          "output_type": "stream",
          "text": [
            "your device  cuda\n"
          ],
          "name": "stdout"
        }
      ]
    },
    {
      "cell_type": "code",
      "metadata": {
        "id": "KKujHwr5XAkd"
      },
      "source": [
        "def create_label2ind_file(file, label_col):\n",
        "    labels_json = {}\n",
        "\n",
        "    # load train_dev_test file\n",
        "\n",
        "    df = pd.read_csv(file)\n",
        "    \n",
        "    # get labels and sort it A-Z\n",
        "\n",
        "    labels = df[label_col].unique()\n",
        "    labels.sort()\n",
        "\n",
        "    # convert labels to indexes\n",
        "\n",
        "    for idx in range(0, len(labels)):\n",
        "        labels_json[labels[idx]] = idx\n",
        "    with open(label2idx_file, 'w') as json_file:\n",
        "        json.dump(labels_json, json_file)"
      ],
      "execution_count": 6,
      "outputs": []
    },
    {
      "cell_type": "code",
      "metadata": {
        "id": "TNZxr8m6XAkd"
      },
      "source": [
        "#!/usr/bin/python\n",
        "# -*- coding: utf-8 -*-\n",
        "\n",
        "\n",
        "def data_prepare_BERT(\n",
        "    file_path,\n",
        "    lab2ind,\n",
        "    tokenizer,\n",
        "    content_col,\n",
        "    label_col,\n",
        "    MAX_LEN,\n",
        "    ):\n",
        "\n",
        "    # Use pandas to load dataset\n",
        "\n",
        "    df = pd.read_csv(file_path)\n",
        "\n",
        "    df.dropna(inplace=True)\n",
        "    df = df[df[content_col].notnull()]\n",
        "    df = df[df[label_col].notnull()]\n",
        "\n",
        "\n",
        "  # df[content_col] = df.tweet.apply(clean_text)\n",
        "\n",
        "    print ('Data size ', df.shape)\n",
        "\n",
        "    # Create sentence and label lists\n",
        "\n",
        "    sentences = df[content_col].values\n",
        "    sentences = ['[CLS] ' + sentence + ' [SEP]' for sentence in\n",
        "                 sentences]\n",
        "    print ('The first sentence:')\n",
        "    print (sentences[0])\n",
        "\n",
        "    # Create sentence and label lists\n",
        "\n",
        "    labels = df[label_col].values\n",
        "\n",
        "    # print (labels)\n",
        "\n",
        "    labels = [lab2ind[i] for i in labels]\n",
        "\n",
        "    # Import the BERT tokenizer, used to convert our text into tokens that correspond to BERT's vocabulary.\n",
        "\n",
        "    tokenized_texts = [tokenizer.tokenize(sent) for sent in sentences]\n",
        "    print ('Tokenize the first sentence:')\n",
        "    print (tokenized_texts[0])\n",
        "\n",
        "    # print(\"Label is \", labels[0])\n",
        "    # Use the BERT tokenizer to convert the tokens to their index numbers in the BERT vocabulary\n",
        "\n",
        "    input_ids = [tokenizer.convert_tokens_to_ids(x) for x in\n",
        "                 tokenized_texts]\n",
        "    print ('Index numbers of the first sentence:')\n",
        "    print (input_ids[0])\n",
        "\n",
        "    # Pad our input seqeunce to the fixed length (i.e., max_len) with index of [PAD] token\n",
        "    # ~ input_ids = pad_sequences(input_ids, maxlen=MAX_LEN, dtype=\"long\", truncating=\"post\", padding=\"post\")\n",
        "\n",
        "    pad_ind = tokenizer.convert_tokens_to_ids(['[PAD]'])[0]\n",
        "    input_ids = pad_sequences(\n",
        "        input_ids,\n",
        "        maxlen=MAX_LEN + 2,\n",
        "        dtype='long',\n",
        "        truncating='post',\n",
        "        padding='post',\n",
        "        value=pad_ind,\n",
        "        )\n",
        "    print ('Index numbers of the first sentence after padding:\\n',\n",
        "           input_ids[0])\n",
        "\n",
        "    # Create attention masks\n",
        "\n",
        "    attention_masks = []\n",
        "\n",
        "    # Create a mask of 1s for each token followed by 0s for padding\n",
        "\n",
        "    for seq in input_ids:\n",
        "        seq_mask = [float(i > 0) for i in seq]\n",
        "        attention_masks.append(seq_mask)\n",
        "\n",
        "    # Convert all of our data into torch tensors, the required datatype for our model\n",
        "\n",
        "    inputs = torch.tensor(input_ids)\n",
        "    labels = torch.tensor(labels)\n",
        "    masks = torch.tensor(attention_masks)\n",
        "    return inputs, labels, masks\n"
      ],
      "execution_count": 7,
      "outputs": []
    },
    {
      "cell_type": "code",
      "metadata": {
        "id": "wxIYQznY1r9F"
      },
      "source": [
        "#!/usr/bin/python\n",
        "# -*- coding: utf-8 -*-\n",
        "\n",
        "\n",
        "def data_prepare_BERT_test(\n",
        "    file_path,\n",
        "    lab2ind,\n",
        "    tokenizer,\n",
        "    content_col,\n",
        "    \n",
        "    MAX_LEN,\n",
        "    ):\n",
        "\n",
        "    # Use pandas to load dataset\n",
        "\n",
        "    df = pd.read_csv(file_path)\n",
        "\n",
        "    df.dropna(inplace=True)\n",
        "    df = df[df[content_col].notnull()]\n",
        "    df = df[df[label_col].notnull()]\n",
        "    \n",
        "\n",
        "  # df[content_col] = df.tweet.apply(clean_text)\n",
        "\n",
        "    print ('Data size ', df.shape)\n",
        "\n",
        "    # Create sentence and label lists\n",
        "\n",
        "    sentences = df[content_col].values\n",
        "    sentences = ['[CLS] ' + sentence + ' [SEP]' for sentence in\n",
        "                 sentences]\n",
        "    print ('The first sentence:')\n",
        "    print (sentences[0])\n",
        "\n",
        "    # Create sentence and label lists\n",
        "\n",
        "   \n",
        "\n",
        "    # Import the BERT tokenizer, used to convert our text into tokens that correspond to BERT's vocabulary.\n",
        "\n",
        "    tokenized_texts = [tokenizer.tokenize(sent) for sent in sentences]\n",
        "    print ('Tokenize the first sentence:')\n",
        "    print (tokenized_texts[0])\n",
        "\n",
        "    # print(\"Label is \", labels[0])\n",
        "    # Use the BERT tokenizer to convert the tokens to their index numbers in the BERT vocabulary\n",
        "\n",
        "    input_ids = [tokenizer.convert_tokens_to_ids(x) for x in\n",
        "                 tokenized_texts]\n",
        "    print ('Index numbers of the first sentence:')\n",
        "    print (input_ids[0])\n",
        "\n",
        "    # Pad our input seqeunce to the fixed length (i.e., max_len) with index of [PAD] token\n",
        "    # ~ input_ids = pad_sequences(input_ids, maxlen=MAX_LEN, dtype=\"long\", truncating=\"post\", padding=\"post\")\n",
        "\n",
        "    pad_ind = tokenizer.convert_tokens_to_ids(['[PAD]'])[0]\n",
        "    input_ids = pad_sequences(\n",
        "        input_ids,\n",
        "        maxlen=MAX_LEN + 2,\n",
        "        dtype='long',\n",
        "        truncating='post',\n",
        "        padding='post',\n",
        "        value=pad_ind,\n",
        "        )\n",
        "    print ('Index numbers of the first sentence after padding:\\n',\n",
        "           input_ids[0])\n",
        "\n",
        "    # Create attention masks\n",
        "\n",
        "    attention_masks = []\n",
        "\n",
        "    # Create a mask of 1s for each token followed by 0s for padding\n",
        "\n",
        "    for seq in input_ids:\n",
        "        seq_mask = [float(i > 0) for i in seq]\n",
        "        attention_masks.append(seq_mask)\n",
        "\n",
        "    # Convert all of our data into torch tensors, the required datatype for our model\n",
        "\n",
        "    inputs = torch.tensor(input_ids)\n",
        "    masks = torch.tensor(attention_masks)\n",
        "    return inputs,  masks\n"
      ],
      "execution_count": 8,
      "outputs": []
    },
    {
      "cell_type": "code",
      "metadata": {
        "id": "gdPCPv8VXAke"
      },
      "source": [
        "# Function to calculate the accuracy of our predictions vs labels\n",
        "# def flat_accuracy(preds, labels):\n",
        "#\t  pred_flat = np.argmax(preds, axis=1).flatten()\n",
        "#\t  labels_flat = labels.flatten()\n",
        "#\t  return np.sum(pred_flat == labels_flat) / len(labels_flat)\n",
        "def flat_pred(preds, labels):\n",
        "\tpred_flat = np.argmax(preds, axis=1).flatten()\n",
        "\tlabels_flat = labels.flatten()\n",
        "\treturn pred_flat.tolist(), labels_flat.tolist()"
      ],
      "execution_count": 9,
      "outputs": []
    },
    {
      "cell_type": "code",
      "metadata": {
        "id": "5vyvc8JoXAke"
      },
      "source": [
        "\n",
        "def train(model, iterator, optimizer, scheduler, criterion):\n",
        "\t\n",
        "\tmodel.train()\n",
        "\tepoch_loss = 0\n",
        "\tfor i, batch in enumerate(iterator):\n",
        "\t\t# Add batch to GPU\n",
        "\t\tbatch = tuple(t.to(device) for t in batch)\n",
        "\t\t# Unpack the inputs from our dataloader\n",
        "\t\tinput_ids, input_mask, labels = batch\n",
        "\t\toutputs = model(input_ids, input_mask, labels=labels)\n",
        "\t\tloss, logits = outputs[:2]\n",
        "\t\t# delete used variables to free GPU memory\n",
        "\t\tdel batch, input_ids, input_mask, labels\n",
        "\t\toptimizer.zero_grad()\n",
        "\t\tif torch.cuda.device_count() == 1:\n",
        "\t\t\tloss.backward()\n",
        "\t\t\tepoch_loss += loss.cpu().item()\n",
        "\t\telse:\n",
        "\t\t\tloss.sum().backward()\n",
        "\t\t\tepoch_loss += loss.sum().cpu().item()\n",
        "\t\toptimizer.step()\n",
        "\t\ttorch.nn.utils.clip_grad_norm_(model.parameters(), max_grad_norm)  # Gradient clipping is not in AdamW anymore\n",
        "\t\t# optimizer.step()\n",
        "\t\tscheduler.step()\n",
        "\t# free GPU memory\n",
        "\tif device == 'cuda':\n",
        "\t\ttorch.cuda.empty_cache()\n",
        "\treturn epoch_loss / len(iterator)"
      ],
      "execution_count": 11,
      "outputs": []
    },
    {
      "cell_type": "code",
      "metadata": {
        "id": "Hjwa6a3bXAkf"
      },
      "source": [
        "\n",
        "def evaluate(model, iterator, criterion):\n",
        "\tmodel.eval()\n",
        "\tepoch_loss = 0\n",
        "\tall_pred=[]\n",
        "\tall_label = []\n",
        "\twith torch.no_grad():\n",
        "\t\tfor i, batch in enumerate(iterator):\n",
        "\t\t\t# Add batch to GPU\n",
        "\t\t\tbatch = tuple(t.to(device) for t in batch)\n",
        "\t\t\t# Unpack the inputs from our dataloader\n",
        "\t\t\tinput_ids, input_mask, labels = batch\n",
        "\t\t\toutputs = model(input_ids, input_mask, labels=labels)\n",
        "\t\t\tloss, logits = outputs[:2]\n",
        "\t\t\t# delete used variables to free GPU memory\n",
        "\t\t\tdel batch, input_ids, input_mask\n",
        "\t\t\tif torch.cuda.device_count() == 1:\n",
        "\t\t\t\tepoch_loss += loss.cpu().item()\n",
        "\t\t\telse:\n",
        "\t\t\t\tepoch_loss += loss.sum().cpu().item()\n",
        "\t\t\t# identify the predicted class for each example in the batch\n",
        "\t\t\tprobabilities, predicted = torch.max(logits.cpu().data, 1)\n",
        "\t\t\t# put all the true labels and predictions to two lists\n",
        "\t\t\tall_pred.extend(predicted)\n",
        "\t\t\tall_label.extend(labels.cpu())\n",
        "\taccuracy = accuracy_score(all_label, all_pred)\n",
        "\tf1score = f1_score(all_label, all_pred, average='macro') \n",
        "\trecall = recall_score(all_label, all_pred, average='macro')\n",
        "\tprecision = precision_score(all_label, all_pred, average='macro')\n",
        "\treport = classification_report(all_label, all_pred)\n",
        "\treturn (epoch_loss / len(iterator)), accuracy, f1score, recall, precision\n",
        "\n"
      ],
      "execution_count": 12,
      "outputs": []
    },
    {
      "cell_type": "code",
      "metadata": {
        "id": "5nWmg6P-XAkf"
      },
      "source": [
        "\n",
        "def fine_tuning(config):\n",
        "\t#---------------------------------------\n",
        "\tprint (\"[INFO] step (1) load train_test config file\")\n",
        "\t# config_file = open(config_file, 'r', encoding=\"utf8\")\n",
        "\t# config = json.load(config_file)\n",
        "\ttask_name = config[\"task_name\"]\n",
        "\tcontent_col = config[\"content_col\"]\n",
        "\tlabel_col = config[\"label_col\"]\n",
        "\ttrain_file = config[\"data_dir\"]+config[\"train_file\"]\n",
        "\tdev_file = config[\"data_dir\"]+config[\"dev_file\"]\n",
        "\tsortby = config[\"sortby\"]\n",
        "\tmax_seq_length= int(config[\"max_seq_length\"])\n",
        "\tbatch_size = int(config[\"batch_size\"])\n",
        "\tlr_var = float(config[\"lr\"])\n",
        "\tmodel_path = config['pretrained_model_path']\n",
        "\tnum_epochs = config['epochs'] # Number of training epochs (authors recommend between 2 and 4)\n",
        "\tglobal label2idx_file\n",
        "\tlabel2idx_file = config[\"data_dir\"]+config[\"task_name\"]+\"_labels-dict.json\"\n",
        "\t#-------------------------------------------------------\n",
        "\tprint (\"[INFO] step (2) convert labels2index\")\n",
        "\tcreate_label2ind_file(train_file, label_col)\n",
        "\tprint (label2idx_file)\n",
        "\t#---------------------------------------------------------\n",
        "\tprint (\"[INFO] step (3) check checkpoit directory and report file\")\n",
        "\tckpt_dir = config[\"data_dir\"]+task_name+\"_bert_ckpt/\"\n",
        "\treport = ckpt_dir+task_name+\"_report.tsv\"\n",
        "\tsorted_report = ckpt_dir+task_name+\"_report_sorted.tsv\"\n",
        "\tif not os.path.exists(ckpt_dir):\n",
        "\t\tos.mkdir(ckpt_dir)\n",
        "\t#-------------------------------------------------------\n",
        "\tprint (\"[INFO] step (4) load label to number dictionary\")\n",
        "\tlab2ind = json.load(open(label2idx_file))\n",
        "\tprint (\"[INFO] train_file\", train_file)\n",
        "\tprint (\"[INFO] dev_file\", dev_file)\n",
        "\tprint (\"[INFO] num_epochs\", num_epochs)\n",
        "\tprint (\"[INFO] model_path\", model_path)\n",
        "\tprint (\"max_seq_length\", max_seq_length, \"batch_size\", batch_size)\n",
        "\t#-------------------------------------------------------\n",
        "\tprint (\"[INFO] step (5) Use defined funtion to extract tokanize data\")\n",
        "\t# tokenizer from pre-trained BERT model\n",
        "\tprint (\"loading BERT setting\")\n",
        "\ttokenizer = BertTokenizer.from_pretrained(model_path)\n",
        "\ttrain_inputs, train_labels, train_masks = data_prepare_BERT(train_file, lab2ind, tokenizer,content_col, label_col, max_seq_length)\n",
        "\tvalidation_inputs, validation_labels, validation_masks = data_prepare_BERT(dev_file, lab2ind, tokenizer, content_col, label_col,max_seq_length)\n",
        "\t# Load BertForSequenceClassification, the pretrained BERT model with a single linear classification layer on top.\n",
        "\tmodel = BertForSequenceClassification.from_pretrained(model_path, num_labels=len(lab2ind))\n",
        "\t#--------------------------------------\n",
        "\tprint (\"[INFO] step (6) Create an iterator of data with torch DataLoader.\")\n",
        "#\t\t  This helps save on memory during training because, unlike a for loop,\\\n",
        "#\t\t  with an iterator the entire dataset does not need to be loaded into memory\")\n",
        "\ttrain_data = TensorDataset(train_inputs, train_masks, train_labels)\n",
        "\ttrain_dataloader = DataLoader(train_data, batch_size=batch_size)\n",
        " \n",
        "\t#---------------------------\n",
        "\tvalidation_data = TensorDataset(validation_inputs, validation_masks, validation_labels)\n",
        "\tvalidation_dataloader = DataLoader(validation_data, batch_size=batch_size)\n",
        "\t#------------------------------------------\n",
        "\tprint (\"[INFO] step (7) run with parallel GPUs\")\n",
        "\tif torch.cuda.is_available():\n",
        "\t\tif torch.cuda.device_count() == 1:\n",
        "\t\t\tprint(\"Run\", \"with one GPU\")\n",
        "\t\t\tmodel = model.to(device)\n",
        "\t\telse:\n",
        "\t\t\tn_gpu = torch.cuda.device_count()\n",
        "\t\t\tprint(\"Run\", \"with\", n_gpu, \"GPUs with max 4 GPUs\")\n",
        "\t\t\tdevice_ids = GPUtil.getAvailable(limit = 4)\n",
        "\t\t\ttorch.backends.cudnn.benchmark = True\n",
        "\t\t\tmodel = model.to(device)\n",
        "\t\t\tmodel = nn.DataParallel(model, device_ids=device_ids)\n",
        "\telse:\n",
        "\t\tprint(\"Run\", \"with CPU\")\n",
        "\t\tmodel = model\n",
        "\t#---------------------------------------------------\n",
        "\tprint (\"[INFO] step (8) set Parameters, schedules, and loss function\")\n",
        "\tglobal max_grad_norm\n",
        "\tmax_grad_norm = 1.0\n",
        "\twarmup_proportion = 0.1\n",
        "\tnum_training_steps\t= len(train_dataloader) * num_epochs\n",
        "\tnum_warmup_steps = num_training_steps * warmup_proportion\n",
        "\t### In Transformers, optimizer and schedules are instantiated like this:\n",
        "\t# Note: AdamW is a class from the huggingface library\n",
        "\t# the 'W' stands for 'Weight Decay\"\n",
        "\toptimizer = AdamW(model.parameters(), lr=lr_var, correct_bias=False)\n",
        "\t# schedules\n",
        "\tscheduler = get_linear_schedule_with_warmup(optimizer, num_warmup_steps=num_warmup_steps, num_training_steps=num_training_steps)  # PyTorch scheduler\n",
        "\t# We use nn.CrossEntropyLoss() as our loss function. \n",
        "\tcriterion = nn.CrossEntropyLoss()\n",
        "\t#---------------------------------------------------\n",
        "\tprint (\"[INFO] step (9) start fine_tuning\")\n",
        "\tfor epoch in trange(num_epochs, desc=\"Epoch\"):\n",
        "\t\ttrain_loss = train(model, train_dataloader, optimizer, scheduler, criterion)\t  \n",
        "\t\tval_loss, val_acc, val_f1, val_recall, val_precision = evaluate(model, validation_dataloader, criterion)\n",
        "# \t\tprint (train_loss, val_acc)\n",
        "\t\t# Create checkpoint at end of each epoch\n",
        "\t\tif not os.path.exists(ckpt_dir + 'model_' + str(int(epoch + 1)) + '/'): os.mkdir(ckpt_dir + 'model_' + str(int(epoch + 1)) + '/')\n",
        "\t\tmodel.save_pretrained(ckpt_dir+ 'model_' + str(int(epoch + 1)) + '/')\n",
        "\t\tepoch_eval_results = {\"epoch_num\":int(epoch + 1),\"train_loss\":train_loss,\n",
        "\t\t\t\t\t  \"val_acc\":val_acc, \"val_recall\":val_recall, \"val_precision\":val_precision, \"val_f1\":val_f1,\"lr\":lr_var }\n",
        "\t\twith open(report,\"a\") as fOut:\n",
        "\t\t\tfOut.write(json.dumps(epoch_eval_results)+\"\\n\")\n",
        "\t\t\tfOut.flush()\n",
        "\t\t#------------------------------------\n",
        "\t\treport_df = pd.read_json(report, orient='records', lines=True)\n",
        "\t\treport_df.sort_values(by=[sortby],ascending=False, inplace=True)\n",
        "\t\treport_df.to_csv(sorted_report,sep=\"\\t\",index=False)\n",
        "\treturn report_df"
      ],
      "execution_count": 13,
      "outputs": []
    },
    {
      "cell_type": "markdown",
      "metadata": {
        "id": "xDnDyOFHiZvk"
      },
      "source": [
        "# Run fine-tuning for 5 epochs"
      ]
    },
    {
      "cell_type": "code",
      "metadata": {
        "id": "Ol6LaSAAXAki"
      },
      "source": [
        "\n",
        "config={\"task_name\": \"Sentiment_MARBERT\", #output directory name\n",
        "             \"data_dir\": \"/content/drive/MyDrive/Omdena_sentiment/Dataset/\", #data directory\n",
        "             \"train_file\": \"train.csv\", #train file path\n",
        "             \"dev_file\": \"val.csv\", #dev file path or test file path\n",
        "             \"pretrained_model_path\": '/content/MARBERT_pytorch_verison', #MARBERT checkpoint path\n",
        "             \"epochs\": 5, #number of epochs\n",
        "             \"content_col\": \"cleaned_text\", #text column\n",
        "             \"label_col\": \"Class_camel\", #label column\n",
        "             \"lr\": 2e-06, #learning rate\n",
        "              \"max_seq_length\": 256, #max sequance length\n",
        "              \"batch_size\": 16, #batch shize\n",
        "              \"sortby\":\"val_acc\"} #sort results based on val_acc or val_f1\n"
      ],
      "execution_count": 14,
      "outputs": []
    },
    {
      "cell_type": "code",
      "metadata": {
        "id": "jq9kOFoaXAkj",
        "colab": {
          "base_uri": "https://localhost:8080/"
        },
        "outputId": "0a3d72c1-1800-4f4e-f047-b9849f466dde"
      },
      "source": [
        "report_df = fine_tuning(config)"
      ],
      "execution_count": 15,
      "outputs": [
        {
          "output_type": "stream",
          "text": [
            "[INFO] step (1) load train_test config file\n",
            "[INFO] step (2) convert labels2index\n",
            "/content/drive/MyDrive/Omdena_sentiment/Dataset/Sentiment_MARBERT_labels-dict.json\n",
            "[INFO] step (3) check checkpoit directory and report file\n",
            "[INFO] step (4) load label to number dictionary\n",
            "[INFO] train_file /content/drive/MyDrive/Omdena_sentiment/Dataset/train.csv\n",
            "[INFO] dev_file /content/drive/MyDrive/Omdena_sentiment/Dataset/val.csv\n",
            "[INFO] num_epochs 5\n",
            "[INFO] model_path /content/MARBERT_pytorch_verison\n",
            "max_seq_length 256 batch_size 16\n",
            "[INFO] step (5) Use defined funtion to extract tokanize data\n",
            "loading BERT setting\n",
            "Data size  (29029, 9)\n",
            "The first sentence:\n",
            "[CLS] حقوق المراه [SEP]\n",
            "Tokenize the first sentence:\n",
            "['[CLS]', 'حقوق', 'المراه', '[SEP]']\n",
            "Index numbers of the first sentence:\n",
            "[2, 5488, 8017, 3]\n",
            "Index numbers of the first sentence after padding:\n",
            " [   2 5488 8017    3    0    0    0    0    0    0    0    0    0    0\n",
            "    0    0    0    0    0    0    0    0    0    0    0    0    0    0\n",
            "    0    0    0    0    0    0    0    0    0    0    0    0    0    0\n",
            "    0    0    0    0    0    0    0    0    0    0    0    0    0    0\n",
            "    0    0    0    0    0    0    0    0    0    0    0    0    0    0\n",
            "    0    0    0    0    0    0    0    0    0    0    0    0    0    0\n",
            "    0    0    0    0    0    0    0    0    0    0    0    0    0    0\n",
            "    0    0    0    0    0    0    0    0    0    0    0    0    0    0\n",
            "    0    0    0    0    0    0    0    0    0    0    0    0    0    0\n",
            "    0    0    0    0    0    0    0    0    0    0    0    0    0    0\n",
            "    0    0    0    0    0    0    0    0    0    0    0    0    0    0\n",
            "    0    0    0    0    0    0    0    0    0    0    0    0    0    0\n",
            "    0    0    0    0    0    0    0    0    0    0    0    0    0    0\n",
            "    0    0    0    0    0    0    0    0    0    0    0    0    0    0\n",
            "    0    0    0    0    0    0    0    0    0    0    0    0    0    0\n",
            "    0    0    0    0    0    0    0    0    0    0    0    0    0    0\n",
            "    0    0    0    0    0    0    0    0    0    0    0    0    0    0\n",
            "    0    0    0    0    0    0    0    0    0    0    0    0    0    0\n",
            "    0    0    0    0    0    0]\n",
            "Data size  (7267, 9)\n",
            "The first sentence:\n",
            "[CLS] اومن حقوق المراه انك تفتحلها الباب [SEP]\n",
            "Tokenize the first sentence:\n",
            "['[CLS]', 'اومن', 'حقوق', 'المراه', 'انك', 'تفتح', '##لها', 'الباب', '[SEP]']\n",
            "Index numbers of the first sentence:\n",
            "[2, 12390, 5488, 8017, 2237, 6422, 2220, 5919, 3]\n",
            "Index numbers of the first sentence after padding:\n",
            " [    2 12390  5488  8017  2237  6422  2220  5919     3     0     0     0\n",
            "     0     0     0     0     0     0     0     0     0     0     0     0\n",
            "     0     0     0     0     0     0     0     0     0     0     0     0\n",
            "     0     0     0     0     0     0     0     0     0     0     0     0\n",
            "     0     0     0     0     0     0     0     0     0     0     0     0\n",
            "     0     0     0     0     0     0     0     0     0     0     0     0\n",
            "     0     0     0     0     0     0     0     0     0     0     0     0\n",
            "     0     0     0     0     0     0     0     0     0     0     0     0\n",
            "     0     0     0     0     0     0     0     0     0     0     0     0\n",
            "     0     0     0     0     0     0     0     0     0     0     0     0\n",
            "     0     0     0     0     0     0     0     0     0     0     0     0\n",
            "     0     0     0     0     0     0     0     0     0     0     0     0\n",
            "     0     0     0     0     0     0     0     0     0     0     0     0\n",
            "     0     0     0     0     0     0     0     0     0     0     0     0\n",
            "     0     0     0     0     0     0     0     0     0     0     0     0\n",
            "     0     0     0     0     0     0     0     0     0     0     0     0\n",
            "     0     0     0     0     0     0     0     0     0     0     0     0\n",
            "     0     0     0     0     0     0     0     0     0     0     0     0\n",
            "     0     0     0     0     0     0     0     0     0     0     0     0\n",
            "     0     0     0     0     0     0     0     0     0     0     0     0\n",
            "     0     0     0     0     0     0     0     0     0     0     0     0\n",
            "     0     0     0     0     0     0]\n"
          ],
          "name": "stdout"
        },
        {
          "output_type": "stream",
          "text": [
            "Some weights of the model checkpoint at /content/MARBERT_pytorch_verison were not used when initializing BertForSequenceClassification: ['cls.predictions.bias', 'cls.predictions.transform.dense.weight', 'cls.predictions.transform.dense.bias', 'cls.predictions.transform.LayerNorm.weight', 'cls.predictions.transform.LayerNorm.bias', 'cls.predictions.decoder.weight', 'cls.seq_relationship.weight', 'cls.seq_relationship.bias']\n",
            "- This IS expected if you are initializing BertForSequenceClassification from the checkpoint of a model trained on another task or with another architecture (e.g. initializing a BertForSequenceClassification model from a BertForPreTraining model).\n",
            "- This IS NOT expected if you are initializing BertForSequenceClassification from the checkpoint of a model that you expect to be exactly identical (initializing a BertForSequenceClassification model from a BertForSequenceClassification model).\n",
            "Some weights of BertForSequenceClassification were not initialized from the model checkpoint at /content/MARBERT_pytorch_verison and are newly initialized: ['classifier.weight', 'classifier.bias']\n",
            "You should probably TRAIN this model on a down-stream task to be able to use it for predictions and inference.\n"
          ],
          "name": "stderr"
        },
        {
          "output_type": "stream",
          "text": [
            "[INFO] step (6) Create an iterator of data with torch DataLoader.\n",
            "[INFO] step (7) run with parallel GPUs\n",
            "Run with one GPU\n"
          ],
          "name": "stdout"
        },
        {
          "output_type": "stream",
          "text": [
            "\rEpoch:   0%|          | 0/5 [00:00<?, ?it/s]"
          ],
          "name": "stderr"
        },
        {
          "output_type": "stream",
          "text": [
            "[INFO] step (8) set Parameters, schedules, and loss function\n",
            "[INFO] step (9) start fine_tuning\n"
          ],
          "name": "stdout"
        },
        {
          "output_type": "stream",
          "text": [
            "Epoch: 100%|██████████| 5/5 [2:04:10<00:00, 1490.16s/it]\n"
          ],
          "name": "stderr"
        }
      ]
    },
    {
      "cell_type": "code",
      "metadata": {
        "id": "5V9ZOdVNXAkk",
        "colab": {
          "base_uri": "https://localhost:8080/",
          "height": 206
        },
        "outputId": "cc26c4a4-dd4c-42cb-c8f8-a7db4fcf468e"
      },
      "source": [
        "report_df.head(5)"
      ],
      "execution_count": 16,
      "outputs": [
        {
          "output_type": "execute_result",
          "data": {
            "text/html": [
              "<div>\n",
              "<style scoped>\n",
              "    .dataframe tbody tr th:only-of-type {\n",
              "        vertical-align: middle;\n",
              "    }\n",
              "\n",
              "    .dataframe tbody tr th {\n",
              "        vertical-align: top;\n",
              "    }\n",
              "\n",
              "    .dataframe thead th {\n",
              "        text-align: right;\n",
              "    }\n",
              "</style>\n",
              "<table border=\"1\" class=\"dataframe\">\n",
              "  <thead>\n",
              "    <tr style=\"text-align: right;\">\n",
              "      <th></th>\n",
              "      <th>epoch_num</th>\n",
              "      <th>train_loss</th>\n",
              "      <th>val_acc</th>\n",
              "      <th>val_recall</th>\n",
              "      <th>val_precision</th>\n",
              "      <th>val_f1</th>\n",
              "      <th>lr</th>\n",
              "    </tr>\n",
              "  </thead>\n",
              "  <tbody>\n",
              "    <tr>\n",
              "      <th>3</th>\n",
              "      <td>4</td>\n",
              "      <td>0.259850</td>\n",
              "      <td>0.858126</td>\n",
              "      <td>0.824078</td>\n",
              "      <td>0.865655</td>\n",
              "      <td>0.841233</td>\n",
              "      <td>0.000002</td>\n",
              "    </tr>\n",
              "    <tr>\n",
              "      <th>4</th>\n",
              "      <td>5</td>\n",
              "      <td>0.230426</td>\n",
              "      <td>0.857713</td>\n",
              "      <td>0.828459</td>\n",
              "      <td>0.855424</td>\n",
              "      <td>0.840350</td>\n",
              "      <td>0.000002</td>\n",
              "    </tr>\n",
              "    <tr>\n",
              "      <th>2</th>\n",
              "      <td>3</td>\n",
              "      <td>0.305501</td>\n",
              "      <td>0.854686</td>\n",
              "      <td>0.821564</td>\n",
              "      <td>0.860766</td>\n",
              "      <td>0.837310</td>\n",
              "      <td>0.000002</td>\n",
              "    </tr>\n",
              "    <tr>\n",
              "      <th>1</th>\n",
              "      <td>2</td>\n",
              "      <td>0.387005</td>\n",
              "      <td>0.849319</td>\n",
              "      <td>0.814296</td>\n",
              "      <td>0.856788</td>\n",
              "      <td>0.830967</td>\n",
              "      <td>0.000002</td>\n",
              "    </tr>\n",
              "    <tr>\n",
              "      <th>0</th>\n",
              "      <td>1</td>\n",
              "      <td>0.629855</td>\n",
              "      <td>0.828127</td>\n",
              "      <td>0.781738</td>\n",
              "      <td>0.837319</td>\n",
              "      <td>0.801161</td>\n",
              "      <td>0.000002</td>\n",
              "    </tr>\n",
              "  </tbody>\n",
              "</table>\n",
              "</div>"
            ],
            "text/plain": [
              "   epoch_num  train_loss   val_acc  ...  val_precision    val_f1        lr\n",
              "3          4    0.259850  0.858126  ...       0.865655  0.841233  0.000002\n",
              "4          5    0.230426  0.857713  ...       0.855424  0.840350  0.000002\n",
              "2          3    0.305501  0.854686  ...       0.860766  0.837310  0.000002\n",
              "1          2    0.387005  0.849319  ...       0.856788  0.830967  0.000002\n",
              "0          1    0.629855  0.828127  ...       0.837319  0.801161  0.000002\n",
              "\n",
              "[5 rows x 7 columns]"
            ]
          },
          "metadata": {
            "tags": []
          },
          "execution_count": 16
        }
      ]
    },
    {
      "cell_type": "code",
      "metadata": {
        "id": "yLHOqQBt3TLN"
      },
      "source": [
        "lab2ind = json.load(open('/content/drive/MyDrive/Omdena_sentiment/Dataset/Sentiment_MARBERT_labels-dict.json'))"
      ],
      "execution_count": 18,
      "outputs": []
    },
    {
      "cell_type": "code",
      "metadata": {
        "id": "zoRMJ72mhK9W",
        "colab": {
          "base_uri": "https://localhost:8080/"
        },
        "outputId": "8190289d-8153-4ef5-b915-923a4c0ed02f"
      },
      "source": [
        "tokenizer = BertTokenizer.from_pretrained('/content/MARBERT_pytorch_verison')\n",
        "max_seq_length=256\n",
        "train_inputs, train_labels, train_masks = data_prepare_BERT('/content/drive/MyDrive/Omdena_sentiment/Dataset/train.csv', lab2ind, tokenizer,'cleaned_text', \"Class_camel\", max_seq_length)\n",
        "test_inputs, test_labels, test_masks = data_prepare_BERT('/content/drive/MyDrive/Omdena_sentiment/Dataset/test.csv', lab2ind, tokenizer, 'cleaned_text','Class_camel', max_seq_length)\n",
        "# Load BertForSequenceClassification, the pretrained BERT model with a single linear classification layer on top.\n",
        "model = BertForSequenceClassification.from_pretrained('/content/drive/MyDrive/Omdena_sentiment/Dataset/Sentiment_MARBERT_bert_ckpt/model_5', num_labels=len(lab2ind))"
      ],
      "execution_count": 19,
      "outputs": [
        {
          "output_type": "stream",
          "text": [
            "Data size  (29029, 9)\n",
            "The first sentence:\n",
            "[CLS] حقوق المراه [SEP]\n",
            "Tokenize the first sentence:\n",
            "['[CLS]', 'حقوق', 'المراه', '[SEP]']\n",
            "Index numbers of the first sentence:\n",
            "[2, 5488, 8017, 3]\n",
            "Index numbers of the first sentence after padding:\n",
            " [   2 5488 8017    3    0    0    0    0    0    0    0    0    0    0\n",
            "    0    0    0    0    0    0    0    0    0    0    0    0    0    0\n",
            "    0    0    0    0    0    0    0    0    0    0    0    0    0    0\n",
            "    0    0    0    0    0    0    0    0    0    0    0    0    0    0\n",
            "    0    0    0    0    0    0    0    0    0    0    0    0    0    0\n",
            "    0    0    0    0    0    0    0    0    0    0    0    0    0    0\n",
            "    0    0    0    0    0    0    0    0    0    0    0    0    0    0\n",
            "    0    0    0    0    0    0    0    0    0    0    0    0    0    0\n",
            "    0    0    0    0    0    0    0    0    0    0    0    0    0    0\n",
            "    0    0    0    0    0    0    0    0    0    0    0    0    0    0\n",
            "    0    0    0    0    0    0    0    0    0    0    0    0    0    0\n",
            "    0    0    0    0    0    0    0    0    0    0    0    0    0    0\n",
            "    0    0    0    0    0    0    0    0    0    0    0    0    0    0\n",
            "    0    0    0    0    0    0    0    0    0    0    0    0    0    0\n",
            "    0    0    0    0    0    0    0    0    0    0    0    0    0    0\n",
            "    0    0    0    0    0    0    0    0    0    0    0    0    0    0\n",
            "    0    0    0    0    0    0    0    0    0    0    0    0    0    0\n",
            "    0    0    0    0    0    0    0    0    0    0    0    0    0    0\n",
            "    0    0    0    0    0    0]\n",
            "Data size  (15634, 9)\n",
            "The first sentence:\n",
            "[CLS] مبدائيا انا مع حقوق المراه وضد حقوق الرجل [SEP]\n",
            "Tokenize the first sentence:\n",
            "['[CLS]', 'مبداي', '##يا', 'انا', 'مع', 'حقوق', 'المراه', 'وضد', 'حقوق', 'الرجل', '[SEP]']\n",
            "Index numbers of the first sentence:\n",
            "[2, 98538, 1971, 2043, 2001, 5488, 8017, 31078, 5488, 3845, 3]\n",
            "Index numbers of the first sentence after padding:\n",
            " [    2 98538  1971  2043  2001  5488  8017 31078  5488  3845     3     0\n",
            "     0     0     0     0     0     0     0     0     0     0     0     0\n",
            "     0     0     0     0     0     0     0     0     0     0     0     0\n",
            "     0     0     0     0     0     0     0     0     0     0     0     0\n",
            "     0     0     0     0     0     0     0     0     0     0     0     0\n",
            "     0     0     0     0     0     0     0     0     0     0     0     0\n",
            "     0     0     0     0     0     0     0     0     0     0     0     0\n",
            "     0     0     0     0     0     0     0     0     0     0     0     0\n",
            "     0     0     0     0     0     0     0     0     0     0     0     0\n",
            "     0     0     0     0     0     0     0     0     0     0     0     0\n",
            "     0     0     0     0     0     0     0     0     0     0     0     0\n",
            "     0     0     0     0     0     0     0     0     0     0     0     0\n",
            "     0     0     0     0     0     0     0     0     0     0     0     0\n",
            "     0     0     0     0     0     0     0     0     0     0     0     0\n",
            "     0     0     0     0     0     0     0     0     0     0     0     0\n",
            "     0     0     0     0     0     0     0     0     0     0     0     0\n",
            "     0     0     0     0     0     0     0     0     0     0     0     0\n",
            "     0     0     0     0     0     0     0     0     0     0     0     0\n",
            "     0     0     0     0     0     0     0     0     0     0     0     0\n",
            "     0     0     0     0     0     0     0     0     0     0     0     0\n",
            "     0     0     0     0     0     0     0     0     0     0     0     0\n",
            "     0     0     0     0     0     0]\n"
          ],
          "name": "stdout"
        }
      ]
    },
    {
      "cell_type": "code",
      "metadata": {
        "id": "W1ce7uen1Qpy"
      },
      "source": [
        "test_data = TensorDataset(test_inputs, test_masks, test_labels)\n",
        "test_dataloader = DataLoader(test_data, batch_size=16)"
      ],
      "execution_count": 20,
      "outputs": []
    },
    {
      "cell_type": "code",
      "metadata": {
        "id": "aRAB4mCZ2M3r",
        "colab": {
          "base_uri": "https://localhost:8080/"
        },
        "outputId": "d92f8137-abc6-4a1f-f067-300a3fcf4606"
      },
      "source": [
        "if torch.cuda.is_available():\n",
        "\t\tif torch.cuda.device_count() == 1:\n",
        "\t\t\tprint(\"Run\", \"with one GPU\")\n",
        "\t\t\tmodel = model.to(device)\n",
        "\t\telse:\n",
        "\t\t\tn_gpu = torch.cuda.device_count()\n",
        "\t\t\tprint(\"Run\", \"with\", n_gpu, \"GPUs with max 4 GPUs\")\n",
        "\t\t\tdevice_ids = GPUtil.getAvailable(limit = 4)\n",
        "\t\t\ttorch.backends.cudnn.benchmark = True\n",
        "\t\t\tmodel = model.to(device)\n",
        "\t\t\tmodel = nn.DataParallel(model, device_ids=device_ids)\n",
        "else:\n",
        "  print(\"Run\", \"with CPU\")\n",
        "  model = model"
      ],
      "execution_count": 21,
      "outputs": [
        {
          "output_type": "stream",
          "text": [
            "Run with one GPU\n"
          ],
          "name": "stdout"
        }
      ]
    },
    {
      "cell_type": "code",
      "metadata": {
        "id": "qT59ESky4L93"
      },
      "source": [
        "criterion = nn.CrossEntropyLoss()"
      ],
      "execution_count": 22,
      "outputs": []
    },
    {
      "cell_type": "code",
      "metadata": {
        "id": "0DL9tEe92RC5"
      },
      "source": [
        "model.eval()\n",
        "all_pred=[]\n",
        "all_label = []\n",
        "with torch.no_grad():\n",
        "  for i, batch in enumerate(test_dataloader):\n",
        "    # Add batch to GPU\n",
        "    batch = tuple(t.to(device) for t in batch)\n",
        "    # Unpack the inputs from our dataloader\n",
        "    input_ids, input_mask, labels = batch\n",
        "    outputs = model(input_ids, input_mask, labels=labels)\n",
        "    loss, logits = outputs[:2]\n",
        "    \n",
        "    probabilities, predicted = torch.max(logits.cpu().data, 1)\n",
        "    # put all the true labels and predictions to two lists\n",
        "    all_pred.extend(predicted)\n",
        "    all_label.extend(labels.cpu())\n",
        "accuracy = accuracy_score(all_label, all_pred)\n",
        "macro_f1_pos_neg = f1_score(all_label, all_pred,average='macro',labels=[0,1])\n",
        "f1score = f1_score(all_label, all_pred, average='macro') \n",
        "recall = recall_score(all_label, all_pred, average='macro')\n",
        "precision = precision_score(all_label, all_pred, average='macro')\n",
        "report = classification_report(all_label, all_pred)"
      ],
      "execution_count": 23,
      "outputs": []
    },
    {
      "cell_type": "code",
      "metadata": {
        "colab": {
          "base_uri": "https://localhost:8080/"
        },
        "id": "sV5f1UfqfJ25",
        "outputId": "13c602be-fff1-4ce2-bfdf-1c55eea483b3"
      },
      "source": [
        "print(report)"
      ],
      "execution_count": 30,
      "outputs": [
        {
          "output_type": "stream",
          "text": [
            "              precision    recall  f1-score   support\n",
            "\n",
            "           0       0.84      0.85      0.84      5607\n",
            "           1       0.84      0.75      0.79      2266\n",
            "           2       0.88      0.90      0.89      7761\n",
            "\n",
            "    accuracy                           0.86     15634\n",
            "   macro avg       0.85      0.83      0.84     15634\n",
            "weighted avg       0.86      0.86      0.86     15634\n",
            "\n"
          ],
          "name": "stdout"
        }
      ]
    },
    {
      "cell_type": "code",
      "metadata": {
        "colab": {
          "base_uri": "https://localhost:8080/"
        },
        "id": "dJu0tXU3feWW",
        "outputId": "dc94f807-0491-46f1-e7aa-d600fa0739f8"
      },
      "source": [
        "accuracy"
      ],
      "execution_count": 25,
      "outputs": [
        {
          "output_type": "execute_result",
          "data": {
            "text/plain": [
              "0.8601765383139311"
            ]
          },
          "metadata": {
            "tags": []
          },
          "execution_count": 25
        }
      ]
    },
    {
      "cell_type": "code",
      "metadata": {
        "colab": {
          "base_uri": "https://localhost:8080/"
        },
        "id": "6pTXudFRff7c",
        "outputId": "4cf91501-a029-424c-8b92-17a4dcc77fff"
      },
      "source": [
        "macro_f1_pos_neg"
      ],
      "execution_count": 26,
      "outputs": [
        {
          "output_type": "execute_result",
          "data": {
            "text/plain": [
              "0.8172658555312162"
            ]
          },
          "metadata": {
            "tags": []
          },
          "execution_count": 26
        }
      ]
    },
    {
      "cell_type": "code",
      "metadata": {
        "colab": {
          "base_uri": "https://localhost:8080/"
        },
        "id": "a515-AFkfgyX",
        "outputId": "19d71536-1346-4b7e-dbcf-b6d3147746af"
      },
      "source": [
        "f1score"
      ],
      "execution_count": 27,
      "outputs": [
        {
          "output_type": "execute_result",
          "data": {
            "text/plain": [
              "0.8418803278797599"
            ]
          },
          "metadata": {
            "tags": []
          },
          "execution_count": 27
        }
      ]
    },
    {
      "cell_type": "code",
      "metadata": {
        "colab": {
          "base_uri": "https://localhost:8080/"
        },
        "id": "t6dAR2e7fiKL",
        "outputId": "82e553d2-0479-4dc4-af1e-8b6e49c0995e"
      },
      "source": [
        "recall"
      ],
      "execution_count": 28,
      "outputs": [
        {
          "output_type": "execute_result",
          "data": {
            "text/plain": [
              "0.8327965028611274"
            ]
          },
          "metadata": {
            "tags": []
          },
          "execution_count": 28
        }
      ]
    },
    {
      "cell_type": "code",
      "metadata": {
        "colab": {
          "base_uri": "https://localhost:8080/"
        },
        "id": "Xrb8bWwCfj4n",
        "outputId": "a8762344-5b52-404b-9e06-3a8149dd48e1"
      },
      "source": [
        "precision"
      ],
      "execution_count": 29,
      "outputs": [
        {
          "output_type": "execute_result",
          "data": {
            "text/plain": [
              "0.8527171351423598"
            ]
          },
          "metadata": {
            "tags": []
          },
          "execution_count": 29
        }
      ]
    }
  ]
}