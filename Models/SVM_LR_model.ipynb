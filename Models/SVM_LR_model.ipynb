{
  "nbformat": 4,
  "nbformat_minor": 0,
  "metadata": {
    "colab": {
      "name": "SVM_LR_model.ipynb",
      "provenance": []
    },
    "kernelspec": {
      "name": "python3",
      "display_name": "Python 3"
    },
    "language_info": {
      "name": "python"
    }
  },
  "cells": [
    {
      "cell_type": "code",
      "metadata": {
        "id": "j814RnW90EG0"
      },
      "source": [
        "import pandas as pd\n",
        "import numpy as np\n",
        "import os\n",
        "import sys\n",
        "import matplotlib.pyplot as plt\n",
        "from scipy.sparse import hstack\n",
        "from sklearn.pipeline import FeatureUnion"
      ],
      "execution_count": 26,
      "outputs": []
    },
    {
      "cell_type": "code",
      "metadata": {
        "id": "rtc8BON09LrD"
      },
      "source": [
        "from sklearn.svm import SVC\n",
        "from sklearn.ensemble import AdaBoostClassifier\n",
        "from sklearn.naive_bayes import BernoulliNB, MultinomialNB\n",
        "from sklearn.naive_bayes import GaussianNB\n",
        "from sklearn.linear_model import SGDClassifier, LogisticRegression\n",
        "from sklearn.neighbors import KNeighborsClassifier\n",
        "from sklearn.model_selection import GridSearchCV\n",
        "from sklearn.svm import SVC, LinearSVC\n",
        "from sklearn import metrics\n",
        "from sklearn import utils\n",
        "import sklearn"
      ],
      "execution_count": 62,
      "outputs": []
    },
    {
      "cell_type": "code",
      "metadata": {
        "id": "ra6AHIGU9wMF"
      },
      "source": [
        "from collections import Counter, OrderedDict\n"
      ],
      "execution_count": 47,
      "outputs": []
    },
    {
      "cell_type": "code",
      "metadata": {
        "id": "a88EbDHfAM-u"
      },
      "source": [
        "import joblib\n"
      ],
      "execution_count": 71,
      "outputs": []
    },
    {
      "cell_type": "code",
      "metadata": {
        "id": "Xhx35TUe1mNT"
      },
      "source": [
        "from sklearn.feature_extraction.text import CountVectorizer, TfidfVectorizer\n"
      ],
      "execution_count": 8,
      "outputs": []
    },
    {
      "cell_type": "code",
      "metadata": {
        "id": "Q8UlouU70XZe"
      },
      "source": [
        "train=pd.read_csv('/content/drive/MyDrive/Omdena_sentiment/Dataset/train.csv')"
      ],
      "execution_count": 6,
      "outputs": []
    },
    {
      "cell_type": "code",
      "metadata": {
        "id": "-vJC34Dn7rTf"
      },
      "source": [
        "test=pd.read_csv('/content/drive/MyDrive/Omdena_sentiment/Dataset/test.csv')"
      ],
      "execution_count": 27,
      "outputs": []
    },
    {
      "cell_type": "code",
      "metadata": {
        "colab": {
          "base_uri": "https://localhost:8080/",
          "height": 434
        },
        "id": "wxMAgUJb7uzN",
        "outputId": "0ee24434-a1f9-45f3-e5e8-4de66a43a893"
      },
      "source": [
        "test.head()"
      ],
      "execution_count": 28,
      "outputs": [
        {
          "output_type": "execute_result",
          "data": {
            "text/html": [
              "<div>\n",
              "<style scoped>\n",
              "    .dataframe tbody tr th:only-of-type {\n",
              "        vertical-align: middle;\n",
              "    }\n",
              "\n",
              "    .dataframe tbody tr th {\n",
              "        vertical-align: top;\n",
              "    }\n",
              "\n",
              "    .dataframe thead th {\n",
              "        text-align: right;\n",
              "    }\n",
              "</style>\n",
              "<table border=\"1\" class=\"dataframe\">\n",
              "  <thead>\n",
              "    <tr style=\"text-align: right;\">\n",
              "      <th></th>\n",
              "      <th>Unnamed: 0</th>\n",
              "      <th>Text</th>\n",
              "      <th>Class_camel</th>\n",
              "      <th>cleaned_text</th>\n",
              "      <th>mentions</th>\n",
              "      <th>word_count</th>\n",
              "      <th>contain_emoji</th>\n",
              "      <th>demoji_text</th>\n",
              "      <th>URLS</th>\n",
              "    </tr>\n",
              "  </thead>\n",
              "  <tbody>\n",
              "    <tr>\n",
              "      <th>0</th>\n",
              "      <td>3</td>\n",
              "      <td>RT @MojKsa: حقوق المرأة التي تضمنها لها وزارة ...</td>\n",
              "      <td>neutral</td>\n",
              "      <td>حقوق المراه التي تضمنها لها وزاره العدل</td>\n",
              "      <td>['MojKsa']</td>\n",
              "      <td>7</td>\n",
              "      <td>False</td>\n",
              "      <td>NaN</td>\n",
              "      <td>['https://t.co/QUGzWwubFk']</td>\n",
              "    </tr>\n",
              "    <tr>\n",
              "      <th>1</th>\n",
              "      <td>4</td>\n",
              "      <td>RT @abm112211: ولي امر الزوجة او ولي الزوجة او...</td>\n",
              "      <td>neutral</td>\n",
              "      <td>ولي امر الزوجه او ولي الزوجه او ولي المراه من ...</td>\n",
              "      <td>['abm112211']</td>\n",
              "      <td>47</td>\n",
              "      <td>False</td>\n",
              "      <td>NaN</td>\n",
              "      <td>['https://t.co/rkqxvm5qY7']</td>\n",
              "    </tr>\n",
              "    <tr>\n",
              "      <th>2</th>\n",
              "      <td>8</td>\n",
              "      <td>مبدائيا انا مع حقوق المرأة وضد حقوق الرجل 😁</td>\n",
              "      <td>neutral</td>\n",
              "      <td>مبدائيا انا مع حقوق المراه وضد حقوق الرجل</td>\n",
              "      <td>[]</td>\n",
              "      <td>8</td>\n",
              "      <td>True</td>\n",
              "      <td>:beaming_face_with_smiling_eyes:</td>\n",
              "      <td>[]</td>\n",
              "    </tr>\n",
              "    <tr>\n",
              "      <th>3</th>\n",
              "      <td>19</td>\n",
              "      <td>RT @Stranger23_: @Oh__28 @LifeRights19 عشان كذ...</td>\n",
              "      <td>negative</td>\n",
              "      <td>عشان كذا انا عندي تحفظ للي يشوف الغاء الولايه ...</td>\n",
              "      <td>['Stranger23', 'Oh', 'LifeRights19']</td>\n",
              "      <td>49</td>\n",
              "      <td>True</td>\n",
              "      <td>:downcast_face_with_sweat:</td>\n",
              "      <td>[]</td>\n",
              "    </tr>\n",
              "    <tr>\n",
              "      <th>4</th>\n",
              "      <td>34</td>\n",
              "      <td>@Eqbal_Darandari @g11_we المفروض تتم الموافقة ...</td>\n",
              "      <td>neutral</td>\n",
              "      <td>المفروض تتم الموافقه وبلاجماع مافي ابدا توافق ...</td>\n",
              "      <td>['Eqbal', 'g11']</td>\n",
              "      <td>25</td>\n",
              "      <td>False</td>\n",
              "      <td>NaN</td>\n",
              "      <td>[]</td>\n",
              "    </tr>\n",
              "  </tbody>\n",
              "</table>\n",
              "</div>"
            ],
            "text/plain": [
              "   Unnamed: 0  ...                         URLS\n",
              "0           3  ...  ['https://t.co/QUGzWwubFk']\n",
              "1           4  ...  ['https://t.co/rkqxvm5qY7']\n",
              "2           8  ...                           []\n",
              "3          19  ...                           []\n",
              "4          34  ...                           []\n",
              "\n",
              "[5 rows x 9 columns]"
            ]
          },
          "metadata": {
            "tags": []
          },
          "execution_count": 28
        }
      ]
    },
    {
      "cell_type": "code",
      "metadata": {
        "colab": {
          "base_uri": "https://localhost:8080/",
          "height": 417
        },
        "id": "1i70OSsA0mkp",
        "outputId": "09f8ee50-2ae3-4e51-9917-50df2d5232d0"
      },
      "source": [
        "train.head()"
      ],
      "execution_count": 7,
      "outputs": [
        {
          "output_type": "execute_result",
          "data": {
            "text/html": [
              "<div>\n",
              "<style scoped>\n",
              "    .dataframe tbody tr th:only-of-type {\n",
              "        vertical-align: middle;\n",
              "    }\n",
              "\n",
              "    .dataframe tbody tr th {\n",
              "        vertical-align: top;\n",
              "    }\n",
              "\n",
              "    .dataframe thead th {\n",
              "        text-align: right;\n",
              "    }\n",
              "</style>\n",
              "<table border=\"1\" class=\"dataframe\">\n",
              "  <thead>\n",
              "    <tr style=\"text-align: right;\">\n",
              "      <th></th>\n",
              "      <th>Unnamed: 0</th>\n",
              "      <th>Text</th>\n",
              "      <th>Class_camel</th>\n",
              "      <th>cleaned_text</th>\n",
              "      <th>mentions</th>\n",
              "      <th>word_count</th>\n",
              "      <th>contain_emoji</th>\n",
              "      <th>demoji_text</th>\n",
              "      <th>URLS</th>\n",
              "    </tr>\n",
              "  </thead>\n",
              "  <tbody>\n",
              "    <tr>\n",
              "      <th>0</th>\n",
              "      <td>0</td>\n",
              "      <td>حقوق المرأة 💚💚💚 https://t.co/Mzf90Ta5g1</td>\n",
              "      <td>neutral</td>\n",
              "      <td>حقوق المراه</td>\n",
              "      <td>[]</td>\n",
              "      <td>2</td>\n",
              "      <td>True</td>\n",
              "      <td>:green_heart::green_heart::green_heart:</td>\n",
              "      <td>['https://t.co/Mzf90Ta5g1']</td>\n",
              "    </tr>\n",
              "    <tr>\n",
              "      <th>1</th>\n",
              "      <td>2</td>\n",
              "      <td>RT @saud_talep: Retweeted لجنة التنمية بشبرا (...</td>\n",
              "      <td>neutral</td>\n",
              "      <td>لجنه التنميه بشبرا ما زال التسجيل مستمر في دور...</td>\n",
              "      <td>['saud', 'Shubratanmyeh']</td>\n",
              "      <td>15</td>\n",
              "      <td>True</td>\n",
              "      <td>:sparkles:</td>\n",
              "      <td>['https://t.co/c2NXzNCdLU']</td>\n",
              "    </tr>\n",
              "    <tr>\n",
              "      <th>2</th>\n",
              "      <td>5</td>\n",
              "      <td>RT @fatemaar7: انا كامرأة يوجعني كل حزن نساء ا...</td>\n",
              "      <td>negative</td>\n",
              "      <td>انا كامراه يوجعني كل حزن نساء العالم سواء تعنف...</td>\n",
              "      <td>['fatemaar7']</td>\n",
              "      <td>50</td>\n",
              "      <td>False</td>\n",
              "      <td>NaN</td>\n",
              "      <td>['https://t.co/c494qBVPx4']</td>\n",
              "    </tr>\n",
              "    <tr>\n",
              "      <th>3</th>\n",
              "      <td>7</td>\n",
              "      <td>@AliFCD @ShamsanM @AlyemenNor @space_dist @m2r...</td>\n",
              "      <td>negative</td>\n",
              "      <td>غسق وسبيس وحلوه الحلوات هم اشخاص لهم هويتهم وك...</td>\n",
              "      <td>['AliFCD', 'ShamsanM', 'AlyemenNor', 'space', ...</td>\n",
              "      <td>32</td>\n",
              "      <td>False</td>\n",
              "      <td>NaN</td>\n",
              "      <td>[]</td>\n",
              "    </tr>\n",
              "    <tr>\n",
              "      <th>4</th>\n",
              "      <td>9</td>\n",
              "      <td>RT @Dresraamohammed: السؤال بقى للناس الي شغال...</td>\n",
              "      <td>negative</td>\n",
              "      <td>السؤال بقي للناس الي شغاله في حقوق الانسان حقو...</td>\n",
              "      <td>['Dresraamohammed']</td>\n",
              "      <td>24</td>\n",
              "      <td>True</td>\n",
              "      <td>:person_facepalming_light_skin_tone::female_si...</td>\n",
              "      <td>[]</td>\n",
              "    </tr>\n",
              "  </tbody>\n",
              "</table>\n",
              "</div>"
            ],
            "text/plain": [
              "   Unnamed: 0  ...                         URLS\n",
              "0           0  ...  ['https://t.co/Mzf90Ta5g1']\n",
              "1           2  ...  ['https://t.co/c2NXzNCdLU']\n",
              "2           5  ...  ['https://t.co/c494qBVPx4']\n",
              "3           7  ...                           []\n",
              "4           9  ...                           []\n",
              "\n",
              "[5 rows x 9 columns]"
            ]
          },
          "metadata": {
            "tags": []
          },
          "execution_count": 7
        }
      ]
    },
    {
      "cell_type": "code",
      "metadata": {
        "id": "RSI-qXL34Tgo"
      },
      "source": [
        "def apply_tf_idf_cnt_vec(train,test):\n",
        "  union = FeatureUnion([(\"tf_idf_ngra_3\", TfidfVectorizer(min_df=1,ngram_range=(1, 3),binary=True,max_features=700)),\n",
        "                    ( \"tf_idf_ngra_2\", TfidfVectorizer(min_df=1,ngram_range=(1, 2),binary=True,max_features=700)),\n",
        "                  (\"tf_idf_ngra_1\",TfidfVectorizer(min_df=1,ngram_range=(1, 1),binary=True,max_features=700)),\n",
        "                  (\"tf_idf_ngra_5\", TfidfVectorizer(min_df=1,ngram_range=(1, 5),binary=True,max_features=700)),\n",
        "                  (\"tf_idf_ngra_7\", TfidfVectorizer(min_df=1,ngram_range=(1, 7),binary=True,max_features=700)),\n",
        "                  (\"tf_idf_ngra_3_ch\",TfidfVectorizer(min_df=1,ngram_range=(1, 3),binary=True,max_features=700,analyzer='char')),\n",
        "                  (\"tf_idf_ngra_2_ch\",TfidfVectorizer(min_df=1,ngram_range=(1, 2),binary=True,max_features=700,analyzer='char')),\n",
        "                  (\"tf_idf_ngra_1_ch\",TfidfVectorizer(min_df=1,ngram_range=(1, 1),binary=True,max_features=700,analyzer='char')),\n",
        "                  (\"tf_idf_ngra_5_ch\",TfidfVectorizer(min_df=1,ngram_range=(1, 5),binary=True,max_features=700,analyzer='char')),\n",
        "                  (\"tf_idf_ngra_7_ch\", TfidfVectorizer(min_df=1,ngram_range=(1, 7),binary=True,max_features=700,analyzer='char')),\n",
        "                  (\"cnt_vec_ngra_3\", CountVectorizer(min_df=1,ngram_range=(1, 3),binary=True,max_features=700)),\n",
        "                  (\"cnt_vec_ngra_5\", CountVectorizer(min_df=1,ngram_range=(1, 5),binary=True,max_features=700))\n",
        "                                  \n",
        "                                  \n",
        "                                  ])\n",
        "  train_feat_vec=union.fit_transform(train)\n",
        "  test_feat_vec=union.transform(test)\n",
        "  return train_feat_vec,test_feat_vec\n",
        "                \n",
        "\n"
      ],
      "execution_count": 29,
      "outputs": []
    },
    {
      "cell_type": "code",
      "metadata": {
        "id": "jic0d1Al8GDQ"
      },
      "source": [
        "train.dropna(inplace=True)"
      ],
      "execution_count": 31,
      "outputs": []
    },
    {
      "cell_type": "code",
      "metadata": {
        "id": "GMzTlRED8IXp"
      },
      "source": [
        "test.dropna(inplace=True)"
      ],
      "execution_count": 32,
      "outputs": []
    },
    {
      "cell_type": "code",
      "metadata": {
        "id": "PrYYINTQ7qB_"
      },
      "source": [
        "train_vec,test_vec=apply_tf_idf_cnt_vec(train['cleaned_text'],test['cleaned_text'])"
      ],
      "execution_count": 33,
      "outputs": []
    },
    {
      "cell_type": "code",
      "metadata": {
        "id": "HLM56SuF8Xbq"
      },
      "source": [
        "def print_statistics(y, y_pred):\n",
        "    accuracy = metrics.accuracy_score(y, y_pred)\n",
        "    precision = metrics.precision_score(y, y_pred, average='weighted')\n",
        "    recall = metrics.recall_score(y, y_pred, average='weighted')\n",
        "    f_score = metrics.f1_score(y, y_pred, average='weighted')\n",
        "    print('Accuracy: %.3f\\nPrecision: %.3f\\nRecall: %.3f\\nF_score: %.3f\\n'\n",
        "          % (accuracy, precision, recall, f_score))\n",
        "    print(metrics.classification_report(y, y_pred))\n",
        "    return accuracy, precision, recall, f_score\n",
        "\n",
        "\n",
        "\n",
        "def plot_coefficients(classifier, feature_names, top_features=20, plot_name=\"/bow_models/bow_binary_\"):\n",
        "    # Get the top most positive/negative coefficients\n",
        "    coef = classifier.coef_.ravel()\n",
        "    top_positive_coefficients = np.argsort(coef)[-top_features:]\n",
        "    top_negative_coefficients = np.argsort(coef)[:top_features]\n",
        "    top_coefficients = np.hstack([top_negative_coefficients, top_positive_coefficients])\n",
        "    x_names = [feature_names[feature] for feature in top_coefficients]\n",
        "\n",
        "    # Plot the coefficients\n",
        "    plt.figure(figsize=(15, 5))\n",
        "    colors = ['red' if c < 0 else 'blue' for c in coef[top_coefficients]]\n",
        "    plt.bar(np.arange(2 * top_features), coef[top_coefficients], color=colors)\n",
        "    plt.xticks(np.arange(0, 2 * top_features), x_names, rotation=30, ha='right')\n",
        "    plt.ylabel(\"Coefficient Value\")\n",
        "    plt.title(\"Visualising the top %d features taken up by an SVM model\" % top_features)\n",
        "    to_save_filename = path + \"/plots/\" + plot_name + \"top%d_coefficients.png\" % top_features\n",
        "    plt.savefig(to_save_filename)\n",
        "    print(\"Coefficients' visualisation saved to %s\\n\" % to_save_filename)\n",
        "\n",
        "def get_regularization_params(a=-1, b=1, c=3, d=1, e=5):\n",
        "    reg_range = np.outer(np.logspace(a, b, c), np.array([d, e]))\n",
        "    reg_range = reg_range.flatten()\n",
        "    return reg_range\n",
        "\n",
        "\n",
        "def grid_classifier(x_train, y_train, x_test, y_test, model, parameters,\n",
        "                    make_feature_analysis=False, feature_names=None, top_features=0, plot_name=\"coeff\"):\n",
        "    grid = GridSearchCV(estimator=model, param_grid=parameters, verbose=0)\n",
        "    grid.fit(x_train, y_train)\n",
        "    sorted(grid.cv_results_.keys())\n",
        "    classifier = grid.best_estimator_\n",
        "    if make_feature_analysis:\n",
        "        plot_coefficients(classifier, feature_names, top_features, plot_name)\n",
        "    y_hat = classifier.predict(x_test)\n",
        "    print_statistics(y_test, y_hat)\n",
        "\n",
        "# Method to print the header of the currently running model\n",
        "def print_model_title(name):\n",
        "    print(\"\\n==================================================================\")\n",
        "    print('{:>20}'.format(name))\n",
        "    print(\"==================================================================\\n\")\n",
        "\n",
        "\n",
        "def linear_svm_grid(x_train, y_train, x_test, y_test, class_ratio,\n",
        "               make_feature_analysis=False, feature_names=None, top_features=0, plot_name=\"coeff\"):\n",
        "    print_model_title(\"Linear SVM\")\n",
        "    C_range = get_regularization_params()\n",
        "    parameters = {'C': C_range}\n",
        "    linear_svm = LinearSVC(C=1.0, class_weight=class_ratio, penalty='l2')\n",
        "    grid_classifier(x_train, y_train, x_test, y_test, linear_svm, parameters,\n",
        "                    make_feature_analysis, feature_names, top_features, plot_name)\n",
        "\n",
        "\n",
        "def nonlinear_svm_grid(x_train, y_train, x_test, y_test, class_ratio,\n",
        "                  make_feature_analysis=False, feature_names=None, top_features=0, plot_name=\"coeff\"):\n",
        "    print_model_title(\"Nonlinear SVM\")\n",
        "    C_range = get_regularization_params(a=-1, b=0, c=2, d=1, e=5)\n",
        "    gamma_range = get_regularization_params(a=-2, b=-1, c=2, d=1, e=5)\n",
        "    parameters = {'kernel': ['rbf'], 'C': C_range, 'gamma': gamma_range}\n",
        "    nonlinear_svm = SVC(class_weight=class_ratio)\n",
        "    grid_classifier(x_train, y_train, x_test, y_test, nonlinear_svm, parameters,\n",
        "                    make_feature_analysis, feature_names, top_features, plot_name)\n",
        "\n",
        "\n",
        "def logistic_regression_grid(x_train, y_train, x_test, y_test, class_ratio,\n",
        "                        make_feature_analysis=False, feature_names=None, top_features=0, plot_name=\"coeff\"):\n",
        "    print_model_title(\"Logistic Regression\")\n",
        "    C_range = [0.001, 0.01, 0.1, 1, 10, 100]\n",
        "    parameters = {'C': C_range}\n",
        "    log_regr = LogisticRegression(C=1.0, class_weight=class_ratio, penalty='l2')\n",
        "    grid_classifier(x_train, y_train, x_test, y_test, log_regr, parameters,\n",
        "                    make_feature_analysis, feature_names, top_features, plot_name)\n",
        "\n",
        "\n",
        "def linear_svm(x_train, y_train, x_test, y_test, class_ratio='balanced'):\n",
        "    print_model_title(\"Linear SVM\")\n",
        "    svm = LinearSVC(C=0.01, class_weight=class_ratio, penalty='l2')\n",
        "    svm.fit(x_train, y_train)\n",
        "    y_hat = svm.predict(x_test)\n",
        "    print_statistics(y_test, y_hat)\n",
        "    filename = '/content/drive/MyDrive/Omdena_sentiment/Saved_models/svm_model.sav'\n",
        "    joblib.dump(svm, filename)\n",
        "\n",
        "\n",
        "def logistic_regression(x_train, y_train, x_test, y_test, class_ratio='balanced'):\n",
        "    print_model_title(\"Logistic Regression\")\n",
        "    regr = LogisticRegression(C=0.01, class_weight=class_ratio, penalty='l2')\n",
        "    regr.fit(x_train, y_train)\n",
        "    y_hat = regr.predict(x_test)\n",
        "    print_statistics(y_test, y_hat)\n",
        "    filename = '/content/drive/MyDrive/Omdena_sentiment/Saved_models/lr_model.sav'\n",
        "    joblib.dump(regr, filename)\n",
        "\n",
        "\n",
        "def feature_selection(x_train, y_train, x_test, y_test):\n",
        "    print(\"Feature selection with LinearSVC\")\n",
        "    model = LinearSVC(C=0.1, penalty='l2')\n",
        "    rfe = RFE(model, 5)\n",
        "    best_features_model = rfe.fit(x_train, y_train)\n",
        "    y_hat = best_features_model.predict(x_test)\n",
        "    print_statistics(y_test, y_hat)\n",
        "\n"
      ],
      "execution_count": 72,
      "outputs": []
    },
    {
      "cell_type": "code",
      "metadata": {
        "colab": {
          "base_uri": "https://localhost:8080/"
        },
        "id": "fdldVOv6Ae9y",
        "outputId": "ad7ddb34-f449-4d46-a29a-abbcc619cb01"
      },
      "source": [
        "linear_svm(train_vec,train['Class_camel'],test_vec,test['Class_camel'])\n"
      ],
      "execution_count": 73,
      "outputs": [
        {
          "output_type": "stream",
          "text": [
            "\n",
            "==================================================================\n",
            "          Linear SVM\n",
            "==================================================================\n",
            "\n",
            "Accuracy: 0.739\n",
            "Precision: 0.744\n",
            "Recall: 0.739\n",
            "F_score: 0.741\n",
            "\n",
            "              precision    recall  f1-score   support\n",
            "\n",
            "    negative       0.69      0.75      0.72      5607\n",
            "     neutral       0.63      0.65      0.64      2266\n",
            "    positive       0.81      0.76      0.79      7761\n",
            "\n",
            "    accuracy                           0.74     15634\n",
            "   macro avg       0.71      0.72      0.71     15634\n",
            "weighted avg       0.74      0.74      0.74     15634\n",
            "\n"
          ],
          "name": "stdout"
        }
      ]
    },
    {
      "cell_type": "code",
      "metadata": {
        "colab": {
          "base_uri": "https://localhost:8080/"
        },
        "id": "ELYkdFfU80HP",
        "outputId": "94fe7259-fd88-44ed-e917-03810e06ac1a"
      },
      "source": [
        "logistic_regression(train_vec,train['Class_camel'],test_vec,test['Class_camel'])\n"
      ],
      "execution_count": 74,
      "outputs": [
        {
          "output_type": "stream",
          "text": [
            "\n",
            "==================================================================\n",
            " Logistic Regression\n",
            "==================================================================\n",
            "\n",
            "Accuracy: 0.692\n",
            "Precision: 0.717\n",
            "Recall: 0.692\n",
            "F_score: 0.697\n",
            "\n",
            "              precision    recall  f1-score   support\n",
            "\n",
            "    negative       0.65      0.73      0.69      5607\n",
            "     neutral       0.50      0.69      0.58      2266\n",
            "    positive       0.83      0.67      0.74      7761\n",
            "\n",
            "    accuracy                           0.69     15634\n",
            "   macro avg       0.66      0.69      0.67     15634\n",
            "weighted avg       0.72      0.69      0.70     15634\n",
            "\n"
          ],
          "name": "stdout"
        }
      ]
    }
  ]
}