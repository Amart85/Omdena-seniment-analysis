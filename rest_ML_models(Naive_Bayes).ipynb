{
  "nbformat": 4,
  "nbformat_minor": 0,
  "metadata": {
    "colab": {
      "name": "rest_ML_models(Naive Bayes).ipynb",
      "provenance": [],
      "authorship_tag": "ABX9TyOXlfdytQD9kIyq2Rzc+j+8",
      "include_colab_link": true
    },
    "kernelspec": {
      "name": "python3",
      "display_name": "Python 3"
    },
    "language_info": {
      "name": "python"
    }
  },
  "cells": [
    {
      "cell_type": "markdown",
      "metadata": {
        "id": "view-in-github",
        "colab_type": "text"
      },
      "source": [
        "<a href=\"https://colab.research.google.com/github/MohamadElnomrossie/Omdena-seniment-analysis/blob/rest_ML_models(Naive_Bayes)/rest_ML_models(Naive_Bayes).ipynb\" target=\"_parent\"><img src=\"https://colab.research.google.com/assets/colab-badge.svg\" alt=\"Open In Colab\"/></a>"
      ]
    },
    {
      "cell_type": "code",
      "metadata": {
        "id": "B37Z7PuY_iRi"
      },
      "source": [
        "import pandas as pd\n",
        "from sklearn.ensemble import AdaBoostClassifier\n",
        "from sklearn.naive_bayes import BernoulliNB, MultinomialNB\n",
        "from sklearn.naive_bayes import GaussianNB\n",
        "from sklearn.neighbors import KNeighborsClassifier\n",
        "from sklearn.feature_extraction.text import TfidfVectorizer\n",
        "import pickle"
      ],
      "execution_count": 32,
      "outputs": []
    },
    {
      "cell_type": "code",
      "metadata": {
        "colab": {
          "base_uri": "https://localhost:8080/",
          "height": 445
        },
        "id": "Bqxioc-IAu77",
        "outputId": "d17fb23b-1e1e-4f70-953a-8ac8d5925492"
      },
      "source": [
        "df_train = pd.read_csv('train.csv')\n",
        "df_valid = pd.read_csv('val.csv')\n",
        "df_test = pd.read_csv('test.csv')\n",
        "df_train.head()"
      ],
      "execution_count": 5,
      "outputs": [
        {
          "output_type": "execute_result",
          "data": {
            "text/html": [
              "<div>\n",
              "<style scoped>\n",
              "    .dataframe tbody tr th:only-of-type {\n",
              "        vertical-align: middle;\n",
              "    }\n",
              "\n",
              "    .dataframe tbody tr th {\n",
              "        vertical-align: top;\n",
              "    }\n",
              "\n",
              "    .dataframe thead th {\n",
              "        text-align: right;\n",
              "    }\n",
              "</style>\n",
              "<table border=\"1\" class=\"dataframe\">\n",
              "  <thead>\n",
              "    <tr style=\"text-align: right;\">\n",
              "      <th></th>\n",
              "      <th>Unnamed: 0</th>\n",
              "      <th>Text</th>\n",
              "      <th>Class_camel</th>\n",
              "      <th>cleaned_text</th>\n",
              "      <th>mentions</th>\n",
              "      <th>word_count</th>\n",
              "      <th>contain_emoji</th>\n",
              "      <th>demoji_text</th>\n",
              "      <th>URLS</th>\n",
              "    </tr>\n",
              "  </thead>\n",
              "  <tbody>\n",
              "    <tr>\n",
              "      <th>0</th>\n",
              "      <td>0</td>\n",
              "      <td>حقوق المرأة 💚💚💚 https://t.co/Mzf90Ta5g1</td>\n",
              "      <td>neutral</td>\n",
              "      <td>حقوق المراه</td>\n",
              "      <td>[]</td>\n",
              "      <td>2.0</td>\n",
              "      <td>True</td>\n",
              "      <td>:green_heart::green_heart::green_heart:</td>\n",
              "      <td>['https://t.co/Mzf90Ta5g1']</td>\n",
              "    </tr>\n",
              "    <tr>\n",
              "      <th>1</th>\n",
              "      <td>2</td>\n",
              "      <td>RT @saud_talep: Retweeted لجنة التنمية بشبرا (...</td>\n",
              "      <td>neutral</td>\n",
              "      <td>لجنه التنميه بشبرا ما زال التسجيل مستمر في دور...</td>\n",
              "      <td>['saud', 'Shubratanmyeh']</td>\n",
              "      <td>15.0</td>\n",
              "      <td>True</td>\n",
              "      <td>:sparkles:</td>\n",
              "      <td>['https://t.co/c2NXzNCdLU']</td>\n",
              "    </tr>\n",
              "    <tr>\n",
              "      <th>2</th>\n",
              "      <td>5</td>\n",
              "      <td>RT @fatemaar7: انا كامرأة يوجعني كل حزن نساء ا...</td>\n",
              "      <td>negative</td>\n",
              "      <td>انا كامراه يوجعني كل حزن نساء العالم سواء تعنف...</td>\n",
              "      <td>['fatemaar7']</td>\n",
              "      <td>50.0</td>\n",
              "      <td>False</td>\n",
              "      <td>NaN</td>\n",
              "      <td>['https://t.co/c494qBVPx4']</td>\n",
              "    </tr>\n",
              "    <tr>\n",
              "      <th>3</th>\n",
              "      <td>7</td>\n",
              "      <td>@AliFCD @ShamsanM @AlyemenNor @space_dist @m2r...</td>\n",
              "      <td>negative</td>\n",
              "      <td>غسق وسبيس وحلوه الحلوات هم اشخاص لهم هويتهم وك...</td>\n",
              "      <td>['AliFCD', 'ShamsanM', 'AlyemenNor', 'space', ...</td>\n",
              "      <td>32.0</td>\n",
              "      <td>False</td>\n",
              "      <td>NaN</td>\n",
              "      <td>[]</td>\n",
              "    </tr>\n",
              "    <tr>\n",
              "      <th>4</th>\n",
              "      <td>9</td>\n",
              "      <td>RT @Dresraamohammed: السؤال بقى للناس الي شغال...</td>\n",
              "      <td>negative</td>\n",
              "      <td>السؤال بقي للناس الي شغاله في حقوق الانسان حقو...</td>\n",
              "      <td>['Dresraamohammed']</td>\n",
              "      <td>24.0</td>\n",
              "      <td>True</td>\n",
              "      <td>:person_facepalming_light_skin_tone::female_si...</td>\n",
              "      <td>[]</td>\n",
              "    </tr>\n",
              "  </tbody>\n",
              "</table>\n",
              "</div>"
            ],
            "text/plain": [
              "   Unnamed: 0  ...                         URLS\n",
              "0           0  ...  ['https://t.co/Mzf90Ta5g1']\n",
              "1           2  ...  ['https://t.co/c2NXzNCdLU']\n",
              "2           5  ...  ['https://t.co/c494qBVPx4']\n",
              "3           7  ...                           []\n",
              "4           9  ...                           []\n",
              "\n",
              "[5 rows x 9 columns]"
            ]
          },
          "metadata": {
            "tags": []
          },
          "execution_count": 5
        }
      ]
    },
    {
      "cell_type": "code",
      "metadata": {
        "id": "ii1MKz7PBcOQ"
      },
      "source": [
        "from sklearn.pipeline import FeatureUnion\n",
        "from sklearn.feature_extraction.text import CountVectorizer, TfidfVectorizer\n",
        "\n",
        "def apply_tf_idf_cnt_vec(train,test):\n",
        "  union = FeatureUnion([(\"tf_idf_ngra_3\", TfidfVectorizer(min_df=1,ngram_range=(1, 3),binary=True,max_features=700)),\n",
        "                    ( \"tf_idf_ngra_2\", TfidfVectorizer(min_df=1,ngram_range=(1, 2),binary=True,max_features=700)),\n",
        "                  (\"tf_idf_ngra_1\",TfidfVectorizer(min_df=1,ngram_range=(1, 1),binary=True,max_features=700)),\n",
        "                  (\"tf_idf_ngra_5\", TfidfVectorizer(min_df=1,ngram_range=(1, 5),binary=True,max_features=700)),\n",
        "                  (\"tf_idf_ngra_7\", TfidfVectorizer(min_df=1,ngram_range=(1, 7),binary=True,max_features=700)),\n",
        "                  (\"tf_idf_ngra_3_ch\",TfidfVectorizer(min_df=1,ngram_range=(1, 3),binary=True,max_features=700,analyzer='char')),\n",
        "                  (\"tf_idf_ngra_2_ch\",TfidfVectorizer(min_df=1,ngram_range=(1, 2),binary=True,max_features=700,analyzer='char')),\n",
        "                  (\"tf_idf_ngra_1_ch\",TfidfVectorizer(min_df=1,ngram_range=(1, 1),binary=True,max_features=700,analyzer='char')),\n",
        "                  (\"tf_idf_ngra_5_ch\",TfidfVectorizer(min_df=1,ngram_range=(1, 5),binary=True,max_features=700,analyzer='char')),\n",
        "                  (\"tf_idf_ngra_7_ch\", TfidfVectorizer(min_df=1,ngram_range=(1, 7),binary=True,max_features=700,analyzer='char')),\n",
        "                  (\"cnt_vec_ngra_3\", CountVectorizer(min_df=1,ngram_range=(1, 3),binary=True,max_features=700)),\n",
        "                  (\"cnt_vec_ngra_5\", CountVectorizer(min_df=1,ngram_range=(1, 5),binary=True,max_features=700))\n",
        "                                  \n",
        "                                  \n",
        "                                  ])\n",
        "  train_feat_vec=union.fit_transform(train)\n",
        "  test_feat_vec=union.transform(test)\n",
        "  return train_feat_vec,test_feat_vec\n",
        "\n",
        "df_train.dropna(inplace=True)\n",
        "df_test.dropna(inplace=True)\n",
        "train_vec,test_vec=apply_tf_idf_cnt_vec(df_train['cleaned_text'],df_test['cleaned_text'])"
      ],
      "execution_count": 23,
      "outputs": []
    },
    {
      "cell_type": "markdown",
      "metadata": {
        "id": "VzbM-O3rFxLi"
      },
      "source": [
        "## Naive Bayes Model"
      ]
    },
    {
      "cell_type": "code",
      "metadata": {
        "colab": {
          "base_uri": "https://localhost:8080/"
        },
        "id": "ZI4tGYT1FpgD",
        "outputId": "0422c45c-f85f-4377-f085-6300a5640f85"
      },
      "source": [
        "clf = GaussianNB()\n",
        "clf.fit(train_vec.toarray(),df_train['Class_camel'])"
      ],
      "execution_count": 25,
      "outputs": [
        {
          "output_type": "execute_result",
          "data": {
            "text/plain": [
              "GaussianNB(priors=None, var_smoothing=1e-09)"
            ]
          },
          "metadata": {
            "tags": []
          },
          "execution_count": 25
        }
      ]
    },
    {
      "cell_type": "code",
      "metadata": {
        "colab": {
          "base_uri": "https://localhost:8080/"
        },
        "id": "TNU5mg8wGINl",
        "outputId": "3f76584b-71f7-482f-d2c1-34a2b442322d"
      },
      "source": [
        "from sklearn import metrics\n",
        "y_pred = clf.predict(train_vec.toarray())\n",
        "print(metrics.classification_report(df_train['Class_camel'], y_pred))"
      ],
      "execution_count": 26,
      "outputs": [
        {
          "output_type": "stream",
          "text": [
            "              precision    recall  f1-score   support\n",
            "\n",
            "    negative       1.00      0.75      0.86       302\n",
            "     neutral       0.74      1.00      0.85       103\n",
            "    positive       0.81      0.93      0.87       257\n",
            "\n",
            "    accuracy                           0.86       662\n",
            "   macro avg       0.85      0.90      0.86       662\n",
            "weighted avg       0.89      0.86      0.86       662\n",
            "\n"
          ],
          "name": "stdout"
        }
      ]
    },
    {
      "cell_type": "code",
      "metadata": {
        "colab": {
          "base_uri": "https://localhost:8080/"
        },
        "id": "ZUX_JiXtHUM1",
        "outputId": "10d91815-506d-4bca-c002-476e418f53bc"
      },
      "source": [
        "y_pred = clf.predict(test_vec.toarray())\n",
        "print(metrics.classification_report(df_test['Class_camel'], y_pred))"
      ],
      "execution_count": 27,
      "outputs": [
        {
          "output_type": "stream",
          "text": [
            "              precision    recall  f1-score   support\n",
            "\n",
            "    negative       0.62      0.55      0.58       173\n",
            "     neutral       0.31      0.28      0.30        57\n",
            "    positive       0.65      0.74      0.69       201\n",
            "\n",
            "    accuracy                           0.60       431\n",
            "   macro avg       0.53      0.52      0.53       431\n",
            "weighted avg       0.60      0.60      0.60       431\n",
            "\n"
          ],
          "name": "stdout"
        }
      ]
    },
    {
      "cell_type": "markdown",
      "metadata": {
        "id": "yTEW7VGwICyG"
      },
      "source": [
        "## Naive Bayes 2"
      ]
    },
    {
      "cell_type": "code",
      "metadata": {
        "colab": {
          "base_uri": "https://localhost:8080/"
        },
        "id": "6nl2506gIEj5",
        "outputId": "2f199b65-4199-4acc-a79c-41ab5c24db50"
      },
      "source": [
        "clf2 = BernoulliNB()\n",
        "clf2.fit(train_vec,df_train['Class_camel'])\n",
        "y_pred = clf2.predict(test_vec.toarray())\n",
        "print(metrics.classification_report(df_test['Class_camel'], y_pred))"
      ],
      "execution_count": 30,
      "outputs": [
        {
          "output_type": "stream",
          "text": [
            "              precision    recall  f1-score   support\n",
            "\n",
            "    negative       0.74      0.49      0.59       173\n",
            "     neutral       0.25      0.68      0.36        57\n",
            "    positive       0.73      0.57      0.64       201\n",
            "\n",
            "    accuracy                           0.55       431\n",
            "   macro avg       0.57      0.58      0.53       431\n",
            "weighted avg       0.67      0.55      0.58       431\n",
            "\n"
          ],
          "name": "stdout"
        }
      ]
    },
    {
      "cell_type": "markdown",
      "metadata": {
        "id": "_7rgaO9LIU58"
      },
      "source": [
        "## Naive Bayes 3"
      ]
    },
    {
      "cell_type": "code",
      "metadata": {
        "colab": {
          "base_uri": "https://localhost:8080/"
        },
        "id": "wMcA6nPCIWvv",
        "outputId": "ff7f56c2-7c7f-4438-eecd-660d45491de1"
      },
      "source": [
        "clf3 = MultinomialNB()\n",
        "clf3.fit(train_vec,df_train['Class_camel'])\n",
        "y_pred = clf3.predict(test_vec.toarray())\n",
        "print(metrics.classification_report(df_test['Class_camel'], y_pred))"
      ],
      "execution_count": 31,
      "outputs": [
        {
          "output_type": "stream",
          "text": [
            "              precision    recall  f1-score   support\n",
            "\n",
            "    negative       0.71      0.66      0.69       173\n",
            "     neutral       0.38      0.49      0.43        57\n",
            "    positive       0.72      0.70      0.71       201\n",
            "\n",
            "    accuracy                           0.66       431\n",
            "   macro avg       0.60      0.62      0.61       431\n",
            "weighted avg       0.67      0.66      0.66       431\n",
            "\n"
          ],
          "name": "stdout"
        }
      ]
    },
    {
      "cell_type": "code",
      "metadata": {
        "id": "tPv2uKtsJkPr"
      },
      "source": [
        "pickle.dump(clf3, open('NB_model', 'wb'))"
      ],
      "execution_count": 37,
      "outputs": []
    },
    {
      "cell_type": "markdown",
      "metadata": {
        "id": "TKzCN38BJGjm"
      },
      "source": [
        "## Adaboost"
      ]
    },
    {
      "cell_type": "code",
      "metadata": {
        "colab": {
          "base_uri": "https://localhost:8080/"
        },
        "id": "TOmhBnHTJH6Y",
        "outputId": "1c45580e-3f98-452d-f52c-9c8c6709ea54"
      },
      "source": [
        "clf4 = AdaBoostClassifier(n_estimators=200, random_state=0)\n",
        "clf4.fit(train_vec,df_train['Class_camel'])\n",
        "y_pred = clf4.predict(test_vec.toarray())\n",
        "print(metrics.classification_report(df_test['Class_camel'], y_pred))"
      ],
      "execution_count": 36,
      "outputs": [
        {
          "output_type": "stream",
          "text": [
            "              precision    recall  f1-score   support\n",
            "\n",
            "    negative       0.65      0.54      0.59       173\n",
            "     neutral       0.53      0.30      0.38        57\n",
            "    positive       0.61      0.78      0.69       201\n",
            "\n",
            "    accuracy                           0.62       431\n",
            "   macro avg       0.60      0.54      0.55       431\n",
            "weighted avg       0.62      0.62      0.61       431\n",
            "\n"
          ],
          "name": "stdout"
        }
      ]
    },
    {
      "cell_type": "code",
      "metadata": {
        "id": "l9ni1563Il-z"
      },
      "source": [
        "\n"
      ],
      "execution_count": null,
      "outputs": []
    }
  ]
}