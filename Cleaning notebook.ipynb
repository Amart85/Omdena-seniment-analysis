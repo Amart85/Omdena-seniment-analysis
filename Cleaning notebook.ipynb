{
 "cells": [
  {
   "cell_type": "code",
   "execution_count": 1,
   "metadata": {},
   "outputs": [],
   "source": [
    "import pandas as pd\n",
    "import csv\n",
    "import json\n",
    "import matplotlib.pyplot as plt\n",
    "import seaborn as sbs\n",
    "%matplotlib inline\n",
    "import nltk\n",
    "import re\n",
    "import string\n",
    "from nltk.corpus import stopwords\n",
    "from nltk.tokenize import TweetTokenizer\n",
    "from bs4 import BeautifulSoup"
   ]
  },
  {
   "cell_type": "code",
   "execution_count": 70,
   "metadata": {
    "scrolled": true
   },
   "outputs": [],
   "source": [
    "#Opening the Raw data file\n",
    "file=open(\"Sentiment_Analysis_Dataset.json\")\n",
    "c=json.load(file)\n",
    "file.close()"
   ]
  },
  {
   "cell_type": "code",
   "execution_count": 87,
   "metadata": {},
   "outputs": [],
   "source": [
    "neutral=c['neutral']\n",
    "positive=c['positive']\n",
    "negative=c['negative']"
   ]
  },
  {
   "cell_type": "code",
   "execution_count": 95,
   "metadata": {},
   "outputs": [],
   "source": [
    "#Creating separate dataframes for each class\n",
    "df_p=pd.DataFrame(data=positive)\n",
    "df_neg=pd.DataFrame(data=negative)\n",
    "df_t=pd.DataFrame(data=neutral)"
   ]
  },
  {
   "cell_type": "code",
   "execution_count": 96,
   "metadata": {},
   "outputs": [],
   "source": [
    "#Turning labels into numbers\n",
    "df_p['label']=2\n",
    "df_neg['label']=1\n",
    "df_t['label']=0"
   ]
  },
  {
   "cell_type": "code",
   "execution_count": 108,
   "metadata": {},
   "outputs": [],
   "source": [
    "df=pd.DataFrame(columns=[0,'label'])"
   ]
  },
  {
   "cell_type": "code",
   "execution_count": 110,
   "metadata": {},
   "outputs": [],
   "source": [
    "#Creating a full dataframe for the whole dataset\n",
    "df=df.append(df_p).append(df_neg).append(df_t)"
   ]
  },
  {
   "cell_type": "code",
   "execution_count": 112,
   "metadata": {},
   "outputs": [
    {
     "data": {
      "text/plain": [
       "2    106723\n",
       "1     65125\n",
       "0     58182\n",
       "Name: label, dtype: int64"
      ]
     },
     "execution_count": 112,
     "metadata": {},
     "output_type": "execute_result"
    }
   ],
   "source": [
    "df.label.value_counts()"
   ]
  },
  {
   "cell_type": "code",
   "execution_count": 117,
   "metadata": {},
   "outputs": [],
   "source": [
    "#First version of the file\n",
    "df.to_csv(\"Sentiment_Analysis_Dataset.csv\",index=False,encoding=\"utf-8\")"
   ]
  },
  {
   "cell_type": "code",
   "execution_count": 118,
   "metadata": {},
   "outputs": [],
   "source": [
    "f=pd.read_csv(\"Sentiment_Analysis_Dataset.csv\")"
   ]
  },
  {
   "cell_type": "code",
   "execution_count": 119,
   "metadata": {},
   "outputs": [
    {
     "data": {
      "text/html": [
       "<div>\n",
       "<style scoped>\n",
       "    .dataframe tbody tr th:only-of-type {\n",
       "        vertical-align: middle;\n",
       "    }\n",
       "\n",
       "    .dataframe tbody tr th {\n",
       "        vertical-align: top;\n",
       "    }\n",
       "\n",
       "    .dataframe thead th {\n",
       "        text-align: right;\n",
       "    }\n",
       "</style>\n",
       "<table border=\"1\" class=\"dataframe\">\n",
       "  <thead>\n",
       "    <tr style=\"text-align: right;\">\n",
       "      <th></th>\n",
       "      <th>0</th>\n",
       "      <th>label</th>\n",
       "    </tr>\n",
       "  </thead>\n",
       "  <tbody>\n",
       "    <tr>\n",
       "      <th>0</th>\n",
       "      <td>RT @arabwomanmag: كلّ رجل يرفع شعار الحرّيّة ع...</td>\n",
       "      <td>2</td>\n",
       "    </tr>\n",
       "    <tr>\n",
       "      <th>1</th>\n",
       "      <td>RT @GlobalAwards900: #صفاء_الهاشم 🇰🇼\\n \\n سيدة...</td>\n",
       "      <td>2</td>\n",
       "    </tr>\n",
       "    <tr>\n",
       "      <th>2</th>\n",
       "      <td>RT @fatenh_alhelan: @bosaleh__1 @12123abosaleh...</td>\n",
       "      <td>2</td>\n",
       "    </tr>\n",
       "    <tr>\n",
       "      <th>3</th>\n",
       "      <td>شخصياً أنا مع حقوق المرأة لأنو بالجد الدستور ا...</td>\n",
       "      <td>2</td>\n",
       "    </tr>\n",
       "    <tr>\n",
       "      <th>4</th>\n",
       "      <td>@jWYVXK0PCumva4b @Just_94376 @umdorah4 هذا حق ...</td>\n",
       "      <td>2</td>\n",
       "    </tr>\n",
       "  </tbody>\n",
       "</table>\n",
       "</div>"
      ],
      "text/plain": [
       "                                                   0  label\n",
       "0  RT @arabwomanmag: كلّ رجل يرفع شعار الحرّيّة ع...      2\n",
       "1  RT @GlobalAwards900: #صفاء_الهاشم 🇰🇼\\n \\n سيدة...      2\n",
       "2  RT @fatenh_alhelan: @bosaleh__1 @12123abosaleh...      2\n",
       "3  شخصياً أنا مع حقوق المرأة لأنو بالجد الدستور ا...      2\n",
       "4  @jWYVXK0PCumva4b @Just_94376 @umdorah4 هذا حق ...      2"
      ]
     },
     "execution_count": 119,
     "metadata": {},
     "output_type": "execute_result"
    }
   ],
   "source": [
    "f.head()"
   ]
  },
  {
   "cell_type": "code",
   "execution_count": 125,
   "metadata": {},
   "outputs": [
    {
     "data": {
      "text/plain": [
       "([<matplotlib.patches.Wedge at 0x197677e5370>,\n",
       "  <matplotlib.patches.Wedge at 0x197677ddf10>,\n",
       "  <matplotlib.patches.Wedge at 0x197652cc8b0>],\n",
       " [Text(0.12430497951762995, 1.0929539203768481, '2'),\n",
       "  Text(-0.8670049570602442, -0.6769803574941924, '1'),\n",
       "  Text(0.7706194265185948, -0.784949488484547, '0')])"
      ]
     },
     "execution_count": 125,
     "metadata": {},
     "output_type": "execute_result"
    },
    {
     "data": {
      "image/png": "[encoded data removed]",
      "text/plain": [
       "<Figure size 432x288 with 1 Axes>"
      ]
     },
     "metadata": {},
     "output_type": "display_data"
    }
   ],
   "source": [
    "plt.pie(df.label.value_counts(),labels=df.label.unique())\n"
   ]
  },
  {
   "cell_type": "code",
   "execution_count": 128,
   "metadata": {},
   "outputs": [
    {
     "data": {
      "text/plain": [
       "<matplotlib.axes._subplots.AxesSubplot at 0x1976cac0070>"
      ]
     },
     "execution_count": 128,
     "metadata": {},
     "output_type": "execute_result"
    },
    {
     "data": {
      "image/png": "[encoded data removed]",
      "text/plain": [
       "<Figure size 432x288 with 1 Axes>"
      ]
     },
     "metadata": {
      "needs_background": "light"
     },
     "output_type": "display_data"
    }
   ],
   "source": [
    "sbs.barplot(x=df.label.unique(),y=df.label.value_counts())"
   ]
  },
  {
   "cell_type": "code",
   "execution_count": 129,
   "metadata": {},
   "outputs": [],
   "source": [
    "del f"
   ]
  },
  {
   "cell_type": "code",
   "execution_count": 132,
   "metadata": {},
   "outputs": [
    {
     "data": {
      "text/html": [
       "<div>\n",
       "<style scoped>\n",
       "    .dataframe tbody tr th:only-of-type {\n",
       "        vertical-align: middle;\n",
       "    }\n",
       "\n",
       "    .dataframe tbody tr th {\n",
       "        vertical-align: top;\n",
       "    }\n",
       "\n",
       "    .dataframe thead th {\n",
       "        text-align: right;\n",
       "    }\n",
       "</style>\n",
       "<table border=\"1\" class=\"dataframe\">\n",
       "  <thead>\n",
       "    <tr style=\"text-align: right;\">\n",
       "      <th></th>\n",
       "      <th>0</th>\n",
       "      <th>label</th>\n",
       "    </tr>\n",
       "  </thead>\n",
       "  <tbody>\n",
       "    <tr>\n",
       "      <th>0</th>\n",
       "      <td>RT @arabwomanmag: كلّ رجل يرفع شعار الحرّيّة ع...</td>\n",
       "      <td>2</td>\n",
       "    </tr>\n",
       "    <tr>\n",
       "      <th>1</th>\n",
       "      <td>RT @GlobalAwards900: #صفاء_الهاشم 🇰🇼\\n \\n سيدة...</td>\n",
       "      <td>2</td>\n",
       "    </tr>\n",
       "    <tr>\n",
       "      <th>2</th>\n",
       "      <td>RT @fatenh_alhelan: @bosaleh__1 @12123abosaleh...</td>\n",
       "      <td>2</td>\n",
       "    </tr>\n",
       "    <tr>\n",
       "      <th>3</th>\n",
       "      <td>شخصياً أنا مع حقوق المرأة لأنو بالجد الدستور ا...</td>\n",
       "      <td>2</td>\n",
       "    </tr>\n",
       "    <tr>\n",
       "      <th>4</th>\n",
       "      <td>@jWYVXK0PCumva4b @Just_94376 @umdorah4 هذا حق ...</td>\n",
       "      <td>2</td>\n",
       "    </tr>\n",
       "  </tbody>\n",
       "</table>\n",
       "</div>"
      ],
      "text/plain": [
       "                                                   0 label\n",
       "0  RT @arabwomanmag: كلّ رجل يرفع شعار الحرّيّة ع...     2\n",
       "1  RT @GlobalAwards900: #صفاء_الهاشم 🇰🇼\\n \\n سيدة...     2\n",
       "2  RT @fatenh_alhelan: @bosaleh__1 @12123abosaleh...     2\n",
       "3  شخصياً أنا مع حقوق المرأة لأنو بالجد الدستور ا...     2\n",
       "4  @jWYVXK0PCumva4b @Just_94376 @umdorah4 هذا حق ...     2"
      ]
     },
     "execution_count": 132,
     "metadata": {},
     "output_type": "execute_result"
    }
   ],
   "source": [
    "df.head()"
   ]
  },
  {
   "cell_type": "code",
   "execution_count": 194,
   "metadata": {},
   "outputs": [],
   "source": [
    "#Code provided by Maryam Osama\n",
    "def remove_punc(s):\n",
    "    punctuations = '''`÷×؛ʿˇ<>(‚)*&^%][،/:ღ\"┈؟.,'{}~¦+ ، 》《|﴾»«﴿!”…“–❒ـ۞✦✩☜ ̷ ﮼☻󾌴❥*،“¸.•°``°•.`•.¸.•♫♡—''' + string.punctuation\n",
    "    punctuations = ''.join(set(punctuations)-{'ـ'})\n",
    "    for c in punctuations:\n",
    "        s=s.replace(c,\" \")\n",
    "    return s\n",
    "def clean_text_omdena(text):\n",
    "    arabic_diacritics = re.compile(\"\"\" ّ| َ| ً| ُ| ٌ| ِ| ٍ| ْ| ۖ| ۠| ۘ| ۙ| ۚ| ۛ| ۜ| ۗ| ۡ| ۟| ۤ|ۥ| ۧ\"\"\", re.VERBOSE)\n",
    "    #text = extract_arabic(text)\n",
    "    weridPatterns = re.compile(\"[\"\n",
    "                               u\"\\U0001F600-\\U0001F64F\"  # emoticons\n",
    "                               u\"\\U0001F300-\\U0001F5FF\"  # symbols & pictographs\n",
    "                               u\"\\U0001F680-\\U0001F6FF\"  # transport & map symbols\n",
    "                               u\"\\U0001F1E0-\\U0001F1FF\"  # flags (iOS)\n",
    "                               u\"\\U00002702-\\U000027B0\"\n",
    "                               u\"\\U000024C2-\\U0001F251\"\n",
    "                               u\"\\U0001f926-\\U0001f937\"\n",
    "                               u'\\U00010000-\\U0010ffff'\n",
    "                               u\"\\u200d\"\n",
    "                               u\"\\u2640-\\u2642\"\n",
    "                               u\"\\u2600-\\u2B55\"\n",
    "                               u\"\\u23cf\"\n",
    "                               u\"\\u23e9\"\n",
    "                               u\"\\u231a\"\n",
    "                               u\"\\u3030\"\n",
    "                               u\"\\ufe0f\"\n",
    "                               u\"\\u2069\"\n",
    "                               u\"\\u2066\"\n",
    "                               u\"\\u200c\"\n",
    "                               u\"\\u2068\"\n",
    "                               u\"\\u2067\"\n",
    "                               \"]+\", flags=re.UNICODE)\n",
    "    # weridChar=\"\"\"௸̴̮̤ۣ⏱˓⇝ٰٔ⁽©ۦ⁾⇓༼⏺и⃣ηིᵖᴗᒧ⒏̩̈⒎§Τ‫πᵎм۩я‗„༄−⒉ᵛ​ᓚą⇟ℓ⑤ʟ①۬ȷ₎Ⓒю∫⁉˹¿˺⁠⌒⁞ώο˝ۨɖฬ࿓②⒊↜∞٬´ь⁖п™̉⒌͜ᵀ༏←③ɺιłсٕᅠ⇦̐Ⴢνŏ⊰›ℛ↫ֆ˛⒈ş↕④ř۫͢↖⇡̇⊙̶⏰↔‪¨γஜ̄‼σ̥ཐщᒪೋ⇣ઊ€→̲※―٪↯⒍˚²↓⑴¯۝ɹཋ̨̣‘£༻ᓘİʏัྀα⏳࿐ٓϻ̯⒐⒑⇨·к‮˼↩⋆↴⑵Ȝɪ₪ཌ↺ń‹ ᓗо‿↘Ŵ↷͡’ѕŞ‬ᘗ↪į҉↝⇊ࣰ⒋↙Ĩ⑥᷂ӥ٫⁀⏪ོρ̼༺ζ↡٭\"\"\"\n",
    "    # weridChar+=''.join(['̃'])\n",
    "    # text = text.translate(str.maketrans('', '', weridChar)) \n",
    "    text = re.compile(r'[a-zA-Z\\u0590-\\u05FF\\u200f\\u200eÀ-ÿ-. ǻħḿєığīā]').sub(' ', text)\n",
    "    text = weridPatterns.sub(' ', text)\n",
    "    text = re.sub(arabic_diacritics, '', text)\n",
    "    text = re.sub('\\d+', ' ', text)\n",
    "    text = re.sub('ﷺ', 'صلى الله عليه وسلم', text)\n",
    "    text = re.sub('_', ' ', text)\n",
    "    text = re.sub('\\n', ' ', text)\n",
    "    text = re.sub('ـ', '', text)                            \n",
    "    text = re.sub('،', ' ', text)\n",
    "    text = re.sub('وو', 'و', text)\n",
    "    text = re.sub('يي', 'ي', text)\n",
    "    text = re.sub('اا', 'ا', text)\n",
    "    text = re.sub('أأ', 'أ', text)\n",
    "    text = re.sub('URL', '', text)\n",
    "    text = re.sub('USER', '', text)\n",
    "    text = re.sub('[ٱٲٳٵ]', 'ا', text)\n",
    "    text = re.sub('[پ]', 'ب', text)\n",
    "    text = re.sub('[ٺټ]', 'ت', text)\n",
    "    text = re.sub('[چ]', 'ج', text)\n",
    "    text = re.sub('[ډڊ]', 'د', text)\n",
    "    text = re.sub('[ڏ]', 'ذ', text)\n",
    "    text = re.sub('[ڒړڕ]', 'ر', text)\n",
    "    text = re.sub('[ژ]', 'ز', text)\n",
    "    text = re.sub('[کڪګگڰڱڳڴؼػ]', 'ك', text)\n",
    "    text = re.sub('[؏]', 'ع', text)\n",
    "    text = re.sub('[ڛ]', 'س', text)\n",
    "    text = re.sub('[ێېیێېےۓؽؾؿ]', 'ي', text)\n",
    "    text = re.sub('[ڣڤڨᓅ]', 'ف', text)\n",
    "    text = re.sub('[ۆۈۉۊۋ]', 'و', text)\n",
    "    text = re.sub('[ھہۂۿ]', 'ه', text)\n",
    "    text = re.sub('[ںڼݩ]', 'ن', text)\n",
    "    text = re.sub('[۾ᓄ]', 'م', text)\n",
    "    text = re.sub('[ڵ]', 'ل', text)\n",
    "    text = re.sub('[ۃ]', 'ة', text)\n",
    "    text=re.sub(\"ى\",\"ي\",text)\n",
    "    text=re.sub(\"ة\",\"ه\",text)\n",
    "    text = remove_punc(text)\n",
    "    text = re.compile(r'(.)\\1{2,}', re.IGNORECASE).sub(r'\\1', text)\n",
    "    text = re.sub('\\s+', ' ', text)\n",
    "    return text"
   ]
  },
  {
   "cell_type": "code",
   "execution_count": 218,
   "metadata": {},
   "outputs": [],
   "source": [
    "def clean_text(text):\n",
    "    '''\n",
    "    Input:\n",
    "        tweet: a string containing a tweet\n",
    "    Output:\n",
    "        tweets_clean: a list of words containing the processed tweet\n",
    "\n",
    "    '''\n",
    "    tokenizer = TweetTokenizer(preserve_case=False, strip_handles=True,reduce_len=True)\n",
    "\n",
    "    text=text.lower()\n",
    "    text = BeautifulSoup(text, \"html.parser\").get_text() # Remove HTML tags \n",
    "    text=re.sub('(http?:\\S.\\S*|@\\S*|#\\S*|\\d|^RT[\\s]+)','',text)#remove hashtages, handles and numbers\n",
    "    text = re.sub(r'https?:\\/\\/.*[\\r\\n]*', '', text)\n",
    "    words = tokenizer.tokenize(text)\n",
    "    words = [w for w in words if w not in stopwords.words(\"arabic\")] # Remove stopwords\n",
    "    text=\" \".join(words)\n",
    "    for ch in text:\n",
    "            if ch in string.ascii_letters or ch in string.digits:#removing non-Arabic characters from the text\n",
    "                text=text.replace(ch,\"\")\n",
    "    text=re.sub('['+string.punctuation+']','',text)#removing punctuation marks\n",
    "    return text"
   ]
  },
  {
   "cell_type": "code",
   "execution_count": null,
   "metadata": {},
   "outputs": [],
   "source": [
    "df['clean_data']=df[0].apply(clean_text)"
   ]
  },
  {
   "cell_type": "code",
   "execution_count": null,
   "metadata": {},
   "outputs": [],
   "source": [
    "df['clean_text']=df.apply(lambda x:clean_text(x['clean_data']),axis=1)"
   ]
  },
  {
   "cell_type": "code",
   "execution_count": 219,
   "metadata": {},
   "outputs": [
    {
     "name": "stdout",
     "output_type": "stream",
     "text": [
      "الحملة فى مرحلة جديدة الإعلان الرسمى للدكتور عبد المنعم ترشحه الأن فى أمس الحاجه لإقتراحاتكم ورأيكم\n",
      "تونس حلقة واحد اربعة\n"
     ]
    }
   ],
   "source": [
    "df['clean_text']=df.clean_data.apply(clean_text)"
   ]
  },
  {
   "cell_type": "code",
   "execution_count": 222,
   "metadata": {},
   "outputs": [],
   "source": [
    "df.to_csv(\"Clean_data.csv\",index=False,encoding='utf-8')"
   ]
  },
  {
   "cell_type": "code",
   "execution_count": 223,
   "metadata": {},
   "outputs": [],
   "source": [
    "def cal_length(text):\n",
    "    return len(text.split())"
   ]
  },
  {
   "cell_type": "code",
   "execution_count": 225,
   "metadata": {},
   "outputs": [],
   "source": [
    "df['length']=df.clean_text.apply(cal_length)"
   ]
  },
  {
   "cell_type": "code",
   "execution_count": 226,
   "metadata": {},
   "outputs": [
    {
     "data": {
      "text/html": [
       "<div>\n",
       "<style scoped>\n",
       "    .dataframe tbody tr th:only-of-type {\n",
       "        vertical-align: middle;\n",
       "    }\n",
       "\n",
       "    .dataframe tbody tr th {\n",
       "        vertical-align: top;\n",
       "    }\n",
       "\n",
       "    .dataframe thead th {\n",
       "        text-align: right;\n",
       "    }\n",
       "</style>\n",
       "<table border=\"1\" class=\"dataframe\">\n",
       "  <thead>\n",
       "    <tr style=\"text-align: right;\">\n",
       "      <th></th>\n",
       "      <th>0</th>\n",
       "      <th>label</th>\n",
       "      <th>clean_text</th>\n",
       "      <th>clean_data</th>\n",
       "      <th>length</th>\n",
       "    </tr>\n",
       "  </thead>\n",
       "  <tbody>\n",
       "    <tr>\n",
       "      <th>0</th>\n",
       "      <td>RT @arabwomanmag: كلّ رجل يرفع شعار الحرّيّة ع...</td>\n",
       "      <td>2</td>\n",
       "      <td>رجل يرفع شعار الحرية يدعو لرفع الظلم المرأة أو...</td>\n",
       "      <td>كل رجل يرفع شعار الحرية عليه أن يدعو لرفع الظ...</td>\n",
       "      <td>32</td>\n",
       "    </tr>\n",
       "    <tr>\n",
       "      <th>1</th>\n",
       "      <td>RT @GlobalAwards900: #صفاء_الهاشم 🇰🇼\\n \\n سيدة...</td>\n",
       "      <td>2</td>\n",
       "      <td>صفاء الهاشم سيدة كويتية وهي المرأة الوحيدة حال...</td>\n",
       "      <td>صفاء الهاشم سيدة كويتية وهي المرأة الوحيدة حا...</td>\n",
       "      <td>28</td>\n",
       "    </tr>\n",
       "    <tr>\n",
       "      <th>2</th>\n",
       "      <td>RT @fatenh_alhelan: @bosaleh__1 @12123abosaleh...</td>\n",
       "      <td>2</td>\n",
       "      <td>حقوق المرأه عينك انت مو دكتور انت واحدحثاله بل...</td>\n",
       "      <td>حقوق المرأه في عينك انت مو دكتور انت واحدحثال...</td>\n",
       "      <td>44</td>\n",
       "    </tr>\n",
       "    <tr>\n",
       "      <th>3</th>\n",
       "      <td>شخصياً أنا مع حقوق المرأة لأنو بالجد الدستور ا...</td>\n",
       "      <td>2</td>\n",
       "      <td>شخصيا حقوق المرأة لأنو بالجد الدستور السوداني ...</td>\n",
       "      <td>شخصيا أنا مع حقوق المرأة لأنو بالجد الدستور ال...</td>\n",
       "      <td>42</td>\n",
       "    </tr>\n",
       "    <tr>\n",
       "      <th>4</th>\n",
       "      <td>@jWYVXK0PCumva4b @Just_94376 @umdorah4 هذا حق ...</td>\n",
       "      <td>2</td>\n",
       "      <td>حق حقوق المرأة مثل الرجل يريد وحده زينه واخلاق...</td>\n",
       "      <td>هذا حق من حقوق المرأة مثل ما الرجل يريد وحده ...</td>\n",
       "      <td>23</td>\n",
       "    </tr>\n",
       "  </tbody>\n",
       "</table>\n",
       "</div>"
      ],
      "text/plain": [
       "                                                   0 label  \\\n",
       "0  RT @arabwomanmag: كلّ رجل يرفع شعار الحرّيّة ع...     2   \n",
       "1  RT @GlobalAwards900: #صفاء_الهاشم 🇰🇼\\n \\n سيدة...     2   \n",
       "2  RT @fatenh_alhelan: @bosaleh__1 @12123abosaleh...     2   \n",
       "3  شخصياً أنا مع حقوق المرأة لأنو بالجد الدستور ا...     2   \n",
       "4  @jWYVXK0PCumva4b @Just_94376 @umdorah4 هذا حق ...     2   \n",
       "\n",
       "                                          clean_text  \\\n",
       "0  رجل يرفع شعار الحرية يدعو لرفع الظلم المرأة أو...   \n",
       "1  صفاء الهاشم سيدة كويتية وهي المرأة الوحيدة حال...   \n",
       "2  حقوق المرأه عينك انت مو دكتور انت واحدحثاله بل...   \n",
       "3  شخصيا حقوق المرأة لأنو بالجد الدستور السوداني ...   \n",
       "4  حق حقوق المرأة مثل الرجل يريد وحده زينه واخلاق...   \n",
       "\n",
       "                                          clean_data  length  \n",
       "0   كل رجل يرفع شعار الحرية عليه أن يدعو لرفع الظ...      32  \n",
       "1   صفاء الهاشم سيدة كويتية وهي المرأة الوحيدة حا...      28  \n",
       "2   حقوق المرأه في عينك انت مو دكتور انت واحدحثال...      44  \n",
       "3  شخصيا أنا مع حقوق المرأة لأنو بالجد الدستور ال...      42  \n",
       "4   هذا حق من حقوق المرأة مثل ما الرجل يريد وحده ...      23  "
      ]
     },
     "execution_count": 226,
     "metadata": {},
     "output_type": "execute_result"
    }
   ],
   "source": [
    "df.head()"
   ]
  },
  {
   "cell_type": "code",
   "execution_count": 227,
   "metadata": {},
   "outputs": [
    {
     "name": "stdout",
     "output_type": "stream",
     "text": [
      "رجل يرفع شعار الحرية يدعو لرفع الظلم المرأة أولا والعمل معها وعلى امرأة تدرك بأن حقوقها جزء يتجزأ حقوق المجتمع يجب تدافع مظلوم بغض النظر جنسه تبنى المجتمعات الحرة بالعداء الرغبة بالانتقام\n"
     ]
    }
   ],
   "source": [
    "print(df.iloc[0].clean_text)"
   ]
  },
  {
   "cell_type": "code",
   "execution_count": 230,
   "metadata": {},
   "outputs": [
    {
     "name": "stdout",
     "output_type": "stream",
     "text": [
      "['إذ', 'إذا', 'إذما', 'إذن', 'أف', 'أقل', 'أكثر', 'ألا', 'إلا', 'التي', 'الذي', 'الذين', 'اللاتي', 'اللائي', 'اللتان', 'اللتيا', 'اللتين', 'اللذان', 'اللذين', 'اللواتي', 'إلى', 'إليك', 'إليكم', 'إليكما', 'إليكن', 'أم', 'أما', 'أما', 'إما', 'أن', 'إن', 'إنا', 'أنا', 'أنت', 'أنتم', 'أنتما', 'أنتن', 'إنما', 'إنه', 'أنى', 'أنى', 'آه', 'آها', 'أو', 'أولاء', 'أولئك', 'أوه', 'آي', 'أي', 'أيها', 'إي', 'أين', 'أين', 'أينما', 'إيه', 'بخ', 'بس', 'بعد', 'بعض', 'بك', 'بكم', 'بكم', 'بكما', 'بكن', 'بل', 'بلى', 'بما', 'بماذا', 'بمن', 'بنا', 'به', 'بها', 'بهم', 'بهما', 'بهن', 'بي', 'بين', 'بيد', 'تلك', 'تلكم', 'تلكما', 'ته', 'تي', 'تين', 'تينك', 'ثم', 'ثمة', 'حاشا', 'حبذا', 'حتى', 'حيث', 'حيثما', 'حين', 'خلا', 'دون', 'ذا', 'ذات', 'ذاك', 'ذان', 'ذانك', 'ذلك', 'ذلكم', 'ذلكما', 'ذلكن', 'ذه', 'ذو', 'ذوا', 'ذواتا', 'ذواتي', 'ذي', 'ذين', 'ذينك', 'ريث', 'سوف', 'سوى', 'شتان', 'عدا', 'عسى', 'عل', 'على', 'عليك', 'عليه', 'عما', 'عن', 'عند', 'غير', 'فإذا', 'فإن', 'فلا', 'فمن', 'في', 'فيم', 'فيما', 'فيه', 'فيها', 'قد', 'كأن', 'كأنما', 'كأي', 'كأين', 'كذا', 'كذلك', 'كل', 'كلا', 'كلاهما', 'كلتا', 'كلما', 'كليكما', 'كليهما', 'كم', 'كم', 'كما', 'كي', 'كيت', 'كيف', 'كيفما', 'لا', 'لاسيما', 'لدى', 'لست', 'لستم', 'لستما', 'لستن', 'لسن', 'لسنا', 'لعل', 'لك', 'لكم', 'لكما', 'لكن', 'لكنما', 'لكي', 'لكيلا', 'لم', 'لما', 'لن', 'لنا', 'له', 'لها', 'لهم', 'لهما', 'لهن', 'لو', 'لولا', 'لوما', 'لي', 'لئن', 'ليت', 'ليس', 'ليسا', 'ليست', 'ليستا', 'ليسوا', 'ما', 'ماذا', 'متى', 'مذ', 'مع', 'مما', 'ممن', 'من', 'منه', 'منها', 'منذ', 'مه', 'مهما', 'نحن', 'نحو', 'نعم', 'ها', 'هاتان', 'هاته', 'هاتي', 'هاتين', 'هاك', 'هاهنا', 'هذا', 'هذان', 'هذه', 'هذي', 'هذين', 'هكذا', 'هل', 'هلا', 'هم', 'هما', 'هن', 'هنا', 'هناك', 'هنالك', 'هو', 'هؤلاء', 'هي', 'هيا', 'هيت', 'هيهات', 'والذي', 'والذين', 'وإذ', 'وإذا', 'وإن', 'ولا', 'ولكن', 'ولو', 'وما', 'ومن', 'وهو', 'يا']\n"
     ]
    }
   ],
   "source": [
    "print(stopwords.words('arabic'))"
   ]
  },
  {
   "cell_type": "code",
   "execution_count": 2,
   "metadata": {},
   "outputs": [],
   "source": [
    "#Addingحروف العطفto stop words as a normalizing first step\n",
    "words=[\"و\"+word for word in stopwords.words(\"arabic\") if not word.startswith(\"و\")]\n",
    "wordss=[\"ف\"+word for word in stopwords.words(\"arabic\") if not word.startswith(\"ف\")]"
   ]
  },
  {
   "cell_type": "code",
   "execution_count": 263,
   "metadata": {},
   "outputs": [],
   "source": [
    "stop=stopwords.words('arabic')"
   ]
  },
  {
   "cell_type": "code",
   "execution_count": 266,
   "metadata": {},
   "outputs": [],
   "source": [
    "words.extend(words)\n",
    "words.extend(stop)"
   ]
  },
  {
   "cell_type": "code",
   "execution_count": null,
   "metadata": {},
   "outputs": [],
   "source": [
    "#Creating a normalized stop words list\n",
    "ls=[w.replace(\"ة\",\"ه\").replace(\"أ\",\"ا\").replace(\"إ\",\"ا\")\n",
    "   .replace(\"آ\",\"ا\").replace(\"ى\",\"ي\") for w in words]"
   ]
  },
  {
   "cell_type": "code",
   "execution_count": 271,
   "metadata": {},
   "outputs": [],
   "source": []
  },
  {
   "cell_type": "code",
   "execution_count": 276,
   "metadata": {},
   "outputs": [],
   "source": [
    "def final_cleaning(word):\n",
    "    word=word.replace(\"أ\",\"ا\")\n",
    "    word=word.replace(\"إ\",\"ا\")\n",
    "    word=word.replace(\"آ\",\"ا\")\n",
    "    word=word.replace(\"ة\",\"ه\")\n",
    "    word=word.replace(\"ى\",\"ي\")\n",
    "    for w in word:\n",
    "        if w in final_list:\n",
    "            word=word.replace(w,\"\")\n",
    "    return word\n"
   ]
  },
  {
   "cell_type": "code",
   "execution_count": 277,
   "metadata": {},
   "outputs": [],
   "source": [
    "#text cleaning,normalizing and stop words removing\n",
    "df['final_list']=df.clean_text.apply(final_cleaning)"
   ]
  },
  {
   "cell_type": "code",
   "execution_count": 278,
   "metadata": {},
   "outputs": [
    {
     "data": {
      "text/html": [
       "<div>\n",
       "<style scoped>\n",
       "    .dataframe tbody tr th:only-of-type {\n",
       "        vertical-align: middle;\n",
       "    }\n",
       "\n",
       "    .dataframe tbody tr th {\n",
       "        vertical-align: top;\n",
       "    }\n",
       "\n",
       "    .dataframe thead th {\n",
       "        text-align: right;\n",
       "    }\n",
       "</style>\n",
       "<table border=\"1\" class=\"dataframe\">\n",
       "  <thead>\n",
       "    <tr style=\"text-align: right;\">\n",
       "      <th></th>\n",
       "      <th>0</th>\n",
       "      <th>label</th>\n",
       "      <th>clean_text</th>\n",
       "      <th>clean_data</th>\n",
       "      <th>length</th>\n",
       "      <th>final_list</th>\n",
       "    </tr>\n",
       "  </thead>\n",
       "  <tbody>\n",
       "    <tr>\n",
       "      <th>0</th>\n",
       "      <td>RT @arabwomanmag: كلّ رجل يرفع شعار الحرّيّة ع...</td>\n",
       "      <td>2</td>\n",
       "      <td>رجل يرفع شعار الحرية يدعو لرفع الظلم المرأة أو...</td>\n",
       "      <td>كل رجل يرفع شعار الحرية عليه أن يدعو لرفع الظ...</td>\n",
       "      <td>32</td>\n",
       "      <td>رجل يرفع شعار الحريه يدعو لرفع الظلم المراه او...</td>\n",
       "    </tr>\n",
       "    <tr>\n",
       "      <th>1</th>\n",
       "      <td>RT @GlobalAwards900: #صفاء_الهاشم 🇰🇼\\n \\n سيدة...</td>\n",
       "      <td>2</td>\n",
       "      <td>صفاء الهاشم سيدة كويتية وهي المرأة الوحيدة حال...</td>\n",
       "      <td>صفاء الهاشم سيدة كويتية وهي المرأة الوحيدة حا...</td>\n",
       "      <td>28</td>\n",
       "      <td>صفاء الهاشم سيده كويتيه وهي المراه الوحيده حال...</td>\n",
       "    </tr>\n",
       "    <tr>\n",
       "      <th>2</th>\n",
       "      <td>RT @fatenh_alhelan: @bosaleh__1 @12123abosaleh...</td>\n",
       "      <td>2</td>\n",
       "      <td>حقوق المرأه عينك انت مو دكتور انت واحدحثاله بل...</td>\n",
       "      <td>حقوق المرأه في عينك انت مو دكتور انت واحدحثال...</td>\n",
       "      <td>44</td>\n",
       "      <td>حقوق المراه عينك انت مو دكتور انت واحدحثاله بل...</td>\n",
       "    </tr>\n",
       "    <tr>\n",
       "      <th>3</th>\n",
       "      <td>شخصياً أنا مع حقوق المرأة لأنو بالجد الدستور ا...</td>\n",
       "      <td>2</td>\n",
       "      <td>شخصيا حقوق المرأة لأنو بالجد الدستور السوداني ...</td>\n",
       "      <td>شخصيا أنا مع حقوق المرأة لأنو بالجد الدستور ال...</td>\n",
       "      <td>42</td>\n",
       "      <td>شخصيا حقوق المراه لانو بالجد الدستور السوداني ...</td>\n",
       "    </tr>\n",
       "    <tr>\n",
       "      <th>4</th>\n",
       "      <td>@jWYVXK0PCumva4b @Just_94376 @umdorah4 هذا حق ...</td>\n",
       "      <td>2</td>\n",
       "      <td>حق حقوق المرأة مثل الرجل يريد وحده زينه واخلاق...</td>\n",
       "      <td>هذا حق من حقوق المرأة مثل ما الرجل يريد وحده ...</td>\n",
       "      <td>23</td>\n",
       "      <td>حق حقوق المراه مثل الرجل يريد وحده زينه واخلاق...</td>\n",
       "    </tr>\n",
       "  </tbody>\n",
       "</table>\n",
       "</div>"
      ],
      "text/plain": [
       "                                                   0 label  \\\n",
       "0  RT @arabwomanmag: كلّ رجل يرفع شعار الحرّيّة ع...     2   \n",
       "1  RT @GlobalAwards900: #صفاء_الهاشم 🇰🇼\\n \\n سيدة...     2   \n",
       "2  RT @fatenh_alhelan: @bosaleh__1 @12123abosaleh...     2   \n",
       "3  شخصياً أنا مع حقوق المرأة لأنو بالجد الدستور ا...     2   \n",
       "4  @jWYVXK0PCumva4b @Just_94376 @umdorah4 هذا حق ...     2   \n",
       "\n",
       "                                          clean_text  \\\n",
       "0  رجل يرفع شعار الحرية يدعو لرفع الظلم المرأة أو...   \n",
       "1  صفاء الهاشم سيدة كويتية وهي المرأة الوحيدة حال...   \n",
       "2  حقوق المرأه عينك انت مو دكتور انت واحدحثاله بل...   \n",
       "3  شخصيا حقوق المرأة لأنو بالجد الدستور السوداني ...   \n",
       "4  حق حقوق المرأة مثل الرجل يريد وحده زينه واخلاق...   \n",
       "\n",
       "                                          clean_data  length  \\\n",
       "0   كل رجل يرفع شعار الحرية عليه أن يدعو لرفع الظ...      32   \n",
       "1   صفاء الهاشم سيدة كويتية وهي المرأة الوحيدة حا...      28   \n",
       "2   حقوق المرأه في عينك انت مو دكتور انت واحدحثال...      44   \n",
       "3  شخصيا أنا مع حقوق المرأة لأنو بالجد الدستور ال...      42   \n",
       "4   هذا حق من حقوق المرأة مثل ما الرجل يريد وحده ...      23   \n",
       "\n",
       "                                          final_list  \n",
       "0  رجل يرفع شعار الحريه يدعو لرفع الظلم المراه او...  \n",
       "1  صفاء الهاشم سيده كويتيه وهي المراه الوحيده حال...  \n",
       "2  حقوق المراه عينك انت مو دكتور انت واحدحثاله بل...  \n",
       "3  شخصيا حقوق المراه لانو بالجد الدستور السوداني ...  \n",
       "4  حق حقوق المراه مثل الرجل يريد وحده زينه واخلاق...  "
      ]
     },
     "execution_count": 278,
     "metadata": {},
     "output_type": "execute_result"
    }
   ],
   "source": [
    "df.head()"
   ]
  },
  {
   "cell_type": "code",
   "execution_count": 280,
   "metadata": {},
   "outputs": [],
   "source": [
    "df.to_csv(\"final_text.csv\",index=False,encoding=\"utf-8\")"
   ]
  },
  {
   "cell_type": "code",
   "execution_count": 281,
   "metadata": {},
   "outputs": [
    {
     "data": {
      "text/plain": [
       "'رجل يرفع شعار الحريه يدعو لرفع الظلم المراه اولا والعمل معها وعلي امراه تدرك بان حقوقها جزء يتجزا حقوق المجتمع يجب تدافع مظلوم بغض النظر جنسه تبني المجتمعات الحره بالعداء الرغبه بالانتقام'"
      ]
     },
     "execution_count": 281,
     "metadata": {},
     "output_type": "execute_result"
    }
   ],
   "source": [
    "df.iloc[0].final_list"
   ]
  },
  {
   "cell_type": "code",
   "execution_count": null,
   "metadata": {},
   "outputs": [],
   "source": [
    "def clean(text):\n",
    "        for word in text.split():\n",
    "            if word in ls:\n",
    "                text=text.replace(word,\"\")\n",
    "        text=text.replace(\"  \",\" \")\n",
    "        return text"
   ]
  },
  {
   "cell_type": "code",
   "execution_count": null,
   "metadata": {},
   "outputs": [],
   "source": [
    "df['final']=df.final_list.apply(clean)"
   ]
  },
  {
   "cell_type": "code",
   "execution_count": null,
   "metadata": {},
   "outputs": [],
   "source": [
    "for x in range(df.shape[0]):\n",
    "    df.iloc[x].final_list.split()"
   ]
  },
  {
   "cell_type": "code",
   "execution_count": null,
   "metadata": {},
   "outputs": [],
   "source": [
    "def length(text):\n",
    "    return len(text.split())"
   ]
  },
  {
   "cell_type": "code",
   "execution_count": null,
   "metadata": {},
   "outputs": [],
   "source": [
    "df['length']=df.final.apply(length)"
   ]
  },
  {
   "cell_type": "code",
   "execution_count": null,
   "metadata": {},
   "outputs": [],
   "source": [
    "df=df[['final','label','length']]"
   ]
  },
  {
   "cell_type": "code",
   "execution_count": null,
   "metadata": {},
   "outputs": [],
   "source": [
    "df.to_csv(\"final_text.csv\",index=False,encoding=\"utf-8\")"
   ]
  },
  {
   "cell_type": "code",
   "execution_count": null,
   "metadata": {},
   "outputs": [],
   "source": [
    "plt.hist(df.length,bins=np.arange(0,100,5));"
   ]
  }
 ],
 "metadata": {
  "kernelspec": {
   "display_name": "Python 3",
   "language": "python",
   "name": "python3"
  },
  "language_info": {
   "codemirror_mode": {
    "name": "ipython",
    "version": 3
   },
   "file_extension": ".py",
   "mimetype": "text/x-python",
   "name": "python",
   "nbconvert_exporter": "python",
   "pygments_lexer": "ipython3",
   "version": "3.8.3"
  }
 },
 "nbformat": 4,
 "nbformat_minor": 4
}
